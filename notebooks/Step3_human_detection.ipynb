{
  "cells": [
    {
      "cell_type": "markdown",
      "metadata": {
        "id": "kH8ADLWHcR-j"
      },
      "source": [
        "# Requirements"
      ]
    },
    {
      "cell_type": "code",
      "execution_count": 6,
      "metadata": {
        "id": "H3Xwx7tvcvI8"
      },
      "outputs": [
        {
          "name": "stdout",
          "output_type": "stream",
          "text": [
            "Requirement already satisfied: tensorflow in c:\\python311\\lib\\site-packages (2.12.0rc0)\n",
            "Requirement already satisfied: numpy in c:\\python311\\lib\\site-packages (1.23.5)\n",
            "Requirement already satisfied: opencv-python-headless in c:\\python311\\lib\\site-packages (4.9.0.80)\n",
            "Requirement already satisfied: firebase_admin in c:\\python311\\lib\\site-packages (6.4.0)\n",
            "Requirement already satisfied: google-cloud-storage in c:\\python311\\lib\\site-packages (2.14.0)\n",
            "Requirement already satisfied: google-cloud-bigquery in c:\\python311\\lib\\site-packages (3.17.2)\n",
            "Requirement already satisfied: google-cloud-aiplatform in c:\\python311\\lib\\site-packages (1.41.0)\n",
            "Requirement already satisfied: google-cloud-pipeline-components in c:\\python311\\lib\\site-packages (2.9.0)\n",
            "Requirement already satisfied: kfp in c:\\python311\\lib\\site-packages (2.6.0)\n",
            "Requirement already satisfied: scikit-image in c:\\users\\parth\\appdata\\roaming\\python\\python311\\site-packages (0.21.0)\n",
            "Requirement already satisfied: ultralytics in c:\\python311\\lib\\site-packages (8.1.12)\n",
            "Requirement already satisfied: tensorflow-intel==2.12.0-rc0 in c:\\python311\\lib\\site-packages (from tensorflow) (2.12.0rc0)\n",
            "Requirement already satisfied: absl-py>=1.0.0 in c:\\python311\\lib\\site-packages (from tensorflow-intel==2.12.0-rc0->tensorflow) (1.4.0)\n",
            "Requirement already satisfied: astunparse>=1.6.0 in c:\\python311\\lib\\site-packages (from tensorflow-intel==2.12.0-rc0->tensorflow) (1.6.3)\n",
            "Requirement already satisfied: flatbuffers>=2.0 in c:\\python311\\lib\\site-packages (from tensorflow-intel==2.12.0-rc0->tensorflow) (23.1.21)\n",
            "Requirement already satisfied: gast<=0.4.0,>=0.2.1 in c:\\python311\\lib\\site-packages (from tensorflow-intel==2.12.0-rc0->tensorflow) (0.4.0)\n",
            "Requirement already satisfied: google-pasta>=0.1.1 in c:\\python311\\lib\\site-packages (from tensorflow-intel==2.12.0-rc0->tensorflow) (0.2.0)\n",
            "Requirement already satisfied: h5py>=2.9.0 in c:\\python311\\lib\\site-packages (from tensorflow-intel==2.12.0-rc0->tensorflow) (3.8.0)\n",
            "Requirement already satisfied: jax>=0.3.15 in c:\\python311\\lib\\site-packages (from tensorflow-intel==2.12.0-rc0->tensorflow) (0.4.4)\n",
            "Requirement already satisfied: libclang>=13.0.0 in c:\\python311\\lib\\site-packages (from tensorflow-intel==2.12.0-rc0->tensorflow) (15.0.6.1)\n",
            "Requirement already satisfied: opt-einsum>=2.3.2 in c:\\python311\\lib\\site-packages (from tensorflow-intel==2.12.0-rc0->tensorflow) (3.3.0)\n",
            "Requirement already satisfied: packaging in c:\\python311\\lib\\site-packages (from tensorflow-intel==2.12.0-rc0->tensorflow) (23.0)\n",
            "Requirement already satisfied: protobuf!=4.21.0,!=4.21.1,!=4.21.2,!=4.21.3,!=4.21.4,!=4.21.5,<5.0.0dev,>=3.20.3 in c:\\python311\\lib\\site-packages (from tensorflow-intel==2.12.0-rc0->tensorflow) (4.22.0)\n",
            "Requirement already satisfied: setuptools in c:\\python311\\lib\\site-packages (from tensorflow-intel==2.12.0-rc0->tensorflow) (65.5.0)\n",
            "Requirement already satisfied: six>=1.12.0 in c:\\python311\\lib\\site-packages (from tensorflow-intel==2.12.0-rc0->tensorflow) (1.16.0)\n",
            "Requirement already satisfied: termcolor>=1.1.0 in c:\\python311\\lib\\site-packages (from tensorflow-intel==2.12.0-rc0->tensorflow) (2.2.0)\n",
            "Requirement already satisfied: typing-extensions>=3.6.6 in c:\\python311\\lib\\site-packages (from tensorflow-intel==2.12.0-rc0->tensorflow) (4.5.0)\n",
            "Requirement already satisfied: wrapt>=1.11.0 in c:\\python311\\lib\\site-packages (from tensorflow-intel==2.12.0-rc0->tensorflow) (1.15.0)\n",
            "Requirement already satisfied: grpcio<2.0,>=1.24.3 in c:\\python311\\lib\\site-packages (from tensorflow-intel==2.12.0-rc0->tensorflow) (1.60.1)\n",
            "Requirement already satisfied: tensorboard<2.13,>=2.12 in c:\\python311\\lib\\site-packages (from tensorflow-intel==2.12.0-rc0->tensorflow) (2.12.0)\n",
            "Requirement already satisfied: tensorflow-estimator<2.13,>=2.12.0rc0 in c:\\python311\\lib\\site-packages (from tensorflow-intel==2.12.0-rc0->tensorflow) (2.12.0rc0)\n",
            "Requirement already satisfied: keras<2.13,>=2.12.0rc0 in c:\\python311\\lib\\site-packages (from tensorflow-intel==2.12.0-rc0->tensorflow) (2.12.0rc1)\n",
            "Requirement already satisfied: tensorflow-io-gcs-filesystem>=0.23.1 in c:\\python311\\lib\\site-packages (from tensorflow-intel==2.12.0-rc0->tensorflow) (0.31.0)\n",
            "Requirement already satisfied: cachecontrol>=0.12.6 in c:\\python311\\lib\\site-packages (from firebase_admin) (0.14.0)\n",
            "Requirement already satisfied: google-api-python-client>=1.7.8 in c:\\python311\\lib\\site-packages (from firebase_admin) (2.117.0)\n",
            "Requirement already satisfied: pyjwt>=2.5.0 in c:\\python311\\lib\\site-packages (from pyjwt[crypto]>=2.5.0->firebase_admin) (2.8.0)\n",
            "Requirement already satisfied: google-api-core<3.0.0dev,>=1.22.1 in c:\\python311\\lib\\site-packages (from google-api-core[grpc]<3.0.0dev,>=1.22.1; platform_python_implementation != \"PyPy\"->firebase_admin) (2.17.0)\n",
            "Requirement already satisfied: google-cloud-firestore>=2.9.1 in c:\\python311\\lib\\site-packages (from firebase_admin) (2.14.0)\n",
            "Requirement already satisfied: google-auth<3.0dev,>=2.23.3 in c:\\python311\\lib\\site-packages (from google-cloud-storage) (2.27.0)\n",
            "Requirement already satisfied: google-cloud-core<3.0dev,>=2.3.0 in c:\\python311\\lib\\site-packages (from google-cloud-storage) (2.4.1)\n",
            "Requirement already satisfied: google-resumable-media>=2.6.0 in c:\\python311\\lib\\site-packages (from google-cloud-storage) (2.7.0)\n",
            "Requirement already satisfied: requests<3.0.0dev,>=2.18.0 in c:\\python311\\lib\\site-packages (from google-cloud-storage) (2.28.2)\n",
            "Requirement already satisfied: google-crc32c<2.0dev,>=1.0 in c:\\python311\\lib\\site-packages (from google-cloud-storage) (1.5.0)\n",
            "Requirement already satisfied: python-dateutil<3.0dev,>=2.7.2 in c:\\users\\parth\\appdata\\roaming\\python\\python311\\site-packages (from google-cloud-bigquery) (2.8.2)\n",
            "Requirement already satisfied: proto-plus<2.0.0dev,>=1.22.0 in c:\\python311\\lib\\site-packages (from google-cloud-aiplatform) (1.23.0)\n",
            "Requirement already satisfied: google-cloud-resource-manager<3.0.0dev,>=1.3.3 in c:\\python311\\lib\\site-packages (from google-cloud-aiplatform) (1.12.1)\n",
            "Requirement already satisfied: shapely<3.0.0dev in c:\\python311\\lib\\site-packages (from google-cloud-aiplatform) (2.0.2)\n",
            "Requirement already satisfied: Jinja2==3.1.2 in c:\\python311\\lib\\site-packages (from google-cloud-pipeline-components) (3.1.2)\n",
            "Requirement already satisfied: MarkupSafe>=2.0 in c:\\python311\\lib\\site-packages (from Jinja2==3.1.2->google-cloud-pipeline-components) (2.1.2)\n",
            "Requirement already satisfied: click<9,>=8.0.0 in c:\\python311\\lib\\site-packages (from kfp) (8.1.3)\n",
            "Requirement already satisfied: docstring-parser<1,>=0.7.3 in c:\\python311\\lib\\site-packages (from kfp) (0.15)\n",
            "Requirement already satisfied: kfp-pipeline-spec==0.3.0 in c:\\python311\\lib\\site-packages (from kfp) (0.3.0)\n",
            "Requirement already satisfied: kfp-server-api<2.1.0,>=2.0.0 in c:\\python311\\lib\\site-packages (from kfp) (2.0.5)\n",
            "Requirement already satisfied: kubernetes<27,>=8.0.0 in c:\\python311\\lib\\site-packages (from kfp) (26.1.0)\n",
            "Requirement already satisfied: PyYAML<7,>=5.3 in c:\\python311\\lib\\site-packages (from kfp) (6.0)\n",
            "Requirement already satisfied: requests-toolbelt<1,>=0.8.0 in c:\\python311\\lib\\site-packages (from kfp) (0.10.1)\n",
            "Requirement already satisfied: tabulate<1,>=0.8.6 in c:\\python311\\lib\\site-packages (from kfp) (0.9.0)\n",
            "Requirement already satisfied: urllib3<2.0.0 in c:\\python311\\lib\\site-packages (from kfp) (1.26.14)\n",
            "Requirement already satisfied: scipy>=1.8 in c:\\python311\\lib\\site-packages (from scikit-image) (1.10.1)\n",
            "Requirement already satisfied: networkx>=2.8 in c:\\python311\\lib\\site-packages (from scikit-image) (3.0)\n",
            "Requirement already satisfied: pillow>=9.0.1 in c:\\python311\\lib\\site-packages (from scikit-image) (9.4.0)\n",
            "Requirement already satisfied: imageio>=2.27 in c:\\python311\\lib\\site-packages (from scikit-image) (2.31.1)\n",
            "Requirement already satisfied: tifffile>=2022.8.12 in c:\\python311\\lib\\site-packages (from scikit-image) (2023.7.18)\n",
            "Requirement already satisfied: PyWavelets>=1.1.1 in c:\\python311\\lib\\site-packages (from scikit-image) (1.4.1)\n",
            "Requirement already satisfied: lazy_loader>=0.2 in c:\\python311\\lib\\site-packages (from scikit-image) (0.3)\n",
            "Requirement already satisfied: matplotlib>=3.3.0 in c:\\python311\\lib\\site-packages (from ultralytics) (3.7.0)\n",
            "Requirement already satisfied: opencv-python>=4.6.0 in c:\\python311\\lib\\site-packages (from ultralytics) (4.6.0.66)\n",
            "Requirement already satisfied: torch>=1.8.0 in c:\\python311\\lib\\site-packages (from ultralytics) (2.0.1+cu118)\n",
            "Requirement already satisfied: torchvision>=0.9.0 in c:\\python311\\lib\\site-packages (from ultralytics) (0.15.2+cu118)\n",
            "Requirement already satisfied: tqdm>=4.64.0 in c:\\python311\\lib\\site-packages (from ultralytics) (4.64.1)\n",
            "Requirement already satisfied: psutil in c:\\users\\parth\\appdata\\roaming\\python\\python311\\site-packages (from ultralytics) (5.9.4)\n",
            "Requirement already satisfied: py-cpuinfo in c:\\python311\\lib\\site-packages (from ultralytics) (9.0.0)\n",
            "Requirement already satisfied: thop>=0.1.1 in c:\\python311\\lib\\site-packages (from ultralytics) (0.1.1.post2209072238)\n",
            "Requirement already satisfied: pandas>=1.1.4 in c:\\python311\\lib\\site-packages (from ultralytics) (1.5.3)\n",
            "Requirement already satisfied: seaborn>=0.11.0 in c:\\python311\\lib\\site-packages (from ultralytics) (0.12.2)\n",
            "Requirement already satisfied: msgpack<2.0.0,>=0.5.2 in c:\\python311\\lib\\site-packages (from cachecontrol>=0.12.6->firebase_admin) (1.0.7)\n",
            "Requirement already satisfied: colorama in c:\\users\\parth\\appdata\\roaming\\python\\python311\\site-packages (from click<9,>=8.0.0->kfp) (0.4.6)\n",
            "Requirement already satisfied: googleapis-common-protos<2.0.dev0,>=1.56.2 in c:\\python311\\lib\\site-packages (from google-api-core<3.0.0dev,>=1.22.1->google-api-core[grpc]<3.0.0dev,>=1.22.1; platform_python_implementation != \"PyPy\"->firebase_admin) (1.62.0)\n",
            "Requirement already satisfied: grpcio-status<2.0.dev0,>=1.33.2 in c:\\python311\\lib\\site-packages (from google-api-core[grpc]<3.0.0dev,>=1.22.1; platform_python_implementation != \"PyPy\"->firebase_admin) (1.60.1)\n",
            "Requirement already satisfied: httplib2<1.dev0,>=0.15.0 in c:\\python311\\lib\\site-packages (from google-api-python-client>=1.7.8->firebase_admin) (0.22.0)\n",
            "Requirement already satisfied: google-auth-httplib2>=0.1.0 in c:\\python311\\lib\\site-packages (from google-api-python-client>=1.7.8->firebase_admin) (0.2.0)\n",
            "Requirement already satisfied: uritemplate<5,>=3.0.1 in c:\\python311\\lib\\site-packages (from google-api-python-client>=1.7.8->firebase_admin) (4.1.1)\n",
            "Requirement already satisfied: cachetools<6.0,>=2.0.0 in c:\\python311\\lib\\site-packages (from google-auth<3.0dev,>=2.23.3->google-cloud-storage) (5.3.0)\n",
            "Requirement already satisfied: pyasn1-modules>=0.2.1 in c:\\python311\\lib\\site-packages (from google-auth<3.0dev,>=2.23.3->google-cloud-storage) (0.2.8)\n",
            "Requirement already satisfied: rsa<5,>=3.1.4 in c:\\python311\\lib\\site-packages (from google-auth<3.0dev,>=2.23.3->google-cloud-storage) (4.9)\n",
            "Requirement already satisfied: grpc-google-iam-v1<1.0.0dev,>=0.12.4 in c:\\python311\\lib\\site-packages (from google-cloud-resource-manager<3.0.0dev,>=1.3.3->google-cloud-aiplatform) (0.13.0)\n",
            "Requirement already satisfied: certifi in c:\\python311\\lib\\site-packages (from kfp-server-api<2.1.0,>=2.0.0->kfp) (2022.12.7)\n",
            "Requirement already satisfied: websocket-client!=0.40.0,!=0.41.*,!=0.42.*,>=0.32.0 in c:\\python311\\lib\\site-packages (from kubernetes<27,>=8.0.0->kfp) (1.5.1)\n",
            "Requirement already satisfied: requests-oauthlib in c:\\python311\\lib\\site-packages (from kubernetes<27,>=8.0.0->kfp) (1.3.1)\n",
            "Requirement already satisfied: contourpy>=1.0.1 in c:\\python311\\lib\\site-packages (from matplotlib>=3.3.0->ultralytics) (1.0.7)\n",
            "Requirement already satisfied: cycler>=0.10 in c:\\python311\\lib\\site-packages (from matplotlib>=3.3.0->ultralytics) (0.11.0)\n",
            "Requirement already satisfied: fonttools>=4.22.0 in c:\\python311\\lib\\site-packages (from matplotlib>=3.3.0->ultralytics) (4.38.0)\n",
            "Requirement already satisfied: kiwisolver>=1.0.1 in c:\\python311\\lib\\site-packages (from matplotlib>=3.3.0->ultralytics) (1.4.4)\n",
            "Requirement already satisfied: pyparsing>=2.3.1 in c:\\python311\\lib\\site-packages (from matplotlib>=3.3.0->ultralytics) (3.0.9)\n",
            "Requirement already satisfied: pytz>=2020.1 in c:\\python311\\lib\\site-packages (from pandas>=1.1.4->ultralytics) (2022.7.1)\n",
            "Requirement already satisfied: cryptography>=3.4.0 in c:\\python311\\lib\\site-packages (from pyjwt[crypto]>=2.5.0->firebase_admin) (42.0.2)\n",
            "Requirement already satisfied: charset-normalizer<4,>=2 in c:\\python311\\lib\\site-packages (from requests<3.0.0dev,>=2.18.0->google-cloud-storage) (3.0.1)\n",
            "Requirement already satisfied: idna<4,>=2.5 in c:\\python311\\lib\\site-packages (from requests<3.0.0dev,>=2.18.0->google-cloud-storage) (3.4)\n",
            "Requirement already satisfied: filelock in c:\\python311\\lib\\site-packages (from torch>=1.8.0->ultralytics) (3.12.0)\n",
            "Requirement already satisfied: sympy in c:\\python311\\lib\\site-packages (from torch>=1.8.0->ultralytics) (1.11.1)\n",
            "Requirement already satisfied: wheel<1.0,>=0.23.0 in c:\\python311\\lib\\site-packages (from astunparse>=1.6.0->tensorflow-intel==2.12.0-rc0->tensorflow) (0.38.4)\n",
            "Requirement already satisfied: cffi>=1.12 in c:\\python311\\lib\\site-packages (from cryptography>=3.4.0->pyjwt[crypto]>=2.5.0->firebase_admin) (1.15.1)\n",
            "Requirement already satisfied: pyasn1<0.5.0,>=0.4.6 in c:\\python311\\lib\\site-packages (from pyasn1-modules>=0.2.1->google-auth<3.0dev,>=2.23.3->google-cloud-storage) (0.4.8)\n",
            "Requirement already satisfied: google-auth-oauthlib<0.5,>=0.4.1 in c:\\python311\\lib\\site-packages (from tensorboard<2.13,>=2.12->tensorflow-intel==2.12.0-rc0->tensorflow) (0.4.6)\n",
            "Requirement already satisfied: markdown>=2.6.8 in c:\\python311\\lib\\site-packages (from tensorboard<2.13,>=2.12->tensorflow-intel==2.12.0-rc0->tensorflow) (3.4.1)\n",
            "Requirement already satisfied: tensorboard-data-server<0.8.0,>=0.7.0 in c:\\python311\\lib\\site-packages (from tensorboard<2.13,>=2.12->tensorflow-intel==2.12.0-rc0->tensorflow) (0.7.0)\n",
            "Requirement already satisfied: tensorboard-plugin-wit>=1.6.0 in c:\\python311\\lib\\site-packages (from tensorboard<2.13,>=2.12->tensorflow-intel==2.12.0-rc0->tensorflow) (1.8.1)\n",
            "Requirement already satisfied: werkzeug>=1.0.1 in c:\\python311\\lib\\site-packages (from tensorboard<2.13,>=2.12->tensorflow-intel==2.12.0-rc0->tensorflow) (2.2.3)\n",
            "Requirement already satisfied: oauthlib>=3.0.0 in c:\\python311\\lib\\site-packages (from requests-oauthlib->kubernetes<27,>=8.0.0->kfp) (3.2.2)\n",
            "Requirement already satisfied: mpmath>=0.19 in c:\\python311\\lib\\site-packages (from sympy->torch>=1.8.0->ultralytics) (1.2.1)\n",
            "Requirement already satisfied: pycparser in c:\\python311\\lib\\site-packages (from cffi>=1.12->cryptography>=3.4.0->pyjwt[crypto]>=2.5.0->firebase_admin) (2.21)\n",
            "Note: you may need to restart the kernel to use updated packages.\n"
          ]
        },
        {
          "name": "stderr",
          "output_type": "stream",
          "text": [
            "DEPRECATION: Loading egg at c:\\python311\\lib\\site-packages\\mask_rcnn-2.1-py3.11.egg is deprecated. pip 24.3 will enforce this behaviour change. A possible replacement is to use pip for package installation.. Discussion can be found at https://github.com/pypa/pip/issues/12330\n",
            "\n",
            "[notice] A new release of pip is available: 23.3.2 -> 24.0\n",
            "[notice] To update, run: python.exe -m pip install --upgrade pip\n"
          ]
        }
      ],
      "source": [
        "%pip install tensorflow numpy opencv-python-headless firebase_admin google-cloud-storage google-cloud-bigquery google-cloud-aiplatform google-cloud-pipeline-components kfp scikit-image ultralytics"
      ]
    },
    {
      "cell_type": "code",
      "execution_count": 180,
      "metadata": {},
      "outputs": [
        {
          "name": "stderr",
          "output_type": "stream",
          "text": [
            "DEPRECATION: Loading egg at c:\\python311\\lib\\site-packages\\mask_rcnn-2.1-py3.11.egg is deprecated. pip 24.3 will enforce this behaviour change. A possible replacement is to use pip for package installation.. Discussion can be found at https://github.com/pypa/pip/issues/12330\n",
            "\n",
            "[notice] A new release of pip is available: 23.3.2 -> 24.0\n",
            "[notice] To update, run: python.exe -m pip install --upgrade pip\n"
          ]
        }
      ],
      "source": [
        "! pip list > req.txt"
      ]
    },
    {
      "cell_type": "markdown",
      "metadata": {
        "id": "h-qK-6gTc2pa"
      },
      "source": [
        "# Imports"
      ]
    },
    {
      "cell_type": "code",
      "execution_count": 1,
      "metadata": {
        "id": "ECcXXOmgXu6A"
      },
      "outputs": [
        {
          "name": "stderr",
          "output_type": "stream",
          "text": [
            "2024-02-10 23:33:58.476608: E external/local_xla/xla/stream_executor/cuda/cuda_dnn.cc:9261] Unable to register cuDNN factory: Attempting to register factory for plugin cuDNN when one has already been registered\n",
            "2024-02-10 23:33:58.476650: E external/local_xla/xla/stream_executor/cuda/cuda_fft.cc:607] Unable to register cuFFT factory: Attempting to register factory for plugin cuFFT when one has already been registered\n",
            "2024-02-10 23:33:58.502977: E external/local_xla/xla/stream_executor/cuda/cuda_blas.cc:1515] Unable to register cuBLAS factory: Attempting to register factory for plugin cuBLAS when one has already been registered\n",
            "2024-02-10 23:33:58.558391: I tensorflow/core/platform/cpu_feature_guard.cc:182] This TensorFlow binary is optimized to use available CPU instructions in performance-critical operations.\n",
            "To enable the following instructions: AVX2 FMA, in other operations, rebuild TensorFlow with the appropriate compiler flags.\n",
            "2024-02-10 23:34:00.618509: W tensorflow/compiler/tf2tensorrt/utils/py_utils.cc:38] TF-TRT Warning: Could not find TensorRT\n"
          ]
        }
      ],
      "source": [
        "# Importing necessary modules\n",
        "import tensorflow as tf\n",
        "import numpy as np\n",
        "import cv2\n",
        "import os\n",
        "import urllib\n",
        "import pytz\n",
        "import tempfile\n",
        "from typing import NamedTuple, List\n",
        "from skimage.transform import resize\n",
        "from ultralytics import YOLO\n",
        "from skimage import io\n",
        "\n",
        "import firebase_admin\n",
        "from firebase_admin import firestore, credentials, storage\n",
        "from datetime import datetime, timedelta\n",
        "from google.cloud.firestore_v1.base_query import FieldFilter\n",
        "from google.cloud import storage, bigquery, aiplatform\n",
        "\n",
        "from kfp.dsl import pipeline, component\n",
        "from kfp import compiler"
      ]
    },
    {
      "cell_type": "markdown",
      "metadata": {
        "id": "L6AXvsbwdbsD"
      },
      "source": [
        "# Connect with Firestore"
      ]
    },
    {
      "cell_type": "code",
      "execution_count": 9,
      "metadata": {
        "id": "rPjMEfD6PXms"
      },
      "outputs": [],
      "source": [
        "CLOUD_CRED = \"./keys/detectionKey.json\"\n",
        "FIREBASE_CRED = \"./keys/serviceAccountKey.json\""
      ]
    },
    {
      "cell_type": "code",
      "execution_count": 4,
      "metadata": {
        "id": "bVpqz4DXPun4"
      },
      "outputs": [
        {
          "data": {
            "text/plain": [
              "<firebase_admin.App at 0x276425f6050>"
            ]
          },
          "execution_count": 4,
          "metadata": {},
          "output_type": "execute_result"
        }
      ],
      "source": [
        "cred = credentials.Certificate(FIREBASE_CRED)\n",
        "firebase_admin.initialize_app(cred)"
      ]
    },
    {
      "cell_type": "code",
      "execution_count": 5,
      "metadata": {
        "id": "Z_UwOnMGQ9Lo"
      },
      "outputs": [],
      "source": [
        "db = firestore.client()"
      ]
    },
    {
      "cell_type": "markdown",
      "metadata": {
        "id": "2BAPaCDmdlgU"
      },
      "source": [
        "# Getting & Preprocessing Images"
      ]
    },
    {
      "cell_type": "code",
      "execution_count": 6,
      "metadata": {},
      "outputs": [],
      "source": [
        "# Setting timezone\n",
        "indian_timezone = pytz.timezone('Asia/Kolkata')"
      ]
    },
    {
      "cell_type": "code",
      "execution_count": 7,
      "metadata": {},
      "outputs": [],
      "source": [
        "# Getting start date and end date for fetching documents\n",
        "current_datetime = datetime.now()\n",
        "midnight_datetime = current_datetime.replace(hour=0, minute=0, second=0, microsecond=0)\n",
        "\n",
        "one_day = timedelta(days=1)\n",
        "yesterday_midnight_datetime = current_datetime - one_day\n",
        "yesterday_midnight_datetime = yesterday_midnight_datetime.replace(hour=0, minute=0, second=0, microsecond=0)\n",
        "\n",
        "start_date = indian_timezone.localize(yesterday_midnight_datetime)\n",
        "end_date = indian_timezone.localize(midnight_datetime)"
      ]
    },
    {
      "cell_type": "code",
      "execution_count": 21,
      "metadata": {
        "id": "gbMlzQkbQteL"
      },
      "outputs": [],
      "source": [
        "# For the collection Markers\n",
        "markers = db.collection(\"Markers\").get()\n",
        "# markers = db.collection(\"Markers\").where(filter=FieldFilter('time', \">=\", start_date)).where(filter=FieldFilter('time', \"<=\", end_date)).get()\n",
        "markerImages = []"
      ]
    },
    {
      "cell_type": "code",
      "execution_count": 17,
      "metadata": {},
      "outputs": [
        {
          "name": "stdout",
          "output_type": "stream",
          "text": [
            "42\n"
          ]
        }
      ],
      "source": [
        "print(len(markers))"
      ]
    },
    {
      "cell_type": "code",
      "execution_count": 22,
      "metadata": {
        "id": "_WihVF6cSYqB"
      },
      "outputs": [],
      "source": [
        "# For creating markerImages\n",
        "for obj in markers:\n",
        "    data = obj.to_dict()\n",
        "    img = io.imread(data[\"imageUrl\"])\n",
        "    date = data[\"time\"] if \"time\" in data.keys() else datetime.now()\n",
        "    markerImages.append([data[\"id\"], img, date])"
      ]
    },
    {
      "cell_type": "code",
      "execution_count": 45,
      "metadata": {},
      "outputs": [
        {
          "data": {
            "text/plain": [
              "array([[[145, 136, 127],\n",
              "        [147, 138, 129],\n",
              "        [148, 139, 130],\n",
              "        ...,\n",
              "        [199, 174, 154],\n",
              "        [194, 169, 149],\n",
              "        [198, 173, 153]],\n",
              "\n",
              "       [[145, 136, 127],\n",
              "        [146, 137, 128],\n",
              "        [147, 138, 129],\n",
              "        ...,\n",
              "        [201, 176, 156],\n",
              "        [198, 173, 153],\n",
              "        [200, 175, 155]],\n",
              "\n",
              "       [[145, 136, 127],\n",
              "        [146, 137, 128],\n",
              "        [146, 137, 128],\n",
              "        ...,\n",
              "        [202, 177, 157],\n",
              "        [199, 174, 154],\n",
              "        [200, 175, 155]],\n",
              "\n",
              "       ...,\n",
              "\n",
              "       [[255, 255, 247],\n",
              "        [255, 255, 247],\n",
              "        [254, 255, 247],\n",
              "        ...,\n",
              "        [ 66,  99, 116],\n",
              "        [ 61,  94, 113],\n",
              "        [ 57,  90, 109]],\n",
              "\n",
              "       [[255, 255, 247],\n",
              "        [255, 255, 247],\n",
              "        [254, 255, 247],\n",
              "        ...,\n",
              "        [ 65,  98, 115],\n",
              "        [ 59,  92, 111],\n",
              "        [ 55,  88, 107]],\n",
              "\n",
              "       [[255, 255, 247],\n",
              "        [254, 254, 246],\n",
              "        [253, 254, 246],\n",
              "        ...,\n",
              "        [ 66,  99, 116],\n",
              "        [ 62,  95, 114],\n",
              "        [ 60,  93, 112]]], dtype=uint8)"
            ]
          },
          "execution_count": 45,
          "metadata": {},
          "output_type": "execute_result"
        }
      ],
      "source": [
        "markerImages[0][1]"
      ]
    },
    {
      "cell_type": "markdown",
      "metadata": {
        "id": "Ow4jGWDndvKz"
      },
      "source": [
        "# Loading Model"
      ]
    },
    {
      "cell_type": "code",
      "execution_count": null,
      "metadata": {
        "id": "LPFr6MRRJ899"
      },
      "outputs": [],
      "source": [
        "# Setting up model class\n",
        "class human_detection:\n",
        "\n",
        "    def __init__(self):\n",
        "        self.model = YOLO(\"yolov8n.pt\")\n",
        "        self.image_verification = {0: [], 1: []}\n",
        "\n",
        "    def forward(self, THRESHOLD_SCORE, IMAGE_ARRAY):\n",
        "\n",
        "        for (image_id, img_init, date) in IMAGE_ARRAY:\n",
        "\n",
        "            detection = False\n",
        "            cropped_images = []\n",
        "\n",
        "            dh, dw, _ = img_init.shape\n",
        "            results = self.model(img_init)\n",
        "\n",
        "            # Extract bounding boxes, classes, names, and confidences\n",
        "            boxes = results[0].boxes.xyxy.tolist()\n",
        "            classes = results[0].boxes.cls.tolist()\n",
        "            names = results[0].names\n",
        "            confidences = results[0].boxes.conf.tolist()\n",
        "\n",
        "            # Iterate through the results\n",
        "            for box, cls, conf in zip(boxes, classes, confidences):\n",
        "                x_min, y_min, x_max, y_max = box\n",
        "                x_min = int(x_min)\n",
        "                y_min = int(y_min)\n",
        "                x_max = int(x_max)\n",
        "                y_max = int(y_max)\n",
        "                confidence = conf\n",
        "                name = names[int(cls)]\n",
        "\n",
        "                if name == \"person\":\n",
        "                    if ((confidence > THRESHOLD_SCORE) and (confidence <= 1.0)):\n",
        "                        detection = True\n",
        "                        cropped_images.append(img_init[y_min:y_max, x_min:x_max])\n",
        "\n",
        "            if detection:\n",
        "                self.image_verification[1].append((image_id, cropped_images, date))\n",
        "            else:\n",
        "                self.image_verification[0].append(image_id)\n",
        "\n",
        "    def get_dict(self):\n",
        "        return self.image_verification"
      ]
    },
    {
      "cell_type": "code",
      "execution_count": null,
      "metadata": {
        "id": "vAFkwsXANIFI"
      },
      "outputs": [],
      "source": [
        "# Initializing Model\n",
        "model = human_detection()"
      ]
    },
    {
      "cell_type": "code",
      "execution_count": 165,
      "metadata": {
        "id": "kEkTFknoNMIA"
      },
      "outputs": [
        {
          "name": "stdout",
          "output_type": "stream",
          "text": [
            "\n",
            "0: 480x640 4 persons, 1 chair, 1 dining table, 1 tv, 1 laptop, 36.0ms\n",
            "Speed: 5.0ms preprocess, 36.0ms inference, 2.0ms postprocess per image at shape (1, 3, 480, 640)\n",
            "\n",
            "0: 480x640 (no detections), 13.5ms\n",
            "Speed: 2.0ms preprocess, 13.5ms inference, 2.0ms postprocess per image at shape (1, 3, 480, 640)\n",
            "\n",
            "0: 480x640 3 persons, 2 bottles, 1 cup, 4 chairs, 1 dining table, 1 cell phone, 16.0ms\n",
            "Speed: 4.0ms preprocess, 16.0ms inference, 2.0ms postprocess per image at shape (1, 3, 480, 640)\n",
            "\n",
            "0: 480x640 2 bottles, 1 bed, 1 book, 13.0ms\n",
            "Speed: 3.0ms preprocess, 13.0ms inference, 2.0ms postprocess per image at shape (1, 3, 480, 640)\n",
            "\n",
            "0: 448x640 4 persons, 3 cars, 1 truck, 1 kite, 14.5ms\n",
            "Speed: 2.0ms preprocess, 14.5ms inference, 2.0ms postprocess per image at shape (1, 3, 448, 640)\n",
            "\n",
            "0: 480x640 4 persons, 14.0ms\n",
            "Speed: 2.0ms preprocess, 14.0ms inference, 1.0ms postprocess per image at shape (1, 3, 480, 640)\n",
            "\n",
            "0: 384x640 6 persons, 1 bed, 12.0ms\n",
            "Speed: 2.0ms preprocess, 12.0ms inference, 2.0ms postprocess per image at shape (1, 3, 384, 640)\n",
            "\n",
            "0: 384x640 7 persons, 1 skis, 13.0ms\n",
            "Speed: 2.0ms preprocess, 13.0ms inference, 1.0ms postprocess per image at shape (1, 3, 384, 640)\n",
            "\n",
            "0: 480x640 4 persons, 14.0ms\n",
            "Speed: 1.0ms preprocess, 14.0ms inference, 2.0ms postprocess per image at shape (1, 3, 480, 640)\n",
            "\n",
            "0: 384x640 7 persons, 1 skis, 12.0ms\n",
            "Speed: 2.1ms preprocess, 12.0ms inference, 1.0ms postprocess per image at shape (1, 3, 384, 640)\n",
            "\n",
            "0: 640x480 1 person, 14.0ms\n",
            "Speed: 2.0ms preprocess, 14.0ms inference, 2.0ms postprocess per image at shape (1, 3, 640, 480)\n",
            "\n",
            "0: 640x480 (no detections), 14.0ms\n",
            "Speed: 2.0ms preprocess, 14.0ms inference, 1.0ms postprocess per image at shape (1, 3, 640, 480)\n",
            "\n",
            "0: 640x480 1 person, 13.0ms\n",
            "Speed: 2.0ms preprocess, 13.0ms inference, 2.0ms postprocess per image at shape (1, 3, 640, 480)\n",
            "\n",
            "0: 512x640 3 persons, 14.0ms\n",
            "Speed: 3.0ms preprocess, 14.0ms inference, 2.0ms postprocess per image at shape (1, 3, 512, 640)\n",
            "\n",
            "0: 480x640 8 persons, 2 backpacks, 14.0ms\n",
            "Speed: 2.0ms preprocess, 14.0ms inference, 2.0ms postprocess per image at shape (1, 3, 480, 640)\n",
            "\n",
            "0: 640x480 3 persons, 15.0ms\n",
            "Speed: 2.0ms preprocess, 15.0ms inference, 3.0ms postprocess per image at shape (1, 3, 640, 480)\n",
            "\n",
            "0: 640x480 1 laptop, 12.6ms\n",
            "Speed: 3.0ms preprocess, 12.6ms inference, 2.0ms postprocess per image at shape (1, 3, 640, 480)\n",
            "\n",
            "0: 480x640 1 tv, 1 laptop, 14.0ms\n",
            "Speed: 2.0ms preprocess, 14.0ms inference, 2.0ms postprocess per image at shape (1, 3, 480, 640)\n",
            "\n",
            "0: 480x640 2 persons, 13.0ms\n",
            "Speed: 3.0ms preprocess, 13.0ms inference, 2.0ms postprocess per image at shape (1, 3, 480, 640)\n",
            "\n",
            "0: 480x640 14 persons, 2 backpacks, 13.1ms\n",
            "Speed: 3.0ms preprocess, 13.1ms inference, 2.0ms postprocess per image at shape (1, 3, 480, 640)\n",
            "\n",
            "0: 480x640 1 truck, 1 bench, 13.0ms\n",
            "Speed: 3.0ms preprocess, 13.0ms inference, 2.0ms postprocess per image at shape (1, 3, 480, 640)\n",
            "\n",
            "0: 640x288 1 person, 1 tv, 1 laptop, 12.0ms\n",
            "Speed: 1.0ms preprocess, 12.0ms inference, 1.0ms postprocess per image at shape (1, 3, 640, 288)\n",
            "\n",
            "0: 640x640 1 person, 2 bottles, 16.6ms\n",
            "Speed: 5.0ms preprocess, 16.6ms inference, 2.0ms postprocess per image at shape (1, 3, 640, 640)\n",
            "\n",
            "0: 480x640 3 persons, 6 chairs, 13.0ms\n",
            "Speed: 3.0ms preprocess, 13.0ms inference, 2.0ms postprocess per image at shape (1, 3, 480, 640)\n",
            "\n",
            "0: 640x288 (no detections), 11.0ms\n",
            "Speed: 1.0ms preprocess, 11.0ms inference, 1.0ms postprocess per image at shape (1, 3, 640, 288)\n",
            "\n",
            "0: 448x640 4 persons, 1 sports ball, 1 baseball glove, 13.0ms\n",
            "Speed: 2.0ms preprocess, 13.0ms inference, 2.0ms postprocess per image at shape (1, 3, 448, 640)\n",
            "\n",
            "0: 640x480 3 persons, 14.0ms\n",
            "Speed: 2.0ms preprocess, 14.0ms inference, 1.0ms postprocess per image at shape (1, 3, 640, 480)\n",
            "\n",
            "0: 640x320 1 tv, 11.0ms\n",
            "Speed: 2.0ms preprocess, 11.0ms inference, 2.0ms postprocess per image at shape (1, 3, 640, 320)\n",
            "\n",
            "0: 640x288 1 person, 14.0ms\n",
            "Speed: 2.0ms preprocess, 14.0ms inference, 1.0ms postprocess per image at shape (1, 3, 640, 288)\n",
            "\n",
            "0: 640x480 (no detections), 14.0ms\n",
            "Speed: 2.0ms preprocess, 14.0ms inference, 0.0ms postprocess per image at shape (1, 3, 640, 480)\n",
            "\n",
            "0: 480x640 21 persons, 1 suitcase, 13.0ms\n",
            "Speed: 3.0ms preprocess, 13.0ms inference, 2.0ms postprocess per image at shape (1, 3, 480, 640)\n",
            "\n",
            "0: 384x640 1 book, 12.0ms\n",
            "Speed: 2.0ms preprocess, 12.0ms inference, 2.0ms postprocess per image at shape (1, 3, 384, 640)\n",
            "\n",
            "0: 640x480 1 person, 14.0ms\n",
            "Speed: 2.0ms preprocess, 14.0ms inference, 3.0ms postprocess per image at shape (1, 3, 640, 480)\n",
            "\n",
            "0: 416x640 6 persons, 14.0ms\n",
            "Speed: 3.0ms preprocess, 14.0ms inference, 3.0ms postprocess per image at shape (1, 3, 416, 640)\n",
            "\n",
            "0: 480x640 6 persons, 1 chair, 13.6ms\n",
            "Speed: 3.0ms preprocess, 13.6ms inference, 2.0ms postprocess per image at shape (1, 3, 480, 640)\n",
            "\n",
            "0: 640x352 (no detections), 12.0ms\n",
            "Speed: 2.0ms preprocess, 12.0ms inference, 1.0ms postprocess per image at shape (1, 3, 640, 352)\n",
            "\n",
            "0: 480x640 1 person, 2 chairs, 2 beds, 1 cell phone, 14.0ms\n",
            "Speed: 2.0ms preprocess, 14.0ms inference, 2.0ms postprocess per image at shape (1, 3, 480, 640)\n",
            "\n",
            "0: 448x640 2 persons, 18.0ms\n",
            "Speed: 3.0ms preprocess, 18.0ms inference, 3.0ms postprocess per image at shape (1, 3, 448, 640)\n",
            "\n",
            "0: 640x480 1 bowl, 15.0ms\n",
            "Speed: 4.0ms preprocess, 15.0ms inference, 1.0ms postprocess per image at shape (1, 3, 640, 480)\n",
            "\n",
            "0: 640x480 (no detections), 13.0ms\n",
            "Speed: 2.0ms preprocess, 13.0ms inference, 1.0ms postprocess per image at shape (1, 3, 640, 480)\n",
            "\n",
            "0: 640x288 1 person, 11.0ms\n",
            "Speed: 2.0ms preprocess, 11.0ms inference, 2.0ms postprocess per image at shape (1, 3, 640, 288)\n",
            "\n",
            "0: 640x288 1 refrigerator, 10.0ms\n",
            "Speed: 2.0ms preprocess, 10.0ms inference, 2.0ms postprocess per image at shape (1, 3, 640, 288)\n"
          ]
        }
      ],
      "source": [
        "# Execute model\n",
        "model.forward(0.6, markerImages)"
      ]
    },
    {
      "cell_type": "code",
      "execution_count": 180,
      "metadata": {
        "colab": {
          "base_uri": "https://localhost:8080/"
        },
        "id": "NMANZqa2Obp7",
        "outputId": "76bae740-6ce3-431d-8e1b-462779d9650b"
      },
      "outputs": [
        {
          "data": {
            "text/plain": [
              "<matplotlib.image.AxesImage at 0x27647f956d0>"
            ]
          },
          "execution_count": 180,
          "metadata": {},
          "output_type": "execute_result"
        },
        {
          "data": {
            "image/png": "[encoded data removed]",
            "text/plain": [
              "<Figure size 640x480 with 1 Axes>"
            ]
          },
          "metadata": {},
          "output_type": "display_data"
        }
      ],
      "source": [
        "# Get model results\n",
        "\n",
        "# FORMAT = (Human present markers = 1, individual marker information = M, cropped images = 1, individual images = N)\n",
        "\n",
        "\n",
        "io.imshow(model.get_dict()[1][2][1][1])"
      ]
    },
    {
      "cell_type": "markdown",
      "metadata": {},
      "source": [
        "# Connecting to GCP"
      ]
    },
    {
      "cell_type": "code",
      "execution_count": 171,
      "metadata": {},
      "outputs": [],
      "source": [
        "# Connecting to GCP\n",
        "storage_client = storage.Client.from_service_account_json(CLOUD_CRED) #type: ignore\n",
        "\n",
        "# Connecting to Bucket\n",
        "bucket = storage_client.get_bucket('faces_for_clusters')"
      ]
    },
    {
      "cell_type": "code",
      "execution_count": 172,
      "metadata": {},
      "outputs": [],
      "source": [
        "# Connecting to BigQuery\n",
        "bigquery_client = bigquery.Client.from_service_account_json(CLOUD_CRED)"
      ]
    },
    {
      "cell_type": "code",
      "execution_count": 184,
      "metadata": {},
      "outputs": [],
      "source": [
        "# Connecting to Table\n",
        "table_ref = bigquery_client.dataset(\"clustering_dataset\").table(\"faces\")\n",
        "table = bigquery_client.get_table(table_ref)"
      ]
    },
    {
      "cell_type": "code",
      "execution_count": 185,
      "metadata": {},
      "outputs": [],
      "source": [
        "# List to contain the rows to be inserted\n",
        "insert_rows = []"
      ]
    },
    {
      "cell_type": "code",
      "execution_count": 186,
      "metadata": {},
      "outputs": [],
      "source": [
        "# Uploading images to buckets\n",
        "for (id, cropped_images, date) in model.get_dict()[1]:\n",
        "    for (num, img) in enumerate(cropped_images):\n",
        "        with tempfile.TemporaryFile() as temp:\n",
        "            filename = str(id) + \"_\" + str(num) + \".png\"\n",
        "            cv2.imwrite(filename, cv2.cvtColor(img, cv2.COLOR_RGB2BGR))\n",
        "            object_name = bucket.blob(\"CroppedImages/\" + filename)\n",
        "            object_name.upload_from_filename(filename, content_type='image/png')\n",
        "            url = object_name.public_url\n",
        "            insert_rows.append((id, url, date))"
      ]
    },
    {
      "cell_type": "code",
      "execution_count": 187,
      "metadata": {},
      "outputs": [
        {
          "name": "stdout",
          "output_type": "stream",
          "text": [
            "[]\n"
          ]
        }
      ],
      "source": [
        "# Insert rows to table\n",
        "query = bigquery_client.insert_rows(table, insert_rows)\n",
        "print(query)"
      ]
    },
    {
      "cell_type": "markdown",
      "metadata": {
        "id": "Z2cHFf9FeY0j"
      },
      "source": [
        "# Testing model on single images"
      ]
    },
    {
      "cell_type": "markdown",
      "metadata": {
        "id": "TeE1P6VTcaWo"
      },
      "source": [
        "## Loading Pre-trained Efficientdet"
      ]
    },
    {
      "cell_type": "code",
      "execution_count": null,
      "metadata": {
        "id": "o3nARWCuYA5Y"
      },
      "outputs": [],
      "source": [
        "# Creating a TensorFlow Lite Interpreter instance to load a pre-trained model (https://www.kaggle.com/models/tensorflow/efficientdet)\n",
        "interpreter = tf.lite.Interpreter(model_path=\"/content/gdrive/MyDrive/hestia_human_detection/1.tflite\")\n",
        "\n",
        "# Allocating tensors for the interpreter to prepare for inference\n",
        "interpreter.allocate_tensors()"
      ]
    },
    {
      "cell_type": "markdown",
      "metadata": {
        "id": "-2zer1cWdAdU"
      },
      "source": [
        "## Loading and Preprocessing image(s)"
      ]
    },
    {
      "cell_type": "code",
      "execution_count": null,
      "metadata": {
        "colab": {
          "base_uri": "https://localhost:8080/"
        },
        "id": "i96ScfAqYp8G",
        "outputId": "b96f7b8d-d7dd-4ebe-de7d-4bc9bca638e1"
      },
      "outputs": [],
      "source": [
        "# Reading an image using OpenCV from the specified path\n",
        "img = cv2.imread(\"/content/gdrive/MyDrive/hestia_human_detection/94921710.jpeg\", cv2.IMREAD_UNCHANGED)\n",
        "\n",
        "imH, imW, _ = img.shape"
      ]
    },
    {
      "cell_type": "code",
      "execution_count": null,
      "metadata": {
        "id": "P4-4iRW_gitv"
      },
      "outputs": [],
      "source": [
        "# Resizing the image using OpenCV to the required input dimensions\n",
        "img_resized = cv2.resize(img, (imH, imW))\n",
        "\n",
        "# Expanding the dimensions of the resized image\n",
        "input_data = tf.expand_dims(img_resized, axis=0)"
      ]
    },
    {
      "cell_type": "markdown",
      "metadata": {
        "id": "Ps9lE79tdI1W"
      },
      "source": [
        "## Inference"
      ]
    },
    {
      "cell_type": "code",
      "execution_count": null,
      "metadata": {
        "id": "iMSJYwiSYQzt"
      },
      "outputs": [],
      "source": [
        "# Getting details about the input tensor(s) and the output tensor(s) of the TensorFlow Lite model\n",
        "input_details = interpreter.get_input_details()\n",
        "output_details = interpreter.get_output_details()"
      ]
    },
    {
      "cell_type": "code",
      "execution_count": null,
      "metadata": {
        "id": "kswDJ1ZVcqnE"
      },
      "outputs": [],
      "source": [
        "# Getting the shape of the input tensor\n",
        "input_shape = input_details[0]['shape']\n",
        "\n",
        "# Setting the input tensor of the TensorFlow Lite model with the resized image data\n",
        "interpreter.set_tensor(input_details[0]['index'], input_data)\n",
        "\n",
        "# Invoking the TensorFlow Lite interpreter to perform inference\n",
        "interpreter.invoke()"
      ]
    },
    {
      "cell_type": "code",
      "execution_count": null,
      "metadata": {
        "id": "rf2PXBUzdOlU"
      },
      "outputs": [],
      "source": [
        "# Getting bounding box information, class labels, and confidence scores from the output tensor\n",
        "boxes = interpreter.get_tensor(output_details[0]['index'])[0]\n",
        "classes = interpreter.get_tensor(output_details[1]['index'])[0]\n",
        "scores = interpreter.get_tensor(output_details[2]['index'])[0]\n",
        "\n",
        "# Creating an empty list to store detection results\n",
        "detections = []"
      ]
    },
    {
      "cell_type": "code",
      "execution_count": null,
      "metadata": {
        "id": "7MKRLUzHam-z"
      },
      "outputs": [],
      "source": [
        "# Threshold score for filtering detections\n",
        "THRESHOLD_SCORE = 0.2"
      ]
    },
    {
      "cell_type": "markdown",
      "metadata": {
        "id": "9neMmxBpdT1a"
      },
      "source": [
        "## Post-processing and Visualization"
      ]
    },
    {
      "cell_type": "code",
      "execution_count": null,
      "metadata": {
        "id": "VFFGydwqjVhM"
      },
      "outputs": [],
      "source": [
        "# Post-processing the detection results and visualizing them on the image\n",
        "for i in range(len(scores)):\n",
        "\n",
        "   # Filtering detections based on confidence scores\n",
        "  if ((scores[i] > THRESHOLD_SCORE) and (scores[i] <= 1.0)):\n",
        "    ymin = int(max(1,(boxes[i][0] * imH)))\n",
        "    xmin = int(max(1,(boxes[i][1] * imW)))\n",
        "    ymax = int(min(imH,(boxes[i][2] * imH)))\n",
        "    xmax = int(min(imW,(boxes[i][3] * imW)))\n",
        "\n",
        "    # Setting the object name only if the class is a \"Person\"\n",
        "    object_name = \"Person\" if int(classes[i]) == 0 else \"\"\n",
        "\n",
        "    # Drawing bounding box on the image only for label \"Person\"\n",
        "    if object_name == \"Person\":\n",
        "      cv2.rectangle(img, (xmin, ymin), (xmax, ymax), (10, 255, 0), 2)\n",
        "\n",
        "      # Adding label with object name and confidence score\n",
        "      label = '%s: %d%%' % (object_name, int(scores[i]*100))\n",
        "      labelSize, baseLine = cv2.getTextSize(label, cv2.FONT_HERSHEY_SIMPLEX, 0.7, 2)\n",
        "      label_ymin = max(ymin, labelSize[1] + 10)\n",
        "\n",
        "      # Drawing filled rectangle as background for label\n",
        "      cv2.rectangle(img, (xmin, label_ymin-labelSize[1]-10), (xmin+labelSize[0], label_ymin+baseLine-10), (255, 255, 255), cv2.FILLED)\n",
        "\n",
        "      # Adding text label to the image\n",
        "      cv2.putText(img, label, (xmin, label_ymin-7), cv2.FONT_HERSHEY_SIMPLEX, 0.7, (0, 0, 0), 2)\n",
        "\n",
        "      # Appending detection results to the list\n",
        "      detections.append([object_name, scores[i], xmin, ymin, xmax, ymax])\n"
      ]
    },
    {
      "cell_type": "code",
      "execution_count": null,
      "metadata": {
        "colab": {
          "base_uri": "https://localhost:8080/",
          "height": 242
        },
        "id": "rzX131gCjWqz",
        "outputId": "6ee12802-1536-4151-8e4e-aa4128498034"
      },
      "outputs": [],
      "source": [
        "# Displaying the image using cv2_imshow in the Colab environment\n",
        "cv2_imshow(img)"
      ]
    }
  ],
  "metadata": {
    "colab": {
      "provenance": []
    },
    "kernelspec": {
      "display_name": "Python 3",
      "name": "python3"
    },
    "language_info": {
      "codemirror_mode": {
        "name": "ipython",
        "version": 3
      },
      "file_extension": ".py",
      "mimetype": "text/x-python",
      "name": "python",
      "nbconvert_exporter": "python",
      "pygments_lexer": "ipython3",
      "version": "3.11.0"
    }
  },
  "nbformat": 4,
  "nbformat_minor": 0
}
