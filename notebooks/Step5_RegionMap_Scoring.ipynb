{
  "nbformat": 4,
  "nbformat_minor": 0,
  "metadata": {
    "colab": {
      "provenance": []
    },
    "kernelspec": {
      "name": "python3",
      "display_name": "Python 3"
    },
    "language_info": {
      "name": "python"
    }
  },
  "cells": [
    {
      "cell_type": "markdown",
      "source": [
        "# Requirements"
      ],
      "metadata": {
        "id": "KRrX09X_rXDX"
      }
    },
    {
      "cell_type": "code",
      "execution_count": null,
      "metadata": {
        "id": "pp5qdWuGQ8of"
      },
      "outputs": [],
      "source": [
        "%pip install tensorflow numpy opencv-python firebase_admin scipy"
      ]
    },
    {
      "cell_type": "markdown",
      "source": [
        "# Imports"
      ],
      "metadata": {
        "id": "wEPrYBAqrc2Q"
      }
    },
    {
      "cell_type": "code",
      "source": [
        "import firebase_admin\n",
        "from firebase_admin import firestore\n",
        "from firebase_admin import credentials\n",
        "from google.cloud.firestore_v1.base_query import FieldFilter\n",
        "\n",
        "import numpy as np\n",
        "from itertools import combinations\n",
        "from scipy.spatial import ConvexHull"
      ],
      "metadata": {
        "id": "o9sU6O8MRv3b"
      },
      "execution_count": 17,
      "outputs": []
    },
    {
      "cell_type": "markdown",
      "source": [
        "# Connect with Firestore"
      ],
      "metadata": {
        "id": "dYP4gjT0r0Zw"
      }
    },
    {
      "cell_type": "code",
      "source": [
        "CRED = \"path/to/key\""
      ],
      "metadata": {
        "id": "fQy9Sg9IT-Ju"
      },
      "execution_count": 4,
      "outputs": []
    },
    {
      "cell_type": "code",
      "source": [
        "cred = credentials.Certificate(CRED)\n",
        "firebase_admin.initialize_app(cred)"
      ],
      "metadata": {
        "id": "OARLRRN3Urnp"
      },
      "execution_count": null,
      "outputs": []
    },
    {
      "cell_type": "code",
      "source": [
        "db = firestore.client()"
      ],
      "metadata": {
        "id": "AxM0w24sUtcp"
      },
      "execution_count": 6,
      "outputs": []
    },
    {
      "cell_type": "markdown",
      "source": [
        "# Utils"
      ],
      "metadata": {
        "id": "Skh_Qfmcrvvl"
      }
    },
    {
      "cell_type": "code",
      "source": [
        "def calculate_convex_hull_area(coords):\n",
        "    hull = ConvexHull(coords)\n",
        "    return hull.area"
      ],
      "metadata": {
        "id": "oMqMbXOnUu1g"
      },
      "execution_count": 43,
      "outputs": []
    },
    {
      "cell_type": "code",
      "source": [
        "def get_region_area(coordinates:list):\n",
        "    if len(coordinates) <= 2:\n",
        "      return 0\n",
        "    max_area = 0\n",
        "    # Iterate through all combinations of coordinates\n",
        "    for i in range(len(coordinates), -1,-1):\n",
        "        for comb in combinations(coordinates, i):        # Assuming you want to form a triangle (change to 4 for quadrilateral, etc.)\n",
        "            if not all(c in comb for c in coordinates):  # Skip combinations where not all coordinates are included\n",
        "                continue\n",
        "            area = calculate_convex_hull_area(np.array(comb))\n",
        "            if area > max_area:\n",
        "                max_area = area\n",
        "    return max_area"
      ],
      "metadata": {
        "id": "WmPK2OkXkVf4"
      },
      "execution_count": 44,
      "outputs": []
    },
    {
      "cell_type": "markdown",
      "source": [
        "# Fetching Region Maps"
      ],
      "metadata": {
        "id": "mxqPuVWsr5vG"
      }
    },
    {
      "cell_type": "code",
      "source": [
        "region_maps_ = []\n",
        "region_maps = db.collection('RegionMap').get()"
      ],
      "metadata": {
        "id": "AxHT72ftlBpC"
      },
      "execution_count": 39,
      "outputs": []
    },
    {
      "cell_type": "code",
      "source": [
        "for rm in region_maps:\n",
        "    conv = rm.to_dict()\n",
        "    conv[\"coords\"] = [(coord.latitude, coord.longitude) for coord in conv[\"coords\"]]\n",
        "    conv[\"central_coord\"] = (conv[\"central_coord\"].latitude, conv[\"central_coord\"].longitude)\n",
        "    region_maps_.append(conv)"
      ],
      "metadata": {
        "id": "3ZpD3Il1mHRA"
      },
      "execution_count": 40,
      "outputs": []
    },
    {
      "cell_type": "markdown",
      "source": [
        "# Calculating Convex Hull Area"
      ],
      "metadata": {
        "id": "NGSZaJWFr-Vt"
      }
    },
    {
      "cell_type": "code",
      "source": [
        "cc_max_area_pair = []\n",
        "for i in region_maps_:\n",
        "    cc_max_area_pair.append((i[\"central_coord\"], get_region_area(i[\"coords\"])))"
      ],
      "metadata": {
        "id": "oBLwf1YJpuB1"
      },
      "execution_count": 45,
      "outputs": []
    }
  ]
}