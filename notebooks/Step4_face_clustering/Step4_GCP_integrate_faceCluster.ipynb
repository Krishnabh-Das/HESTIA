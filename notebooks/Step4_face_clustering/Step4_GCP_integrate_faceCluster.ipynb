{
 "cells": [
  {
   "cell_type": "markdown",
   "metadata": {},
   "source": [
    "## Requirements"
   ]
  },
  {
   "cell_type": "code",
   "execution_count": 1,
   "metadata": {},
   "outputs": [
    {
     "name": "stdout",
     "output_type": "stream",
     "text": [
      "Requirement already satisfied: google-cloud-bigquery in c:\\python311\\lib\\site-packages (3.17.2)\n",
      "Requirement already satisfied: db-dtypes in c:\\python311\\lib\\site-packages (1.2.0)\n",
      "Requirement already satisfied: google-api-core!=2.0.*,!=2.1.*,!=2.2.*,!=2.3.0,<3.0.0dev,>=1.31.5 in c:\\python311\\lib\\site-packages (from google-cloud-bigquery) (2.17.0)\n",
      "Requirement already satisfied: google-cloud-core<3.0.0dev,>=1.6.0 in c:\\python311\\lib\\site-packages (from google-cloud-bigquery) (2.4.1)\n",
      "Requirement already satisfied: google-resumable-media<3.0dev,>=0.6.0 in c:\\python311\\lib\\site-packages (from google-cloud-bigquery) (2.7.0)\n",
      "Requirement already satisfied: packaging>=20.0.0 in c:\\python311\\lib\\site-packages (from google-cloud-bigquery) (23.2)\n",
      "Requirement already satisfied: python-dateutil<3.0dev,>=2.7.2 in c:\\users\\parth\\appdata\\roaming\\python\\python311\\site-packages (from google-cloud-bigquery) (2.8.2)\n",
      "Requirement already satisfied: requests<3.0.0dev,>=2.21.0 in c:\\python311\\lib\\site-packages (from google-cloud-bigquery) (2.31.0)\n",
      "Requirement already satisfied: pandas>=0.24.2 in c:\\python311\\lib\\site-packages (from db-dtypes) (1.5.3)\n",
      "Requirement already satisfied: pyarrow>=3.0.0 in c:\\python311\\lib\\site-packages (from db-dtypes) (11.0.0)\n",
      "Requirement already satisfied: numpy>=1.16.6 in c:\\python311\\lib\\site-packages (from db-dtypes) (1.26.4)\n",
      "Requirement already satisfied: googleapis-common-protos<2.0.dev0,>=1.56.2 in c:\\python311\\lib\\site-packages (from google-api-core!=2.0.*,!=2.1.*,!=2.2.*,!=2.3.0,<3.0.0dev,>=1.31.5->google-cloud-bigquery) (1.62.0)\n",
      "Requirement already satisfied: protobuf!=3.20.0,!=3.20.1,!=4.21.0,!=4.21.1,!=4.21.2,!=4.21.3,!=4.21.4,!=4.21.5,<5.0.0.dev0,>=3.19.5 in c:\\python311\\lib\\site-packages (from google-api-core!=2.0.*,!=2.1.*,!=2.2.*,!=2.3.0,<3.0.0dev,>=1.31.5->google-cloud-bigquery) (4.22.0)\n",
      "Requirement already satisfied: google-auth<3.0.dev0,>=2.14.1 in c:\\python311\\lib\\site-packages (from google-api-core!=2.0.*,!=2.1.*,!=2.2.*,!=2.3.0,<3.0.0dev,>=1.31.5->google-cloud-bigquery) (2.27.0)\n",
      "Requirement already satisfied: google-crc32c<2.0dev,>=1.0 in c:\\python311\\lib\\site-packages (from google-resumable-media<3.0dev,>=0.6.0->google-cloud-bigquery) (1.5.0)\n",
      "Requirement already satisfied: pytz>=2020.1 in c:\\python311\\lib\\site-packages (from pandas>=0.24.2->db-dtypes) (2022.7.1)\n",
      "Requirement already satisfied: six>=1.5 in c:\\python311\\lib\\site-packages (from python-dateutil<3.0dev,>=2.7.2->google-cloud-bigquery) (1.16.0)\n",
      "Requirement already satisfied: charset-normalizer<4,>=2 in c:\\python311\\lib\\site-packages (from requests<3.0.0dev,>=2.21.0->google-cloud-bigquery) (3.3.2)\n",
      "Requirement already satisfied: idna<4,>=2.5 in c:\\python311\\lib\\site-packages (from requests<3.0.0dev,>=2.21.0->google-cloud-bigquery) (3.4)\n",
      "Requirement already satisfied: urllib3<3,>=1.21.1 in c:\\python311\\lib\\site-packages (from requests<3.0.0dev,>=2.21.0->google-cloud-bigquery) (1.26.18)\n",
      "Requirement already satisfied: certifi>=2017.4.17 in c:\\python311\\lib\\site-packages (from requests<3.0.0dev,>=2.21.0->google-cloud-bigquery) (2024.2.2)\n",
      "Requirement already satisfied: cachetools<6.0,>=2.0.0 in c:\\python311\\lib\\site-packages (from google-auth<3.0.dev0,>=2.14.1->google-api-core!=2.0.*,!=2.1.*,!=2.2.*,!=2.3.0,<3.0.0dev,>=1.31.5->google-cloud-bigquery) (5.3.0)\n",
      "Requirement already satisfied: pyasn1-modules>=0.2.1 in c:\\python311\\lib\\site-packages (from google-auth<3.0.dev0,>=2.14.1->google-api-core!=2.0.*,!=2.1.*,!=2.2.*,!=2.3.0,<3.0.0dev,>=1.31.5->google-cloud-bigquery) (0.2.8)\n",
      "Requirement already satisfied: rsa<5,>=3.1.4 in c:\\python311\\lib\\site-packages (from google-auth<3.0.dev0,>=2.14.1->google-api-core!=2.0.*,!=2.1.*,!=2.2.*,!=2.3.0,<3.0.0dev,>=1.31.5->google-cloud-bigquery) (4.9)\n",
      "Requirement already satisfied: pyasn1<0.5.0,>=0.4.6 in c:\\python311\\lib\\site-packages (from pyasn1-modules>=0.2.1->google-auth<3.0.dev0,>=2.14.1->google-api-core!=2.0.*,!=2.1.*,!=2.2.*,!=2.3.0,<3.0.0dev,>=1.31.5->google-cloud-bigquery) (0.4.8)\n",
      "Note: you may need to restart the kernel to use updated packages.\n"
     ]
    },
    {
     "name": "stderr",
     "output_type": "stream",
     "text": [
      "DEPRECATION: Loading egg at c:\\python311\\lib\\site-packages\\mask_rcnn-2.1-py3.11.egg is deprecated. pip 24.3 will enforce this behaviour change. A possible replacement is to use pip for package installation.. Discussion can be found at https://github.com/pypa/pip/issues/12330\n"
     ]
    }
   ],
   "source": [
    "%pip install --upgrade google-cloud-bigquery db-dtypes"
   ]
  },
  {
   "cell_type": "markdown",
   "metadata": {},
   "source": [
    "## Imports"
   ]
  },
  {
   "cell_type": "code",
   "execution_count": 2,
   "metadata": {},
   "outputs": [],
   "source": [
    "import os\n",
    "from pprint import pprint\n",
    "\n",
    "import pandas as pd\n",
    "from google.cloud import bigquery\n",
    "\n",
    "from face_cluser import FaceCluster"
   ]
  },
  {
   "cell_type": "markdown",
   "metadata": {},
   "source": [
    "## Parameters"
   ]
  },
  {
   "cell_type": "code",
   "execution_count": 3,
   "metadata": {},
   "outputs": [],
   "source": [
    "os.environ['GOOGLE_APPLICATION_CREDENTIALS'] = '../keys/detectionKey.json'"
   ]
  },
  {
   "cell_type": "markdown",
   "metadata": {},
   "source": [
    "## Init"
   ]
  },
  {
   "cell_type": "code",
   "execution_count": 4,
   "metadata": {},
   "outputs": [
    {
     "name": "stderr",
     "output_type": "stream",
     "text": [
      "DEBUG:google.auth._default:Checking ../keys/detectionKey.json for explicit credentials as part of auth process...\n",
      "DEBUG:google.auth._default:Checking ../keys/detectionKey.json for explicit credentials as part of auth process...\n"
     ]
    }
   ],
   "source": [
    "client = bigquery.Client()"
   ]
  },
  {
   "cell_type": "markdown",
   "metadata": {},
   "source": [
    "### retrival"
   ]
  },
  {
   "cell_type": "code",
   "execution_count": 4,
   "metadata": {},
   "outputs": [],
   "source": [
    "sql_query = \"\"\"\n",
    "SELECT * FROM `plenary-truck-411220.clustering_dataset.faces`\n",
    "\"\"\""
   ]
  },
  {
   "cell_type": "code",
   "execution_count": 5,
   "metadata": {},
   "outputs": [
    {
     "name": "stderr",
     "output_type": "stream",
     "text": [
      "DEBUG:urllib3.util.retry:Converted retries value: 3 -> Retry(total=3, connect=None, read=None, redirect=None, status=None)\n",
      "DEBUG:google.auth.transport.requests:Making request: POST https://oauth2.googleapis.com/token\n",
      "DEBUG:urllib3.connectionpool:Starting new HTTPS connection (1): oauth2.googleapis.com:443\n",
      "DEBUG:urllib3.connectionpool:https://oauth2.googleapis.com:443 \"POST /token HTTP/1.1\" 200 None\n",
      "DEBUG:urllib3.connectionpool:Starting new HTTPS connection (1): bigquery.googleapis.com:443\n",
      "DEBUG:urllib3.connectionpool:https://bigquery.googleapis.com:443 \"POST /bigquery/v2/projects/plenary-truck-411220/jobs?prettyPrint=false HTTP/1.1\" 200 None\n",
      "DEBUG:urllib3.connectionpool:https://bigquery.googleapis.com:443 \"GET /bigquery/v2/projects/plenary-truck-411220/queries/523f14b7-8d5e-4e01-a00c-2d5bf0f49cc4?maxResults=0&location=asia-south1&prettyPrint=false HTTP/1.1\" 200 None\n",
      "DEBUG:urllib3.connectionpool:https://bigquery.googleapis.com:443 \"GET /bigquery/v2/projects/plenary-truck-411220/queries/523f14b7-8d5e-4e01-a00c-2d5bf0f49cc4?fields=jobReference%2CtotalRows%2CpageToken%2Crows&location=asia-south1&formatOptions.useInt64Timestamp=True&prettyPrint=false HTTP/1.1\" 200 None\n"
     ]
    }
   ],
   "source": [
    "df = client.query(sql_query).result().to_dataframe()"
   ]
  },
  {
   "cell_type": "markdown",
   "metadata": {},
   "source": [
    "## cluster"
   ]
  },
  {
   "cell_type": "code",
   "execution_count": 6,
   "metadata": {},
   "outputs": [],
   "source": [
    "data = FaceCluster()"
   ]
  },
  {
   "cell_type": "code",
   "execution_count": 7,
   "metadata": {},
   "outputs": [
    {
     "name": "stderr",
     "output_type": "stream",
     "text": [
      "DEBUG:Utils.loggerHelper:<class 'pandas.core.frame.DataFrame'>\n",
      "INFO:Utils.loggerHelper:Quantifying faces...\n",
      "DEBUG:Utils.loggerHelper:Images loaded: 68\n",
      "DEBUG:Utils.loggerHelper:Processing image 1/68\n",
      "DEBUG:Utils.loggerHelper:https://storage.googleapis.com/faces_for_clusters/CroppedImages/1705263539822_3.png\n",
      "DEBUG:urllib3.connectionpool:Starting new HTTPS connection (1): storage.googleapis.com:443\n",
      "DEBUG:urllib3.connectionpool:https://storage.googleapis.com:443 \"GET /faces_for_clusters/CroppedImages/1705263539822_3.png HTTP/1.1\" 200 92363\n",
      "DEBUG:Utils.loggerHelper:Processing image 2/68\n",
      "DEBUG:Utils.loggerHelper:https://storage.googleapis.com/faces_for_clusters/CroppedImages/1706607904499_2.png\n",
      "DEBUG:urllib3.connectionpool:Starting new HTTPS connection (1): storage.googleapis.com:443\n",
      "DEBUG:urllib3.connectionpool:https://storage.googleapis.com:443 \"GET /faces_for_clusters/CroppedImages/1706607904499_2.png HTTP/1.1\" 200 130436\n"
     ]
    },
    {
     "ename": "KeyboardInterrupt",
     "evalue": "",
     "output_type": "error",
     "traceback": [
      "\u001b[1;31m---------------------------------------------------------------------------\u001b[0m",
      "\u001b[1;31mKeyboardInterrupt\u001b[0m                         Traceback (most recent call last)",
      "Cell \u001b[1;32mIn[7], line 1\u001b[0m\n\u001b[1;32m----> 1\u001b[0m res \u001b[39m=\u001b[39m data\u001b[39m.\u001b[39;49mgetClusters(dataset\u001b[39m=\u001b[39;49mdf)\n",
      "File \u001b[1;32md:\\Google Solution - Hestia\\Forks\\HESTIA\\notebooks\\Step4_face_clustering\\face_cluser.py:401\u001b[0m, in \u001b[0;36mFaceCluster.getClusters\u001b[1;34m(self, dataset)\u001b[0m\n\u001b[0;32m    399\u001b[0m     logger\u001b[39m.\u001b[39minfo(\u001b[39m\"\u001b[39m\u001b[39mReceived local filesystem dataset.\u001b[39m\u001b[39m\"\u001b[39m)\n\u001b[0;32m    400\u001b[0m \u001b[39melif\u001b[39;00m \u001b[39mtype\u001b[39m(dataset) \u001b[39m==\u001b[39m DataFrame:\n\u001b[1;32m--> 401\u001b[0m     \u001b[39mself\u001b[39m\u001b[39m.\u001b[39mencodings \u001b[39m=\u001b[39m \u001b[39mself\u001b[39;49m\u001b[39m.\u001b[39;49mgetEncodingsFromDf(dataset\u001b[39m=\u001b[39;49mdataset)\n\u001b[0;32m    402\u001b[0m     logger\u001b[39m.\u001b[39minfo(\u001b[39m\"\u001b[39m\u001b[39mReceived df dataset.\u001b[39m\u001b[39m\"\u001b[39m)\n\u001b[0;32m    403\u001b[0m \u001b[39mtry\u001b[39;00m:\n",
      "File \u001b[1;32md:\\Google Solution - Hestia\\Forks\\HESTIA\\notebooks\\Step4_face_clustering\\face_cluser.py:361\u001b[0m, in \u001b[0;36mFaceCluster.getEncodingsFromDf\u001b[1;34m(self, dataset, detection_method)\u001b[0m\n\u001b[0;32m    359\u001b[0m image \u001b[39m=\u001b[39m \u001b[39mself\u001b[39m\u001b[39m.\u001b[39mface_align_df(imagePath)\n\u001b[0;32m    360\u001b[0m \u001b[39mtry\u001b[39;00m:\n\u001b[1;32m--> 361\u001b[0m     boxes \u001b[39m=\u001b[39m face_recognition\u001b[39m.\u001b[39;49mface_locations(image, model\u001b[39m=\u001b[39;49mdetection_method)\n\u001b[0;32m    363\u001b[0m     encodings \u001b[39m=\u001b[39m face_recognition\u001b[39m.\u001b[39mface_encodings(image, boxes)\n\u001b[0;32m    365\u001b[0m     d \u001b[39m=\u001b[39m [\n\u001b[0;32m    366\u001b[0m         {\n\u001b[0;32m    367\u001b[0m             \u001b[39m\"\u001b[39m\u001b[39mimagePath\u001b[39m\u001b[39m\"\u001b[39m: imagePath,\n\u001b[1;32m   (...)\u001b[0m\n\u001b[0;32m    372\u001b[0m         \u001b[39mfor\u001b[39;00m (box, enc) \u001b[39min\u001b[39;00m \u001b[39mzip\u001b[39m(boxes, encodings)\n\u001b[0;32m    373\u001b[0m     ]\n",
      "File \u001b[1;32mc:\\Python311\\Lib\\site-packages\\face_recognition\\api.py:119\u001b[0m, in \u001b[0;36mface_locations\u001b[1;34m(img, number_of_times_to_upsample, model)\u001b[0m\n\u001b[0;32m    109\u001b[0m \u001b[39m\u001b[39m\u001b[39m\"\"\"\u001b[39;00m\n\u001b[0;32m    110\u001b[0m \u001b[39mReturns an array of bounding boxes of human faces in a image\u001b[39;00m\n\u001b[0;32m    111\u001b[0m \n\u001b[1;32m   (...)\u001b[0m\n\u001b[0;32m    116\u001b[0m \u001b[39m:return: A list of tuples of found face locations in css (top, right, bottom, left) order\u001b[39;00m\n\u001b[0;32m    117\u001b[0m \u001b[39m\"\"\"\u001b[39;00m\n\u001b[0;32m    118\u001b[0m \u001b[39mif\u001b[39;00m model \u001b[39m==\u001b[39m \u001b[39m\"\u001b[39m\u001b[39mcnn\u001b[39m\u001b[39m\"\u001b[39m:\n\u001b[1;32m--> 119\u001b[0m     \u001b[39mreturn\u001b[39;00m [_trim_css_to_bounds(_rect_to_css(face\u001b[39m.\u001b[39;49mrect), img\u001b[39m.\u001b[39;49mshape) \u001b[39mfor\u001b[39;49;00m face \u001b[39min\u001b[39;49;00m _raw_face_locations(img, number_of_times_to_upsample, \u001b[39m\"\u001b[39;49m\u001b[39mcnn\u001b[39;49m\u001b[39m\"\u001b[39;49m)]\n\u001b[0;32m    120\u001b[0m \u001b[39melse\u001b[39;00m:\n\u001b[0;32m    121\u001b[0m     \u001b[39mreturn\u001b[39;00m [_trim_css_to_bounds(_rect_to_css(face), img\u001b[39m.\u001b[39mshape) \u001b[39mfor\u001b[39;00m face \u001b[39min\u001b[39;00m _raw_face_locations(img, number_of_times_to_upsample, model)]\n",
      "File \u001b[1;32mc:\\Python311\\Lib\\site-packages\\face_recognition\\api.py:119\u001b[0m, in \u001b[0;36m<listcomp>\u001b[1;34m(.0)\u001b[0m\n\u001b[0;32m    109\u001b[0m \u001b[39m\u001b[39m\u001b[39m\"\"\"\u001b[39;00m\n\u001b[0;32m    110\u001b[0m \u001b[39mReturns an array of bounding boxes of human faces in a image\u001b[39;00m\n\u001b[0;32m    111\u001b[0m \n\u001b[1;32m   (...)\u001b[0m\n\u001b[0;32m    116\u001b[0m \u001b[39m:return: A list of tuples of found face locations in css (top, right, bottom, left) order\u001b[39;00m\n\u001b[0;32m    117\u001b[0m \u001b[39m\"\"\"\u001b[39;00m\n\u001b[0;32m    118\u001b[0m \u001b[39mif\u001b[39;00m model \u001b[39m==\u001b[39m \u001b[39m\"\u001b[39m\u001b[39mcnn\u001b[39m\u001b[39m\"\u001b[39m:\n\u001b[1;32m--> 119\u001b[0m     \u001b[39mreturn\u001b[39;00m [_trim_css_to_bounds(_rect_to_css(face\u001b[39m.\u001b[39mrect), img\u001b[39m.\u001b[39mshape) \u001b[39mfor\u001b[39;00m face \u001b[39min\u001b[39;00m _raw_face_locations(img, number_of_times_to_upsample, \u001b[39m\"\u001b[39m\u001b[39mcnn\u001b[39m\u001b[39m\"\u001b[39m)]\n\u001b[0;32m    120\u001b[0m \u001b[39melse\u001b[39;00m:\n\u001b[0;32m    121\u001b[0m     \u001b[39mreturn\u001b[39;00m [_trim_css_to_bounds(_rect_to_css(face), img\u001b[39m.\u001b[39mshape) \u001b[39mfor\u001b[39;00m face \u001b[39min\u001b[39;00m _raw_face_locations(img, number_of_times_to_upsample, model)]\n",
      "\u001b[1;31mKeyboardInterrupt\u001b[0m: "
     ]
    }
   ],
   "source": [
    "res = data.getClusters(dataset=df)"
   ]
  },
  {
   "cell_type": "code",
   "execution_count": 5,
   "metadata": {},
   "outputs": [],
   "source": [
    "res = {'-1': ['1704701781090_0',\n",
    "  '1705931867687_1',\n",
    "  '1703711347601_1',\n",
    "  '1703711347601_0',\n",
    "  '1705263539822_0',\n",
    "  '1707580020676_1',\n",
    "  '1703706346466_1',\n",
    "  '1705263475803_1',\n",
    "  '1706605197792_0',\n",
    "  '1707580020676_2',\n",
    "  '1706605305009_1',\n",
    "  '1705931867687_0',\n",
    "  '1705263475803_0',\n",
    "  '1703749145245_3',\n",
    "  '1703059580160_0',\n",
    "  '1706607863159_1',\n",
    "  '1703706346466_0',\n",
    "  '1705499593272_1',\n",
    "  '1705931867687_2',\n",
    "  '1705499593272_0',\n",
    "  '1706605249930_1'],\n",
    " '0': ['1706605355095_2',\n",
    "  '1705263539822_3',\n",
    "  '1706605355095_0',\n",
    "  '1706607904499_2',\n",
    "  '1706607904499_0']}"
   ]
  },
  {
   "cell_type": "code",
   "execution_count": 6,
   "metadata": {},
   "outputs": [
    {
     "name": "stderr",
     "output_type": "stream",
     "text": [
      "DEBUG:urllib3.util.retry:Converted retries value: 3 -> Retry(total=3, connect=None, read=None, redirect=None, status=None)\n",
      "DEBUG:google.auth.transport.requests:Making request: POST https://oauth2.googleapis.com/token\n",
      "DEBUG:urllib3.connectionpool:Starting new HTTPS connection (1): oauth2.googleapis.com:443\n",
      "DEBUG:urllib3.connectionpool:https://oauth2.googleapis.com:443 \"POST /token HTTP/1.1\" 200 None\n",
      "DEBUG:urllib3.connectionpool:Starting new HTTPS connection (1): bigquery.googleapis.com:443\n",
      "DEBUG:urllib3.connectionpool:https://bigquery.googleapis.com:443 \"POST /bigquery/v2/projects/plenary-truck-411220/jobs?prettyPrint=false HTTP/1.1\" 200 None\n"
     ]
    }
   ],
   "source": [
    "for cluster_id in res.keys():\n",
    "    if (cluster_id != '-1'):\n",
    "        update_query = f\"\"\"\n",
    "            UPDATE `plenary-truck-411220.clustering_dataset.faces` SET cluster={int(cluster_id)}\n",
    "            WHERE markedId IN {tuple(res[cluster_id])}\n",
    "        \"\"\"\n",
    "        ans = client.query(update_query)"
   ]
  },
  {
   "cell_type": "code",
   "execution_count": 7,
   "metadata": {},
   "outputs": [
    {
     "name": "stderr",
     "output_type": "stream",
     "text": [
      "DEBUG:urllib3.connectionpool:https://bigquery.googleapis.com:443 \"POST /bigquery/v2/projects/plenary-truck-411220/jobs?prettyPrint=false HTTP/1.1\" 200 None\n",
      "DEBUG:urllib3.connectionpool:https://bigquery.googleapis.com:443 \"GET /bigquery/v2/projects/plenary-truck-411220/queries/e4784557-f09e-4c6e-876f-73677bb07115?maxResults=0&location=asia-south1&prettyPrint=false HTTP/1.1\" 200 None\n",
      "DEBUG:urllib3.connectionpool:https://bigquery.googleapis.com:443 \"GET /bigquery/v2/projects/plenary-truck-411220/queries/e4784557-f09e-4c6e-876f-73677bb07115?fields=jobReference%2CtotalRows%2CpageToken%2Crows&location=asia-south1&formatOptions.useInt64Timestamp=True&prettyPrint=false HTTP/1.1\" 200 None\n"
     ]
    }
   ],
   "source": [
    "sql_query = \"\"\"\n",
    "        SELECT * FROM `plenary-truck-411220.clustering_dataset.faces`\n",
    "    \"\"\"\n",
    "df_new = client.query(sql_query).result().to_dataframe().fillna(-1)"
   ]
  },
  {
   "cell_type": "code",
   "execution_count": 8,
   "metadata": {},
   "outputs": [
    {
     "data": {
      "text/html": [
       "<div>\n",
       "<style scoped>\n",
       "    .dataframe tbody tr th:only-of-type {\n",
       "        vertical-align: middle;\n",
       "    }\n",
       "\n",
       "    .dataframe tbody tr th {\n",
       "        vertical-align: top;\n",
       "    }\n",
       "\n",
       "    .dataframe thead th {\n",
       "        text-align: right;\n",
       "    }\n",
       "</style>\n",
       "<table border=\"1\" class=\"dataframe\">\n",
       "  <thead>\n",
       "    <tr style=\"text-align: right;\">\n",
       "      <th></th>\n",
       "      <th>markedId</th>\n",
       "      <th>gcsUrl</th>\n",
       "      <th>createdAt</th>\n",
       "      <th>cluster</th>\n",
       "    </tr>\n",
       "  </thead>\n",
       "  <tbody>\n",
       "    <tr>\n",
       "      <th>0</th>\n",
       "      <td>1705263539822_3</td>\n",
       "      <td>https://storage.googleapis.com/faces_for_clust...</td>\n",
       "      <td>2024-01-14 20:18:59.822660+00:00</td>\n",
       "      <td>0</td>\n",
       "    </tr>\n",
       "    <tr>\n",
       "      <th>1</th>\n",
       "      <td>1706607904499_0</td>\n",
       "      <td>https://storage.googleapis.com/faces_for_clust...</td>\n",
       "      <td>2024-01-30 09:45:04.499790+00:00</td>\n",
       "      <td>0</td>\n",
       "    </tr>\n",
       "    <tr>\n",
       "      <th>2</th>\n",
       "      <td>1706607904499_2</td>\n",
       "      <td>https://storage.googleapis.com/faces_for_clust...</td>\n",
       "      <td>2024-01-30 09:45:04.499790+00:00</td>\n",
       "      <td>0</td>\n",
       "    </tr>\n",
       "    <tr>\n",
       "      <th>3</th>\n",
       "      <td>1706605355095_0</td>\n",
       "      <td>https://storage.googleapis.com/faces_for_clust...</td>\n",
       "      <td>2024-01-30 09:02:35.095950+00:00</td>\n",
       "      <td>0</td>\n",
       "    </tr>\n",
       "    <tr>\n",
       "      <th>4</th>\n",
       "      <td>1706605355095_2</td>\n",
       "      <td>https://storage.googleapis.com/faces_for_clust...</td>\n",
       "      <td>2024-01-30 09:02:35.095950+00:00</td>\n",
       "      <td>0</td>\n",
       "    </tr>\n",
       "    <tr>\n",
       "      <th>...</th>\n",
       "      <td>...</td>\n",
       "      <td>...</td>\n",
       "      <td>...</td>\n",
       "      <td>...</td>\n",
       "    </tr>\n",
       "    <tr>\n",
       "      <th>63</th>\n",
       "      <td>1703059580160_0</td>\n",
       "      <td>https://storage.googleapis.com/faces_for_clust...</td>\n",
       "      <td>2023-12-20 08:06:20.160494+00:00</td>\n",
       "      <td>-1</td>\n",
       "    </tr>\n",
       "    <tr>\n",
       "      <th>64</th>\n",
       "      <td>1703711347601_1</td>\n",
       "      <td>https://storage.googleapis.com/faces_for_clust...</td>\n",
       "      <td>2023-12-27 21:09:07.601908+00:00</td>\n",
       "      <td>-1</td>\n",
       "    </tr>\n",
       "    <tr>\n",
       "      <th>65</th>\n",
       "      <td>1703711347601_0</td>\n",
       "      <td>https://storage.googleapis.com/faces_for_clust...</td>\n",
       "      <td>2023-12-27 21:09:07.601908+00:00</td>\n",
       "      <td>-1</td>\n",
       "    </tr>\n",
       "    <tr>\n",
       "      <th>66</th>\n",
       "      <td>1706605249930_1</td>\n",
       "      <td>https://storage.googleapis.com/faces_for_clust...</td>\n",
       "      <td>2024-01-30 09:00:49.930495+00:00</td>\n",
       "      <td>-1</td>\n",
       "    </tr>\n",
       "    <tr>\n",
       "      <th>67</th>\n",
       "      <td>1706605249930_0</td>\n",
       "      <td>https://storage.googleapis.com/faces_for_clust...</td>\n",
       "      <td>2024-01-30 09:00:49.930495+00:00</td>\n",
       "      <td>-1</td>\n",
       "    </tr>\n",
       "  </tbody>\n",
       "</table>\n",
       "<p>68 rows × 4 columns</p>\n",
       "</div>"
      ],
      "text/plain": [
       "           markedId                                             gcsUrl  \\\n",
       "0   1705263539822_3  https://storage.googleapis.com/faces_for_clust...   \n",
       "1   1706607904499_0  https://storage.googleapis.com/faces_for_clust...   \n",
       "2   1706607904499_2  https://storage.googleapis.com/faces_for_clust...   \n",
       "3   1706605355095_0  https://storage.googleapis.com/faces_for_clust...   \n",
       "4   1706605355095_2  https://storage.googleapis.com/faces_for_clust...   \n",
       "..              ...                                                ...   \n",
       "63  1703059580160_0  https://storage.googleapis.com/faces_for_clust...   \n",
       "64  1703711347601_1  https://storage.googleapis.com/faces_for_clust...   \n",
       "65  1703711347601_0  https://storage.googleapis.com/faces_for_clust...   \n",
       "66  1706605249930_1  https://storage.googleapis.com/faces_for_clust...   \n",
       "67  1706605249930_0  https://storage.googleapis.com/faces_for_clust...   \n",
       "\n",
       "                          createdAt  cluster  \n",
       "0  2024-01-14 20:18:59.822660+00:00        0  \n",
       "1  2024-01-30 09:45:04.499790+00:00        0  \n",
       "2  2024-01-30 09:45:04.499790+00:00        0  \n",
       "3  2024-01-30 09:02:35.095950+00:00        0  \n",
       "4  2024-01-30 09:02:35.095950+00:00        0  \n",
       "..                              ...      ...  \n",
       "63 2023-12-20 08:06:20.160494+00:00       -1  \n",
       "64 2023-12-27 21:09:07.601908+00:00       -1  \n",
       "65 2023-12-27 21:09:07.601908+00:00       -1  \n",
       "66 2024-01-30 09:00:49.930495+00:00       -1  \n",
       "67 2024-01-30 09:00:49.930495+00:00       -1  \n",
       "\n",
       "[68 rows x 4 columns]"
      ]
     },
     "execution_count": 8,
     "metadata": {},
     "output_type": "execute_result"
    }
   ],
   "source": [
    "df_new"
   ]
  }
 ],
 "metadata": {
  "kernelspec": {
   "display_name": "Hestia2",
   "language": "python",
   "name": "python3"
  },
  "language_info": {
   "codemirror_mode": {
    "name": "ipython",
    "version": 3
   },
   "file_extension": ".py",
   "mimetype": "text/x-python",
   "name": "python",
   "nbconvert_exporter": "python",
   "pygments_lexer": "ipython3",
   "version": "3.11.0"
  }
 },
 "nbformat": 4,
 "nbformat_minor": 2
}
