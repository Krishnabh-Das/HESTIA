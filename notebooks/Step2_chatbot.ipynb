{
 "cells": [
  {
   "cell_type": "markdown",
   "metadata": {},
   "source": [
    "## Requirements"
   ]
  },
  {
   "cell_type": "code",
   "execution_count": 1,
   "metadata": {
    "vscode": {
     "languageId": "bat"
    }
   },
   "outputs": [
    {
     "name": "stdout",
     "output_type": "stream",
     "text": [
      "Requirement already satisfied: pypdf in /home/spritan/.conda/envs/HESTIA/lib/python3.11/site-packages (3.17.4)\n",
      "Note: you may need to restart the kernel to use updated packages.\n",
      "Requirement already satisfied: pandas in /home/spritan/.conda/envs/HESTIA/lib/python3.11/site-packages (2.1.4)\n",
      "Requirement already satisfied: numpy<2,>=1.23.2 in /home/spritan/.conda/envs/HESTIA/lib/python3.11/site-packages (from pandas) (1.26.3)\n",
      "Requirement already satisfied: python-dateutil>=2.8.2 in /home/spritan/.conda/envs/HESTIA/lib/python3.11/site-packages (from pandas) (2.8.2)\n",
      "Requirement already satisfied: pytz>=2020.1 in /home/spritan/.conda/envs/HESTIA/lib/python3.11/site-packages (from pandas) (2023.3.post1)\n",
      "Requirement already satisfied: tzdata>=2022.1 in /home/spritan/.conda/envs/HESTIA/lib/python3.11/site-packages (from pandas) (2023.4)\n",
      "Requirement already satisfied: six>=1.5 in /home/spritan/.conda/envs/HESTIA/lib/python3.11/site-packages (from python-dateutil>=2.8.2->pandas) (1.16.0)\n",
      "Note: you may need to restart the kernel to use updated packages.\n",
      "Requirement already satisfied: chromadb in /home/spritan/.conda/envs/HESTIA/lib/python3.11/site-packages (0.4.22)\n",
      "Requirement already satisfied: build>=1.0.3 in /home/spritan/.conda/envs/HESTIA/lib/python3.11/site-packages (from chromadb) (1.0.3)\n",
      "Requirement already satisfied: requests>=2.28 in /home/spritan/.conda/envs/HESTIA/lib/python3.11/site-packages (from chromadb) (2.31.0)\n",
      "Requirement already satisfied: pydantic>=1.9 in /home/spritan/.conda/envs/HESTIA/lib/python3.11/site-packages (from chromadb) (2.5.3)\n",
      "Requirement already satisfied: chroma-hnswlib==0.7.3 in /home/spritan/.conda/envs/HESTIA/lib/python3.11/site-packages (from chromadb) (0.7.3)\n",
      "Requirement already satisfied: fastapi>=0.95.2 in /home/spritan/.conda/envs/HESTIA/lib/python3.11/site-packages (from chromadb) (0.108.0)\n",
      "Requirement already satisfied: uvicorn>=0.18.3 in /home/spritan/.conda/envs/HESTIA/lib/python3.11/site-packages (from uvicorn[standard]>=0.18.3->chromadb) (0.25.0)\n",
      "Requirement already satisfied: numpy>=1.22.5 in /home/spritan/.conda/envs/HESTIA/lib/python3.11/site-packages (from chromadb) (1.26.3)\n",
      "Requirement already satisfied: posthog>=2.4.0 in /home/spritan/.conda/envs/HESTIA/lib/python3.11/site-packages (from chromadb) (3.1.0)\n",
      "Requirement already satisfied: typing-extensions>=4.5.0 in /home/spritan/.conda/envs/HESTIA/lib/python3.11/site-packages (from chromadb) (4.9.0)\n",
      "Requirement already satisfied: pulsar-client>=3.1.0 in /home/spritan/.conda/envs/HESTIA/lib/python3.11/site-packages (from chromadb) (3.4.0)\n",
      "Requirement already satisfied: onnxruntime>=1.14.1 in /home/spritan/.conda/envs/HESTIA/lib/python3.11/site-packages (from chromadb) (1.15.1)\n",
      "Requirement already satisfied: opentelemetry-api>=1.2.0 in /home/spritan/.conda/envs/HESTIA/lib/python3.11/site-packages (from chromadb) (1.22.0)\n",
      "Requirement already satisfied: opentelemetry-exporter-otlp-proto-grpc>=1.2.0 in /home/spritan/.conda/envs/HESTIA/lib/python3.11/site-packages (from chromadb) (1.22.0)\n",
      "Requirement already satisfied: opentelemetry-instrumentation-fastapi>=0.41b0 in /home/spritan/.conda/envs/HESTIA/lib/python3.11/site-packages (from chromadb) (0.43b0)\n",
      "Requirement already satisfied: opentelemetry-sdk>=1.2.0 in /home/spritan/.conda/envs/HESTIA/lib/python3.11/site-packages (from chromadb) (1.22.0)\n",
      "Requirement already satisfied: tokenizers>=0.13.2 in /home/spritan/.conda/envs/HESTIA/lib/python3.11/site-packages (from chromadb) (0.15.0)\n",
      "Requirement already satisfied: pypika>=0.48.9 in /home/spritan/.conda/envs/HESTIA/lib/python3.11/site-packages (from chromadb) (0.48.9)\n",
      "Requirement already satisfied: tqdm>=4.65.0 in /home/spritan/.conda/envs/HESTIA/lib/python3.11/site-packages (from chromadb) (4.66.1)\n",
      "Requirement already satisfied: overrides>=7.3.1 in /home/spritan/.conda/envs/HESTIA/lib/python3.11/site-packages (from chromadb) (7.4.0)\n",
      "Requirement already satisfied: importlib-resources in /home/spritan/.conda/envs/HESTIA/lib/python3.11/site-packages (from chromadb) (6.1.1)\n",
      "Requirement already satisfied: grpcio>=1.58.0 in /home/spritan/.conda/envs/HESTIA/lib/python3.11/site-packages (from chromadb) (1.60.0)\n",
      "Requirement already satisfied: bcrypt>=4.0.1 in /home/spritan/.conda/envs/HESTIA/lib/python3.11/site-packages (from chromadb) (4.1.2)\n",
      "Requirement already satisfied: typer>=0.9.0 in /home/spritan/.conda/envs/HESTIA/lib/python3.11/site-packages (from chromadb) (0.9.0)\n",
      "Requirement already satisfied: kubernetes>=28.1.0 in /home/spritan/.conda/envs/HESTIA/lib/python3.11/site-packages (from chromadb) (28.1.0)\n",
      "Requirement already satisfied: tenacity>=8.2.3 in /home/spritan/.conda/envs/HESTIA/lib/python3.11/site-packages (from chromadb) (8.2.3)\n",
      "Requirement already satisfied: PyYAML>=6.0.0 in /home/spritan/.conda/envs/HESTIA/lib/python3.11/site-packages (from chromadb) (6.0.1)\n",
      "Requirement already satisfied: mmh3>=4.0.1 in /home/spritan/.conda/envs/HESTIA/lib/python3.11/site-packages (from chromadb) (4.0.1)\n",
      "Requirement already satisfied: packaging>=19.0 in /home/spritan/.conda/envs/HESTIA/lib/python3.11/site-packages (from build>=1.0.3->chromadb) (23.2)\n",
      "Requirement already satisfied: pyproject_hooks in /home/spritan/.conda/envs/HESTIA/lib/python3.11/site-packages (from build>=1.0.3->chromadb) (1.0.0)\n",
      "Requirement already satisfied: starlette<0.33.0,>=0.29.0 in /home/spritan/.conda/envs/HESTIA/lib/python3.11/site-packages (from fastapi>=0.95.2->chromadb) (0.32.0.post1)\n",
      "Requirement already satisfied: certifi>=14.05.14 in /home/spritan/.conda/envs/HESTIA/lib/python3.11/site-packages (from kubernetes>=28.1.0->chromadb) (2023.11.17)\n",
      "Requirement already satisfied: six>=1.9.0 in /home/spritan/.conda/envs/HESTIA/lib/python3.11/site-packages (from kubernetes>=28.1.0->chromadb) (1.16.0)\n",
      "Requirement already satisfied: python-dateutil>=2.5.3 in /home/spritan/.conda/envs/HESTIA/lib/python3.11/site-packages (from kubernetes>=28.1.0->chromadb) (2.8.2)\n",
      "Requirement already satisfied: google-auth>=1.0.1 in /home/spritan/.conda/envs/HESTIA/lib/python3.11/site-packages (from kubernetes>=28.1.0->chromadb) (2.26.1)\n",
      "Requirement already satisfied: websocket-client!=0.40.0,!=0.41.*,!=0.42.*,>=0.32.0 in /home/spritan/.conda/envs/HESTIA/lib/python3.11/site-packages (from kubernetes>=28.1.0->chromadb) (1.7.0)\n",
      "Requirement already satisfied: requests-oauthlib in /home/spritan/.conda/envs/HESTIA/lib/python3.11/site-packages (from kubernetes>=28.1.0->chromadb) (1.3.1)\n",
      "Requirement already satisfied: oauthlib>=3.2.2 in /home/spritan/.conda/envs/HESTIA/lib/python3.11/site-packages (from kubernetes>=28.1.0->chromadb) (3.2.2)\n",
      "Requirement already satisfied: urllib3<2.0,>=1.24.2 in /home/spritan/.conda/envs/HESTIA/lib/python3.11/site-packages (from kubernetes>=28.1.0->chromadb) (1.26.18)\n",
      "Requirement already satisfied: coloredlogs in /home/spritan/.conda/envs/HESTIA/lib/python3.11/site-packages (from onnxruntime>=1.14.1->chromadb) (15.0.1)\n",
      "Requirement already satisfied: flatbuffers in /home/spritan/.conda/envs/HESTIA/lib/python3.11/site-packages (from onnxruntime>=1.14.1->chromadb) (23.5.26)\n",
      "Requirement already satisfied: protobuf in /home/spritan/.conda/envs/HESTIA/lib/python3.11/site-packages (from onnxruntime>=1.14.1->chromadb) (4.25.1)\n",
      "Requirement already satisfied: sympy in /home/spritan/.conda/envs/HESTIA/lib/python3.11/site-packages (from onnxruntime>=1.14.1->chromadb) (1.12)\n",
      "Requirement already satisfied: deprecated>=1.2.6 in /home/spritan/.conda/envs/HESTIA/lib/python3.11/site-packages (from opentelemetry-api>=1.2.0->chromadb) (1.2.14)\n",
      "Requirement already satisfied: importlib-metadata<7.0,>=6.0 in /home/spritan/.conda/envs/HESTIA/lib/python3.11/site-packages (from opentelemetry-api>=1.2.0->chromadb) (6.11.0)\n",
      "Requirement already satisfied: backoff<3.0.0,>=1.10.0 in /home/spritan/.conda/envs/HESTIA/lib/python3.11/site-packages (from opentelemetry-exporter-otlp-proto-grpc>=1.2.0->chromadb) (2.2.1)\n",
      "Requirement already satisfied: googleapis-common-protos~=1.52 in /home/spritan/.conda/envs/HESTIA/lib/python3.11/site-packages (from opentelemetry-exporter-otlp-proto-grpc>=1.2.0->chromadb) (1.62.0)\n",
      "Requirement already satisfied: opentelemetry-exporter-otlp-proto-common==1.22.0 in /home/spritan/.conda/envs/HESTIA/lib/python3.11/site-packages (from opentelemetry-exporter-otlp-proto-grpc>=1.2.0->chromadb) (1.22.0)\n",
      "Requirement already satisfied: opentelemetry-proto==1.22.0 in /home/spritan/.conda/envs/HESTIA/lib/python3.11/site-packages (from opentelemetry-exporter-otlp-proto-grpc>=1.2.0->chromadb) (1.22.0)\n",
      "Requirement already satisfied: opentelemetry-instrumentation-asgi==0.43b0 in /home/spritan/.conda/envs/HESTIA/lib/python3.11/site-packages (from opentelemetry-instrumentation-fastapi>=0.41b0->chromadb) (0.43b0)\n",
      "Requirement already satisfied: opentelemetry-instrumentation==0.43b0 in /home/spritan/.conda/envs/HESTIA/lib/python3.11/site-packages (from opentelemetry-instrumentation-fastapi>=0.41b0->chromadb) (0.43b0)\n",
      "Requirement already satisfied: opentelemetry-semantic-conventions==0.43b0 in /home/spritan/.conda/envs/HESTIA/lib/python3.11/site-packages (from opentelemetry-instrumentation-fastapi>=0.41b0->chromadb) (0.43b0)\n",
      "Requirement already satisfied: opentelemetry-util-http==0.43b0 in /home/spritan/.conda/envs/HESTIA/lib/python3.11/site-packages (from opentelemetry-instrumentation-fastapi>=0.41b0->chromadb) (0.43b0)\n",
      "Requirement already satisfied: setuptools>=16.0 in /home/spritan/.conda/envs/HESTIA/lib/python3.11/site-packages (from opentelemetry-instrumentation==0.43b0->opentelemetry-instrumentation-fastapi>=0.41b0->chromadb) (68.2.2)\n",
      "Requirement already satisfied: wrapt<2.0.0,>=1.0.0 in /home/spritan/.conda/envs/HESTIA/lib/python3.11/site-packages (from opentelemetry-instrumentation==0.43b0->opentelemetry-instrumentation-fastapi>=0.41b0->chromadb) (1.16.0)\n",
      "Requirement already satisfied: asgiref~=3.0 in /home/spritan/.conda/envs/HESTIA/lib/python3.11/site-packages (from opentelemetry-instrumentation-asgi==0.43b0->opentelemetry-instrumentation-fastapi>=0.41b0->chromadb) (3.7.2)\n",
      "Requirement already satisfied: monotonic>=1.5 in /home/spritan/.conda/envs/HESTIA/lib/python3.11/site-packages (from posthog>=2.4.0->chromadb) (1.6)\n",
      "Requirement already satisfied: annotated-types>=0.4.0 in /home/spritan/.conda/envs/HESTIA/lib/python3.11/site-packages (from pydantic>=1.9->chromadb) (0.6.0)\n",
      "Requirement already satisfied: pydantic-core==2.14.6 in /home/spritan/.conda/envs/HESTIA/lib/python3.11/site-packages (from pydantic>=1.9->chromadb) (2.14.6)\n",
      "Requirement already satisfied: charset-normalizer<4,>=2 in /home/spritan/.conda/envs/HESTIA/lib/python3.11/site-packages (from requests>=2.28->chromadb) (3.3.2)\n",
      "Requirement already satisfied: idna<4,>=2.5 in /home/spritan/.conda/envs/HESTIA/lib/python3.11/site-packages (from requests>=2.28->chromadb) (3.6)\n",
      "Requirement already satisfied: huggingface_hub<1.0,>=0.16.4 in /home/spritan/.conda/envs/HESTIA/lib/python3.11/site-packages (from tokenizers>=0.13.2->chromadb) (0.20.2)\n",
      "Requirement already satisfied: click<9.0.0,>=7.1.1 in /home/spritan/.conda/envs/HESTIA/lib/python3.11/site-packages (from typer>=0.9.0->chromadb) (8.1.7)\n",
      "Requirement already satisfied: h11>=0.8 in /home/spritan/.conda/envs/HESTIA/lib/python3.11/site-packages (from uvicorn>=0.18.3->uvicorn[standard]>=0.18.3->chromadb) (0.14.0)\n",
      "Requirement already satisfied: httptools>=0.5.0 in /home/spritan/.conda/envs/HESTIA/lib/python3.11/site-packages (from uvicorn[standard]>=0.18.3->chromadb) (0.6.1)\n",
      "Requirement already satisfied: python-dotenv>=0.13 in /home/spritan/.conda/envs/HESTIA/lib/python3.11/site-packages (from uvicorn[standard]>=0.18.3->chromadb) (1.0.0)\n",
      "Requirement already satisfied: uvloop!=0.15.0,!=0.15.1,>=0.14.0 in /home/spritan/.conda/envs/HESTIA/lib/python3.11/site-packages (from uvicorn[standard]>=0.18.3->chromadb) (0.19.0)\n",
      "Requirement already satisfied: watchfiles>=0.13 in /home/spritan/.conda/envs/HESTIA/lib/python3.11/site-packages (from uvicorn[standard]>=0.18.3->chromadb) (0.21.0)\n",
      "Requirement already satisfied: websockets>=10.4 in /home/spritan/.conda/envs/HESTIA/lib/python3.11/site-packages (from uvicorn[standard]>=0.18.3->chromadb) (12.0)\n",
      "Requirement already satisfied: cachetools<6.0,>=2.0.0 in /home/spritan/.conda/envs/HESTIA/lib/python3.11/site-packages (from google-auth>=1.0.1->kubernetes>=28.1.0->chromadb) (5.3.2)\n",
      "Requirement already satisfied: pyasn1-modules>=0.2.1 in /home/spritan/.conda/envs/HESTIA/lib/python3.11/site-packages (from google-auth>=1.0.1->kubernetes>=28.1.0->chromadb) (0.3.0)\n",
      "Requirement already satisfied: rsa<5,>=3.1.4 in /home/spritan/.conda/envs/HESTIA/lib/python3.11/site-packages (from google-auth>=1.0.1->kubernetes>=28.1.0->chromadb) (4.9)\n",
      "Requirement already satisfied: filelock in /home/spritan/.conda/envs/HESTIA/lib/python3.11/site-packages (from huggingface_hub<1.0,>=0.16.4->tokenizers>=0.13.2->chromadb) (3.13.1)\n",
      "Requirement already satisfied: fsspec>=2023.5.0 in /home/spritan/.conda/envs/HESTIA/lib/python3.11/site-packages (from huggingface_hub<1.0,>=0.16.4->tokenizers>=0.13.2->chromadb) (2023.12.2)\n",
      "Requirement already satisfied: zipp>=0.5 in /home/spritan/.conda/envs/HESTIA/lib/python3.11/site-packages (from importlib-metadata<7.0,>=6.0->opentelemetry-api>=1.2.0->chromadb) (3.17.0)\n",
      "Requirement already satisfied: anyio<5,>=3.4.0 in /home/spritan/.conda/envs/HESTIA/lib/python3.11/site-packages (from starlette<0.33.0,>=0.29.0->fastapi>=0.95.2->chromadb) (4.2.0)\n",
      "Requirement already satisfied: humanfriendly>=9.1 in /home/spritan/.conda/envs/HESTIA/lib/python3.11/site-packages (from coloredlogs->onnxruntime>=1.14.1->chromadb) (10.0)\n",
      "Requirement already satisfied: mpmath>=0.19 in /home/spritan/.conda/envs/HESTIA/lib/python3.11/site-packages (from sympy->onnxruntime>=1.14.1->chromadb) (1.3.0)\n",
      "Requirement already satisfied: sniffio>=1.1 in /home/spritan/.conda/envs/HESTIA/lib/python3.11/site-packages (from anyio<5,>=3.4.0->starlette<0.33.0,>=0.29.0->fastapi>=0.95.2->chromadb) (1.3.0)\n",
      "Requirement already satisfied: pyasn1<0.6.0,>=0.4.6 in /home/spritan/.conda/envs/HESTIA/lib/python3.11/site-packages (from pyasn1-modules>=0.2.1->google-auth>=1.0.1->kubernetes>=28.1.0->chromadb) (0.5.1)\n",
      "Note: you may need to restart the kernel to use updated packages.\n",
      "Requirement already satisfied: langchain in /home/spritan/.conda/envs/HESTIA/lib/python3.11/site-packages (0.1.0)\n",
      "Requirement already satisfied: PyYAML>=5.3 in /home/spritan/.conda/envs/HESTIA/lib/python3.11/site-packages (from langchain) (6.0.1)\n",
      "Requirement already satisfied: SQLAlchemy<3,>=1.4 in /home/spritan/.conda/envs/HESTIA/lib/python3.11/site-packages (from langchain) (2.0.25)\n",
      "Requirement already satisfied: aiohttp<4.0.0,>=3.8.3 in /home/spritan/.conda/envs/HESTIA/lib/python3.11/site-packages (from langchain) (3.9.1)\n",
      "Requirement already satisfied: dataclasses-json<0.7,>=0.5.7 in /home/spritan/.conda/envs/HESTIA/lib/python3.11/site-packages (from langchain) (0.6.3)\n",
      "Requirement already satisfied: jsonpatch<2.0,>=1.33 in /home/spritan/.conda/envs/HESTIA/lib/python3.11/site-packages (from langchain) (1.33)\n",
      "Requirement already satisfied: langchain-community<0.1,>=0.0.9 in /home/spritan/.conda/envs/HESTIA/lib/python3.11/site-packages (from langchain) (0.0.9)\n",
      "Requirement already satisfied: langchain-core<0.2,>=0.1.7 in /home/spritan/.conda/envs/HESTIA/lib/python3.11/site-packages (from langchain) (0.1.7)\n",
      "Requirement already satisfied: langsmith<0.1.0,>=0.0.77 in /home/spritan/.conda/envs/HESTIA/lib/python3.11/site-packages (from langchain) (0.0.77)\n",
      "Requirement already satisfied: numpy<2,>=1 in /home/spritan/.conda/envs/HESTIA/lib/python3.11/site-packages (from langchain) (1.26.3)\n",
      "Requirement already satisfied: pydantic<3,>=1 in /home/spritan/.conda/envs/HESTIA/lib/python3.11/site-packages (from langchain) (2.5.3)\n",
      "Requirement already satisfied: requests<3,>=2 in /home/spritan/.conda/envs/HESTIA/lib/python3.11/site-packages (from langchain) (2.31.0)\n",
      "Requirement already satisfied: tenacity<9.0.0,>=8.1.0 in /home/spritan/.conda/envs/HESTIA/lib/python3.11/site-packages (from langchain) (8.2.3)\n",
      "Requirement already satisfied: attrs>=17.3.0 in /home/spritan/.conda/envs/HESTIA/lib/python3.11/site-packages (from aiohttp<4.0.0,>=3.8.3->langchain) (23.2.0)\n",
      "Requirement already satisfied: multidict<7.0,>=4.5 in /home/spritan/.conda/envs/HESTIA/lib/python3.11/site-packages (from aiohttp<4.0.0,>=3.8.3->langchain) (6.0.4)\n",
      "Requirement already satisfied: yarl<2.0,>=1.0 in /home/spritan/.conda/envs/HESTIA/lib/python3.11/site-packages (from aiohttp<4.0.0,>=3.8.3->langchain) (1.9.4)\n",
      "Requirement already satisfied: frozenlist>=1.1.1 in /home/spritan/.conda/envs/HESTIA/lib/python3.11/site-packages (from aiohttp<4.0.0,>=3.8.3->langchain) (1.4.1)\n",
      "Requirement already satisfied: aiosignal>=1.1.2 in /home/spritan/.conda/envs/HESTIA/lib/python3.11/site-packages (from aiohttp<4.0.0,>=3.8.3->langchain) (1.3.1)\n",
      "Requirement already satisfied: marshmallow<4.0.0,>=3.18.0 in /home/spritan/.conda/envs/HESTIA/lib/python3.11/site-packages (from dataclasses-json<0.7,>=0.5.7->langchain) (3.20.1)\n",
      "Requirement already satisfied: typing-inspect<1,>=0.4.0 in /home/spritan/.conda/envs/HESTIA/lib/python3.11/site-packages (from dataclasses-json<0.7,>=0.5.7->langchain) (0.9.0)\n",
      "Requirement already satisfied: jsonpointer>=1.9 in /home/spritan/.conda/envs/HESTIA/lib/python3.11/site-packages (from jsonpatch<2.0,>=1.33->langchain) (2.4)\n",
      "Requirement already satisfied: anyio<5,>=3 in /home/spritan/.conda/envs/HESTIA/lib/python3.11/site-packages (from langchain-core<0.2,>=0.1.7->langchain) (4.2.0)\n",
      "Requirement already satisfied: packaging<24.0,>=23.2 in /home/spritan/.conda/envs/HESTIA/lib/python3.11/site-packages (from langchain-core<0.2,>=0.1.7->langchain) (23.2)\n",
      "Requirement already satisfied: annotated-types>=0.4.0 in /home/spritan/.conda/envs/HESTIA/lib/python3.11/site-packages (from pydantic<3,>=1->langchain) (0.6.0)\n",
      "Requirement already satisfied: pydantic-core==2.14.6 in /home/spritan/.conda/envs/HESTIA/lib/python3.11/site-packages (from pydantic<3,>=1->langchain) (2.14.6)\n",
      "Requirement already satisfied: typing-extensions>=4.6.1 in /home/spritan/.conda/envs/HESTIA/lib/python3.11/site-packages (from pydantic<3,>=1->langchain) (4.9.0)\n",
      "Requirement already satisfied: charset-normalizer<4,>=2 in /home/spritan/.conda/envs/HESTIA/lib/python3.11/site-packages (from requests<3,>=2->langchain) (3.3.2)\n",
      "Requirement already satisfied: idna<4,>=2.5 in /home/spritan/.conda/envs/HESTIA/lib/python3.11/site-packages (from requests<3,>=2->langchain) (3.6)\n",
      "Requirement already satisfied: urllib3<3,>=1.21.1 in /home/spritan/.conda/envs/HESTIA/lib/python3.11/site-packages (from requests<3,>=2->langchain) (1.26.18)\n",
      "Requirement already satisfied: certifi>=2017.4.17 in /home/spritan/.conda/envs/HESTIA/lib/python3.11/site-packages (from requests<3,>=2->langchain) (2023.11.17)\n",
      "Requirement already satisfied: greenlet!=0.4.17 in /home/spritan/.conda/envs/HESTIA/lib/python3.11/site-packages (from SQLAlchemy<3,>=1.4->langchain) (3.0.1)\n",
      "Requirement already satisfied: sniffio>=1.1 in /home/spritan/.conda/envs/HESTIA/lib/python3.11/site-packages (from anyio<5,>=3->langchain-core<0.2,>=0.1.7->langchain) (1.3.0)\n",
      "Requirement already satisfied: mypy-extensions>=0.3.0 in /home/spritan/.conda/envs/HESTIA/lib/python3.11/site-packages (from typing-inspect<1,>=0.4.0->dataclasses-json<0.7,>=0.5.7->langchain) (1.0.0)\n",
      "Note: you may need to restart the kernel to use updated packages.\n",
      "Requirement already satisfied: unstructured[all-docs] in /home/spritan/.conda/envs/HESTIA/lib/python3.11/site-packages (0.11.8)\n",
      "Requirement already satisfied: chardet in /home/spritan/.conda/envs/HESTIA/lib/python3.11/site-packages (from unstructured[all-docs]) (5.2.0)\n",
      "Requirement already satisfied: filetype in /home/spritan/.conda/envs/HESTIA/lib/python3.11/site-packages (from unstructured[all-docs]) (1.2.0)\n",
      "Requirement already satisfied: python-magic in /home/spritan/.conda/envs/HESTIA/lib/python3.11/site-packages (from unstructured[all-docs]) (0.4.27)\n",
      "Requirement already satisfied: lxml in /home/spritan/.conda/envs/HESTIA/lib/python3.11/site-packages (from unstructured[all-docs]) (5.0.1)\n",
      "Requirement already satisfied: nltk in /home/spritan/.conda/envs/HESTIA/lib/python3.11/site-packages (from unstructured[all-docs]) (3.8.1)\n",
      "Requirement already satisfied: tabulate in /home/spritan/.conda/envs/HESTIA/lib/python3.11/site-packages (from unstructured[all-docs]) (0.9.0)\n",
      "Requirement already satisfied: requests in /home/spritan/.conda/envs/HESTIA/lib/python3.11/site-packages (from unstructured[all-docs]) (2.31.0)\n",
      "Requirement already satisfied: beautifulsoup4 in /home/spritan/.conda/envs/HESTIA/lib/python3.11/site-packages (from unstructured[all-docs]) (4.12.2)\n",
      "Requirement already satisfied: emoji in /home/spritan/.conda/envs/HESTIA/lib/python3.11/site-packages (from unstructured[all-docs]) (2.9.0)\n",
      "Requirement already satisfied: dataclasses-json in /home/spritan/.conda/envs/HESTIA/lib/python3.11/site-packages (from unstructured[all-docs]) (0.6.3)\n",
      "Requirement already satisfied: python-iso639 in /home/spritan/.conda/envs/HESTIA/lib/python3.11/site-packages (from unstructured[all-docs]) (2024.1.2)\n",
      "Requirement already satisfied: langdetect in /home/spritan/.conda/envs/HESTIA/lib/python3.11/site-packages (from unstructured[all-docs]) (1.0.9)\n",
      "Requirement already satisfied: numpy in /home/spritan/.conda/envs/HESTIA/lib/python3.11/site-packages (from unstructured[all-docs]) (1.26.3)\n",
      "Requirement already satisfied: rapidfuzz in /home/spritan/.conda/envs/HESTIA/lib/python3.11/site-packages (from unstructured[all-docs]) (3.6.1)\n",
      "Requirement already satisfied: backoff in /home/spritan/.conda/envs/HESTIA/lib/python3.11/site-packages (from unstructured[all-docs]) (2.2.1)\n",
      "Requirement already satisfied: typing-extensions in /home/spritan/.conda/envs/HESTIA/lib/python3.11/site-packages (from unstructured[all-docs]) (4.9.0)\n",
      "Requirement already satisfied: unstructured-client in /home/spritan/.conda/envs/HESTIA/lib/python3.11/site-packages (from unstructured[all-docs]) (0.15.1)\n",
      "Requirement already satisfied: wrapt in /home/spritan/.conda/envs/HESTIA/lib/python3.11/site-packages (from unstructured[all-docs]) (1.16.0)\n",
      "Requirement already satisfied: pypandoc in /home/spritan/.conda/envs/HESTIA/lib/python3.11/site-packages (from unstructured[all-docs]) (1.12)\n",
      "Requirement already satisfied: pandas in /home/spritan/.conda/envs/HESTIA/lib/python3.11/site-packages (from unstructured[all-docs]) (2.1.4)\n",
      "Requirement already satisfied: python-docx>=1.1.0 in /home/spritan/.conda/envs/HESTIA/lib/python3.11/site-packages (from unstructured[all-docs]) (1.1.0)\n",
      "Requirement already satisfied: networkx in /home/spritan/.conda/envs/HESTIA/lib/python3.11/site-packages (from unstructured[all-docs]) (3.2.1)\n",
      "Requirement already satisfied: pypdf in /home/spritan/.conda/envs/HESTIA/lib/python3.11/site-packages (from unstructured[all-docs]) (3.17.4)\n",
      "Requirement already satisfied: unstructured.pytesseract>=0.3.12 in /home/spritan/.conda/envs/HESTIA/lib/python3.11/site-packages (from unstructured[all-docs]) (0.3.12)\n",
      "Requirement already satisfied: markdown in /home/spritan/.conda/envs/HESTIA/lib/python3.11/site-packages (from unstructured[all-docs]) (3.5.1)\n",
      "Requirement already satisfied: python-pptx<=0.6.23 in /home/spritan/.conda/envs/HESTIA/lib/python3.11/site-packages (from unstructured[all-docs]) (0.6.23)\n",
      "Requirement already satisfied: pdf2image in /home/spritan/.conda/envs/HESTIA/lib/python3.11/site-packages (from unstructured[all-docs]) (1.16.3)\n",
      "Requirement already satisfied: onnx in /home/spritan/.conda/envs/HESTIA/lib/python3.11/site-packages (from unstructured[all-docs]) (1.15.0)\n",
      "Requirement already satisfied: msg-parser in /home/spritan/.conda/envs/HESTIA/lib/python3.11/site-packages (from unstructured[all-docs]) (1.2.0)\n",
      "Requirement already satisfied: pikepdf in /home/spritan/.conda/envs/HESTIA/lib/python3.11/site-packages (from unstructured[all-docs]) (8.11.2)\n",
      "Requirement already satisfied: openpyxl in /home/spritan/.conda/envs/HESTIA/lib/python3.11/site-packages (from unstructured[all-docs]) (3.1.2)\n",
      "Requirement already satisfied: pdfminer.six in /home/spritan/.conda/envs/HESTIA/lib/python3.11/site-packages (from unstructured[all-docs]) (20221105)\n",
      "Requirement already satisfied: xlrd in /home/spritan/.conda/envs/HESTIA/lib/python3.11/site-packages (from unstructured[all-docs]) (2.0.1)\n",
      "Requirement already satisfied: unstructured-inference==0.7.18 in /home/spritan/.conda/envs/HESTIA/lib/python3.11/site-packages (from unstructured[all-docs]) (0.7.18)\n",
      "Requirement already satisfied: layoutparser[layoutmodels,tesseract] in /home/spritan/.conda/envs/HESTIA/lib/python3.11/site-packages (from unstructured-inference==0.7.18->unstructured[all-docs]) (0.3.4)\n",
      "Requirement already satisfied: python-multipart in /home/spritan/.conda/envs/HESTIA/lib/python3.11/site-packages (from unstructured-inference==0.7.18->unstructured[all-docs]) (0.0.6)\n",
      "Requirement already satisfied: huggingface-hub in /home/spritan/.conda/envs/HESTIA/lib/python3.11/site-packages (from unstructured-inference==0.7.18->unstructured[all-docs]) (0.20.2)\n",
      "Requirement already satisfied: opencv-python!=4.7.0.68 in /home/spritan/.conda/envs/HESTIA/lib/python3.11/site-packages (from unstructured-inference==0.7.18->unstructured[all-docs]) (4.9.0.80)\n",
      "Requirement already satisfied: onnxruntime<1.16 in /home/spritan/.conda/envs/HESTIA/lib/python3.11/site-packages (from unstructured-inference==0.7.18->unstructured[all-docs]) (1.15.1)\n",
      "Requirement already satisfied: transformers>=4.25.1 in /home/spritan/.conda/envs/HESTIA/lib/python3.11/site-packages (from unstructured-inference==0.7.18->unstructured[all-docs]) (4.36.2)\n",
      "Requirement already satisfied: Pillow>=3.3.2 in /home/spritan/.conda/envs/HESTIA/lib/python3.11/site-packages (from python-pptx<=0.6.23->unstructured[all-docs]) (10.2.0)\n",
      "Requirement already satisfied: XlsxWriter>=0.5.7 in /home/spritan/.conda/envs/HESTIA/lib/python3.11/site-packages (from python-pptx<=0.6.23->unstructured[all-docs]) (3.1.9)\n",
      "Requirement already satisfied: packaging>=21.3 in /home/spritan/.conda/envs/HESTIA/lib/python3.11/site-packages (from unstructured.pytesseract>=0.3.12->unstructured[all-docs]) (23.2)\n",
      "Requirement already satisfied: soupsieve>1.2 in /home/spritan/.conda/envs/HESTIA/lib/python3.11/site-packages (from beautifulsoup4->unstructured[all-docs]) (2.5)\n",
      "Requirement already satisfied: marshmallow<4.0.0,>=3.18.0 in /home/spritan/.conda/envs/HESTIA/lib/python3.11/site-packages (from dataclasses-json->unstructured[all-docs]) (3.20.1)\n",
      "Requirement already satisfied: typing-inspect<1,>=0.4.0 in /home/spritan/.conda/envs/HESTIA/lib/python3.11/site-packages (from dataclasses-json->unstructured[all-docs]) (0.9.0)\n",
      "Requirement already satisfied: six in /home/spritan/.conda/envs/HESTIA/lib/python3.11/site-packages (from langdetect->unstructured[all-docs]) (1.16.0)\n",
      "Requirement already satisfied: olefile>=0.46 in /home/spritan/.conda/envs/HESTIA/lib/python3.11/site-packages (from msg-parser->unstructured[all-docs]) (0.47)\n",
      "Requirement already satisfied: click in /home/spritan/.conda/envs/HESTIA/lib/python3.11/site-packages (from nltk->unstructured[all-docs]) (8.1.7)\n",
      "Requirement already satisfied: joblib in /home/spritan/.conda/envs/HESTIA/lib/python3.11/site-packages (from nltk->unstructured[all-docs]) (1.3.2)\n",
      "Requirement already satisfied: regex>=2021.8.3 in /home/spritan/.conda/envs/HESTIA/lib/python3.11/site-packages (from nltk->unstructured[all-docs]) (2023.12.25)\n",
      "Requirement already satisfied: tqdm in /home/spritan/.conda/envs/HESTIA/lib/python3.11/site-packages (from nltk->unstructured[all-docs]) (4.66.1)\n",
      "Requirement already satisfied: protobuf>=3.20.2 in /home/spritan/.conda/envs/HESTIA/lib/python3.11/site-packages (from onnx->unstructured[all-docs]) (4.25.1)\n",
      "Requirement already satisfied: et-xmlfile in /home/spritan/.conda/envs/HESTIA/lib/python3.11/site-packages (from openpyxl->unstructured[all-docs]) (1.1.0)\n",
      "Requirement already satisfied: python-dateutil>=2.8.2 in /home/spritan/.conda/envs/HESTIA/lib/python3.11/site-packages (from pandas->unstructured[all-docs]) (2.8.2)\n",
      "Requirement already satisfied: pytz>=2020.1 in /home/spritan/.conda/envs/HESTIA/lib/python3.11/site-packages (from pandas->unstructured[all-docs]) (2023.3.post1)\n",
      "Requirement already satisfied: tzdata>=2022.1 in /home/spritan/.conda/envs/HESTIA/lib/python3.11/site-packages (from pandas->unstructured[all-docs]) (2023.4)\n",
      "Requirement already satisfied: charset-normalizer>=2.0.0 in /home/spritan/.conda/envs/HESTIA/lib/python3.11/site-packages (from pdfminer.six->unstructured[all-docs]) (3.3.2)\n",
      "Requirement already satisfied: cryptography>=36.0.0 in /home/spritan/.conda/envs/HESTIA/lib/python3.11/site-packages (from pdfminer.six->unstructured[all-docs]) (41.0.7)\n",
      "Requirement already satisfied: Deprecated in /home/spritan/.conda/envs/HESTIA/lib/python3.11/site-packages (from pikepdf->unstructured[all-docs]) (1.2.14)\n",
      "Requirement already satisfied: idna<4,>=2.5 in /home/spritan/.conda/envs/HESTIA/lib/python3.11/site-packages (from requests->unstructured[all-docs]) (3.6)\n",
      "Requirement already satisfied: urllib3<3,>=1.21.1 in /home/spritan/.conda/envs/HESTIA/lib/python3.11/site-packages (from requests->unstructured[all-docs]) (1.26.18)\n",
      "Requirement already satisfied: certifi>=2017.4.17 in /home/spritan/.conda/envs/HESTIA/lib/python3.11/site-packages (from requests->unstructured[all-docs]) (2023.11.17)\n",
      "Requirement already satisfied: jsonpath-python>=1.0.6 in /home/spritan/.conda/envs/HESTIA/lib/python3.11/site-packages (from unstructured-client->unstructured[all-docs]) (1.0.6)\n",
      "Requirement already satisfied: mypy-extensions>=1.0.0 in /home/spritan/.conda/envs/HESTIA/lib/python3.11/site-packages (from unstructured-client->unstructured[all-docs]) (1.0.0)\n",
      "Requirement already satisfied: cffi>=1.12 in /home/spritan/.conda/envs/HESTIA/lib/python3.11/site-packages (from cryptography>=36.0.0->pdfminer.six->unstructured[all-docs]) (1.16.0)\n",
      "Requirement already satisfied: coloredlogs in /home/spritan/.conda/envs/HESTIA/lib/python3.11/site-packages (from onnxruntime<1.16->unstructured-inference==0.7.18->unstructured[all-docs]) (15.0.1)\n",
      "Requirement already satisfied: flatbuffers in /home/spritan/.conda/envs/HESTIA/lib/python3.11/site-packages (from onnxruntime<1.16->unstructured-inference==0.7.18->unstructured[all-docs]) (23.5.26)\n",
      "Requirement already satisfied: sympy in /home/spritan/.conda/envs/HESTIA/lib/python3.11/site-packages (from onnxruntime<1.16->unstructured-inference==0.7.18->unstructured[all-docs]) (1.12)\n",
      "Requirement already satisfied: filelock in /home/spritan/.conda/envs/HESTIA/lib/python3.11/site-packages (from transformers>=4.25.1->unstructured-inference==0.7.18->unstructured[all-docs]) (3.13.1)\n",
      "Requirement already satisfied: pyyaml>=5.1 in /home/spritan/.conda/envs/HESTIA/lib/python3.11/site-packages (from transformers>=4.25.1->unstructured-inference==0.7.18->unstructured[all-docs]) (6.0.1)\n",
      "Requirement already satisfied: tokenizers<0.19,>=0.14 in /home/spritan/.conda/envs/HESTIA/lib/python3.11/site-packages (from transformers>=4.25.1->unstructured-inference==0.7.18->unstructured[all-docs]) (0.15.0)\n",
      "Requirement already satisfied: safetensors>=0.3.1 in /home/spritan/.conda/envs/HESTIA/lib/python3.11/site-packages (from transformers>=4.25.1->unstructured-inference==0.7.18->unstructured[all-docs]) (0.4.1)\n",
      "Requirement already satisfied: fsspec>=2023.5.0 in /home/spritan/.conda/envs/HESTIA/lib/python3.11/site-packages (from huggingface-hub->unstructured-inference==0.7.18->unstructured[all-docs]) (2023.12.2)\n",
      "Requirement already satisfied: scipy in /home/spritan/.conda/envs/HESTIA/lib/python3.11/site-packages (from layoutparser[layoutmodels,tesseract]->unstructured-inference==0.7.18->unstructured[all-docs]) (1.11.4)\n",
      "Requirement already satisfied: iopath in /home/spritan/.conda/envs/HESTIA/lib/python3.11/site-packages (from layoutparser[layoutmodels,tesseract]->unstructured-inference==0.7.18->unstructured[all-docs]) (0.1.10)\n",
      "Requirement already satisfied: pdfplumber in /home/spritan/.conda/envs/HESTIA/lib/python3.11/site-packages (from layoutparser[layoutmodels,tesseract]->unstructured-inference==0.7.18->unstructured[all-docs]) (0.10.3)\n",
      "Requirement already satisfied: torch in /home/spritan/.conda/envs/HESTIA/lib/python3.11/site-packages (from layoutparser[layoutmodels,tesseract]->unstructured-inference==0.7.18->unstructured[all-docs]) (2.1.2)\n",
      "Requirement already satisfied: torchvision in /home/spritan/.conda/envs/HESTIA/lib/python3.11/site-packages (from layoutparser[layoutmodels,tesseract]->unstructured-inference==0.7.18->unstructured[all-docs]) (0.16.2)\n",
      "Requirement already satisfied: effdet in /home/spritan/.conda/envs/HESTIA/lib/python3.11/site-packages (from layoutparser[layoutmodels,tesseract]->unstructured-inference==0.7.18->unstructured[all-docs]) (0.4.1)\n",
      "Requirement already satisfied: pytesseract in /home/spritan/.conda/envs/HESTIA/lib/python3.11/site-packages (from layoutparser[layoutmodels,tesseract]->unstructured-inference==0.7.18->unstructured[all-docs]) (0.3.10)\n",
      "Requirement already satisfied: pycparser in /home/spritan/.conda/envs/HESTIA/lib/python3.11/site-packages (from cffi>=1.12->cryptography>=36.0.0->pdfminer.six->unstructured[all-docs]) (2.21)\n",
      "Requirement already satisfied: humanfriendly>=9.1 in /home/spritan/.conda/envs/HESTIA/lib/python3.11/site-packages (from coloredlogs->onnxruntime<1.16->unstructured-inference==0.7.18->unstructured[all-docs]) (10.0)\n",
      "Requirement already satisfied: timm>=0.9.2 in /home/spritan/.conda/envs/HESTIA/lib/python3.11/site-packages (from effdet->layoutparser[layoutmodels,tesseract]->unstructured-inference==0.7.18->unstructured[all-docs]) (0.9.12)\n",
      "Requirement already satisfied: pycocotools>=2.0.2 in /home/spritan/.conda/envs/HESTIA/lib/python3.11/site-packages (from effdet->layoutparser[layoutmodels,tesseract]->unstructured-inference==0.7.18->unstructured[all-docs]) (2.0.7)\n",
      "Requirement already satisfied: omegaconf>=2.0 in /home/spritan/.conda/envs/HESTIA/lib/python3.11/site-packages (from effdet->layoutparser[layoutmodels,tesseract]->unstructured-inference==0.7.18->unstructured[all-docs]) (2.3.0)\n",
      "Requirement already satisfied: jinja2 in /home/spritan/.conda/envs/HESTIA/lib/python3.11/site-packages (from torch->layoutparser[layoutmodels,tesseract]->unstructured-inference==0.7.18->unstructured[all-docs]) (3.1.2)\n",
      "Requirement already satisfied: nvidia-cuda-nvrtc-cu12==12.1.105 in /home/spritan/.conda/envs/HESTIA/lib/python3.11/site-packages (from torch->layoutparser[layoutmodels,tesseract]->unstructured-inference==0.7.18->unstructured[all-docs]) (12.1.105)\n",
      "Requirement already satisfied: nvidia-cuda-runtime-cu12==12.1.105 in /home/spritan/.conda/envs/HESTIA/lib/python3.11/site-packages (from torch->layoutparser[layoutmodels,tesseract]->unstructured-inference==0.7.18->unstructured[all-docs]) (12.1.105)\n",
      "Requirement already satisfied: nvidia-cuda-cupti-cu12==12.1.105 in /home/spritan/.conda/envs/HESTIA/lib/python3.11/site-packages (from torch->layoutparser[layoutmodels,tesseract]->unstructured-inference==0.7.18->unstructured[all-docs]) (12.1.105)\n",
      "Requirement already satisfied: nvidia-cudnn-cu12==8.9.2.26 in /home/spritan/.conda/envs/HESTIA/lib/python3.11/site-packages (from torch->layoutparser[layoutmodels,tesseract]->unstructured-inference==0.7.18->unstructured[all-docs]) (8.9.2.26)\n",
      "Requirement already satisfied: nvidia-cublas-cu12==12.1.3.1 in /home/spritan/.conda/envs/HESTIA/lib/python3.11/site-packages (from torch->layoutparser[layoutmodels,tesseract]->unstructured-inference==0.7.18->unstructured[all-docs]) (12.1.3.1)\n",
      "Requirement already satisfied: nvidia-cufft-cu12==11.0.2.54 in /home/spritan/.conda/envs/HESTIA/lib/python3.11/site-packages (from torch->layoutparser[layoutmodels,tesseract]->unstructured-inference==0.7.18->unstructured[all-docs]) (11.0.2.54)\n",
      "Requirement already satisfied: nvidia-curand-cu12==10.3.2.106 in /home/spritan/.conda/envs/HESTIA/lib/python3.11/site-packages (from torch->layoutparser[layoutmodels,tesseract]->unstructured-inference==0.7.18->unstructured[all-docs]) (10.3.2.106)\n",
      "Requirement already satisfied: nvidia-cusolver-cu12==11.4.5.107 in /home/spritan/.conda/envs/HESTIA/lib/python3.11/site-packages (from torch->layoutparser[layoutmodels,tesseract]->unstructured-inference==0.7.18->unstructured[all-docs]) (11.4.5.107)\n",
      "Requirement already satisfied: nvidia-cusparse-cu12==12.1.0.106 in /home/spritan/.conda/envs/HESTIA/lib/python3.11/site-packages (from torch->layoutparser[layoutmodels,tesseract]->unstructured-inference==0.7.18->unstructured[all-docs]) (12.1.0.106)\n",
      "Requirement already satisfied: nvidia-nccl-cu12==2.18.1 in /home/spritan/.conda/envs/HESTIA/lib/python3.11/site-packages (from torch->layoutparser[layoutmodels,tesseract]->unstructured-inference==0.7.18->unstructured[all-docs]) (2.18.1)\n",
      "Requirement already satisfied: nvidia-nvtx-cu12==12.1.105 in /home/spritan/.conda/envs/HESTIA/lib/python3.11/site-packages (from torch->layoutparser[layoutmodels,tesseract]->unstructured-inference==0.7.18->unstructured[all-docs]) (12.1.105)\n",
      "Requirement already satisfied: triton==2.1.0 in /home/spritan/.conda/envs/HESTIA/lib/python3.11/site-packages (from torch->layoutparser[layoutmodels,tesseract]->unstructured-inference==0.7.18->unstructured[all-docs]) (2.1.0)\n",
      "Requirement already satisfied: nvidia-nvjitlink-cu12 in /home/spritan/.conda/envs/HESTIA/lib/python3.11/site-packages (from nvidia-cusolver-cu12==11.4.5.107->torch->layoutparser[layoutmodels,tesseract]->unstructured-inference==0.7.18->unstructured[all-docs]) (12.3.101)\n",
      "Requirement already satisfied: portalocker in /home/spritan/.conda/envs/HESTIA/lib/python3.11/site-packages (from iopath->layoutparser[layoutmodels,tesseract]->unstructured-inference==0.7.18->unstructured[all-docs]) (2.8.2)\n",
      "Requirement already satisfied: pypdfium2>=4.18.0 in /home/spritan/.conda/envs/HESTIA/lib/python3.11/site-packages (from pdfplumber->layoutparser[layoutmodels,tesseract]->unstructured-inference==0.7.18->unstructured[all-docs]) (4.25.0)\n",
      "Requirement already satisfied: mpmath>=0.19 in /home/spritan/.conda/envs/HESTIA/lib/python3.11/site-packages (from sympy->onnxruntime<1.16->unstructured-inference==0.7.18->unstructured[all-docs]) (1.3.0)\n",
      "Requirement already satisfied: antlr4-python3-runtime==4.9.* in /home/spritan/.conda/envs/HESTIA/lib/python3.11/site-packages (from omegaconf>=2.0->effdet->layoutparser[layoutmodels,tesseract]->unstructured-inference==0.7.18->unstructured[all-docs]) (4.9.3)\n",
      "Requirement already satisfied: matplotlib>=2.1.0 in /home/spritan/.conda/envs/HESTIA/lib/python3.11/site-packages (from pycocotools>=2.0.2->effdet->layoutparser[layoutmodels,tesseract]->unstructured-inference==0.7.18->unstructured[all-docs]) (3.8.2)\n",
      "Requirement already satisfied: MarkupSafe>=2.0 in /home/spritan/.conda/envs/HESTIA/lib/python3.11/site-packages (from jinja2->torch->layoutparser[layoutmodels,tesseract]->unstructured-inference==0.7.18->unstructured[all-docs]) (2.1.3)\n",
      "Requirement already satisfied: contourpy>=1.0.1 in /home/spritan/.conda/envs/HESTIA/lib/python3.11/site-packages (from matplotlib>=2.1.0->pycocotools>=2.0.2->effdet->layoutparser[layoutmodels,tesseract]->unstructured-inference==0.7.18->unstructured[all-docs]) (1.2.0)\n",
      "Requirement already satisfied: cycler>=0.10 in /home/spritan/.conda/envs/HESTIA/lib/python3.11/site-packages (from matplotlib>=2.1.0->pycocotools>=2.0.2->effdet->layoutparser[layoutmodels,tesseract]->unstructured-inference==0.7.18->unstructured[all-docs]) (0.12.1)\n",
      "Requirement already satisfied: fonttools>=4.22.0 in /home/spritan/.conda/envs/HESTIA/lib/python3.11/site-packages (from matplotlib>=2.1.0->pycocotools>=2.0.2->effdet->layoutparser[layoutmodels,tesseract]->unstructured-inference==0.7.18->unstructured[all-docs]) (4.47.0)\n",
      "Requirement already satisfied: kiwisolver>=1.3.1 in /home/spritan/.conda/envs/HESTIA/lib/python3.11/site-packages (from matplotlib>=2.1.0->pycocotools>=2.0.2->effdet->layoutparser[layoutmodels,tesseract]->unstructured-inference==0.7.18->unstructured[all-docs]) (1.4.5)\n",
      "Requirement already satisfied: pyparsing>=2.3.1 in /home/spritan/.conda/envs/HESTIA/lib/python3.11/site-packages (from matplotlib>=2.1.0->pycocotools>=2.0.2->effdet->layoutparser[layoutmodels,tesseract]->unstructured-inference==0.7.18->unstructured[all-docs]) (3.1.1)\n",
      "Note: you may need to restart the kernel to use updated packages.\n",
      "Requirement already satisfied: python-dotenv in /home/spritan/.conda/envs/HESTIA/lib/python3.11/site-packages (1.0.0)\n",
      "Note: you may need to restart the kernel to use updated packages.\n",
      "Requirement already satisfied: google-generativeai in /home/spritan/.conda/envs/HESTIA/lib/python3.11/site-packages (0.3.2)\n",
      "Requirement already satisfied: google-ai-generativelanguage==0.4.0 in /home/spritan/.conda/envs/HESTIA/lib/python3.11/site-packages (from google-generativeai) (0.4.0)\n",
      "Requirement already satisfied: google-auth in /home/spritan/.conda/envs/HESTIA/lib/python3.11/site-packages (from google-generativeai) (2.26.1)\n",
      "Requirement already satisfied: google-api-core in /home/spritan/.conda/envs/HESTIA/lib/python3.11/site-packages (from google-generativeai) (2.15.0)\n",
      "Requirement already satisfied: typing-extensions in /home/spritan/.conda/envs/HESTIA/lib/python3.11/site-packages (from google-generativeai) (4.9.0)\n",
      "Requirement already satisfied: protobuf in /home/spritan/.conda/envs/HESTIA/lib/python3.11/site-packages (from google-generativeai) (4.25.1)\n",
      "Requirement already satisfied: tqdm in /home/spritan/.conda/envs/HESTIA/lib/python3.11/site-packages (from google-generativeai) (4.66.1)\n",
      "Requirement already satisfied: proto-plus<2.0.0dev,>=1.22.3 in /home/spritan/.conda/envs/HESTIA/lib/python3.11/site-packages (from google-ai-generativelanguage==0.4.0->google-generativeai) (1.23.0)\n",
      "Requirement already satisfied: googleapis-common-protos<2.0.dev0,>=1.56.2 in /home/spritan/.conda/envs/HESTIA/lib/python3.11/site-packages (from google-api-core->google-generativeai) (1.62.0)\n",
      "Requirement already satisfied: requests<3.0.0.dev0,>=2.18.0 in /home/spritan/.conda/envs/HESTIA/lib/python3.11/site-packages (from google-api-core->google-generativeai) (2.31.0)\n",
      "Requirement already satisfied: cachetools<6.0,>=2.0.0 in /home/spritan/.conda/envs/HESTIA/lib/python3.11/site-packages (from google-auth->google-generativeai) (5.3.2)\n",
      "Requirement already satisfied: pyasn1-modules>=0.2.1 in /home/spritan/.conda/envs/HESTIA/lib/python3.11/site-packages (from google-auth->google-generativeai) (0.3.0)\n",
      "Requirement already satisfied: rsa<5,>=3.1.4 in /home/spritan/.conda/envs/HESTIA/lib/python3.11/site-packages (from google-auth->google-generativeai) (4.9)\n",
      "Requirement already satisfied: grpcio<2.0dev,>=1.33.2 in /home/spritan/.conda/envs/HESTIA/lib/python3.11/site-packages (from google-api-core[grpc]!=2.0.*,!=2.1.*,!=2.10.*,!=2.2.*,!=2.3.*,!=2.4.*,!=2.5.*,!=2.6.*,!=2.7.*,!=2.8.*,!=2.9.*,<3.0.0dev,>=1.34.0->google-ai-generativelanguage==0.4.0->google-generativeai) (1.60.0)\n",
      "Requirement already satisfied: grpcio-status<2.0.dev0,>=1.33.2 in /home/spritan/.conda/envs/HESTIA/lib/python3.11/site-packages (from google-api-core[grpc]!=2.0.*,!=2.1.*,!=2.10.*,!=2.2.*,!=2.3.*,!=2.4.*,!=2.5.*,!=2.6.*,!=2.7.*,!=2.8.*,!=2.9.*,<3.0.0dev,>=1.34.0->google-ai-generativelanguage==0.4.0->google-generativeai) (1.60.0)\n",
      "Requirement already satisfied: pyasn1<0.6.0,>=0.4.6 in /home/spritan/.conda/envs/HESTIA/lib/python3.11/site-packages (from pyasn1-modules>=0.2.1->google-auth->google-generativeai) (0.5.1)\n",
      "Requirement already satisfied: charset-normalizer<4,>=2 in /home/spritan/.conda/envs/HESTIA/lib/python3.11/site-packages (from requests<3.0.0.dev0,>=2.18.0->google-api-core->google-generativeai) (3.3.2)\n",
      "Requirement already satisfied: idna<4,>=2.5 in /home/spritan/.conda/envs/HESTIA/lib/python3.11/site-packages (from requests<3.0.0.dev0,>=2.18.0->google-api-core->google-generativeai) (3.6)\n",
      "Requirement already satisfied: urllib3<3,>=1.21.1 in /home/spritan/.conda/envs/HESTIA/lib/python3.11/site-packages (from requests<3.0.0.dev0,>=2.18.0->google-api-core->google-generativeai) (1.26.18)\n",
      "Requirement already satisfied: certifi>=2017.4.17 in /home/spritan/.conda/envs/HESTIA/lib/python3.11/site-packages (from requests<3.0.0.dev0,>=2.18.0->google-api-core->google-generativeai) (2023.11.17)\n",
      "Note: you may need to restart the kernel to use updated packages.\n",
      "Requirement already satisfied: langchain-google-genai in /home/spritan/.conda/envs/HESTIA/lib/python3.11/site-packages (0.0.5)\n",
      "Requirement already satisfied: google-generativeai<0.4.0,>=0.3.1 in /home/spritan/.conda/envs/HESTIA/lib/python3.11/site-packages (from langchain-google-genai) (0.3.2)\n",
      "Requirement already satisfied: langchain-core<0.2,>=0.1 in /home/spritan/.conda/envs/HESTIA/lib/python3.11/site-packages (from langchain-google-genai) (0.1.7)\n",
      "Requirement already satisfied: google-ai-generativelanguage==0.4.0 in /home/spritan/.conda/envs/HESTIA/lib/python3.11/site-packages (from google-generativeai<0.4.0,>=0.3.1->langchain-google-genai) (0.4.0)\n",
      "Requirement already satisfied: google-auth in /home/spritan/.conda/envs/HESTIA/lib/python3.11/site-packages (from google-generativeai<0.4.0,>=0.3.1->langchain-google-genai) (2.26.1)\n",
      "Requirement already satisfied: google-api-core in /home/spritan/.conda/envs/HESTIA/lib/python3.11/site-packages (from google-generativeai<0.4.0,>=0.3.1->langchain-google-genai) (2.15.0)\n",
      "Requirement already satisfied: typing-extensions in /home/spritan/.conda/envs/HESTIA/lib/python3.11/site-packages (from google-generativeai<0.4.0,>=0.3.1->langchain-google-genai) (4.9.0)\n",
      "Requirement already satisfied: protobuf in /home/spritan/.conda/envs/HESTIA/lib/python3.11/site-packages (from google-generativeai<0.4.0,>=0.3.1->langchain-google-genai) (4.25.1)\n",
      "Requirement already satisfied: tqdm in /home/spritan/.conda/envs/HESTIA/lib/python3.11/site-packages (from google-generativeai<0.4.0,>=0.3.1->langchain-google-genai) (4.66.1)\n",
      "Requirement already satisfied: proto-plus<2.0.0dev,>=1.22.3 in /home/spritan/.conda/envs/HESTIA/lib/python3.11/site-packages (from google-ai-generativelanguage==0.4.0->google-generativeai<0.4.0,>=0.3.1->langchain-google-genai) (1.23.0)\n",
      "Requirement already satisfied: PyYAML>=5.3 in /home/spritan/.conda/envs/HESTIA/lib/python3.11/site-packages (from langchain-core<0.2,>=0.1->langchain-google-genai) (6.0.1)\n",
      "Requirement already satisfied: anyio<5,>=3 in /home/spritan/.conda/envs/HESTIA/lib/python3.11/site-packages (from langchain-core<0.2,>=0.1->langchain-google-genai) (4.2.0)\n",
      "Requirement already satisfied: jsonpatch<2.0,>=1.33 in /home/spritan/.conda/envs/HESTIA/lib/python3.11/site-packages (from langchain-core<0.2,>=0.1->langchain-google-genai) (1.33)\n",
      "Requirement already satisfied: langsmith<0.1.0,>=0.0.63 in /home/spritan/.conda/envs/HESTIA/lib/python3.11/site-packages (from langchain-core<0.2,>=0.1->langchain-google-genai) (0.0.77)\n",
      "Requirement already satisfied: packaging<24.0,>=23.2 in /home/spritan/.conda/envs/HESTIA/lib/python3.11/site-packages (from langchain-core<0.2,>=0.1->langchain-google-genai) (23.2)\n",
      "Requirement already satisfied: pydantic<3,>=1 in /home/spritan/.conda/envs/HESTIA/lib/python3.11/site-packages (from langchain-core<0.2,>=0.1->langchain-google-genai) (2.5.3)\n",
      "Requirement already satisfied: requests<3,>=2 in /home/spritan/.conda/envs/HESTIA/lib/python3.11/site-packages (from langchain-core<0.2,>=0.1->langchain-google-genai) (2.31.0)\n",
      "Requirement already satisfied: tenacity<9.0.0,>=8.1.0 in /home/spritan/.conda/envs/HESTIA/lib/python3.11/site-packages (from langchain-core<0.2,>=0.1->langchain-google-genai) (8.2.3)\n",
      "Requirement already satisfied: idna>=2.8 in /home/spritan/.conda/envs/HESTIA/lib/python3.11/site-packages (from anyio<5,>=3->langchain-core<0.2,>=0.1->langchain-google-genai) (3.6)\n",
      "Requirement already satisfied: sniffio>=1.1 in /home/spritan/.conda/envs/HESTIA/lib/python3.11/site-packages (from anyio<5,>=3->langchain-core<0.2,>=0.1->langchain-google-genai) (1.3.0)\n",
      "Requirement already satisfied: googleapis-common-protos<2.0.dev0,>=1.56.2 in /home/spritan/.conda/envs/HESTIA/lib/python3.11/site-packages (from google-api-core->google-generativeai<0.4.0,>=0.3.1->langchain-google-genai) (1.62.0)\n",
      "Requirement already satisfied: cachetools<6.0,>=2.0.0 in /home/spritan/.conda/envs/HESTIA/lib/python3.11/site-packages (from google-auth->google-generativeai<0.4.0,>=0.3.1->langchain-google-genai) (5.3.2)\n",
      "Requirement already satisfied: pyasn1-modules>=0.2.1 in /home/spritan/.conda/envs/HESTIA/lib/python3.11/site-packages (from google-auth->google-generativeai<0.4.0,>=0.3.1->langchain-google-genai) (0.3.0)\n",
      "Requirement already satisfied: rsa<5,>=3.1.4 in /home/spritan/.conda/envs/HESTIA/lib/python3.11/site-packages (from google-auth->google-generativeai<0.4.0,>=0.3.1->langchain-google-genai) (4.9)\n",
      "Requirement already satisfied: jsonpointer>=1.9 in /home/spritan/.conda/envs/HESTIA/lib/python3.11/site-packages (from jsonpatch<2.0,>=1.33->langchain-core<0.2,>=0.1->langchain-google-genai) (2.4)\n",
      "Requirement already satisfied: annotated-types>=0.4.0 in /home/spritan/.conda/envs/HESTIA/lib/python3.11/site-packages (from pydantic<3,>=1->langchain-core<0.2,>=0.1->langchain-google-genai) (0.6.0)\n",
      "Requirement already satisfied: pydantic-core==2.14.6 in /home/spritan/.conda/envs/HESTIA/lib/python3.11/site-packages (from pydantic<3,>=1->langchain-core<0.2,>=0.1->langchain-google-genai) (2.14.6)\n",
      "Requirement already satisfied: charset-normalizer<4,>=2 in /home/spritan/.conda/envs/HESTIA/lib/python3.11/site-packages (from requests<3,>=2->langchain-core<0.2,>=0.1->langchain-google-genai) (3.3.2)\n",
      "Requirement already satisfied: urllib3<3,>=1.21.1 in /home/spritan/.conda/envs/HESTIA/lib/python3.11/site-packages (from requests<3,>=2->langchain-core<0.2,>=0.1->langchain-google-genai) (1.26.18)\n",
      "Requirement already satisfied: certifi>=2017.4.17 in /home/spritan/.conda/envs/HESTIA/lib/python3.11/site-packages (from requests<3,>=2->langchain-core<0.2,>=0.1->langchain-google-genai) (2023.11.17)\n",
      "Requirement already satisfied: grpcio<2.0dev,>=1.33.2 in /home/spritan/.conda/envs/HESTIA/lib/python3.11/site-packages (from google-api-core[grpc]!=2.0.*,!=2.1.*,!=2.10.*,!=2.2.*,!=2.3.*,!=2.4.*,!=2.5.*,!=2.6.*,!=2.7.*,!=2.8.*,!=2.9.*,<3.0.0dev,>=1.34.0->google-ai-generativelanguage==0.4.0->google-generativeai<0.4.0,>=0.3.1->langchain-google-genai) (1.60.0)\n",
      "Requirement already satisfied: grpcio-status<2.0.dev0,>=1.33.2 in /home/spritan/.conda/envs/HESTIA/lib/python3.11/site-packages (from google-api-core[grpc]!=2.0.*,!=2.1.*,!=2.10.*,!=2.2.*,!=2.3.*,!=2.4.*,!=2.5.*,!=2.6.*,!=2.7.*,!=2.8.*,!=2.9.*,<3.0.0dev,>=1.34.0->google-ai-generativelanguage==0.4.0->google-generativeai<0.4.0,>=0.3.1->langchain-google-genai) (1.60.0)\n",
      "Requirement already satisfied: pyasn1<0.6.0,>=0.4.6 in /home/spritan/.conda/envs/HESTIA/lib/python3.11/site-packages (from pyasn1-modules>=0.2.1->google-auth->google-generativeai<0.4.0,>=0.3.1->langchain-google-genai) (0.5.1)\n",
      "Note: you may need to restart the kernel to use updated packages.\n",
      "Requirement already satisfied: playwright in /home/spritan/.conda/envs/HESTIA/lib/python3.11/site-packages (1.40.0)\n",
      "Requirement already satisfied: greenlet==3.0.1 in /home/spritan/.conda/envs/HESTIA/lib/python3.11/site-packages (from playwright) (3.0.1)\n",
      "Requirement already satisfied: pyee==11.0.1 in /home/spritan/.conda/envs/HESTIA/lib/python3.11/site-packages (from playwright) (11.0.1)\n",
      "Requirement already satisfied: typing-extensions in /home/spritan/.conda/envs/HESTIA/lib/python3.11/site-packages (from pyee==11.0.1->playwright) (4.9.0)\n",
      "Note: you may need to restart the kernel to use updated packages.\n",
      "Requirement already satisfied: selenium in /home/spritan/.conda/envs/HESTIA/lib/python3.11/site-packages (4.16.0)\n",
      "Requirement already satisfied: urllib3<3,>=1.26 in /home/spritan/.conda/envs/HESTIA/lib/python3.11/site-packages (from urllib3[socks]<3,>=1.26->selenium) (1.26.18)\n",
      "Requirement already satisfied: trio~=0.17 in /home/spritan/.conda/envs/HESTIA/lib/python3.11/site-packages (from selenium) (0.23.2)\n",
      "Requirement already satisfied: trio-websocket~=0.9 in /home/spritan/.conda/envs/HESTIA/lib/python3.11/site-packages (from selenium) (0.11.1)\n",
      "Requirement already satisfied: certifi>=2021.10.8 in /home/spritan/.conda/envs/HESTIA/lib/python3.11/site-packages (from selenium) (2023.11.17)\n",
      "Requirement already satisfied: attrs>=20.1.0 in /home/spritan/.conda/envs/HESTIA/lib/python3.11/site-packages (from trio~=0.17->selenium) (23.2.0)\n",
      "Requirement already satisfied: sortedcontainers in /home/spritan/.conda/envs/HESTIA/lib/python3.11/site-packages (from trio~=0.17->selenium) (2.4.0)\n",
      "Requirement already satisfied: idna in /home/spritan/.conda/envs/HESTIA/lib/python3.11/site-packages (from trio~=0.17->selenium) (3.6)\n",
      "Requirement already satisfied: outcome in /home/spritan/.conda/envs/HESTIA/lib/python3.11/site-packages (from trio~=0.17->selenium) (1.3.0.post0)\n",
      "Requirement already satisfied: sniffio>=1.3.0 in /home/spritan/.conda/envs/HESTIA/lib/python3.11/site-packages (from trio~=0.17->selenium) (1.3.0)\n",
      "Requirement already satisfied: wsproto>=0.14 in /home/spritan/.conda/envs/HESTIA/lib/python3.11/site-packages (from trio-websocket~=0.9->selenium) (1.2.0)\n",
      "Requirement already satisfied: PySocks!=1.5.7,<2.0,>=1.5.6 in /home/spritan/.conda/envs/HESTIA/lib/python3.11/site-packages (from urllib3[socks]<3,>=1.26->selenium) (1.7.1)\n",
      "Requirement already satisfied: h11<1,>=0.9.0 in /home/spritan/.conda/envs/HESTIA/lib/python3.11/site-packages (from wsproto>=0.14->trio-websocket~=0.9->selenium) (0.14.0)\n",
      "Note: you may need to restart the kernel to use updated packages.\n"
     ]
    }
   ],
   "source": [
    "%pip install pypdf\n",
    "%pip install pandas\n",
    "%pip install chromadb\n",
    "%pip install langchain\n",
    "%pip install \"unstructured[all-docs]\"\n",
    "%pip install python-dotenv\n",
    "%pip install google-generativeai\n",
    "%pip install langchain-google-genai \n",
    "%pip install \"playwright\"\n",
    "%pip install selenium"
   ]
  },
  {
   "cell_type": "markdown",
   "metadata": {},
   "source": [
    "## Imports"
   ]
  },
  {
   "cell_type": "code",
   "execution_count": 2,
   "metadata": {},
   "outputs": [],
   "source": [
    "import os\n",
    "from pathlib import Path as p\n",
    "from dotenv import load_dotenv\n",
    "\n",
    "import warnings\n",
    "from pprint import pprint\n",
    "from IPython.display import display\n",
    "\n",
    "import textwrap\n",
    "import pandas as pd\n",
    "\n",
    "import firebase_admin\n",
    "import google.generativeai as genai\n",
    "from firebase_admin import credentials\n",
    "\n",
    "from langchain import PromptTemplate\n",
    "from langchain.vectorstores import Chroma\n",
    "from langchain.chains import LLMChain\n",
    "from langchain.document_loaders import SeleniumURLLoader\n",
    "from langchain_google_genai import ChatGoogleGenerativeAI\n",
    "from langchain.chains.question_answering import load_qa_chain\n",
    "from langchain_google_genai import GoogleGenerativeAIEmbeddings\n",
    "from langchain.text_splitter import RecursiveCharacterTextSplitter\n",
    "from langchain.chains.conversation.memory import ConversationSummaryMemory\n",
    "from langchain_community.chat_message_histories.firestore import FirestoreChatMessageHistory\n",
    "\n",
    "warnings.filterwarnings(\"ignore\")"
   ]
  },
  {
   "cell_type": "markdown",
   "metadata": {},
   "source": [
    "## Parameters"
   ]
  },
  {
   "cell_type": "code",
   "execution_count": 23,
   "metadata": {},
   "outputs": [],
   "source": [
    "load_dotenv('./keys/.env')\n",
    "\n",
    "creds_path = \"./keys/serviceAccountKey.json\"\n",
    "\n",
    "data_list = [\n",
    "    \"https://borgenproject.org/tag/homelessness-in-india/\",\n",
    "    \"https://www.noblenonprofit.org/homelessness-in-india-an-unsolved-problem/\",\n",
    "    # \"https://caufsociety.com/homelessness-in-india/\",\n",
    "    # \"https://en.wikipedia.org/wiki/Homelessness_in_India\",\n",
    "    # \"https://www.hlrn.org.in/homelessness\",\n",
    "    # \"https://blog.ipleaders.in/prevention-homelessness-problem-treated-legally/\",\n",
    "    # \"https://borgenproject.org/homelessness-in-india/\",\n",
    "    # \"https://www.aljazeera.com/gallery/2023/1/3/photos-new-delhis-homeless-shiver-in-biting-cold\",\n",
    "    # \"https://www.quora.com/In-India-if-a-person-suddenly-becomes-homeless-what-are-some-tips-you-will-give-him\",\n",
    "    # \"https://leaglesamiksha.com/2022/06/19/homelessness-in-india-causes-and-remedies/\",\n",
    "    # \"https://www.orfonline.org/expert-speak/sheltering-the-urban-homeless\"\n",
    "]"
   ]
  },
  {
   "cell_type": "markdown",
   "metadata": {},
   "source": [
    "## Configure LLM"
   ]
  },
  {
   "cell_type": "code",
   "execution_count": 24,
   "metadata": {},
   "outputs": [],
   "source": [
    "genai.configure(api_key=os.environ.get(\"GOOGLE_API_KEY\"))"
   ]
  },
  {
   "cell_type": "code",
   "execution_count": 25,
   "metadata": {},
   "outputs": [],
   "source": [
    "model = ChatGoogleGenerativeAI(\n",
    "    model=\"gemini-pro\",\n",
    "    temperature=0.3\n",
    ")"
   ]
  },
  {
   "cell_type": "code",
   "execution_count": 26,
   "metadata": {},
   "outputs": [
    {
     "ename": "ValueError",
     "evalue": "The default Firebase app already exists. This means you called initialize_app() more than once without providing an app name as the second argument. In most cases you only need to call initialize_app() once. But if you do want to initialize multiple apps, pass a second argument to initialize_app() to give each app a unique name.",
     "output_type": "error",
     "traceback": [
      "\u001b[0;31m---------------------------------------------------------------------------\u001b[0m",
      "\u001b[0;31mValueError\u001b[0m                                Traceback (most recent call last)",
      "Cell \u001b[0;32mIn[26], line 2\u001b[0m\n\u001b[1;32m      1\u001b[0m cred \u001b[38;5;241m=\u001b[39m credentials\u001b[38;5;241m.\u001b[39mCertificate(creds_path)\n\u001b[0;32m----> 2\u001b[0m \u001b[43mfirebase_admin\u001b[49m\u001b[38;5;241;43m.\u001b[39;49m\u001b[43minitialize_app\u001b[49m\u001b[43m(\u001b[49m\u001b[43mcred\u001b[49m\u001b[43m)\u001b[49m\n",
      "File \u001b[0;32m~/.conda/envs/HESTIA/lib/python3.11/site-packages/firebase_admin/__init__.py:73\u001b[0m, in \u001b[0;36minitialize_app\u001b[0;34m(credential, options, name)\u001b[0m\n\u001b[1;32m     70\u001b[0m         \u001b[38;5;28;01mreturn\u001b[39;00m app\n\u001b[1;32m     72\u001b[0m \u001b[38;5;28;01mif\u001b[39;00m name \u001b[38;5;241m==\u001b[39m _DEFAULT_APP_NAME:\n\u001b[0;32m---> 73\u001b[0m     \u001b[38;5;28;01mraise\u001b[39;00m \u001b[38;5;167;01mValueError\u001b[39;00m((\n\u001b[1;32m     74\u001b[0m         \u001b[38;5;124m'\u001b[39m\u001b[38;5;124mThe default Firebase app already exists. This means you called \u001b[39m\u001b[38;5;124m'\u001b[39m\n\u001b[1;32m     75\u001b[0m         \u001b[38;5;124m'\u001b[39m\u001b[38;5;124minitialize_app() more than once without providing an app name as \u001b[39m\u001b[38;5;124m'\u001b[39m\n\u001b[1;32m     76\u001b[0m         \u001b[38;5;124m'\u001b[39m\u001b[38;5;124mthe second argument. In most cases you only need to call \u001b[39m\u001b[38;5;124m'\u001b[39m\n\u001b[1;32m     77\u001b[0m         \u001b[38;5;124m'\u001b[39m\u001b[38;5;124minitialize_app() once. But if you do want to initialize multiple \u001b[39m\u001b[38;5;124m'\u001b[39m\n\u001b[1;32m     78\u001b[0m         \u001b[38;5;124m'\u001b[39m\u001b[38;5;124mapps, pass a second argument to initialize_app() to give each app \u001b[39m\u001b[38;5;124m'\u001b[39m\n\u001b[1;32m     79\u001b[0m         \u001b[38;5;124m'\u001b[39m\u001b[38;5;124ma unique name.\u001b[39m\u001b[38;5;124m'\u001b[39m))\n\u001b[1;32m     81\u001b[0m \u001b[38;5;28;01mraise\u001b[39;00m \u001b[38;5;167;01mValueError\u001b[39;00m((\n\u001b[1;32m     82\u001b[0m     \u001b[38;5;124m'\u001b[39m\u001b[38;5;124mFirebase app named \u001b[39m\u001b[38;5;124m\"\u001b[39m\u001b[38;5;132;01m{0}\u001b[39;00m\u001b[38;5;124m\"\u001b[39m\u001b[38;5;124m already exists. This means you called \u001b[39m\u001b[38;5;124m'\u001b[39m\n\u001b[1;32m     83\u001b[0m     \u001b[38;5;124m'\u001b[39m\u001b[38;5;124minitialize_app() more than once with the same app name as the \u001b[39m\u001b[38;5;124m'\u001b[39m\n\u001b[1;32m     84\u001b[0m     \u001b[38;5;124m'\u001b[39m\u001b[38;5;124msecond argument. Make sure you provide a unique name every time \u001b[39m\u001b[38;5;124m'\u001b[39m\n\u001b[1;32m     85\u001b[0m     \u001b[38;5;124m'\u001b[39m\u001b[38;5;124myou call initialize_app().\u001b[39m\u001b[38;5;124m'\u001b[39m)\u001b[38;5;241m.\u001b[39mformat(name))\n",
      "\u001b[0;31mValueError\u001b[0m: The default Firebase app already exists. This means you called initialize_app() more than once without providing an app name as the second argument. In most cases you only need to call initialize_app() once. But if you do want to initialize multiple apps, pass a second argument to initialize_app() to give each app a unique name."
     ]
    }
   ],
   "source": [
    "cred = credentials.Certificate(creds_path)\n",
    "firebase_admin.initialize_app(cred)"
   ]
  },
  {
   "cell_type": "code",
   "execution_count": 27,
   "metadata": {},
   "outputs": [],
   "source": [
    "embeddings = GoogleGenerativeAIEmbeddings(model=\"models/embedding-001\")"
   ]
  },
  {
   "cell_type": "code",
   "execution_count": 28,
   "metadata": {},
   "outputs": [],
   "source": [
    "message_history = FirestoreChatMessageHistory(\n",
    "    collection_name='Chat_message',\n",
    "    session_id     ='yolo',\n",
    "    user_id        ='yolo'\n",
    ")"
   ]
  },
  {
   "cell_type": "markdown",
   "metadata": {},
   "source": [
    "## Loading Data"
   ]
  },
  {
   "cell_type": "code",
   "execution_count": 29,
   "metadata": {},
   "outputs": [],
   "source": [
    "data_loader = SeleniumURLLoader(urls=data_list)\n",
    "pages = data_loader.load()"
   ]
  },
  {
   "cell_type": "markdown",
   "metadata": {},
   "source": [
    "## Prompt Design - In Context"
   ]
  },
  {
   "cell_type": "code",
   "execution_count": 30,
   "metadata": {},
   "outputs": [],
   "source": [
    "prompt_template = \"\"\"Answer the question as precise as possible using the provided context. If the answer is\n",
    "                    not contained in the context also refreter summary of past Conversation, say \"answer not available in context\" \\n\\n\n",
    "                    History: \\n {history}\\n\n",
    "                    Context: \\n {context}?\\n\n",
    "                    Question: \\n {question} \\n\n",
    "                    Answer:\n",
    "                  \"\"\"\n",
    "\n",
    "prompt = PromptTemplate(\n",
    "    input_variables=[\n",
    "      \"history\",\n",
    "      \"context\", \n",
    "      \"question\",\n",
    "    ],\n",
    "    template=prompt_template\n",
    ")"
   ]
  },
  {
   "cell_type": "code",
   "execution_count": 31,
   "metadata": {},
   "outputs": [],
   "source": [
    "prompt = PromptTemplate(\n",
    "    input_variables=[\n",
    "      \"history\",\n",
    "      \"context\", \n",
    "      \"question\",\n",
    "\n",
    "    ],\n",
    "    template=(\n",
    "        \"\"\"Answer the question as precise as possible using the provided context. If the answer is\n",
    "                    not contained in the context also refreter summary of past Conversation, say \"answer not available in context\":\\n\n",
    "\n",
    "        History:{history}\\n\n",
    "\n",
    "        Context:{context}\\n\n",
    "\n",
    "        Question:{question}\\n\n",
    "        \"\"\"\n",
    "    )\n",
    ")"
   ]
  },
  {
   "cell_type": "code",
   "execution_count": 32,
   "metadata": {},
   "outputs": [],
   "source": [
    "summary_memory=ConversationSummaryMemory(\n",
    "    llm=model,\n",
    "    memory_key=\"history\",\n",
    "    input_key=\"question\",\n",
    "    chat_memory=message_history\n",
    ")"
   ]
  },
  {
   "cell_type": "code",
   "execution_count": 33,
   "metadata": {},
   "outputs": [],
   "source": [
    "conversation = LLMChain(\n",
    "    llm=model, \n",
    "    verbose=False,\n",
    "    memory=summary_memory,\n",
    "    prompt=prompt\n",
    ")\n",
    "chain = LLMChain(\n",
    "    llm=model,\n",
    "    prompt=prompt,\n",
    "    memory=summary_memory, # Contains the input_key\n",
    "    verbose=False\n",
    ")"
   ]
  },
  {
   "cell_type": "markdown",
   "metadata": {},
   "source": [
    "## RAG pipeline"
   ]
  },
  {
   "cell_type": "code",
   "execution_count": 34,
   "metadata": {},
   "outputs": [],
   "source": [
    "text_splitter = RecursiveCharacterTextSplitter(chunk_size=10000, chunk_overlap=0)\n",
    "context = \"\\n\\n\".join(str(p.page_content) for p in pages)\n",
    "texts = text_splitter.split_text(context)"
   ]
  },
  {
   "cell_type": "code",
   "execution_count": 35,
   "metadata": {},
   "outputs": [],
   "source": [
    "vector_index = Chroma.from_texts(texts, embeddings).as_retriever()"
   ]
  },
  {
   "cell_type": "code",
   "execution_count": 36,
   "metadata": {},
   "outputs": [],
   "source": [
    "question = input('Question: ') \n",
    "docs = vector_index.get_relevant_documents(question)"
   ]
  },
  {
   "cell_type": "code",
   "execution_count": 37,
   "metadata": {},
   "outputs": [
    {
     "data": {
      "text/plain": [
       "[Document(page_content=\"India is the second most unequal country in the world, with 55 percent of income going to the top 10 percent of its population. Since India’s population increased exponentially, many cities ran out of space to contain the growing population. According to the Homeless World Cup, there were about 1.8 million homeless individuals living in India as of 2019. Over half of this population was living in urban areas, such as slums on the edge of cities. Unfortunately, the majority of the homeless often experience displacement through government-endorsed city beautification programs or by natural disasters. Due to their lack of resources, those who are homeless and poor struggle to recover from these events.\\n\\nConditions\\n\\nMost homeless people in India live on the streets of cities, under bridges, on highways or in any place they can seek refuge. Some maintain a nomadic lifestyle, where they roam around to find the best area for themselves and/or their families to live. In addition, they often face difficulties from the weather. This is especially prevalent during severe weather conditions, such as rain or snow. They have to use what is at their disposal to protect themselves.\\n\\nMoreover, women are more prone to abuse, trafficking and harassment, especially if they live on their own or as single mothers. Even in slums, families have very limited access to basic resources and almost no access to sanitation. Additionally, illegal squatting makes up a majority of the slum population, so many families live in fear of eviction.\\n\\nSolutions\\n\\nDespite the alarming numbers, the country is making progress to combat homelessness and poverty in India. Each day, 44 people come out of poverty through the work of government initiatives. The Indian government has implemented initiatives to help the poverty-induced with housing. The most prominent example of this is the Housing for All Act, called Pradhan Mantri Awas Yojana. Declared in 2015 by Prime Minister Narendra Modi, this Act claims to build homes for the entire population by 2022 (when India reaches 75 years of independence). However, there is a lot of criticism about the act in terms of its feasibility.\\n\\nMany critics claim that the federal government should actually follow in the footsteps of one of its states. In Kerala, the state government put another Housing for All Act in place, granting its homeless population free flats. As of April 2019, the state built the first set of flats that fit 145 families within a 270-flat complex. Kerala’s state government is surveying its homeless population and figuring out who qualifies for need-based housing and then building flats based on its findings. It plans to build over 400,000 flats. The government will cover all funding for the flats.\\n\\nThe Housing for All Act could solve homelessness in India. However, India still has a long way to go in order to achieve this ideal. The government initiatives are the first steps in figuring out how to end this chronic issue that India has had to deal with for decades.\\n\\nShreya Chari\\n\\nShreya Chari\\n\\nPhoto: Flickr\\n\\nApril 29, 2020\\n\\nShare this entry\\n\\nShare on Facebook\\n\\nShare on Twitter\\n\\nShare on Twitter\\n\\nShare on WhatsApp\\n\\nShare on Pinterest\\n\\nShare on LinkedIn\\n\\nShare on Tumblr\\n\\nShare on Vk\\n\\nShare on Reddit\\n\\nShare by Mail\\n\\nhttps://borgenproject.org/wp-content/uploads/logo.jpg\\n\\t\\t\\t\\t\\t\\t0\\n\\t\\t\\t\\t\\t\\t0\\n\\nLynsey Alexander\\n\\t\\t\\t\\t\\t\\t\\n\\t\\t\\t\\t\\t\\t\\thttps://borgenproject.org/wp-content/uploads/logo.jpg\\n\\nLynsey Alexander\\n\\n2020-04-29 13:20:11\\n\\n2020-04-29 13:20:11\\n\\nA View into Homelessness in India\\n\\nIn Pictures\\n\\nGallery|\\n\\nPoverty and Development\\n\\nAs winter chill sets in, Delhi’s homeless struggle to stay warm\\n\\nTens of thousands of the unhoused in India’s capital struggle to find shelter as temperatures fall.\\n\\nPublished On 3 Jan 2023\\n\\n3 Jan 2023\\n\\nfacebook\\n\\ntwitter\\n\\nwhatsapp\\n\\nWhen midnight approaches in New Delhi and a cold fog settles over the Indian capital, thousands of homeless people put down torn mattresses and blankets on the pavement and lie on them to keep warm.\\n\\nThose who can’t afford the blankets spend the night around a smoldering fire built with garbage and discarded cardboard boxes. Others hunker down in a government shelter system.\\n\\nIt’s a scene that repeats itself every year when India’s capital experiences a bout of winter cold that is blamed for killing scores of unhoused people and leaves tens of thousands of others shivering on the streets.\\n\\nOn Sunday, New Delhi recorded a low of 5.5C (41.9F), and India’s weather forecasting agency warned of a severe cold wave from Monday.\\n\\nNew Delhi’s 20 million inhabitants are conditioned to weather extremes from blistering heat waves in the summer to thick, grey smog that envelopes the capital before the onset of the winter when a brutal cold wave sweeps across most of northern India. The cold blankets streets in fog so thick that drivers cannot see cars in front of them, causing accidents.\\n\\nThe chill is an ordeal for the city’s homeless, who curl their bodies on sidewalks and sleep as the traffic goes by. Even though the city’s night shelters are a refuge to many who would otherwise find themselves sleeping near busy roundabouts and underpasses, most people there live in harsh conditions. Many of the night shelters are overcrowded and have unsanitary toilets and no water.\\n\\nAdvertisement\\n\\n“Overcrowding is a big problem. Because of too much footfall, some people sleep on the roadside,” said Sunil Kumar Aledia of the Centre for Holistic Development, who has worked with Delhi’s homeless population for decades.\\n\\nIndia’s 2011 census figures showed about 47,000 of the city’s residents were homeless, but activists say the number is a vast underestimate and New Delhi has more than 150,000 people without permanent residences to sleep in.\\n\\nOfficial figures also show the city’s 195 homeless shelters can accommodate about 19,000 people, leaving tens of thousands struggling to keep warm.\\n\\nAdvertisement\\n\\nAdvertisement\\n\\nSomething went wrong. Wait a moment and try again.\\n\\nSkip to content\\n\\nSkip to search\\n\\nSign In\\n\\nIn India, if a person suddenly becomes homeless, what are some tips you will give him?\\n\\nAll related (35)\\n\\nSort\\n\\nRecommended\\n\\nChatGPT\\n\\nBot\\n\\nIf someone in India suddenly becomes homeless, here are some tips that may be helpful:\\n\\nLook for temporary shelter: Seek out temporary shelter options such as homeless shelters, community centers, and religious organizations that offer temporary housing.\\n\\nContact government agencies: Reach out to local government agencies such as the Municipal Corporation, the Social Welfare Department, and the National Urban Livelihood Mission. They may be able to provide assistance with housing, food, and other basic needs.\\n\\nSeek out employment: Look for job opportunities in your area, even if they are low-paying or temporary. Any income can help you get back on your feet.\\n\\nReach out to family and friends: If you have family or friends who can help, don't hesitate to reach out to them for assistance.\\n\\nLook for local support groups: There may be local support groups or non-profit organizations that offer assistance to homeless individuals. They may be able to provide you with resources and support to help you get back on your feet.\\n\\nRemember, it's important to stay safe and seek out help as soon as possible. Homelessness can be a difficult and challenging experience, but there are resources available to help you get through it.\\n\\nContinue reading\\n\\nKumar Shanu\\n\\n4y\\n\\nFirst of all Take your time holding yourself up. Secondly find a place where you can have food to survive like Gurudwara, or aashram or NGO. Now don't stick here for free food . Just there hardly for 1–2 months and keep searching opportunities. And take actions after thinking how you can improve your current situation. Dependency Is not good at all. Remember that.\\n\\n99\\n\\n12\\n\\nRelated questions\\n\\nMore answers below\\n\\nI aspire to live a homeless life for a couple of years in india, how much possible is it? What should be the main obstacles to survival?\\n\\nIf a person becomes homeless in India, where can he go?\\n\\nIn India, if a person becomes homeless too rich suddenly, what are some tips you will give him?\\n\\nHow can a homeless person with no friends and family dig their way out of homelessness?\\n\\nWhat is the quickest way to get out of homelessness?\\n\\nRelated questions\\n\\nI aspire to live a homeless life for a couple of years in india, how much possible is it? What should be the main obstacles to survival?\\n\\nIf a person becomes homeless in India, where can he go?\\n\\nIn India, if a person becomes homeless too rich suddenly, what are some tips you will give him?\\n\\nHow can a homeless person with no friends and family dig their way out of homelessness?\\n\\nWhat is the quickest way to get out of homelessness?\\n\\nI am 20 years old and I've been homeless sleeping in my car. How can I get help?\\n\\nI'm 16 and live in Northeast India. I know it sounds stupid but I'm planning to run away from home this month. Can anyone give me any idea about any place where I can go?\\n\\nIf I'm homeless and in the streets of Mumbai, could I ask a shop owner to act like I stole something so that the police could put me in jail? So that way I can get food somehow. Is there any job that a 19 year old could get if he was abandoned?\\n\\nAs a homeless person, what tips can you give someone for surviving the streets?\\n\\nWhat is being homeless in India like?\\n\\nIf we give a house to every homeless person, will that solve homelessness?\\n\\nI'm going to be homeless soon and I'm 16. I have $300. What should I do?\\n\\nI'm going to be poor when my parents die and I have no friends. The reason is legit and it's a secret. What should I do to survive being homeless?\\n\\nIf people over 65 can get SSI, why are there homeless beggars over 65 years old?\\n\\nWhat should someone do if they know they are going to become homeless?\\n\\nRelated questions\\n\\nI aspire to live a homeless life for a couple of years in india, how much possible is it? What should be the main obstacles to survival?\"),\n",
       " Document(page_content='\"Understanding Homelessness Articles.\" This page is an excellent next stop because it offers dozens of other interesting articles related to understanding homelessness.\\n\\n\"List of Tent Cities in America.\" Why are tent cities allowed in the U.S.? Where are they in the country? This article explores 27 tent cities in America.\\n\\n\"Why is Being Homeless Illegal?\" You may be concerned that homeless people are treated unfairly. This article explores why being homeless is illegal.\\n\\n\"Why is Homelessness Important?\" Homelessness is significant because it is bad and remains unsolved. This article explores why those two reasons make homelessness important.\\n\\n\"Mental Illness and Homelessness.\" Mental illness and homelessness directly cause the other. This article explores the relationship between the two.\\n\\n\"Why Is Homelessness Not a Problem?\" Is homelessness really as big of a deal as everyone seems to make it? This article explores why homelessness is not a problem.\\n\\n\"Veterans and Homelessness.\" Why are so many veterans homeless? How do they become homeless? This article answers both these questions and more!\\n\\n\"Why Are Most Homeless People White?\" Ever notice that almost anywhere you go in the United States most homeless people are white? This article explores why.\\n\\n\"Homeless with a Job.\" When you work full time and cant even afford to pay the rent, something is terribly wrong. This article explores being homeless with a job.\\n\\n\"Why Do Homeless People Live in Cities?\" Homeless people sleep in crowded cities on concrete blocks. Why not go to wildernesses? This article explains why homeless people live in cities.\\n\\nkey takeaways\\n\\nHomelessness in India exists mainly because of migration, wealth inequality, and discrimination.\\n\\nMega-cities in India face the brunt of the homelessness crisis because people migrate in droves from rural areas to these urban centers in search of a better life.\\n\\nIndian NGOs help homeless people by providing them with temporary shelters and basic amenities, and by spreading awareness.\\n\\nThe Government of India is working to improve shelters and distribute food at cheap rates among the homeless. Its mission is to avert the crisis entirely by 2022 under the PMAY Scheme.\\n\\nTo help the problem, you can play your part by educating yourself and others, volunteering at homeless shelters, and advocating for their rights.\\n\\nfurther readingThis article focused exclusively on homelessness in india. What it focused little to none on, however, is poverty and homelessness.\\n\\nother helpful articles\\n\\n\"Understanding Homelessness Articles.\" This page is an excellent next stop because it offers dozens of other interesting articles related to understanding homelessness.\\n\\n\"List of Tent Cities in America.\" Why are tent cities allowed in the U.S.? Where are they in the country? This article explores 27 tent cities in America.\\n\\n\"Why is Being Homeless Illegal?\" You may be concerned that homeless people are treated unfairly. This article explores why being homeless is illegal.\\n\\n\"Why is Homelessness Important?\" Homelessness is significant because it is bad and remains unsolved. This article explores why those two reasons make homelessness important.\\n\\n\"Mental Illness and Homelessness.\" Mental illness and homelessness directly cause the other. This article explores the relationship between the two.\\n\\n\"Why Is Homelessness Not a Problem?\" Is homelessness really as big of a deal as everyone seems to make it? This article explores why homelessness is not a problem.\\n\\n\"Veterans and Homelessness.\" Why are so many veterans homeless? How do they become homeless? This article answers both these questions and more!\\n\\n\"Why Are Most Homeless People White?\" Ever notice that almost anywhere you go in the United States most homeless people are white? This article explores why.\\n\\n\"Homeless with a Job.\" When you work full time and cant even afford to pay the rent, something is terribly wrong. This article explores being homeless with a job.\\n\\n\"Why Do Homeless People Live in Cities?\" Homeless people sleep in crowded cities on concrete blocks. Why not go to wildernesses? This article explains why homeless people live in cities.\\n\\nkey takeaways\\n\\nHomelessness in India exists mainly because of migration, wealth inequality, and discrimination.\\n\\nMega-cities in India face the brunt of the homelessness crisis because people migrate in droves from rural areas to these urban centers in search of a better life.\\n\\nIndian NGOs help homeless people by providing them with temporary shelters and basic amenities, and by spreading awareness.\\n\\nThe Government of India is working to improve shelters and distribute food at cheap rates among the homeless. Its mission is to avert the crisis entirely by 2022 under the PMAY Scheme.\\n\\nTo help the problem, you can play your part by educating yourself and others, volunteering at homeless shelters, and advocating for their rights.\\n\\nthank you for reading\\n\\nFEATURED ARTICLES\\n\\nWhy Don\\'t Homeless People Just Get a Job?\\n\\nWhy do People Become Homeless?\\n\\nWhy is Homelessness a Problem?\\n\\nTiny Homes for the Homeless\\n\\nWhat is it Like to Be Homeless?\\n\\nRECENT\\n\\nWhere Can A Homeless Woman Go For Help?\\n\\nWho Funds Homeless Shelters?\\n\\nWhat To Do If You Will Soon Become Homeless\\n\\nWhat to Do When Homeless\\n\\nWhat To Do With Belongings When Homeless\\n\\nWho Has The Largest Homeless Population?\\n\\nCATEGORIES\\n\\nBeing Homeless\\n\\nFeatured\\n\\nHelping the Homeless\\n\\nHomelessness by Country and Continent\\n\\nHomelessness in the United States\\n\\nResources for the Homeless\\n\\nSOCIETY\\n\\nAbout\\n\\nContact\\n\\nPrivacy Policy\\n\\nDonate to Ending Homelessness\\n\\nTerms of Service\\n\\nImage Credits\\n\\nToggle the table of contents\\n\\nContents\\n\\n(Top)\\n\\n1Causes\\n\\n2Street children\\n\\n3Challenges faced by the homeless\\n\\n4Efforts to assist\\n\\t\\t\\n\\t\\t\\n\\t\\t\\t\\n\\t\\t\\t\\t\\n\\t\\t\\t\\tToggle Efforts to assist subsection\\n\\t\\t\\t\\n\\t\\t\\n\\t\\t\\n\\t\\t\\t\\n\\t\\t\\t\\n\\t\\t\\t\\t\\n\\t\\t\\t\\t4.1Non-governmental services\\n\\t\\t\\t\\n\\t\\t\\t\\n\\t\\t\\t\\n\\t\\t\\t\\n\\t\\t\\n\\t\\t\\n\\t\\t\\t\\n\\t\\t\\t\\t\\n\\t\\t\\t\\t4.2Governmental services\\n\\n5Homelessness and informal housing: the case of Mumbai\\n\\n6A growing concern\\n\\n7References\\n\\nHomelessness in India\\n\\n1 language\\n\\nالعربية\\n\\nEdit links\\n\\nArticle\\n\\nTalk\\n\\nEnglish\\n\\nRead\\n\\nEdit\\n\\nView history\\n\\nTools\\n\\nTools\\n\\nActions\\n\\nRead\\n\\nEdit\\n\\nView history\\n\\nGeneral\\n\\nWhat links here\\n\\nRelated changes\\n\\nUpload file\\n\\nSpecial pages\\n\\nPermanent link\\n\\nPage information\\n\\nCite this page\\n\\nGet shortened URL\\n\\nWikidata item\\n\\nEdit interlanguage links\\n\\nExpand all\\n\\nPrint/export\\n\\nDownload as PDF\\n\\nPrintable version\\n\\nIn other projects\\n\\nWikimedia Commons\\n\\nFrom Wikipedia, the free encyclopedia\\n\\nMajor social issue in India\\n\\nSee also: \\n\\nIndian states ranking by families owning house\\n\\nHomelessness\\n\\nIndia.\\n\\nUniversal Declaration of Human Rights defines \\'\\n\\nhomeless\\' as those who do not live in a regular residence. The United Nations Economic and Social Council Statement has a broader definition for homelessness; it defines homelessness as follows: ‘When we are talking about housing, we are not just talking about four walls and a roof. The right to adequate housing is about security of tenure, affordability, access to services and cultural adequacy. It is about protection from forced eviction and displacement, fighting homelessness, poverty and exclusion.\\n\\n[1]\\n\\nCensus houses, but rather stay on pavements, roadsides, railway platforms, staircases, temples, streets, in pipes, or other open spaces.\\n\\n[2]\\n\\n[2]\\n\\n[3]\\n\\n[1]\\n\\n[4]\\n\\n[5]\\n\\n[6]\\n\\nNew Delhi; the same population in\\n\\nCanada would make up approximately 30\\n\\nelectoral districts.\\n\\n[7]\\n\\n[2]\\n\\n[8]\\n\\npoverty threshold.\\n\\n[8]\\n\\nGovernment of India to tackle urban homelessness and\\n\\npoverty may be affected in the future by both external and internal factors.\\n\\n[8]\\n\\n[9]\\n\\nslums and tenements.\\n\\n[10]\\n\\n[8]\\n\\nSlumdog Millionaire\\n\\nMumbai was a slum tourist destination for slumming where homeless people and slum dwellers alike could be openly viewed by tourists.\\n\\n[11]\\n\\nCauses[edit]\\n\\nurbanization.\\n\\n[12]\\n\\n[13]\\n\\n[2]\\n\\nSlums can provide an escape, yet individuals often cannot afford them.\\n\\n[2]\\n\\nabuse, maltreatment, and lack of access to schools and healthcare.\\n\\n[6]\\n\\ndisability (either mental, physical, or both), lack of affordable\\n\\nhousing (a basic apartment in India costs approximately US$70 per month\\n\\n[14]\\n\\nunemployment (either seasonal or through economic hardships), and changes in industry.\\n\\n[8]\\n\\n[1]\\n\\nheavy industry and\\n\\nmanufacturing (that require only a high school level of education) are being replaced by\\n\\nservice industry jobs (which may or may not require a higher level of education). Since university is less affordable for the average Indian than it is for the average North American or European citizen due to their lower\\n\\nper capita income level, more people in India are becoming unemployable for the jobs of the 21st century. The average per capita income for a citizen of India is barely more than US$1,200; compared to US$54,510 in Canada and more than US$64,800 in Switzerland.\\n\\n[15]\\n\\n[16]\\n\\n[17]\\n\\nPolicymakers attribute the following factors as the main causes of homelessness: substance use, mental illness, relationship failures, and domestic abuse. These place responsibility and blame directly on the homeless. Policies related to ‘deinstitutionalization of care for mentally ill people and subsequent abandonment of a family member with mental illness by the family’ have also increased the number of people living without a roof over their heads.[1]\\n\\nStreet children[edit]\\n\\nMain article: \\n\\nStreet children in India'),\n",
       " Document(page_content='show v t e Homelessness in Asia Sovereign states \\n Afghanistan \\n Armenia \\n Azerbaijan \\n Bahrain \\n Bangladesh \\n Bhutan \\n Brunei \\n Cambodia \\n China \\n Cyprus \\n East Timor (Timor-Leste) \\n Egypt \\n Georgia \\n India \\n Indonesia \\n Iran \\n Iraq \\n Israel \\n Japan \\n Jordan \\n Kazakhstan \\n North Korea \\n South Korea \\n Kuwait \\n Kyrgyzstan \\n Laos \\n Lebanon \\n Malaysia \\n Maldives \\n Mongolia \\n Myanmar \\n Nepal \\n Oman \\n Pakistan \\n Philippines \\n Qatar \\n Russia \\n Saudi Arabia \\n Singapore \\n Sri Lanka \\n Syria \\n Tajikistan \\n Thailand \\n Turkey \\n Turkmenistan \\n United Arab Emirates \\n Uzbekistan \\n Vietnam \\n Yemen \\n States with limited recognition \\n Abkhazia \\n Northern Cyprus \\n Palestine \\n South Ossetia \\n Taiwan \\n Dependencies  and other territories \\n British Indian Ocean Territory \\n Christmas Island \\n Cocos (Keeling) Islands \\n Hong Kong \\n Macau \\n \\n   Category \\n   Asia portal\\n\\nhide v t e Homelessness People \\n Aged people \\n Cyber-homeless \\n Families \\n McRefugee \\n Mole people \\n Street people \\n Street children \\n Social orphan \\n Vagrants \\n Bergie \\n Tramps \\n Hobos \\n Youth \\n Issues \\n Anti-homelessness legislation \\n Bill of Rights \\n Bumvertising \\n Discrimination \\n Mental health \\n Patient dumping \\n Popular culture \\n Spirituality \\n Vulnerability Index \\n Pets \\n Survival sex \\n Social cleansing \\n Slum clearance \\n Responses \\n Soup kitchen \\n Hygiene program \\n Homeless ministry \\n Homelessness services \\n List \\n Street newspaper \\n List \\n Shelters \\n Homeless shelter \\n Cooling center \\n Drop-in center \\n Four penny coffin \\n Penny sit-up \\n Warming center \\n Women\\'s shelter \\n Homeless Friendly Precincts \\n Housing \\n Foyers \\n Housing First \\n Rapid Re-Housing \\n Right to housing \\n Single room occupancy  (SRO) \\n Squatting \\n Tent city \\n Transitional housing \\n Awareness \\n Homelessness Action Week \\n Homeless Persons\\' Week \\n Homeless World Cup \\n International Year of Shelter for the Homeless \\n Street Child World Cup \\n Youth Homelessness Matters Day \\n \\n By country Africa \\n Algeria \\n Egypt \\n Ghanaian children \\n South Africa \\n Americas \\n Canada \\n Vancouver \\n Latin American children \\n United States \\n LGBT youth \\n Veterans \\n Women \\n California \\n San Francisco \\n Colorado \\n Columbus \\n Florida \\n Minneapolis \\n New Mexico \\n Oregon \\n Seattle \\n Elsewhere \\n Asia \\n Bangladeshi children \\n China \\n India \\n children \\n Indonesia \\n Iraq \\n Israel \\n Japan \\n North Korea \\n Filipino children \\n Thai children \\n Europe East \\n Eastern European children \\n Hungary \\n Russia \\n North \\n Denmark \\n Finland \\n Ireland \\n Sweden \\n United Kingdom \\n England \\n Scotland \\n South \\n Greece \\n Portugal \\n Spain \\n Vatican City \\n West \\n France \\n Germany \\n Netherlands \\n Switzerland \\n Oceania \\n Australia \\n Papua New Guinea \\n New Zealand \\n   Category\\n\\nRetrieved from \"\\n\\nhttps://en.wikipedia.org/w/index.php?title=Homelessness_in_India&oldid=1185536928\"\\n\\nCategories:\\n\\nPoverty in India\\n\\nHomelessness by country\\n\\nHousing in India\\n\\nSocial issues in India\\n\\nHidden categories: \\n\\nWebarchive template wayback links\\n\\nCS1 maint: location missing publisher\\n\\nCS1 maint: others\\n\\nArticles with short description\\n\\nShort description matches Wikidata\\n\\nUse Indian English from January 2016\\n\\nAll Wikipedia articles written in Indian English\\n\\nhindi\\xa0\\xa0|\\n\\nToggle navigation\\n\\nMENU\\n\\nhome\\n\\nabout us\\n\\nCOVID-19\\n\\nservices\\n\\npublications\\n\\nresources\\n\\nmedia & events\\n\\ncontact us\\n\\nHomelessness\\n\\n\\n\\t\\t\\t\\t\\tThe problem of homelessness across the world is acute and seems to be getting worse. Homelessness constitutes the worst violation of the human right to adequate housing, and homeless people, especially women, are among the most marginalized, ignored, and discriminated.\\n\\nHomeless women, particularly young women, suffer the worst kinds of violence and insecurity, and are vulnerable to sexual exploitation and trafficking. Instances of rape, molestation, and women spending sleepless nights guarding their young adolescent girls are a common feature among homeless women. Accessing health care is a tremendous challenge for homeless people, especially women. The human rights of street children to security, adequate housing, education, development, and education, are continually violated. Apart from being malnourished, poverty-stricken and often abused, most street children are unable to attend school.\\n\\nHomelessness in India\\n\\nInadequate State Response\\n\\nCourt Intervention on the Issue of Homelessness In India\\n\\nVision Statement of Shahri Adhikar Manch: Begharon Ke Saath\\n\\nHLRN Homeless Exchange Programme\\n\\nPublications\\n\\nPress Releases on Homelessness in Delhi\\n\\nRelevant Links\\n\\nHomelessness in India\\n\\nThe Census of India 2011 defines \\'houseless household\\' as, \\'households who do not live in buildings or census houses but live in the open on roadside, pavements, in hume pipes, under flyovers and staircases, or in the open in places of worship, mandaps, railway platforms, etc.\\'.\\n\\nAccording to the Census of 2011, India has more than 1.7 million homeless residents, of which 938,384 are located in urban areas. These figures, however, grossly underestimate the real numbers of the homeless. Civil society organizations estimate that at least one per cent of the population of urban India is homeless. Based on this, it can be extrapolated that the population of the urban homeless is at least 3 million. In the capital city of Delhi alone, at any given point, civil society estimates place the number of homeless at around 150,000 - 200,000, of which at least 10,000 are women. India also has the highest number of street children in the world  but there is no official data on their numbers or adequate schemes to respond to their special needs and concerns.\\n\\nEstimated Number of Homeless People in Different Cities across India\\n\\nDelhi: 150,000 - 200,000\\n\\nChennai: 40,000 - 50,000\\n\\nMumbai: 200,000 (including Navi Mumbai)\\n\\nIndore:  10,000 - 12,000\\n\\nVishakhapatnam: 18,000\\n\\nBangalore:  40,000 - 50,000\\n\\nHyderabad: 60,000\\n\\nAhmedabad: 100,000\\n\\nPatna: 25,000\\n\\nKolkata: 150,000\\n\\nLucknow: 19,000\\n\\n[ Source: Independent estimates from organizations working on homelessness ]\\n\\nInadequate State Response\\n\\nThe priority of the government should be to address the structural causes of homelessness and to ensure that all homeless people are eventually able to move into adequate and affordable permanent housing. A shelter is an immediate, emergency, and humanitarian requirement, and must be provided by the state on a priority basis to the entire homeless population. On a \\'continuum of housing rights,\\' shelters are the first step, with the end goal being the provision of affordable and adequate housing for all. Homeless shelters provided by the government in all cities across India, however, are insufficient and inadequate; and in many cities such as Patna, are completely uninhabitable. The majority of shelters are ill-equipped, poorly located, and characterized by the lack of basic services such as drinking water, toilets and bathing facilities, electricity, clean bedding, storage space, and facilities for cooking / food distribution.\\n\\nThe National Urban Livelihoods Mission of the Government of India has developed a \\'Scheme of Shelters for Urban Homeless\\' (NULM-SUH). The scheme proposes a standard of 50 square feet per person in a homeless shelter. In most cities, however, the homeless are provided only about 15 square feet per person in a shelter, which is not sufficient to live with dignity. The lack of adequate space also results in overcrowding and congestion, leading to adverse health impacts on shelter residents. There is also an acute shortage of shelters for women, families, women with children, working men, and shelters for people with special needs such as older persons, persons with disabilities, persons living with mental illness or HIV/AIDS, and chemically dependent persons.\\n\\nWhile positive initiatives are being proposed at the national level and through progressive orders from the High Court of Delhi and the Supreme Court of India, the approach of the central and most state governments towards homelessness continues to be piece-meal and does not adopt the human rights framework.\\n\\nHLRN has been working at different levels to ensure the incorporation of a human rights approach to dealing with the issue of homelessness across India. We were involved with the creation of, and continue to play an active role in the functioning of, a forum working on homelessness in Delhi - Shahri Adhikar Manch: Begharon Ke Saath (Urban Rights Forum: With the Homeless - SAM:BKS). The Forum consists of several organizations, including the homeless and their networks, and works on issues related to their human rights to adequate housing, food, health, work/livelihood, security, and political participation. SAM:BKS also works to establish the legal identity of the homeless - who continue to be disenfranchised and criminalized by the government.\\n\\nCourt Intervention on the Issue of Homelessness In India\\n\\nHigh Court of Delhi\\n\\nIn January 2010, following the demolition of a temporary shelter by the Municipal Corporation of Delhi (MCD), the Chief Justice of the High Court of Delhi issued a suo moto notice against the Delhi government demanding an explanation for the demolition in the peak of winter, which resulted in the death of two homeless persons. SAM:BKS played an active role in providing support and information to the Court for the case, which was disposed in April 2015, after 100 hearings and several progressive orders.\\n\\nSee orders of the High Court of Delhi case (W.P. (C) 29/2010\\n\\nSupreme Court of India\\n\\n1)\\tPUCL v. Union of India and Others (W. P. (C) 196/2001)'),\n",
       " Document(page_content='Posts\\n\\nGlobal Poverty, Homeslessness\\n\\nHomeless in India: Causes and Aid Available\\n\\nHomelessness in India is on the rise. Many people are turning to the streets as a place to sleep and find income by performing hard labor. Children living on the street are also becoming very common for many reasons, including abuse and family abandonment.\\n\\nCauses\\n\\nFactors that contribute to homelessness include impairment, a shortage of housing affordability, irregular or long-term unemployment and shifts in business. Policymakers state that the cause of homelessness is substance addiction, mental illness, relationship failures and domestic abuse. Prime Minister Modi has set a goal to eradicate homelessness by 2022, but the government has made no progress thus far.\\n\\nStreet Children\\n\\nAs a result of urbanization, poverty and other factors, children end up on the streets. In India, there are more than 400,000 children living on the street. According to UNICEF, there are four categories of street children. There are high-risk kids who stay with families, but labor on the streets for a living. Then there are children who mainly live on the street, but spend some time with family. There are children who spend a good deal of time on the streets and therefore do not live with or communicate with family. Finally, there are orphaned children who are left alone with no caring adults.\\n\\nChildren who end up on the street are often subjected to neglect and physical and emotional abuse at home. Once on the street, children experience trafficking and/or heavy labor as they flee their families in hopes of a new life. Children as young as 6 years old skim through the litter in search of money to survive.\\n\\nHow Unemployment Has Contributed to Homelessness\\n\\nBecause education is more expensive for the average Indian than for the average American or European, more Indians are becoming unemployed. India’s average per capita income is only slightly more than $1,200, compared to the United States’ $54,510. This economic discrepancy shows why economic security is so difficult for Indians to achieve.\\n\\nChallenges Homeless in India Face\\n\\nDue to severe weather, seven homeless people die every day in Delhi. Homeless people have very little access to healthcare services. The absence of proper identification documentation needed by hospitals, the expenses and the tendency of physicians to openly reject them are just a few of the factors. According to a study taken by the United Nations Development Programme in 2010, less than 3% of homeless people in India had an ID.\\n\\nAid Available\\n\\nStreet kids have benefited from drop-in centers. These centers are set up by one of several NGOs working to assist the homeless in India. Salam Baalak Trust (SBT) is one such organization that has been functioning in Delhi since 1989. SBT operates four community centers that are open 24/7 and can accommodate up to 220 children at any given time. This group has aided 3,500 children living on the streets. Free clothes, food, schooling, support and rehabilitation programs are all available at SBT facilities.\\n\\nOther NGOs\\xa0offer different services to the homeless in India. Aashray Adhikar Abhiyan operates as an advocate for the homeless and Pehchan assists the homeless in getting proper identification, for example. With organizations such as these, as well as others, there is hope for the future of the homeless population of India.\\n\\n– Rand Lateef\\n\\nPhoto: Flickr\\n\\nMay 12, 2021\\n\\nhttps://borgenproject.org/wp-content/uploads/logo.jpg\\n\\t\\t\\t\\t\\t\\t0\\n\\t\\t\\t\\t\\t\\t0\\n\\nKim Thelwell\\n\\t\\t\\t\\t\\t\\t\\n\\t\\t\\t\\t\\t\\t\\thttps://borgenproject.org/wp-content/uploads/logo.jpg\\n\\nKim Thelwell\\n\\n2021-05-12 19:48:47\\n\\n2021-05-14 06:04:47\\n\\nHomeless in India: Causes and Aid Available\\n\\nAdvocacy, Development, Global Poverty, Homelessness, India\\n\\nHomelessness During India’s Rainy Season\\n\\nWhen most Indians think about the rainy season, they think about the viable crops that will grow and the economic prosperity that will ensue. The rainy season takes on a completely different meaning, however, for one of India’s most overlooked groups: the homeless. Homelessness in India is a significant problem on its own, with an estimated\\n\\n1.8 million homeless people living on the streets. When this large homeless population endures months of exposure to rain and winds, health complications and even deaths can occur. Due to its detrimental effects on health, homelessness during India’s rainy season is a significant issue to address.\\n\\nHousing Shortages\\n\\nIn addition to India’s homeless population, another 73 million families lack access to sufficient housing. Many families have recently lost their homes as a result of forced evictions. In 2017, the national government tore down more than 53,700 homes. Approximately 260,000 people were forcefully evicted due to motives like city beautification projects and infrastructure development. Many of the evicted will now have no choice but to endure the hardships accompanying the rainy season.\\n\\nIndia’s Rainy Season\\n\\nIndia’s rainy season lasts from June to September. Rain and wind are very frequent, with some areas in central or western India receiving approximately 90% of their total annual precipitation during this time period. Southern and northwestern India tend to receive between 50-75% of their annual precipitation during these months. In 2005, the monsoons were intense enough to trigger floods throughout the country. These floods marooned villages and affected more than 800,000 people.\\n\\nHomelessness During the Rainy Season\\n\\nHomelessness in India actually increases during the rainy season. In August 2018, the Times of India reported floods left 54,000 homeless. As more people suffer these poor weather conditions, the homeless population increases.\\n\\nDuring monsoon season, the homeless face increased difficulties. Homeless shelters often close during the summer months, leaving many to endure the hazardous weather conditions. Even if homeless people were able to find shelter during this season, they would still be forced to spend a significant amount of time on the streets in order to feed and maintain themselves financially.\\n\\nJulia Wardhaugh, a senior lecturer in criminology and criminal justice at Bangor University, who has researched homelessness in India, stated, “Even if some shelter is found, then subsistence has to be on the streets, finding casual work (e.g. recycling materials) or begging for alms.” She also went on to note that “the health consequences could be severe, especially for vulnerable adults and for children.”\\n\\nUnfortunately, data on this topic is limited, largely because it is difficult for the government to keep record of the homeless. As a result, their deaths are hard to track. One study, however, examined the deaths of homeless and unclaimed people in North India between 2008 and 2012. The study ultimately found that the majority of reported deaths occurred during the rainy season.\\n\\nFinding Solutions\\n\\nIn response to persistent homelessness in India that is often worsened by the rainy season, several organizations are working to provide aid.\\xa0Aashray Adhikar Abhiyan (AAA) is an organization working in Dehli to advocate homeless people’s rights and provide basic necessities such as food, clothes and shelter. AAA has provided more than 12 million beds, as well as health care to one million homeless Indians.\\n\\nURJA Trust is an organization seeking to protect the rights of homeless women in India. The group has brought more than 400 women out of homelessness and into safe spaces, offered mental health support to more than 300 women and raised awareness of female homelessness in civil society.\\n\\nSalaam Baalak Trust is an NGO that works to support homeless children. The organization conducts a variety of initiatives aimed at improving the lives of homeless children, including educational activities, outreach events and mental health programs. So far, they’ve supported 108,014 children.\\n\\nAlthough homelessness during India’s rainy season is a significant contributor to the struggles faced by thousands, it is often overlooked. The lack of research on the effects of prolonged exposure to dangerous weather suggests the country has yet to fully acknowledged the gravity of this issue. However, once this aspect is further studied and understood as well, there is hope for alleviating poverty in India and improving life for millions.\\n\\n– Sophia Gardner\\n\\nPhoto: Flickr\\n\\nOctober 20, 2020\\n\\nhttps://borgenproject.org/wp-content/uploads/logo.jpg\\n\\t\\t\\t\\t\\t\\t0\\n\\t\\t\\t\\t\\t\\t0\\n\\nKim Thelwell\\n\\t\\t\\t\\t\\t\\t\\n\\t\\t\\t\\t\\t\\t\\thttps://borgenproject.org/wp-content/uploads/logo.jpg\\n\\nKim Thelwell\\n\\n2020-10-20 12:59:36\\n\\n2020-10-20 12:59:35\\n\\nHomelessness During India’s Rainy Season\\n\\nGlobal Poverty, Homelessness, India\\n\\nA View into Homelessness in India\\n\\nIndia has\\n\\na population of 1.3 billion and is the second most populated country in the world. While it has a booming economy and democratic government, it has nonetheless struggled with containing its population growth and maintaining an equal distribution of wealth. India’s GDP is worth $2.6 trillion, but so many remain sidelined by their country’s overpopulation and are struggling to find a roof over their heads. Homelessness in India is a growing issue, one that will require multilateral cooperation from various sources to overcome.\\n\\nThe Statistics')]"
      ]
     },
     "execution_count": 37,
     "metadata": {},
     "output_type": "execute_result"
    }
   ],
   "source": [
    "docs"
   ]
  },
  {
   "cell_type": "code",
   "execution_count": 38,
   "metadata": {},
   "outputs": [],
   "source": [
    "docs_str = [str(x.page_content) for x in docs]"
   ]
  },
  {
   "cell_type": "code",
   "execution_count": 39,
   "metadata": {},
   "outputs": [],
   "source": [
    "stuff_answer = conversation.predict(\n",
    "    context=docs_str,\n",
    "    question=question,\n",
    ")"
   ]
  },
  {
   "cell_type": "code",
   "execution_count": null,
   "metadata": {},
   "outputs": [],
   "source": [
    "# stuff_answer = conversation(\n",
    "#     {\"context\": docs_str, \"question\": question}\n",
    "# )"
   ]
  },
  {
   "cell_type": "code",
   "execution_count": 40,
   "metadata": {},
   "outputs": [
    {
     "name": "stdout",
     "output_type": "stream",
     "text": [
      "('        In India, there are about 1.8 million homeless individuals living on '\n",
      " 'the streets, under bridges, on highways or in any place they can seek '\n",
      " 'refuge.')\n"
     ]
    }
   ],
   "source": [
    "pprint(stuff_answer)"
   ]
  },
  {
   "cell_type": "code",
   "execution_count": null,
   "metadata": {},
   "outputs": [],
   "source": [
    "# stuff_answer = conversation(\n",
    "#     {\"context\": docs_str, \"question\": question}\n",
    "# )"
   ]
  }
 ],
 "metadata": {
  "kernelspec": {
   "display_name": "HESTIA",
   "language": "python",
   "name": "python3"
  },
  "language_info": {
   "codemirror_mode": {
    "name": "ipython",
    "version": 3
   },
   "file_extension": ".py",
   "mimetype": "text/x-python",
   "name": "python",
   "nbconvert_exporter": "python",
   "pygments_lexer": "ipython3",
   "version": "3.11.0"
  }
 },
 "nbformat": 4,
 "nbformat_minor": 2
}
