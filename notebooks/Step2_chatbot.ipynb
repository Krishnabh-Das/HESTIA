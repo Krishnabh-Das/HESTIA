{
 "cells": [
  {
   "cell_type": "markdown",
   "metadata": {},
   "source": [
    "## Requirements"
   ]
  },
  {
   "cell_type": "code",
   "execution_count": null,
   "metadata": {},
   "outputs": [],
   "source": [
    "# %pip install pypdf\n",
    "# %pip install pandas\n",
    "# %pip install chromadb\n",
    "# %pip install langchain\n",
    "# %pip install \"unstructured[all-docs]\"\n",
    "# %pip install python-dotenv\n",
    "# %pip install google-generativeai\n",
    "# %pip install langchain-google-genai \n",
    "# %pip install selenium\n",
    "# %pip install \"astrapy>=0.5.3\""
   ]
  },
  {
   "cell_type": "markdown",
   "metadata": {},
   "source": [
    "## Imports"
   ]
  },
  {
   "cell_type": "code",
   "execution_count": 87,
   "metadata": {},
   "outputs": [],
   "source": [
    "import os\n",
    "from pathlib import Path as p\n",
    "from dotenv import load_dotenv\n",
    "\n",
    "import warnings\n",
    "from pprint import pprint\n",
    "from IPython.display import display\n",
    "\n",
    "import textwrap\n",
    "import pandas as pd\n",
    "\n",
    "import firebase_admin\n",
    "import google.generativeai as genai\n",
    "from firebase_admin import credentials\n",
    "\n",
    "from astrapy.db import AstraDB as db\n",
    "\n",
    "from langchain.schema import Document\n",
    "from langchain import PromptTemplate\n",
    "from langchain.vectorstores import Chroma\n",
    "from langchain.chains import LLMChain\n",
    "from langchain.document_loaders import SeleniumURLLoader, TextLoader\n",
    "from langchain_google_genai import ChatGoogleGenerativeAI\n",
    "from langchain.chains.question_answering import load_qa_chain\n",
    "from langchain_google_genai import GoogleGenerativeAIEmbeddings\n",
    "from langchain.text_splitter import RecursiveCharacterTextSplitter\n",
    "from langchain.chains.conversation.memory import ConversationSummaryMemory\n",
    "\n",
    "from langchain_community.vectorstores import AstraDB\n",
    "# from langchain_community.vectorstores import MatchingEngine\n",
    "from langchain_community.chat_message_histories.firestore import FirestoreChatMessageHistory\n",
    "\n",
    "warnings.filterwarnings(\"ignore\")"
   ]
  },
  {
   "cell_type": "markdown",
   "metadata": {},
   "source": [
    "## Parameters"
   ]
  },
  {
   "cell_type": "code",
   "execution_count": 48,
   "metadata": {},
   "outputs": [],
   "source": [
    "load_dotenv('./keys/.env')\n",
    "\n",
    "creds_path = \"./keys/serviceAccountKey.json\"\n",
    "\n",
    "data_list = [\n",
    "    \"https://borgenproject.org/tag/homelessness-in-india/\",\n",
    "    \"https://www.noblenonprofit.org/homelessness-in-india-an-unsolved-problem/\",\n",
    "    # \"https://caufsociety.com/homelessness-in-india/\",\n",
    "    # \"https://en.wikipedia.org/wiki/Homelessness_in_India\",\n",
    "    # \"https://www.hlrn.org.in/homelessness\",\n",
    "    # \"https://blog.ipleaders.in/prevention-homelessness-problem-treated-legally/\",\n",
    "    # \"https://borgenproject.org/homelessness-in-india/\",\n",
    "    # \"https://www.aljazeera.com/gallery/2023/1/3/photos-new-delhis-homeless-shiver-in-biting-cold\",\n",
    "    # \"https://www.quora.com/In-India-if-a-person-suddenly-becomes-homeless-what-are-some-tips-you-will-give-him\",\n",
    "    # \"https://leaglesamiksha.com/2022/06/19/homelessness-in-india-causes-and-remedies/\",\n",
    "    # \"https://www.orfonline.org/expert-speak/sheltering-the-urban-homeless\"\n",
    "]"
   ]
  },
  {
   "cell_type": "markdown",
   "metadata": {},
   "source": [
    "## Auth"
   ]
  },
  {
   "cell_type": "code",
   "execution_count": null,
   "metadata": {},
   "outputs": [],
   "source": [
    "genai.configure(api_key=os.environ.get(\"GOOGLE_API_KEY\"))"
   ]
  },
  {
   "cell_type": "code",
   "execution_count": null,
   "metadata": {},
   "outputs": [],
   "source": [
    "cred = credentials.Certificate(creds_path)\n",
    "firebase_admin.initialize_app(cred)"
   ]
  },
  {
   "cell_type": "code",
   "execution_count": 71,
   "metadata": {},
   "outputs": [],
   "source": [
    "ASTRA_DB_API_ENDPOINT = f\"https://{os.environ.get('ASTRA_DB_ID')}-{os.environ.get('ASTRA_DB_REGION')}.apps.astra.datastax.com\"\n",
    "ASTRA_DB_APPLICATION_TOKEN=os.environ.get('ASTRA_DB_APPLICATION_TOKEN')\n",
    "ASTRA_DB_ID = os.environ.get('ASTRA_DB_ID')\n",
    "ASTRA_DB_REGION = os.environ.get('ASTRA_DB_REGION')\n",
    "ASTRA_DB_APPLICATION_TOKEN = os.environ.get('ASTRA_DB_APPLICATION_TOKEN')\n",
    "ASTRA_DB_KEYSPACE = os.environ.get('ASTRA_DB_KEYSPACE')\n",
    "\n",
    "COLLECTION_NAME = \"HESTIA_chatbot_dev\"\n",
    "\n",
    "astra_db = db(\n",
    "    token=ASTRA_DB_APPLICATION_TOKEN,\n",
    "    api_endpoint=ASTRA_DB_API_ENDPOINT\n",
    ")"
   ]
  },
  {
   "cell_type": "markdown",
   "metadata": {},
   "source": [
    "## Configure LLM"
   ]
  },
  {
   "cell_type": "code",
   "execution_count": 25,
   "metadata": {},
   "outputs": [],
   "source": [
    "model = ChatGoogleGenerativeAI(\n",
    "    model=\"gemini-pro\",\n",
    "    temperature=0.3\n",
    ")"
   ]
  },
  {
   "cell_type": "code",
   "execution_count": 27,
   "metadata": {},
   "outputs": [],
   "source": [
    "embeddings = GoogleGenerativeAIEmbeddings(model=\"models/embedding-001\")"
   ]
  },
  {
   "cell_type": "code",
   "execution_count": 28,
   "metadata": {},
   "outputs": [],
   "source": [
    "message_history = FirestoreChatMessageHistory(\n",
    "    collection_name='Chat_message',\n",
    "    session_id     ='yolo',\n",
    "    user_id        ='yolo'\n",
    ")"
   ]
  },
  {
   "cell_type": "markdown",
   "metadata": {},
   "source": [
    "## Loading Data"
   ]
  },
  {
   "cell_type": "code",
   "execution_count": 29,
   "metadata": {},
   "outputs": [],
   "source": [
    "data_loader = SeleniumURLLoader(urls=data_list)\n",
    "pages = data_loader.load()"
   ]
  },
  {
   "cell_type": "markdown",
   "metadata": {},
   "source": [
    "## Prompt Design - In Context"
   ]
  },
  {
   "cell_type": "code",
   "execution_count": 31,
   "metadata": {},
   "outputs": [],
   "source": [
    "prompt = PromptTemplate(\n",
    "    input_variables=[\n",
    "      \"history\",\n",
    "      \"context\", \n",
    "      \"question\",\n",
    "\n",
    "    ],\n",
    "    template=(\n",
    "        \"\"\"Answer the question as precise as possible using the provided context. If the answer is\n",
    "           not contained in the context also refreter summary of past Conversation, say \"answer not available in context\":\\n\n",
    "\n",
    "        History:{history}\\n\n",
    "        Context:{context}\\n\n",
    "        Question:{question}\\n\n",
    "        \"\"\"\n",
    "    )\n",
    ")"
   ]
  },
  {
   "cell_type": "code",
   "execution_count": 32,
   "metadata": {},
   "outputs": [],
   "source": [
    "summary_memory=ConversationSummaryMemory(\n",
    "    llm=model,\n",
    "    memory_key=\"history\",\n",
    "    input_key=\"question\",\n",
    "    chat_memory=message_history\n",
    ")"
   ]
  },
  {
   "cell_type": "code",
   "execution_count": 41,
   "metadata": {},
   "outputs": [],
   "source": [
    "conversation = LLMChain(\n",
    "    llm=model, \n",
    "    verbose=False,\n",
    "    memory=summary_memory,\n",
    "    prompt=prompt\n",
    ")"
   ]
  },
  {
   "cell_type": "markdown",
   "metadata": {},
   "source": [
    "## RAG pipeline"
   ]
  },
  {
   "cell_type": "code",
   "execution_count": 99,
   "metadata": {},
   "outputs": [],
   "source": [
    "text_splitter = RecursiveCharacterTextSplitter(chunk_size=5000, chunk_overlap=0)\n",
    "context = \"\\n\\n\".join(str(p.page_content) for p in pages)\n",
    "texts = text_splitter.split_text(context)"
   ]
  },
  {
   "cell_type": "code",
   "execution_count": 100,
   "metadata": {},
   "outputs": [],
   "source": [
    "text = [Document(page_content=x) for x in texts]"
   ]
  },
  {
   "cell_type": "code",
   "execution_count": 96,
   "metadata": {},
   "outputs": [],
   "source": [
    "vector_index = Chroma.from_texts(texts, embeddings).as_retriever()"
   ]
  },
  {
   "cell_type": "code",
   "execution_count": 97,
   "metadata": {},
   "outputs": [],
   "source": [
    "vector_store = AstraDB(\n",
    "    embedding=embeddings,\n",
    "    collection_name=COLLECTION_NAME,\n",
    "    api_endpoint=ASTRA_DB_API_ENDPOINT,\n",
    "    token=ASTRA_DB_APPLICATION_TOKEN,\n",
    "    namespace='hestia'\n",
    ")"
   ]
  },
  {
   "cell_type": "code",
   "execution_count": 101,
   "metadata": {},
   "outputs": [],
   "source": [
    "for t in text:\n",
    "    inserted_ids = vector_store.add_documents([t])"
   ]
  },
  {
   "cell_type": "code",
   "execution_count": null,
   "metadata": {},
   "outputs": [],
   "source": [
    "# vector_index = MatchingEngine.from_components(\n",
    "#     texts=texts,\n",
    "#     project_id=\"<my_project_id>\",\n",
    "#     region=\"<my_region>\",\n",
    "#     gcs_bucket_uri=\"<my_gcs_bucket>\",\n",
    "#     index_id=\"<my_matching_engine_index_id>\",\n",
    "#     endpoint_id=\"<my_matching_engine_endpoint_id>\",\n",
    "#     embedding=embeddings\n",
    "# )\n",
    "# question = 'tell me about homelessness in india?'\n",
    "# docs = vector_index.get_relevant_documents(question)"
   ]
  },
  {
   "cell_type": "code",
   "execution_count": 102,
   "metadata": {},
   "outputs": [],
   "source": [
    "question = 'tell me about homelessness in india?'\n",
    "docs = vector_store.similarity_search(question, k=3)"
   ]
  },
  {
   "cell_type": "code",
   "execution_count": 37,
   "metadata": {},
   "outputs": [
    {
     "data": {
      "text/plain": [
       "[Document(page_content=\"India is the second most unequal country in the world, with 55 percent of income going to the top 10 percent of its population. Since India’s population increased exponentially, many cities ran out of space to contain the growing population. According to the Homeless World Cup, there were about 1.8 million homeless individuals living in India as of 2019. Over half of this population was living in urban areas, such as slums on the edge of cities. Unfortunately, the majority of the homeless often experience displacement through government-endorsed city beautification programs or by natural disasters. Due to their lack of resources, those who are homeless and poor struggle to recover from these events.\\n\\nConditions\\n\\nMost homeless people in India live on the streets of cities, under bridges, on highways or in any place they can seek refuge. Some maintain a nomadic lifestyle, where they roam around to find the best area for themselves and/or their families to live. In addition, they often face difficulties from the weather. This is especially prevalent during severe weather conditions, such as rain or snow. They have to use what is at their disposal to protect themselves.\\n\\nMoreover, women are more prone to abuse, trafficking and harassment, especially if they live on their own or as single mothers. Even in slums, families have very limited access to basic resources and almost no access to sanitation. Additionally, illegal squatting makes up a majority of the slum population, so many families live in fear of eviction.\\n\\nSolutions\\n\\nDespite the alarming numbers, the country is making progress to combat homelessness and poverty in India. Each day, 44 people come out of poverty through the work of government initiatives. The Indian government has implemented initiatives to help the poverty-induced with housing. The most prominent example of this is the Housing for All Act, called Pradhan Mantri Awas Yojana. Declared in 2015 by Prime Minister Narendra Modi, this Act claims to build homes for the entire population by 2022 (when India reaches 75 years of independence). However, there is a lot of criticism about the act in terms of its feasibility.\\n\\nMany critics claim that the federal government should actually follow in the footsteps of one of its states. In Kerala, the state government put another Housing for All Act in place, granting its homeless population free flats. As of April 2019, the state built the first set of flats that fit 145 families within a 270-flat complex. Kerala’s state government is surveying its homeless population and figuring out who qualifies for need-based housing and then building flats based on its findings. It plans to build over 400,000 flats. The government will cover all funding for the flats.\\n\\nThe Housing for All Act could solve homelessness in India. However, India still has a long way to go in order to achieve this ideal. The government initiatives are the first steps in figuring out how to end this chronic issue that India has had to deal with for decades.\\n\\nShreya Chari\\n\\nShreya Chari\\n\\nPhoto: Flickr\\n\\nApril 29, 2020\\n\\nShare this entry\\n\\nShare on Facebook\\n\\nShare on Twitter\\n\\nShare on Twitter\\n\\nShare on WhatsApp\\n\\nShare on Pinterest\\n\\nShare on LinkedIn\\n\\nShare on Tumblr\\n\\nShare on Vk\\n\\nShare on Reddit\\n\\nShare by Mail\\n\\nhttps://borgenproject.org/wp-content/uploads/logo.jpg\\n\\t\\t\\t\\t\\t\\t0\\n\\t\\t\\t\\t\\t\\t0\\n\\nLynsey Alexander\\n\\t\\t\\t\\t\\t\\t\\n\\t\\t\\t\\t\\t\\t\\thttps://borgenproject.org/wp-content/uploads/logo.jpg\\n\\nLynsey Alexander\\n\\n2020-04-29 13:20:11\\n\\n2020-04-29 13:20:11\\n\\nA View into Homelessness in India\\n\\nIn Pictures\\n\\nGallery|\\n\\nPoverty and Development\\n\\nAs winter chill sets in, Delhi’s homeless struggle to stay warm\\n\\nTens of thousands of the unhoused in India’s capital struggle to find shelter as temperatures fall.\\n\\nPublished On 3 Jan 2023\\n\\n3 Jan 2023\\n\\nfacebook\\n\\ntwitter\\n\\nwhatsapp\\n\\nWhen midnight approaches in New Delhi and a cold fog settles over the Indian capital, thousands of homeless people put down torn mattresses and blankets on the pavement and lie on them to keep warm.\\n\\nThose who can’t afford the blankets spend the night around a smoldering fire built with garbage and discarded cardboard boxes. Others hunker down in a government shelter system.\\n\\nIt’s a scene that repeats itself every year when India’s capital experiences a bout of winter cold that is blamed for killing scores of unhoused people and leaves tens of thousands of others shivering on the streets.\\n\\nOn Sunday, New Delhi recorded a low of 5.5C (41.9F), and India’s weather forecasting agency warned of a severe cold wave from Monday.\\n\\nNew Delhi’s 20 million inhabitants are conditioned to weather extremes from blistering heat waves in the summer to thick, grey smog that envelopes the capital before the onset of the winter when a brutal cold wave sweeps across most of northern India. The cold blankets streets in fog so thick that drivers cannot see cars in front of them, causing accidents.\\n\\nThe chill is an ordeal for the city’s homeless, who curl their bodies on sidewalks and sleep as the traffic goes by. Even though the city’s night shelters are a refuge to many who would otherwise find themselves sleeping near busy roundabouts and underpasses, most people there live in harsh conditions. Many of the night shelters are overcrowded and have unsanitary toilets and no water.\\n\\nAdvertisement\\n\\n“Overcrowding is a big problem. Because of too much footfall, some people sleep on the roadside,” said Sunil Kumar Aledia of the Centre for Holistic Development, who has worked with Delhi’s homeless population for decades.\\n\\nIndia’s 2011 census figures showed about 47,000 of the city’s residents were homeless, but activists say the number is a vast underestimate and New Delhi has more than 150,000 people without permanent residences to sleep in.\\n\\nOfficial figures also show the city’s 195 homeless shelters can accommodate about 19,000 people, leaving tens of thousands struggling to keep warm.\\n\\nAdvertisement\\n\\nAdvertisement\\n\\nSomething went wrong. Wait a moment and try again.\\n\\nSkip to content\\n\\nSkip to search\\n\\nSign In\\n\\nIn India, if a person suddenly becomes homeless, what are some tips you will give him?\\n\\nAll related (35)\\n\\nSort\\n\\nRecommended\\n\\nChatGPT\\n\\nBot\\n\\nIf someone in India suddenly becomes homeless, here are some tips that may be helpful:\\n\\nLook for temporary shelter: Seek out temporary shelter options such as homeless shelters, community centers, and religious organizations that offer temporary housing.\\n\\nContact government agencies: Reach out to local government agencies such as the Municipal Corporation, the Social Welfare Department, and the National Urban Livelihood Mission. They may be able to provide assistance with housing, food, and other basic needs.\\n\\nSeek out employment: Look for job opportunities in your area, even if they are low-paying or temporary. Any income can help you get back on your feet.\\n\\nReach out to family and friends: If you have family or friends who can help, don't hesitate to reach out to them for assistance.\\n\\nLook for local support groups: There may be local support groups or non-profit organizations that offer assistance to homeless individuals. They may be able to provide you with resources and support to help you get back on your feet.\\n\\nRemember, it's important to stay safe and seek out help as soon as possible. Homelessness can be a difficult and challenging experience, but there are resources available to help you get through it.\\n\\nContinue reading\\n\\nKumar Shanu\\n\\n4y\\n\\nFirst of all Take your time holding yourself up. Secondly find a place where you can have food to survive like Gurudwara, or aashram or NGO. Now don't stick here for free food . Just there hardly for 1–2 months and keep searching opportunities. And take actions after thinking how you can improve your current situation. Dependency Is not good at all. Remember that.\\n\\n99\\n\\n12\\n\\nRelated questions\\n\\nMore answers below\\n\\nI aspire to live a homeless life for a couple of years in india, how much possible is it? What should be the main obstacles to survival?\\n\\nIf a person becomes homeless in India, where can he go?\\n\\nIn India, if a person becomes homeless too rich suddenly, what are some tips you will give him?\\n\\nHow can a homeless person with no friends and family dig their way out of homelessness?\\n\\nWhat is the quickest way to get out of homelessness?\\n\\nRelated questions\\n\\nI aspire to live a homeless life for a couple of years in india, how much possible is it? What should be the main obstacles to survival?\\n\\nIf a person becomes homeless in India, where can he go?\\n\\nIn India, if a person becomes homeless too rich suddenly, what are some tips you will give him?\\n\\nHow can a homeless person with no friends and family dig their way out of homelessness?\\n\\nWhat is the quickest way to get out of homelessness?\\n\\nI am 20 years old and I've been homeless sleeping in my car. How can I get help?\\n\\nI'm 16 and live in Northeast India. I know it sounds stupid but I'm planning to run away from home this month. Can anyone give me any idea about any place where I can go?\\n\\nIf I'm homeless and in the streets of Mumbai, could I ask a shop owner to act like I stole something so that the police could put me in jail? So that way I can get food somehow. Is there any job that a 19 year old could get if he was abandoned?\\n\\nAs a homeless person, what tips can you give someone for surviving the streets?\\n\\nWhat is being homeless in India like?\\n\\nIf we give a house to every homeless person, will that solve homelessness?\\n\\nI'm going to be homeless soon and I'm 16. I have $300. What should I do?\\n\\nI'm going to be poor when my parents die and I have no friends. The reason is legit and it's a secret. What should I do to survive being homeless?\\n\\nIf people over 65 can get SSI, why are there homeless beggars over 65 years old?\\n\\nWhat should someone do if they know they are going to become homeless?\\n\\nRelated questions\\n\\nI aspire to live a homeless life for a couple of years in india, how much possible is it? What should be the main obstacles to survival?\"),\n",
       " Document(page_content='\"Understanding Homelessness Articles.\" This page is an excellent next stop because it offers dozens of other interesting articles related to understanding homelessness.\\n\\n\"List of Tent Cities in America.\" Why are tent cities allowed in the U.S.? Where are they in the country? This article explores 27 tent cities in America.\\n\\n\"Why is Being Homeless Illegal?\" You may be concerned that homeless people are treated unfairly. This article explores why being homeless is illegal.\\n\\n\"Why is Homelessness Important?\" Homelessness is significant because it is bad and remains unsolved. This article explores why those two reasons make homelessness important.\\n\\n\"Mental Illness and Homelessness.\" Mental illness and homelessness directly cause the other. This article explores the relationship between the two.\\n\\n\"Why Is Homelessness Not a Problem?\" Is homelessness really as big of a deal as everyone seems to make it? This article explores why homelessness is not a problem.\\n\\n\"Veterans and Homelessness.\" Why are so many veterans homeless? How do they become homeless? This article answers both these questions and more!\\n\\n\"Why Are Most Homeless People White?\" Ever notice that almost anywhere you go in the United States most homeless people are white? This article explores why.\\n\\n\"Homeless with a Job.\" When you work full time and cant even afford to pay the rent, something is terribly wrong. This article explores being homeless with a job.\\n\\n\"Why Do Homeless People Live in Cities?\" Homeless people sleep in crowded cities on concrete blocks. Why not go to wildernesses? This article explains why homeless people live in cities.\\n\\nkey takeaways\\n\\nHomelessness in India exists mainly because of migration, wealth inequality, and discrimination.\\n\\nMega-cities in India face the brunt of the homelessness crisis because people migrate in droves from rural areas to these urban centers in search of a better life.\\n\\nIndian NGOs help homeless people by providing them with temporary shelters and basic amenities, and by spreading awareness.\\n\\nThe Government of India is working to improve shelters and distribute food at cheap rates among the homeless. Its mission is to avert the crisis entirely by 2022 under the PMAY Scheme.\\n\\nTo help the problem, you can play your part by educating yourself and others, volunteering at homeless shelters, and advocating for their rights.\\n\\nfurther readingThis article focused exclusively on homelessness in india. What it focused little to none on, however, is poverty and homelessness.\\n\\nother helpful articles\\n\\n\"Understanding Homelessness Articles.\" This page is an excellent next stop because it offers dozens of other interesting articles related to understanding homelessness.\\n\\n\"List of Tent Cities in America.\" Why are tent cities allowed in the U.S.? Where are they in the country? This article explores 27 tent cities in America.\\n\\n\"Why is Being Homeless Illegal?\" You may be concerned that homeless people are treated unfairly. This article explores why being homeless is illegal.\\n\\n\"Why is Homelessness Important?\" Homelessness is significant because it is bad and remains unsolved. This article explores why those two reasons make homelessness important.\\n\\n\"Mental Illness and Homelessness.\" Mental illness and homelessness directly cause the other. This article explores the relationship between the two.\\n\\n\"Why Is Homelessness Not a Problem?\" Is homelessness really as big of a deal as everyone seems to make it? This article explores why homelessness is not a problem.\\n\\n\"Veterans and Homelessness.\" Why are so many veterans homeless? How do they become homeless? This article answers both these questions and more!\\n\\n\"Why Are Most Homeless People White?\" Ever notice that almost anywhere you go in the United States most homeless people are white? This article explores why.\\n\\n\"Homeless with a Job.\" When you work full time and cant even afford to pay the rent, something is terribly wrong. This article explores being homeless with a job.\\n\\n\"Why Do Homeless People Live in Cities?\" Homeless people sleep in crowded cities on concrete blocks. Why not go to wildernesses? This article explains why homeless people live in cities.\\n\\nkey takeaways\\n\\nHomelessness in India exists mainly because of migration, wealth inequality, and discrimination.\\n\\nMega-cities in India face the brunt of the homelessness crisis because people migrate in droves from rural areas to these urban centers in search of a better life.\\n\\nIndian NGOs help homeless people by providing them with temporary shelters and basic amenities, and by spreading awareness.\\n\\nThe Government of India is working to improve shelters and distribute food at cheap rates among the homeless. Its mission is to avert the crisis entirely by 2022 under the PMAY Scheme.\\n\\nTo help the problem, you can play your part by educating yourself and others, volunteering at homeless shelters, and advocating for their rights.\\n\\nthank you for reading\\n\\nFEATURED ARTICLES\\n\\nWhy Don\\'t Homeless People Just Get a Job?\\n\\nWhy do People Become Homeless?\\n\\nWhy is Homelessness a Problem?\\n\\nTiny Homes for the Homeless\\n\\nWhat is it Like to Be Homeless?\\n\\nRECENT\\n\\nWhere Can A Homeless Woman Go For Help?\\n\\nWho Funds Homeless Shelters?\\n\\nWhat To Do If You Will Soon Become Homeless\\n\\nWhat to Do When Homeless\\n\\nWhat To Do With Belongings When Homeless\\n\\nWho Has The Largest Homeless Population?\\n\\nCATEGORIES\\n\\nBeing Homeless\\n\\nFeatured\\n\\nHelping the Homeless\\n\\nHomelessness by Country and Continent\\n\\nHomelessness in the United States\\n\\nResources for the Homeless\\n\\nSOCIETY\\n\\nAbout\\n\\nContact\\n\\nPrivacy Policy\\n\\nDonate to Ending Homelessness\\n\\nTerms of Service\\n\\nImage Credits\\n\\nToggle the table of contents\\n\\nContents\\n\\n(Top)\\n\\n1Causes\\n\\n2Street children\\n\\n3Challenges faced by the homeless\\n\\n4Efforts to assist\\n\\t\\t\\n\\t\\t\\n\\t\\t\\t\\n\\t\\t\\t\\t\\n\\t\\t\\t\\tToggle Efforts to assist subsection\\n\\t\\t\\t\\n\\t\\t\\n\\t\\t\\n\\t\\t\\t\\n\\t\\t\\t\\n\\t\\t\\t\\t\\n\\t\\t\\t\\t4.1Non-governmental services\\n\\t\\t\\t\\n\\t\\t\\t\\n\\t\\t\\t\\n\\t\\t\\t\\n\\t\\t\\n\\t\\t\\n\\t\\t\\t\\n\\t\\t\\t\\t\\n\\t\\t\\t\\t4.2Governmental services\\n\\n5Homelessness and informal housing: the case of Mumbai\\n\\n6A growing concern\\n\\n7References\\n\\nHomelessness in India\\n\\n1 language\\n\\nالعربية\\n\\nEdit links\\n\\nArticle\\n\\nTalk\\n\\nEnglish\\n\\nRead\\n\\nEdit\\n\\nView history\\n\\nTools\\n\\nTools\\n\\nActions\\n\\nRead\\n\\nEdit\\n\\nView history\\n\\nGeneral\\n\\nWhat links here\\n\\nRelated changes\\n\\nUpload file\\n\\nSpecial pages\\n\\nPermanent link\\n\\nPage information\\n\\nCite this page\\n\\nGet shortened URL\\n\\nWikidata item\\n\\nEdit interlanguage links\\n\\nExpand all\\n\\nPrint/export\\n\\nDownload as PDF\\n\\nPrintable version\\n\\nIn other projects\\n\\nWikimedia Commons\\n\\nFrom Wikipedia, the free encyclopedia\\n\\nMajor social issue in India\\n\\nSee also: \\n\\nIndian states ranking by families owning house\\n\\nHomelessness\\n\\nIndia.\\n\\nUniversal Declaration of Human Rights defines \\'\\n\\nhomeless\\' as those who do not live in a regular residence. The United Nations Economic and Social Council Statement has a broader definition for homelessness; it defines homelessness as follows: ‘When we are talking about housing, we are not just talking about four walls and a roof. The right to adequate housing is about security of tenure, affordability, access to services and cultural adequacy. It is about protection from forced eviction and displacement, fighting homelessness, poverty and exclusion.\\n\\n[1]\\n\\nCensus houses, but rather stay on pavements, roadsides, railway platforms, staircases, temples, streets, in pipes, or other open spaces.\\n\\n[2]\\n\\n[2]\\n\\n[3]\\n\\n[1]\\n\\n[4]\\n\\n[5]\\n\\n[6]\\n\\nNew Delhi; the same population in\\n\\nCanada would make up approximately 30\\n\\nelectoral districts.\\n\\n[7]\\n\\n[2]\\n\\n[8]\\n\\npoverty threshold.\\n\\n[8]\\n\\nGovernment of India to tackle urban homelessness and\\n\\npoverty may be affected in the future by both external and internal factors.\\n\\n[8]\\n\\n[9]\\n\\nslums and tenements.\\n\\n[10]\\n\\n[8]\\n\\nSlumdog Millionaire\\n\\nMumbai was a slum tourist destination for slumming where homeless people and slum dwellers alike could be openly viewed by tourists.\\n\\n[11]\\n\\nCauses[edit]\\n\\nurbanization.\\n\\n[12]\\n\\n[13]\\n\\n[2]\\n\\nSlums can provide an escape, yet individuals often cannot afford them.\\n\\n[2]\\n\\nabuse, maltreatment, and lack of access to schools and healthcare.\\n\\n[6]\\n\\ndisability (either mental, physical, or both), lack of affordable\\n\\nhousing (a basic apartment in India costs approximately US$70 per month\\n\\n[14]\\n\\nunemployment (either seasonal or through economic hardships), and changes in industry.\\n\\n[8]\\n\\n[1]\\n\\nheavy industry and\\n\\nmanufacturing (that require only a high school level of education) are being replaced by\\n\\nservice industry jobs (which may or may not require a higher level of education). Since university is less affordable for the average Indian than it is for the average North American or European citizen due to their lower\\n\\nper capita income level, more people in India are becoming unemployable for the jobs of the 21st century. The average per capita income for a citizen of India is barely more than US$1,200; compared to US$54,510 in Canada and more than US$64,800 in Switzerland.\\n\\n[15]\\n\\n[16]\\n\\n[17]\\n\\nPolicymakers attribute the following factors as the main causes of homelessness: substance use, mental illness, relationship failures, and domestic abuse. These place responsibility and blame directly on the homeless. Policies related to ‘deinstitutionalization of care for mentally ill people and subsequent abandonment of a family member with mental illness by the family’ have also increased the number of people living without a roof over their heads.[1]\\n\\nStreet children[edit]\\n\\nMain article: \\n\\nStreet children in India'),\n",
       " Document(page_content='show v t e Homelessness in Asia Sovereign states \\n Afghanistan \\n Armenia \\n Azerbaijan \\n Bahrain \\n Bangladesh \\n Bhutan \\n Brunei \\n Cambodia \\n China \\n Cyprus \\n East Timor (Timor-Leste) \\n Egypt \\n Georgia \\n India \\n Indonesia \\n Iran \\n Iraq \\n Israel \\n Japan \\n Jordan \\n Kazakhstan \\n North Korea \\n South Korea \\n Kuwait \\n Kyrgyzstan \\n Laos \\n Lebanon \\n Malaysia \\n Maldives \\n Mongolia \\n Myanmar \\n Nepal \\n Oman \\n Pakistan \\n Philippines \\n Qatar \\n Russia \\n Saudi Arabia \\n Singapore \\n Sri Lanka \\n Syria \\n Tajikistan \\n Thailand \\n Turkey \\n Turkmenistan \\n United Arab Emirates \\n Uzbekistan \\n Vietnam \\n Yemen \\n States with limited recognition \\n Abkhazia \\n Northern Cyprus \\n Palestine \\n South Ossetia \\n Taiwan \\n Dependencies  and other territories \\n British Indian Ocean Territory \\n Christmas Island \\n Cocos (Keeling) Islands \\n Hong Kong \\n Macau \\n \\n   Category \\n   Asia portal\\n\\nhide v t e Homelessness People \\n Aged people \\n Cyber-homeless \\n Families \\n McRefugee \\n Mole people \\n Street people \\n Street children \\n Social orphan \\n Vagrants \\n Bergie \\n Tramps \\n Hobos \\n Youth \\n Issues \\n Anti-homelessness legislation \\n Bill of Rights \\n Bumvertising \\n Discrimination \\n Mental health \\n Patient dumping \\n Popular culture \\n Spirituality \\n Vulnerability Index \\n Pets \\n Survival sex \\n Social cleansing \\n Slum clearance \\n Responses \\n Soup kitchen \\n Hygiene program \\n Homeless ministry \\n Homelessness services \\n List \\n Street newspaper \\n List \\n Shelters \\n Homeless shelter \\n Cooling center \\n Drop-in center \\n Four penny coffin \\n Penny sit-up \\n Warming center \\n Women\\'s shelter \\n Homeless Friendly Precincts \\n Housing \\n Foyers \\n Housing First \\n Rapid Re-Housing \\n Right to housing \\n Single room occupancy  (SRO) \\n Squatting \\n Tent city \\n Transitional housing \\n Awareness \\n Homelessness Action Week \\n Homeless Persons\\' Week \\n Homeless World Cup \\n International Year of Shelter for the Homeless \\n Street Child World Cup \\n Youth Homelessness Matters Day \\n \\n By country Africa \\n Algeria \\n Egypt \\n Ghanaian children \\n South Africa \\n Americas \\n Canada \\n Vancouver \\n Latin American children \\n United States \\n LGBT youth \\n Veterans \\n Women \\n California \\n San Francisco \\n Colorado \\n Columbus \\n Florida \\n Minneapolis \\n New Mexico \\n Oregon \\n Seattle \\n Elsewhere \\n Asia \\n Bangladeshi children \\n China \\n India \\n children \\n Indonesia \\n Iraq \\n Israel \\n Japan \\n North Korea \\n Filipino children \\n Thai children \\n Europe East \\n Eastern European children \\n Hungary \\n Russia \\n North \\n Denmark \\n Finland \\n Ireland \\n Sweden \\n United Kingdom \\n England \\n Scotland \\n South \\n Greece \\n Portugal \\n Spain \\n Vatican City \\n West \\n France \\n Germany \\n Netherlands \\n Switzerland \\n Oceania \\n Australia \\n Papua New Guinea \\n New Zealand \\n   Category\\n\\nRetrieved from \"\\n\\nhttps://en.wikipedia.org/w/index.php?title=Homelessness_in_India&oldid=1185536928\"\\n\\nCategories:\\n\\nPoverty in India\\n\\nHomelessness by country\\n\\nHousing in India\\n\\nSocial issues in India\\n\\nHidden categories: \\n\\nWebarchive template wayback links\\n\\nCS1 maint: location missing publisher\\n\\nCS1 maint: others\\n\\nArticles with short description\\n\\nShort description matches Wikidata\\n\\nUse Indian English from January 2016\\n\\nAll Wikipedia articles written in Indian English\\n\\nhindi\\xa0\\xa0|\\n\\nToggle navigation\\n\\nMENU\\n\\nhome\\n\\nabout us\\n\\nCOVID-19\\n\\nservices\\n\\npublications\\n\\nresources\\n\\nmedia & events\\n\\ncontact us\\n\\nHomelessness\\n\\n\\n\\t\\t\\t\\t\\tThe problem of homelessness across the world is acute and seems to be getting worse. Homelessness constitutes the worst violation of the human right to adequate housing, and homeless people, especially women, are among the most marginalized, ignored, and discriminated.\\n\\nHomeless women, particularly young women, suffer the worst kinds of violence and insecurity, and are vulnerable to sexual exploitation and trafficking. Instances of rape, molestation, and women spending sleepless nights guarding their young adolescent girls are a common feature among homeless women. Accessing health care is a tremendous challenge for homeless people, especially women. The human rights of street children to security, adequate housing, education, development, and education, are continually violated. Apart from being malnourished, poverty-stricken and often abused, most street children are unable to attend school.\\n\\nHomelessness in India\\n\\nInadequate State Response\\n\\nCourt Intervention on the Issue of Homelessness In India\\n\\nVision Statement of Shahri Adhikar Manch: Begharon Ke Saath\\n\\nHLRN Homeless Exchange Programme\\n\\nPublications\\n\\nPress Releases on Homelessness in Delhi\\n\\nRelevant Links\\n\\nHomelessness in India\\n\\nThe Census of India 2011 defines \\'houseless household\\' as, \\'households who do not live in buildings or census houses but live in the open on roadside, pavements, in hume pipes, under flyovers and staircases, or in the open in places of worship, mandaps, railway platforms, etc.\\'.\\n\\nAccording to the Census of 2011, India has more than 1.7 million homeless residents, of which 938,384 are located in urban areas. These figures, however, grossly underestimate the real numbers of the homeless. Civil society organizations estimate that at least one per cent of the population of urban India is homeless. Based on this, it can be extrapolated that the population of the urban homeless is at least 3 million. In the capital city of Delhi alone, at any given point, civil society estimates place the number of homeless at around 150,000 - 200,000, of which at least 10,000 are women. India also has the highest number of street children in the world  but there is no official data on their numbers or adequate schemes to respond to their special needs and concerns.\\n\\nEstimated Number of Homeless People in Different Cities across India\\n\\nDelhi: 150,000 - 200,000\\n\\nChennai: 40,000 - 50,000\\n\\nMumbai: 200,000 (including Navi Mumbai)\\n\\nIndore:  10,000 - 12,000\\n\\nVishakhapatnam: 18,000\\n\\nBangalore:  40,000 - 50,000\\n\\nHyderabad: 60,000\\n\\nAhmedabad: 100,000\\n\\nPatna: 25,000\\n\\nKolkata: 150,000\\n\\nLucknow: 19,000\\n\\n[ Source: Independent estimates from organizations working on homelessness ]\\n\\nInadequate State Response\\n\\nThe priority of the government should be to address the structural causes of homelessness and to ensure that all homeless people are eventually able to move into adequate and affordable permanent housing. A shelter is an immediate, emergency, and humanitarian requirement, and must be provided by the state on a priority basis to the entire homeless population. On a \\'continuum of housing rights,\\' shelters are the first step, with the end goal being the provision of affordable and adequate housing for all. Homeless shelters provided by the government in all cities across India, however, are insufficient and inadequate; and in many cities such as Patna, are completely uninhabitable. The majority of shelters are ill-equipped, poorly located, and characterized by the lack of basic services such as drinking water, toilets and bathing facilities, electricity, clean bedding, storage space, and facilities for cooking / food distribution.\\n\\nThe National Urban Livelihoods Mission of the Government of India has developed a \\'Scheme of Shelters for Urban Homeless\\' (NULM-SUH). The scheme proposes a standard of 50 square feet per person in a homeless shelter. In most cities, however, the homeless are provided only about 15 square feet per person in a shelter, which is not sufficient to live with dignity. The lack of adequate space also results in overcrowding and congestion, leading to adverse health impacts on shelter residents. There is also an acute shortage of shelters for women, families, women with children, working men, and shelters for people with special needs such as older persons, persons with disabilities, persons living with mental illness or HIV/AIDS, and chemically dependent persons.\\n\\nWhile positive initiatives are being proposed at the national level and through progressive orders from the High Court of Delhi and the Supreme Court of India, the approach of the central and most state governments towards homelessness continues to be piece-meal and does not adopt the human rights framework.\\n\\nHLRN has been working at different levels to ensure the incorporation of a human rights approach to dealing with the issue of homelessness across India. We were involved with the creation of, and continue to play an active role in the functioning of, a forum working on homelessness in Delhi - Shahri Adhikar Manch: Begharon Ke Saath (Urban Rights Forum: With the Homeless - SAM:BKS). The Forum consists of several organizations, including the homeless and their networks, and works on issues related to their human rights to adequate housing, food, health, work/livelihood, security, and political participation. SAM:BKS also works to establish the legal identity of the homeless - who continue to be disenfranchised and criminalized by the government.\\n\\nCourt Intervention on the Issue of Homelessness In India\\n\\nHigh Court of Delhi\\n\\nIn January 2010, following the demolition of a temporary shelter by the Municipal Corporation of Delhi (MCD), the Chief Justice of the High Court of Delhi issued a suo moto notice against the Delhi government demanding an explanation for the demolition in the peak of winter, which resulted in the death of two homeless persons. SAM:BKS played an active role in providing support and information to the Court for the case, which was disposed in April 2015, after 100 hearings and several progressive orders.\\n\\nSee orders of the High Court of Delhi case (W.P. (C) 29/2010\\n\\nSupreme Court of India\\n\\n1)\\tPUCL v. Union of India and Others (W. P. (C) 196/2001)'),\n",
       " Document(page_content='Posts\\n\\nGlobal Poverty, Homeslessness\\n\\nHomeless in India: Causes and Aid Available\\n\\nHomelessness in India is on the rise. Many people are turning to the streets as a place to sleep and find income by performing hard labor. Children living on the street are also becoming very common for many reasons, including abuse and family abandonment.\\n\\nCauses\\n\\nFactors that contribute to homelessness include impairment, a shortage of housing affordability, irregular or long-term unemployment and shifts in business. Policymakers state that the cause of homelessness is substance addiction, mental illness, relationship failures and domestic abuse. Prime Minister Modi has set a goal to eradicate homelessness by 2022, but the government has made no progress thus far.\\n\\nStreet Children\\n\\nAs a result of urbanization, poverty and other factors, children end up on the streets. In India, there are more than 400,000 children living on the street. According to UNICEF, there are four categories of street children. There are high-risk kids who stay with families, but labor on the streets for a living. Then there are children who mainly live on the street, but spend some time with family. There are children who spend a good deal of time on the streets and therefore do not live with or communicate with family. Finally, there are orphaned children who are left alone with no caring adults.\\n\\nChildren who end up on the street are often subjected to neglect and physical and emotional abuse at home. Once on the street, children experience trafficking and/or heavy labor as they flee their families in hopes of a new life. Children as young as 6 years old skim through the litter in search of money to survive.\\n\\nHow Unemployment Has Contributed to Homelessness\\n\\nBecause education is more expensive for the average Indian than for the average American or European, more Indians are becoming unemployed. India’s average per capita income is only slightly more than $1,200, compared to the United States’ $54,510. This economic discrepancy shows why economic security is so difficult for Indians to achieve.\\n\\nChallenges Homeless in India Face\\n\\nDue to severe weather, seven homeless people die every day in Delhi. Homeless people have very little access to healthcare services. The absence of proper identification documentation needed by hospitals, the expenses and the tendency of physicians to openly reject them are just a few of the factors. According to a study taken by the United Nations Development Programme in 2010, less than 3% of homeless people in India had an ID.\\n\\nAid Available\\n\\nStreet kids have benefited from drop-in centers. These centers are set up by one of several NGOs working to assist the homeless in India. Salam Baalak Trust (SBT) is one such organization that has been functioning in Delhi since 1989. SBT operates four community centers that are open 24/7 and can accommodate up to 220 children at any given time. This group has aided 3,500 children living on the streets. Free clothes, food, schooling, support and rehabilitation programs are all available at SBT facilities.\\n\\nOther NGOs\\xa0offer different services to the homeless in India. Aashray Adhikar Abhiyan operates as an advocate for the homeless and Pehchan assists the homeless in getting proper identification, for example. With organizations such as these, as well as others, there is hope for the future of the homeless population of India.\\n\\n– Rand Lateef\\n\\nPhoto: Flickr\\n\\nMay 12, 2021\\n\\nhttps://borgenproject.org/wp-content/uploads/logo.jpg\\n\\t\\t\\t\\t\\t\\t0\\n\\t\\t\\t\\t\\t\\t0\\n\\nKim Thelwell\\n\\t\\t\\t\\t\\t\\t\\n\\t\\t\\t\\t\\t\\t\\thttps://borgenproject.org/wp-content/uploads/logo.jpg\\n\\nKim Thelwell\\n\\n2021-05-12 19:48:47\\n\\n2021-05-14 06:04:47\\n\\nHomeless in India: Causes and Aid Available\\n\\nAdvocacy, Development, Global Poverty, Homelessness, India\\n\\nHomelessness During India’s Rainy Season\\n\\nWhen most Indians think about the rainy season, they think about the viable crops that will grow and the economic prosperity that will ensue. The rainy season takes on a completely different meaning, however, for one of India’s most overlooked groups: the homeless. Homelessness in India is a significant problem on its own, with an estimated\\n\\n1.8 million homeless people living on the streets. When this large homeless population endures months of exposure to rain and winds, health complications and even deaths can occur. Due to its detrimental effects on health, homelessness during India’s rainy season is a significant issue to address.\\n\\nHousing Shortages\\n\\nIn addition to India’s homeless population, another 73 million families lack access to sufficient housing. Many families have recently lost their homes as a result of forced evictions. In 2017, the national government tore down more than 53,700 homes. Approximately 260,000 people were forcefully evicted due to motives like city beautification projects and infrastructure development. Many of the evicted will now have no choice but to endure the hardships accompanying the rainy season.\\n\\nIndia’s Rainy Season\\n\\nIndia’s rainy season lasts from June to September. Rain and wind are very frequent, with some areas in central or western India receiving approximately 90% of their total annual precipitation during this time period. Southern and northwestern India tend to receive between 50-75% of their annual precipitation during these months. In 2005, the monsoons were intense enough to trigger floods throughout the country. These floods marooned villages and affected more than 800,000 people.\\n\\nHomelessness During the Rainy Season\\n\\nHomelessness in India actually increases during the rainy season. In August 2018, the Times of India reported floods left 54,000 homeless. As more people suffer these poor weather conditions, the homeless population increases.\\n\\nDuring monsoon season, the homeless face increased difficulties. Homeless shelters often close during the summer months, leaving many to endure the hazardous weather conditions. Even if homeless people were able to find shelter during this season, they would still be forced to spend a significant amount of time on the streets in order to feed and maintain themselves financially.\\n\\nJulia Wardhaugh, a senior lecturer in criminology and criminal justice at Bangor University, who has researched homelessness in India, stated, “Even if some shelter is found, then subsistence has to be on the streets, finding casual work (e.g. recycling materials) or begging for alms.” She also went on to note that “the health consequences could be severe, especially for vulnerable adults and for children.”\\n\\nUnfortunately, data on this topic is limited, largely because it is difficult for the government to keep record of the homeless. As a result, their deaths are hard to track. One study, however, examined the deaths of homeless and unclaimed people in North India between 2008 and 2012. The study ultimately found that the majority of reported deaths occurred during the rainy season.\\n\\nFinding Solutions\\n\\nIn response to persistent homelessness in India that is often worsened by the rainy season, several organizations are working to provide aid.\\xa0Aashray Adhikar Abhiyan (AAA) is an organization working in Dehli to advocate homeless people’s rights and provide basic necessities such as food, clothes and shelter. AAA has provided more than 12 million beds, as well as health care to one million homeless Indians.\\n\\nURJA Trust is an organization seeking to protect the rights of homeless women in India. The group has brought more than 400 women out of homelessness and into safe spaces, offered mental health support to more than 300 women and raised awareness of female homelessness in civil society.\\n\\nSalaam Baalak Trust is an NGO that works to support homeless children. The organization conducts a variety of initiatives aimed at improving the lives of homeless children, including educational activities, outreach events and mental health programs. So far, they’ve supported 108,014 children.\\n\\nAlthough homelessness during India’s rainy season is a significant contributor to the struggles faced by thousands, it is often overlooked. The lack of research on the effects of prolonged exposure to dangerous weather suggests the country has yet to fully acknowledged the gravity of this issue. However, once this aspect is further studied and understood as well, there is hope for alleviating poverty in India and improving life for millions.\\n\\n– Sophia Gardner\\n\\nPhoto: Flickr\\n\\nOctober 20, 2020\\n\\nhttps://borgenproject.org/wp-content/uploads/logo.jpg\\n\\t\\t\\t\\t\\t\\t0\\n\\t\\t\\t\\t\\t\\t0\\n\\nKim Thelwell\\n\\t\\t\\t\\t\\t\\t\\n\\t\\t\\t\\t\\t\\t\\thttps://borgenproject.org/wp-content/uploads/logo.jpg\\n\\nKim Thelwell\\n\\n2020-10-20 12:59:36\\n\\n2020-10-20 12:59:35\\n\\nHomelessness During India’s Rainy Season\\n\\nGlobal Poverty, Homelessness, India\\n\\nA View into Homelessness in India\\n\\nIndia has\\n\\na population of 1.3 billion and is the second most populated country in the world. While it has a booming economy and democratic government, it has nonetheless struggled with containing its population growth and maintaining an equal distribution of wealth. India’s GDP is worth $2.6 trillion, but so many remain sidelined by their country’s overpopulation and are struggling to find a roof over their heads. Homelessness in India is a growing issue, one that will require multilateral cooperation from various sources to overcome.\\n\\nThe Statistics')]"
      ]
     },
     "execution_count": 37,
     "metadata": {},
     "output_type": "execute_result"
    }
   ],
   "source": [
    "docs"
   ]
  },
  {
   "cell_type": "code",
   "execution_count": 38,
   "metadata": {},
   "outputs": [],
   "source": [
    "docs_str = [str(x.page_content) for x in docs]"
   ]
  },
  {
   "cell_type": "code",
   "execution_count": 39,
   "metadata": {},
   "outputs": [],
   "source": [
    "stuff_answer = conversation.predict(\n",
    "    context=docs_str,\n",
    "    question=question,\n",
    ")"
   ]
  },
  {
   "cell_type": "code",
   "execution_count": null,
   "metadata": {},
   "outputs": [],
   "source": [
    "# stuff_answer = conversation(\n",
    "#     {\"context\": docs_str, \"question\": question}\n",
    "# )"
   ]
  },
  {
   "cell_type": "code",
   "execution_count": 40,
   "metadata": {},
   "outputs": [
    {
     "name": "stdout",
     "output_type": "stream",
     "text": [
      "('        In India, there are about 1.8 million homeless individuals living on '\n",
      " 'the streets, under bridges, on highways or in any place they can seek '\n",
      " 'refuge.')\n"
     ]
    }
   ],
   "source": [
    "pprint(stuff_answer)"
   ]
  },
  {
   "cell_type": "code",
   "execution_count": null,
   "metadata": {},
   "outputs": [],
   "source": [
    "# stuff_answer = conversation(\n",
    "#     {\"context\": docs_str, \"question\": question}\n",
    "# )"
   ]
  }
 ],
 "metadata": {
  "kernelspec": {
   "display_name": "HESTIA",
   "language": "python",
   "name": "python3"
  },
  "language_info": {
   "codemirror_mode": {
    "name": "ipython",
    "version": 3
   },
   "file_extension": ".py",
   "mimetype": "text/x-python",
   "name": "python",
   "nbconvert_exporter": "python",
   "pygments_lexer": "ipython3",
   "version": "3.11.0"
  }
 },
 "nbformat": 4,
 "nbformat_minor": 2
}
