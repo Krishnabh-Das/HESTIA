{
 "cells": [
  {
   "cell_type": "markdown",
   "metadata": {},
   "source": [
    "## Requirements"
   ]
  },
  {
   "cell_type": "code",
   "execution_count": 1,
   "metadata": {},
   "outputs": [],
   "source": [
    "# %pip install pypdf\n",
    "# %pip install pandas\n",
    "# %pip install chromadb\n",
    "# %pip install langchain\n",
    "# %pip install \"unstructured[all-docs]\"\n",
    "# %pip install python-dotenv\n",
    "# %pip install google-generativeai\n",
    "# %pip install langchain-google-genai \n",
    "# %pip install selenium\n",
    "# %pip install \"astrapy>=0.5.3\""
   ]
  },
  {
   "cell_type": "markdown",
   "metadata": {},
   "source": [
    "## Imports"
   ]
  },
  {
   "cell_type": "code",
   "execution_count": 2,
   "metadata": {},
   "outputs": [],
   "source": [
    "import os\n",
    "from dotenv import load_dotenv\n",
    "\n",
    "import warnings\n",
    "from pprint import pprint\n",
    "\n",
    "import textwrap\n",
    "import pandas as pd\n",
    "\n",
    "import firebase_admin\n",
    "import google.generativeai as genai\n",
    "from firebase_admin import credentials\n",
    "\n",
    "from langchain import PromptTemplate\n",
    "from langchain.schema import Document\n",
    "from langchain.chains import LLMChain\n",
    "# from langchain.vectorstores import Chroma\n",
    "from langchain.document_loaders import SeleniumURLLoader\n",
    "from langchain_google_genai import ChatGoogleGenerativeAI\n",
    "from langchain_google_genai import GoogleGenerativeAIEmbeddings\n",
    "from langchain.text_splitter import RecursiveCharacterTextSplitter\n",
    "from langchain.chains.conversation.memory import ConversationSummaryMemory\n",
    "\n",
    "from langchain_community.vectorstores import AstraDB\n",
    "# from langchain_community.vectorstores import MatchingEngine\n",
    "from langchain_community.chat_message_histories.firestore import FirestoreChatMessageHistory\n",
    "\n",
    "warnings.filterwarnings(\"ignore\")"
   ]
  },
  {
   "cell_type": "markdown",
   "metadata": {},
   "source": [
    "## Parameters"
   ]
  },
  {
   "cell_type": "code",
   "execution_count": 3,
   "metadata": {},
   "outputs": [],
   "source": [
    "load_dotenv(\"./keys/.env\")\n",
    "\n",
    "creds_path = \"./keys/serviceAccountKey.json\"\n",
    "\n",
    "data_list = [\n",
    "    # \"https://borgenproject.org/tag/homelessness-in-india/\",\n",
    "    # \"https://www.noblenonprofit.org/homelessness-in-india-an-unsolved-problem/\",\n",
    "    # \"https://caufsociety.com/homelessness-in-india/\",\n",
    "    # \"https://en.wikipedia.org/wiki/Homelessness_in_India\",\n",
    "    # \"https://www.hlrn.org.in/homelessness\",\n",
    "    # \"https://blog.ipleaders.in/prevention-homelessness-problem-treated-legally/\",\n",
    "    # \"https://borgenproject.org/homelessness-in-india/\",\n",
    "    # \"https://www.aljazeera.com/gallery/2023/1/3/photos-new-delhis-homeless-shiver-in-biting-cold\",\n",
    "#     \"https://www.quora.com/In-India-if-a-person-suddenly-becomes-homeless-what-are-some-tips-you-will-give-him\",\n",
    "#     \"https://leaglesamiksha.com/2022/06/19/homelessness-in-india-causes-and-remedies/\",\n",
    "#     \"https://www.orfonline.org/expert-speak/sheltering-the-urban-homeless\"\n",
    "]"
   ]
  },
  {
   "cell_type": "markdown",
   "metadata": {},
   "source": [
    "## Auth"
   ]
  },
  {
   "cell_type": "code",
   "execution_count": 4,
   "metadata": {},
   "outputs": [],
   "source": [
    "genai.configure(api_key=os.environ.get(\"GOOGLE_API_KEY\"))"
   ]
  },
  {
   "cell_type": "code",
   "execution_count": 5,
   "metadata": {},
   "outputs": [
    {
     "data": {
      "text/plain": [
       "<firebase_admin.App at 0x7fb89072e1d0>"
      ]
     },
     "execution_count": 5,
     "metadata": {},
     "output_type": "execute_result"
    }
   ],
   "source": [
    "cred = credentials.Certificate(creds_path)\n",
    "firebase_admin.initialize_app(cred)"
   ]
  },
  {
   "cell_type": "code",
   "execution_count": 6,
   "metadata": {},
   "outputs": [],
   "source": [
    "ASTRA_DB_API_ENDPOINT = f\"https://{os.environ.get('ASTRA_DB_ID')}-{os.environ.get('ASTRA_DB_REGION')}.apps.astra.datastax.com\"\n",
    "ASTRA_DB_APPLICATION_TOKEN=os.environ.get('ASTRA_DB_APPLICATION_TOKEN')\n",
    "ASTRA_DB_ID = os.environ.get('ASTRA_DB_ID')\n",
    "ASTRA_DB_REGION = os.environ.get('ASTRA_DB_REGION')\n",
    "ASTRA_DB_APPLICATION_TOKEN = os.environ.get('ASTRA_DB_APPLICATION_TOKEN')\n",
    "ASTRA_DB_KEYSPACE = os.environ.get('ASTRA_DB_KEYSPACE')\n",
    "\n",
    "COLLECTION_NAME = \"HESTIA_chatbot_dev\""
   ]
  },
  {
   "cell_type": "markdown",
   "metadata": {},
   "source": [
    "## Configure LLM"
   ]
  },
  {
   "cell_type": "code",
   "execution_count": 7,
   "metadata": {},
   "outputs": [],
   "source": [
    "model = ChatGoogleGenerativeAI(\n",
    "    model=\"gemini-pro\",\n",
    "    temperature=0.3\n",
    ")"
   ]
  },
  {
   "cell_type": "code",
   "execution_count": 8,
   "metadata": {},
   "outputs": [],
   "source": [
    "embeddings = GoogleGenerativeAIEmbeddings(model=\"models/embedding-001\")"
   ]
  },
  {
   "cell_type": "code",
   "execution_count": 9,
   "metadata": {},
   "outputs": [],
   "source": [
    "message_history = FirestoreChatMessageHistory(\n",
    "    collection_name='Chat_message',\n",
    "    session_id     ='yolo',\n",
    "    user_id        ='yolo'\n",
    ")"
   ]
  },
  {
   "cell_type": "markdown",
   "metadata": {},
   "source": [
    "## Loading Data"
   ]
  },
  {
   "cell_type": "code",
   "execution_count": 10,
   "metadata": {},
   "outputs": [],
   "source": [
    "data_loader = SeleniumURLLoader(urls=data_list)\n",
    "pages = data_loader.load()"
   ]
  },
  {
   "cell_type": "markdown",
   "metadata": {},
   "source": [
    "## Prompt Design - In Context"
   ]
  },
  {
   "cell_type": "code",
   "execution_count": null,
   "metadata": {},
   "outputs": [],
   "source": [
    "prompt = PromptTemplate(\n",
    "    input_variables=[\n",
    "      \"history\",\n",
    "      \"context\", \n",
    "      \"question\",\n",
    "\n",
    "    ],\n",
    "    template=(\n",
    "        \"\"\"Answer the question as precise as possible using the provided context. If the answer is\n",
    "           not contained in the context also refreter summary of past Conversation, say \"answer not available in context\":\\n\n",
    "\n",
    "        History:{history}\\n\n",
    "        Context:{context}\\n\n",
    "        Question:{question}\\n\n",
    "        \"\"\"\n",
    "    )\n",
    ")"
   ]
  },
  {
   "cell_type": "code",
   "execution_count": null,
   "metadata": {},
   "outputs": [],
   "source": [
    "summary_memory=ConversationSummaryMemory(\n",
    "    llm=model,\n",
    "    memory_key=\"history\",\n",
    "    input_key=\"question\",\n",
    "    chat_memory=message_history\n",
    ")"
   ]
  },
  {
   "cell_type": "code",
   "execution_count": null,
   "metadata": {},
   "outputs": [],
   "source": [
    "conversation = LLMChain(\n",
    "    llm=model, \n",
    "    verbose=False,\n",
    "    memory=summary_memory,\n",
    "    prompt=prompt\n",
    ")"
   ]
  },
  {
   "cell_type": "markdown",
   "metadata": {},
   "source": [
    "## RAG pipeline"
   ]
  },
  {
   "cell_type": "code",
   "execution_count": null,
   "metadata": {},
   "outputs": [],
   "source": [
    "text_splitter = RecursiveCharacterTextSplitter(chunk_size=5000, chunk_overlap=0)\n",
    "context = \"\\n\\n\".join(str(p.page_content) for p in pages)\n",
    "texts = text_splitter.split_text(context)"
   ]
  },
  {
   "cell_type": "code",
   "execution_count": null,
   "metadata": {},
   "outputs": [],
   "source": [
    "text = [Document(page_content=x) for x in texts]"
   ]
  },
  {
   "cell_type": "code",
   "execution_count": null,
   "metadata": {},
   "outputs": [],
   "source": [
    "# vector_index = Chroma.from_texts(texts, embeddings).as_retriever()"
   ]
  },
  {
   "cell_type": "code",
   "execution_count": null,
   "metadata": {},
   "outputs": [],
   "source": [
    "vector_store = AstraDB(\n",
    "    embedding=embeddings,\n",
    "    collection_name=COLLECTION_NAME,\n",
    "    api_endpoint=ASTRA_DB_API_ENDPOINT,\n",
    "    token=ASTRA_DB_APPLICATION_TOKEN,\n",
    "    namespace='hestia'\n",
    ")"
   ]
  },
  {
   "cell_type": "code",
   "execution_count": null,
   "metadata": {},
   "outputs": [],
   "source": [
    "for t in text:\n",
    "    inserted_ids = vector_store.add_documents([t])"
   ]
  },
  {
   "cell_type": "code",
   "execution_count": null,
   "metadata": {},
   "outputs": [],
   "source": [
    "# vector_index = MatchingEngine.from_components(\n",
    "#     texts=texts,\n",
    "#     project_id=\"<my_project_id>\",\n",
    "#     region=\"<my_region>\",\n",
    "#     gcs_bucket_uri=\"<my_gcs_bucket>\",\n",
    "#     index_id=\"<my_matching_engine_index_id>\",\n",
    "#     endpoint_id=\"<my_matching_engine_endpoint_id>\",\n",
    "#     embedding=embeddings\n",
    "# )\n",
    "# question = 'tell me about homelessness in india?'\n",
    "# docs = vector_index.get_relevant_documents(question)"
   ]
  },
  {
   "cell_type": "code",
   "execution_count": null,
   "metadata": {},
   "outputs": [],
   "source": [
    "question = 'tell me about homelessness in india?'\n",
    "docs = vector_store.similarity_search(question, k=3)"
   ]
  },
  {
   "cell_type": "code",
   "execution_count": null,
   "metadata": {},
   "outputs": [
    {
     "data": {
      "text/plain": [
       "[Document(page_content='Posts\\n\\nGlobal Poverty, Homeslessness\\n\\nHomeless in India: Causes and Aid Available\\n\\nHomelessness in India is on the rise. Many people are turning to the streets as a place to sleep and find income by performing hard labor. Children living on the street are also becoming very common for many reasons, including abuse and family abandonment.\\n\\nCauses\\n\\nFactors that contribute to homelessness include impairment, a shortage of housing affordability, irregular or long-term unemployment and shifts in business. Policymakers state that the cause of homelessness is substance addiction, mental illness, relationship failures and domestic abuse. Prime Minister Modi has set a goal to eradicate homelessness by 2022, but the government has made no progress thus far.\\n\\nStreet Children\\n\\nAs a result of urbanization, poverty and other factors, children end up on the streets. In India, there are more than 400,000 children living on the street. According to UNICEF, there are four categories of street children. There are high-risk kids who stay with families, but labor on the streets for a living. Then there are children who mainly live on the street, but spend some time with family. There are children who spend a good deal of time on the streets and therefore do not live with or communicate with family. Finally, there are orphaned children who are left alone with no caring adults.\\n\\nChildren who end up on the street are often subjected to neglect and physical and emotional abuse at home. Once on the street, children experience trafficking and/or heavy labor as they flee their families in hopes of a new life. Children as young as 6 years old skim through the litter in search of money to survive.\\n\\nHow Unemployment Has Contributed to Homelessness\\n\\nBecause education is more expensive for the average Indian than for the average American or European, more Indians are becoming unemployed. India’s average per capita income is only slightly more than $1,200, compared to the United States’ $54,510. This economic discrepancy shows why economic security is so difficult for Indians to achieve.\\n\\nChallenges Homeless in India Face\\n\\nDue to severe weather, seven homeless people die every day in Delhi. Homeless people have very little access to healthcare services. The absence of proper identification documentation needed by hospitals, the expenses and the tendency of physicians to openly reject them are just a few of the factors. According to a study taken by the United Nations Development Programme in 2010, less than 3% of homeless people in India had an ID.\\n\\nAid Available\\n\\nStreet kids have benefited from drop-in centers. These centers are set up by one of several NGOs working to assist the homeless in India. Salam Baalak Trust (SBT) is one such organization that has been functioning in Delhi since 1989. SBT operates four community centers that are open 24/7 and can accommodate up to 220 children at any given time. This group has aided 3,500 children living on the streets. Free clothes, food, schooling, support and rehabilitation programs are all available at SBT facilities.\\n\\nOther NGOs\\xa0offer different services to the homeless in India. Aashray Adhikar Abhiyan operates as an advocate for the homeless and Pehchan assists the homeless in getting proper identification, for example. With organizations such as these, as well as others, there is hope for the future of the homeless population of India.\\n\\n– Rand Lateef\\n\\nPhoto: Flickr\\n\\nMay 12, 2021\\n\\nhttps://borgenproject.org/wp-content/uploads/logo.jpg\\n\\t\\t\\t\\t\\t\\t0\\n\\t\\t\\t\\t\\t\\t0\\n\\nKim Thelwell\\n\\t\\t\\t\\t\\t\\t\\n\\t\\t\\t\\t\\t\\t\\thttps://borgenproject.org/wp-content/uploads/logo.jpg\\n\\nKim Thelwell\\n\\n2021-05-12 19:48:47\\n\\n2021-05-14 06:04:47\\n\\nHomeless in India: Causes and Aid Available\\n\\nAdvocacy, Development, Global Poverty, Homelessness, India\\n\\nHomelessness During India’s Rainy Season\\n\\nWhen most Indians think about the rainy season, they think about the viable crops that will grow and the economic prosperity that will ensue. The rainy season takes on a completely different meaning, however, for one of India’s most overlooked groups: the homeless. Homelessness in India is a significant problem on its own, with an estimated\\n\\n1.8 million homeless people living on the streets. When this large homeless population endures months of exposure to rain and winds, health complications and even deaths can occur. Due to its detrimental effects on health, homelessness during India’s rainy season is a significant issue to address.\\n\\nHousing Shortages\\n\\nIn addition to India’s homeless population, another 73 million families lack access to sufficient housing. Many families have recently lost their homes as a result of forced evictions. In 2017, the national government tore down more than 53,700 homes. Approximately 260,000 people were forcefully evicted due to motives like city beautification projects and infrastructure development. Many of the evicted will now have no choice but to endure the hardships accompanying the rainy season.\\n\\nIndia’s Rainy Season'),\n",
       " Document(page_content='India is the second most unequal country in the world, with 55 percent of income going to the top 10 percent of its population. Since India’s population increased exponentially, many cities ran out of space to contain the growing population. According to the Homeless World Cup, there were about 1.8 million homeless individuals living in India as of 2019. Over half of this population was living in urban areas, such as slums on the edge of cities. Unfortunately, the majority of the homeless often experience displacement through government-endorsed city beautification programs or by natural disasters. Due to their lack of resources, those who are homeless and poor struggle to recover from these events.\\n\\nConditions\\n\\nMost homeless people in India live on the streets of cities, under bridges, on highways or in any place they can seek refuge. Some maintain a nomadic lifestyle, where they roam around to find the best area for themselves and/or their families to live. In addition, they often face difficulties from the weather. This is especially prevalent during severe weather conditions, such as rain or snow. They have to use what is at their disposal to protect themselves.\\n\\nMoreover, women are more prone to abuse, trafficking and harassment, especially if they live on their own or as single mothers. Even in slums, families have very limited access to basic resources and almost no access to sanitation. Additionally, illegal squatting makes up a majority of the slum population, so many families live in fear of eviction.\\n\\nSolutions\\n\\nDespite the alarming numbers, the country is making progress to combat homelessness and poverty in India. Each day, 44 people come out of poverty through the work of government initiatives. The Indian government has implemented initiatives to help the poverty-induced with housing. The most prominent example of this is the Housing for All Act, called Pradhan Mantri Awas Yojana. Declared in 2015 by Prime Minister Narendra Modi, this Act claims to build homes for the entire population by 2022 (when India reaches 75 years of independence). However, there is a lot of criticism about the act in terms of its feasibility.\\n\\nMany critics claim that the federal government should actually follow in the footsteps of one of its states. In Kerala, the state government put another Housing for All Act in place, granting its homeless population free flats. As of April 2019, the state built the first set of flats that fit 145 families within a 270-flat complex. Kerala’s state government is surveying its homeless population and figuring out who qualifies for need-based housing and then building flats based on its findings. It plans to build over 400,000 flats. The government will cover all funding for the flats.\\n\\nThe Housing for All Act could solve homelessness in India. However, India still has a long way to go in order to achieve this ideal. The government initiatives are the first steps in figuring out how to end this chronic issue that India has had to deal with for decades.\\n\\nShreya Chari\\n\\nShreya Chari\\n\\nPhoto: Flickr\\n\\nApril 29, 2020\\n\\nhttps://borgenproject.org/wp-content/uploads/logo.jpg\\n\\t\\t\\t\\t\\t\\t0\\n\\t\\t\\t\\t\\t\\t0\\n\\nLynsey Alexander\\n\\t\\t\\t\\t\\t\\t\\n\\t\\t\\t\\t\\t\\t\\thttps://borgenproject.org/wp-content/uploads/logo.jpg\\n\\nLynsey Alexander\\n\\n2020-04-29 13:20:11\\n\\n2020-04-29 13:20:11\\n\\nA View into Homelessness in India\\n\\n828 717 6006\\n\\nsupport@noblenonprofit.org\\n\\nFacebook\\n\\nX\\n\\nInstagram\\n\\nFacebook\\n\\nX\\n\\nInstagram\\n\\nHome\\n\\n\\tAbout\\n\\tFocus Area\\n\\tLegal\\n\\nProjects\\n\\n\\tHelp Save A Life\\n\\tNourish India\\n\\tEducate India\\n\\tEmpower Her\\n\\tNoble Food Drive\\n\\tDonate Blankets\\n\\nGet Involved\\n\\n\\tDonate\\n\\tMonthly Giving\\n\\tNeed Help!\\n\\tVolunteer\\n\\tPartner With Us\\n\\tCareers\\n\\nMedia\\n\\n\\tGallery\\n\\tBlog\\n\\tSocial Media\\n\\nContact\\n\\nDonate\\n\\nSelect Page\\n\\nHome\\n\\n\\tAbout\\n\\tFocus Area\\n\\tLegal\\n\\nProjects\\n\\n\\tHelp Save A Life\\n\\tNourish India\\n\\tEducate India\\n\\tEmpower Her\\n\\tNoble Food Drive\\n\\tDonate Blankets\\n\\nGet Involved\\n\\n\\tDonate\\n\\tMonthly Giving\\n\\tNeed Help!\\n\\tVolunteer\\n\\tPartner With Us\\n\\tCareers\\n\\nMedia\\n\\n\\tGallery\\n\\tBlog\\n\\tSocial Media\\n\\nContact\\n\\nDonate\\n\\nHomelessness In India: An Unsolved Problem\\n\\nPoverty is a major cause of homelessness, and India is no exception. In the last few decades, urbanisation has led many people from rural areas to migrate to cities in search of better opportunities.\\n\\nWhat is the Issue of Homelessness in India?\\n\\nThe homeless population in India is rapidly growing and is estimated to be around 1.77 million. The problem of homelessness in India is further exacerbated by the fact that a large percentage of the population lives in poverty. In addition, the number of homeless people who are mentally ill or have substance abuse problems is also on the rise.\\n\\nThe majority of homeless people in India are men, and most of them are between the ages of 18 and 60. Homelessness is a problem that is particularly prevalent in urban areas, with an estimated 85% of homeless people living in cities.'),\n",
       " Document(page_content='India’s rainy season lasts from June to September. Rain and wind are very frequent, with some areas in central or western India receiving approximately 90% of their total annual precipitation during this time period. Southern and northwestern India tend to receive between 50-75% of their annual precipitation during these months. In 2005, the monsoons were intense enough to trigger floods throughout the country. These floods marooned villages and affected more than 800,000 people.\\n\\nHomelessness During the Rainy Season\\n\\nHomelessness in India actually increases during the rainy season. In August 2018, the Times of India reported floods left 54,000 homeless. As more people suffer these poor weather conditions, the homeless population increases.\\n\\nDuring monsoon season, the homeless face increased difficulties. Homeless shelters often close during the summer months, leaving many to endure the hazardous weather conditions. Even if homeless people were able to find shelter during this season, they would still be forced to spend a significant amount of time on the streets in order to feed and maintain themselves financially.\\n\\nJulia Wardhaugh, a senior lecturer in criminology and criminal justice at Bangor University, who has researched homelessness in India, stated, “Even if some shelter is found, then subsistence has to be on the streets, finding casual work (e.g. recycling materials) or begging for alms.” She also went on to note that “the health consequences could be severe, especially for vulnerable adults and for children.”\\n\\nUnfortunately, data on this topic is limited, largely because it is difficult for the government to keep record of the homeless. As a result, their deaths are hard to track. One study, however, examined the deaths of homeless and unclaimed people in North India between 2008 and 2012. The study ultimately found that the majority of reported deaths occurred during the rainy season.\\n\\nFinding Solutions\\n\\nIn response to persistent homelessness in India that is often worsened by the rainy season, several organizations are working to provide aid.\\xa0Aashray Adhikar Abhiyan (AAA) is an organization working in Dehli to advocate homeless people’s rights and provide basic necessities such as food, clothes and shelter. AAA has provided more than 12 million beds, as well as health care to one million homeless Indians.\\n\\nURJA Trust is an organization seeking to protect the rights of homeless women in India. The group has brought more than 400 women out of homelessness and into safe spaces, offered mental health support to more than 300 women and raised awareness of female homelessness in civil society.\\n\\nSalaam Baalak Trust is an NGO that works to support homeless children. The organization conducts a variety of initiatives aimed at improving the lives of homeless children, including educational activities, outreach events and mental health programs. So far, they’ve supported 108,014 children.\\n\\nAlthough homelessness during India’s rainy season is a significant contributor to the struggles faced by thousands, it is often overlooked. The lack of research on the effects of prolonged exposure to dangerous weather suggests the country has yet to fully acknowledged the gravity of this issue. However, once this aspect is further studied and understood as well, there is hope for alleviating poverty in India and improving life for millions.\\n\\n– Sophia Gardner\\n\\nPhoto: Flickr\\n\\nOctober 20, 2020\\n\\nhttps://borgenproject.org/wp-content/uploads/logo.jpg\\n\\t\\t\\t\\t\\t\\t0\\n\\t\\t\\t\\t\\t\\t0\\n\\nKim Thelwell\\n\\t\\t\\t\\t\\t\\t\\n\\t\\t\\t\\t\\t\\t\\thttps://borgenproject.org/wp-content/uploads/logo.jpg\\n\\nKim Thelwell\\n\\n2020-10-20 12:59:36\\n\\n2020-10-20 12:59:35\\n\\nHomelessness During India’s Rainy Season\\n\\nGlobal Poverty, Homelessness, India\\n\\nA View into Homelessness in India\\n\\nIndia has\\n\\na population of 1.3 billion and is the second most populated country in the world. While it has a booming economy and democratic government, it has nonetheless struggled with containing its population growth and maintaining an equal distribution of wealth. India’s GDP is worth $2.6 trillion, but so many remain sidelined by their country’s overpopulation and are struggling to find a roof over their heads. Homelessness in India is a growing issue, one that will require multilateral cooperation from various sources to overcome.\\n\\nThe Statistics')]"
      ]
     },
     "execution_count": 18,
     "metadata": {},
     "output_type": "execute_result"
    }
   ],
   "source": [
    "docs"
   ]
  },
  {
   "cell_type": "code",
   "execution_count": null,
   "metadata": {},
   "outputs": [],
   "source": [
    "docs_str = [str(x.page_content) for x in docs]"
   ]
  },
  {
   "cell_type": "code",
   "execution_count": null,
   "metadata": {},
   "outputs": [
    {
     "data": {
      "text/plain": [
       "['Posts\\n\\nGlobal Poverty, Homeslessness\\n\\nHomeless in India: Causes and Aid Available\\n\\nHomelessness in India is on the rise. Many people are turning to the streets as a place to sleep and find income by performing hard labor. Children living on the street are also becoming very common for many reasons, including abuse and family abandonment.\\n\\nCauses\\n\\nFactors that contribute to homelessness include impairment, a shortage of housing affordability, irregular or long-term unemployment and shifts in business. Policymakers state that the cause of homelessness is substance addiction, mental illness, relationship failures and domestic abuse. Prime Minister Modi has set a goal to eradicate homelessness by 2022, but the government has made no progress thus far.\\n\\nStreet Children\\n\\nAs a result of urbanization, poverty and other factors, children end up on the streets. In India, there are more than 400,000 children living on the street. According to UNICEF, there are four categories of street children. There are high-risk kids who stay with families, but labor on the streets for a living. Then there are children who mainly live on the street, but spend some time with family. There are children who spend a good deal of time on the streets and therefore do not live with or communicate with family. Finally, there are orphaned children who are left alone with no caring adults.\\n\\nChildren who end up on the street are often subjected to neglect and physical and emotional abuse at home. Once on the street, children experience trafficking and/or heavy labor as they flee their families in hopes of a new life. Children as young as 6 years old skim through the litter in search of money to survive.\\n\\nHow Unemployment Has Contributed to Homelessness\\n\\nBecause education is more expensive for the average Indian than for the average American or European, more Indians are becoming unemployed. India’s average per capita income is only slightly more than $1,200, compared to the United States’ $54,510. This economic discrepancy shows why economic security is so difficult for Indians to achieve.\\n\\nChallenges Homeless in India Face\\n\\nDue to severe weather, seven homeless people die every day in Delhi. Homeless people have very little access to healthcare services. The absence of proper identification documentation needed by hospitals, the expenses and the tendency of physicians to openly reject them are just a few of the factors. According to a study taken by the United Nations Development Programme in 2010, less than 3% of homeless people in India had an ID.\\n\\nAid Available\\n\\nStreet kids have benefited from drop-in centers. These centers are set up by one of several NGOs working to assist the homeless in India. Salam Baalak Trust (SBT) is one such organization that has been functioning in Delhi since 1989. SBT operates four community centers that are open 24/7 and can accommodate up to 220 children at any given time. This group has aided 3,500 children living on the streets. Free clothes, food, schooling, support and rehabilitation programs are all available at SBT facilities.\\n\\nOther NGOs\\xa0offer different services to the homeless in India. Aashray Adhikar Abhiyan operates as an advocate for the homeless and Pehchan assists the homeless in getting proper identification, for example. With organizations such as these, as well as others, there is hope for the future of the homeless population of India.\\n\\n– Rand Lateef\\n\\nPhoto: Flickr\\n\\nMay 12, 2021\\n\\nhttps://borgenproject.org/wp-content/uploads/logo.jpg\\n\\t\\t\\t\\t\\t\\t0\\n\\t\\t\\t\\t\\t\\t0\\n\\nKim Thelwell\\n\\t\\t\\t\\t\\t\\t\\n\\t\\t\\t\\t\\t\\t\\thttps://borgenproject.org/wp-content/uploads/logo.jpg\\n\\nKim Thelwell\\n\\n2021-05-12 19:48:47\\n\\n2021-05-14 06:04:47\\n\\nHomeless in India: Causes and Aid Available\\n\\nAdvocacy, Development, Global Poverty, Homelessness, India\\n\\nHomelessness During India’s Rainy Season\\n\\nWhen most Indians think about the rainy season, they think about the viable crops that will grow and the economic prosperity that will ensue. The rainy season takes on a completely different meaning, however, for one of India’s most overlooked groups: the homeless. Homelessness in India is a significant problem on its own, with an estimated\\n\\n1.8 million homeless people living on the streets. When this large homeless population endures months of exposure to rain and winds, health complications and even deaths can occur. Due to its detrimental effects on health, homelessness during India’s rainy season is a significant issue to address.\\n\\nHousing Shortages\\n\\nIn addition to India’s homeless population, another 73 million families lack access to sufficient housing. Many families have recently lost their homes as a result of forced evictions. In 2017, the national government tore down more than 53,700 homes. Approximately 260,000 people were forcefully evicted due to motives like city beautification projects and infrastructure development. Many of the evicted will now have no choice but to endure the hardships accompanying the rainy season.\\n\\nIndia’s Rainy Season',\n",
       " 'India is the second most unequal country in the world, with 55 percent of income going to the top 10 percent of its population. Since India’s population increased exponentially, many cities ran out of space to contain the growing population. According to the Homeless World Cup, there were about 1.8 million homeless individuals living in India as of 2019. Over half of this population was living in urban areas, such as slums on the edge of cities. Unfortunately, the majority of the homeless often experience displacement through government-endorsed city beautification programs or by natural disasters. Due to their lack of resources, those who are homeless and poor struggle to recover from these events.\\n\\nConditions\\n\\nMost homeless people in India live on the streets of cities, under bridges, on highways or in any place they can seek refuge. Some maintain a nomadic lifestyle, where they roam around to find the best area for themselves and/or their families to live. In addition, they often face difficulties from the weather. This is especially prevalent during severe weather conditions, such as rain or snow. They have to use what is at their disposal to protect themselves.\\n\\nMoreover, women are more prone to abuse, trafficking and harassment, especially if they live on their own or as single mothers. Even in slums, families have very limited access to basic resources and almost no access to sanitation. Additionally, illegal squatting makes up a majority of the slum population, so many families live in fear of eviction.\\n\\nSolutions\\n\\nDespite the alarming numbers, the country is making progress to combat homelessness and poverty in India. Each day, 44 people come out of poverty through the work of government initiatives. The Indian government has implemented initiatives to help the poverty-induced with housing. The most prominent example of this is the Housing for All Act, called Pradhan Mantri Awas Yojana. Declared in 2015 by Prime Minister Narendra Modi, this Act claims to build homes for the entire population by 2022 (when India reaches 75 years of independence). However, there is a lot of criticism about the act in terms of its feasibility.\\n\\nMany critics claim that the federal government should actually follow in the footsteps of one of its states. In Kerala, the state government put another Housing for All Act in place, granting its homeless population free flats. As of April 2019, the state built the first set of flats that fit 145 families within a 270-flat complex. Kerala’s state government is surveying its homeless population and figuring out who qualifies for need-based housing and then building flats based on its findings. It plans to build over 400,000 flats. The government will cover all funding for the flats.\\n\\nThe Housing for All Act could solve homelessness in India. However, India still has a long way to go in order to achieve this ideal. The government initiatives are the first steps in figuring out how to end this chronic issue that India has had to deal with for decades.\\n\\nShreya Chari\\n\\nShreya Chari\\n\\nPhoto: Flickr\\n\\nApril 29, 2020\\n\\nhttps://borgenproject.org/wp-content/uploads/logo.jpg\\n\\t\\t\\t\\t\\t\\t0\\n\\t\\t\\t\\t\\t\\t0\\n\\nLynsey Alexander\\n\\t\\t\\t\\t\\t\\t\\n\\t\\t\\t\\t\\t\\t\\thttps://borgenproject.org/wp-content/uploads/logo.jpg\\n\\nLynsey Alexander\\n\\n2020-04-29 13:20:11\\n\\n2020-04-29 13:20:11\\n\\nA View into Homelessness in India\\n\\n828 717 6006\\n\\nsupport@noblenonprofit.org\\n\\nFacebook\\n\\nX\\n\\nInstagram\\n\\nFacebook\\n\\nX\\n\\nInstagram\\n\\nHome\\n\\n\\tAbout\\n\\tFocus Area\\n\\tLegal\\n\\nProjects\\n\\n\\tHelp Save A Life\\n\\tNourish India\\n\\tEducate India\\n\\tEmpower Her\\n\\tNoble Food Drive\\n\\tDonate Blankets\\n\\nGet Involved\\n\\n\\tDonate\\n\\tMonthly Giving\\n\\tNeed Help!\\n\\tVolunteer\\n\\tPartner With Us\\n\\tCareers\\n\\nMedia\\n\\n\\tGallery\\n\\tBlog\\n\\tSocial Media\\n\\nContact\\n\\nDonate\\n\\nSelect Page\\n\\nHome\\n\\n\\tAbout\\n\\tFocus Area\\n\\tLegal\\n\\nProjects\\n\\n\\tHelp Save A Life\\n\\tNourish India\\n\\tEducate India\\n\\tEmpower Her\\n\\tNoble Food Drive\\n\\tDonate Blankets\\n\\nGet Involved\\n\\n\\tDonate\\n\\tMonthly Giving\\n\\tNeed Help!\\n\\tVolunteer\\n\\tPartner With Us\\n\\tCareers\\n\\nMedia\\n\\n\\tGallery\\n\\tBlog\\n\\tSocial Media\\n\\nContact\\n\\nDonate\\n\\nHomelessness In India: An Unsolved Problem\\n\\nPoverty is a major cause of homelessness, and India is no exception. In the last few decades, urbanisation has led many people from rural areas to migrate to cities in search of better opportunities.\\n\\nWhat is the Issue of Homelessness in India?\\n\\nThe homeless population in India is rapidly growing and is estimated to be around 1.77 million. The problem of homelessness in India is further exacerbated by the fact that a large percentage of the population lives in poverty. In addition, the number of homeless people who are mentally ill or have substance abuse problems is also on the rise.\\n\\nThe majority of homeless people in India are men, and most of them are between the ages of 18 and 60. Homelessness is a problem that is particularly prevalent in urban areas, with an estimated 85% of homeless people living in cities.',\n",
       " 'India’s rainy season lasts from June to September. Rain and wind are very frequent, with some areas in central or western India receiving approximately 90% of their total annual precipitation during this time period. Southern and northwestern India tend to receive between 50-75% of their annual precipitation during these months. In 2005, the monsoons were intense enough to trigger floods throughout the country. These floods marooned villages and affected more than 800,000 people.\\n\\nHomelessness During the Rainy Season\\n\\nHomelessness in India actually increases during the rainy season. In August 2018, the Times of India reported floods left 54,000 homeless. As more people suffer these poor weather conditions, the homeless population increases.\\n\\nDuring monsoon season, the homeless face increased difficulties. Homeless shelters often close during the summer months, leaving many to endure the hazardous weather conditions. Even if homeless people were able to find shelter during this season, they would still be forced to spend a significant amount of time on the streets in order to feed and maintain themselves financially.\\n\\nJulia Wardhaugh, a senior lecturer in criminology and criminal justice at Bangor University, who has researched homelessness in India, stated, “Even if some shelter is found, then subsistence has to be on the streets, finding casual work (e.g. recycling materials) or begging for alms.” She also went on to note that “the health consequences could be severe, especially for vulnerable adults and for children.”\\n\\nUnfortunately, data on this topic is limited, largely because it is difficult for the government to keep record of the homeless. As a result, their deaths are hard to track. One study, however, examined the deaths of homeless and unclaimed people in North India between 2008 and 2012. The study ultimately found that the majority of reported deaths occurred during the rainy season.\\n\\nFinding Solutions\\n\\nIn response to persistent homelessness in India that is often worsened by the rainy season, several organizations are working to provide aid.\\xa0Aashray Adhikar Abhiyan (AAA) is an organization working in Dehli to advocate homeless people’s rights and provide basic necessities such as food, clothes and shelter. AAA has provided more than 12 million beds, as well as health care to one million homeless Indians.\\n\\nURJA Trust is an organization seeking to protect the rights of homeless women in India. The group has brought more than 400 women out of homelessness and into safe spaces, offered mental health support to more than 300 women and raised awareness of female homelessness in civil society.\\n\\nSalaam Baalak Trust is an NGO that works to support homeless children. The organization conducts a variety of initiatives aimed at improving the lives of homeless children, including educational activities, outreach events and mental health programs. So far, they’ve supported 108,014 children.\\n\\nAlthough homelessness during India’s rainy season is a significant contributor to the struggles faced by thousands, it is often overlooked. The lack of research on the effects of prolonged exposure to dangerous weather suggests the country has yet to fully acknowledged the gravity of this issue. However, once this aspect is further studied and understood as well, there is hope for alleviating poverty in India and improving life for millions.\\n\\n– Sophia Gardner\\n\\nPhoto: Flickr\\n\\nOctober 20, 2020\\n\\nhttps://borgenproject.org/wp-content/uploads/logo.jpg\\n\\t\\t\\t\\t\\t\\t0\\n\\t\\t\\t\\t\\t\\t0\\n\\nKim Thelwell\\n\\t\\t\\t\\t\\t\\t\\n\\t\\t\\t\\t\\t\\t\\thttps://borgenproject.org/wp-content/uploads/logo.jpg\\n\\nKim Thelwell\\n\\n2020-10-20 12:59:36\\n\\n2020-10-20 12:59:35\\n\\nHomelessness During India’s Rainy Season\\n\\nGlobal Poverty, Homelessness, India\\n\\nA View into Homelessness in India\\n\\nIndia has\\n\\na population of 1.3 billion and is the second most populated country in the world. While it has a booming economy and democratic government, it has nonetheless struggled with containing its population growth and maintaining an equal distribution of wealth. India’s GDP is worth $2.6 trillion, but so many remain sidelined by their country’s overpopulation and are struggling to find a roof over their heads. Homelessness in India is a growing issue, one that will require multilateral cooperation from various sources to overcome.\\n\\nThe Statistics']"
      ]
     },
     "execution_count": 21,
     "metadata": {},
     "output_type": "execute_result"
    }
   ],
   "source": [
    "docs_str"
   ]
  },
  {
   "cell_type": "code",
   "execution_count": null,
   "metadata": {},
   "outputs": [],
   "source": [
    "# stuff_answer = conversation.predict(\n",
    "#     context=docs_str,\n",
    "#     question=question,\n",
    "# )"
   ]
  },
  {
   "cell_type": "code",
   "execution_count": null,
   "metadata": {},
   "outputs": [],
   "source": [
    "stuff_answer = conversation(\n",
    "    {\"context\": docs_str, \"question\": question}\n",
    ")"
   ]
  },
  {
   "cell_type": "code",
   "execution_count": null,
   "metadata": {},
   "outputs": [
    {
     "name": "stdout",
     "output_type": "stream",
     "text": [
      "('- Homelessness in India is on the rise due to factors like impairment, '\n",
      " 'housing shortage, unemployment, and substance addiction.\\n'\n",
      " '- The homeless population in India is estimated to be around 1.77 million, '\n",
      " 'with a majority being men between the ages of 18 and 60.\\n'\n",
      " '- Homelessness is particularly prevalent in urban areas, with an estimated '\n",
      " '85% of homeless people living in cities.\\n'\n",
      " '- The number of homeless people who are mentally ill or have substance abuse '\n",
      " 'problems is also on the rise.\\n'\n",
      " '- Homelessness during the rainy season increases due to flooding and the '\n",
      " 'closure of homeless shelters, leading to increased difficulties and health '\n",
      " 'risks for the homeless population.\\n'\n",
      " '- Organizations like Aashray Adhikar Abhiyan, URJA Trust, and Salaam Baalak '\n",
      " 'Trust are working to provide aid and support to homeless people in India.')\n"
     ]
    }
   ],
   "source": [
    "pprint(stuff_answer['text'])"
   ]
  }
 ],
 "metadata": {
  "kernelspec": {
   "display_name": "HESTIA",
   "language": "python",
   "name": "python3"
  },
  "language_info": {
   "codemirror_mode": {
    "name": "ipython",
    "version": 3
   },
   "file_extension": ".py",
   "mimetype": "text/x-python",
   "name": "python",
   "nbconvert_exporter": "python",
   "pygments_lexer": "ipython3",
   "version": "3.11.7"
  }
 },
 "nbformat": 4,
 "nbformat_minor": 2
}
