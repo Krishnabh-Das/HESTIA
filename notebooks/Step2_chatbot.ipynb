{
 "cells": [
  {
   "cell_type": "markdown",
   "metadata": {},
   "source": [
    "## Requirements"
   ]
  },
  {
   "cell_type": "code",
   "execution_count": 6,
   "metadata": {},
   "outputs": [],
   "source": [
    "# %pip install pypdf\n",
    "# %pip install pandas\n",
    "# %pip install chromadb\n",
    "# %pip install langchain\n",
    "# %pip install \"unstructured[all-docs]\"\n",
    "# %pip install python-dotenv\n",
    "# %pip install google-generativeai\n",
    "# %pip install langchain-google-genai \n",
    "# %pip install selenium\n",
    "# %pip install \"astrapy>=0.5.3\"\n",
    "# %pip install pyarrow"
   ]
  },
  {
   "cell_type": "markdown",
   "metadata": {},
   "source": [
    "## Imports"
   ]
  },
  {
   "cell_type": "code",
   "execution_count": 7,
   "metadata": {},
   "outputs": [],
   "source": [
    "import os\n",
    "from dotenv import load_dotenv\n",
    "\n",
    "import warnings\n",
    "from pprint import pprint\n",
    "\n",
    "import textwrap\n",
    "import pandas as pd\n",
    "\n",
    "import firebase_admin\n",
    "import google.generativeai as genai\n",
    "from firebase_admin import credentials\n",
    "\n",
    "from langchain import PromptTemplate\n",
    "from langchain.schema import Document\n",
    "from langchain.chains import LLMChain\n",
    "# from langchain.vectorstores import Chroma\n",
    "from langchain.document_loaders import SeleniumURLLoader\n",
    "from langchain_google_genai import ChatGoogleGenerativeAI\n",
    "from langchain_google_genai import GoogleGenerativeAIEmbeddings\n",
    "from langchain.text_splitter import RecursiveCharacterTextSplitter\n",
    "from langchain.chains.conversation.memory import ConversationSummaryMemory\n",
    "\n",
    "from langchain_community.vectorstores import AstraDB\n",
    "# from langchain_community.vectorstores import MatchingEngine\n",
    "from langchain_community.chat_message_histories.firestore import FirestoreChatMessageHistory\n",
    "\n",
    "# warnings.filterwarnings(\"ignore\")"
   ]
  },
  {
   "cell_type": "markdown",
   "metadata": {},
   "source": [
    "## Parameters"
   ]
  },
  {
   "cell_type": "code",
   "execution_count": 8,
   "metadata": {},
   "outputs": [],
   "source": [
    "load_dotenv(\"./keys/.env\")\n",
    "\n",
    "creds_path = \"./keys/serviceAccountKey.json\"\n",
    "\n",
    "data_list = [\n",
    "    # \"https://borgenproject.org/tag/homelessness-in-india/\",\n",
    "    # \"https://www.noblenonprofit.org/homelessness-in-india-an-unsolved-problem/\",\n",
    "    # \"https://caufsociety.com/homelessness-in-india/\",\n",
    "    # \"https://en.wikipedia.org/wiki/Homelessness_in_India\",\n",
    "    # \"https://www.hlrn.org.in/homelessness\",\n",
    "    # \"https://blog.ipleaders.in/prevention-homelessness-problem-treated-legally/\",\n",
    "    # \"https://borgenproject.org/homelessness-in-india/\",\n",
    "    # \"https://www.aljazeera.com/gallery/2023/1/3/photos-new-delhis-homeless-shiver-in-biting-cold\",\n",
    "#     \"https://www.quora.com/In-India-if-a-person-suddenly-becomes-homeless-what-are-some-tips-you-will-give-him\",\n",
    "#     \"https://leaglesamiksha.com/2022/06/19/homelessness-in-india-causes-and-remedies/\",\n",
    "#     \"https://www.orfonline.org/expert-speak/sheltering-the-urban-homeless\"\n",
    "]"
   ]
  },
  {
   "cell_type": "markdown",
   "metadata": {},
   "source": [
    "## Auth"
   ]
  },
  {
   "cell_type": "code",
   "execution_count": 9,
   "metadata": {},
   "outputs": [],
   "source": [
    "genai.configure(api_key=os.environ.get(\"GOOGLE_API_KEY\"))"
   ]
  },
  {
   "cell_type": "code",
   "execution_count": 10,
   "metadata": {},
   "outputs": [
    {
     "data": {
      "text/plain": [
       "<firebase_admin.App at 0x7f0c8c14ae50>"
      ]
     },
     "execution_count": 10,
     "metadata": {},
     "output_type": "execute_result"
    }
   ],
   "source": [
    "cred = credentials.Certificate(creds_path)\n",
    "firebase_admin.initialize_app(cred)"
   ]
  },
  {
   "cell_type": "code",
   "execution_count": 11,
   "metadata": {},
   "outputs": [],
   "source": [
    "ASTRA_DB_API_ENDPOINT = f\"https://{os.environ.get('ASTRA_DB_ID')}-{os.environ.get('ASTRA_DB_REGION')}.apps.astra.datastax.com\"\n",
    "ASTRA_DB_APPLICATION_TOKEN=os.environ.get('ASTRA_DB_APPLICATION_TOKEN')\n",
    "ASTRA_DB_ID = os.environ.get('ASTRA_DB_ID')\n",
    "ASTRA_DB_REGION = os.environ.get('ASTRA_DB_REGION')\n",
    "ASTRA_DB_APPLICATION_TOKEN = os.environ.get('ASTRA_DB_APPLICATION_TOKEN')\n",
    "ASTRA_DB_KEYSPACE = os.environ.get('ASTRA_DB_KEYSPACE')\n",
    "\n",
    "COLLECTION_NAME = \"HESTIA_chatbot_dev\""
   ]
  },
  {
   "cell_type": "markdown",
   "metadata": {},
   "source": [
    "## Configure LLM"
   ]
  },
  {
   "cell_type": "code",
   "execution_count": 12,
   "metadata": {},
   "outputs": [],
   "source": [
    "model = ChatGoogleGenerativeAI(\n",
    "    model=\"gemini-pro\",\n",
    "    temperature=0.3\n",
    ") # type: ignore"
   ]
  },
  {
   "cell_type": "code",
   "execution_count": 13,
   "metadata": {},
   "outputs": [],
   "source": [
    "embeddings = GoogleGenerativeAIEmbeddings(model=\"models/embedding-001\")# type: ignore"
   ]
  },
  {
   "cell_type": "code",
   "execution_count": 14,
   "metadata": {},
   "outputs": [],
   "source": [
    "message_history = FirestoreChatMessageHistory(\n",
    "    collection_name='Chat_message',\n",
    "    session_id     ='string',\n",
    "    user_id        ='string'\n",
    ")"
   ]
  },
  {
   "cell_type": "markdown",
   "metadata": {},
   "source": [
    "## Loading Data"
   ]
  },
  {
   "cell_type": "code",
   "execution_count": null,
   "metadata": {},
   "outputs": [],
   "source": [
    "data_loader = SeleniumURLLoader(urls=data_list)\n",
    "pages = data_loader.load()"
   ]
  },
  {
   "cell_type": "markdown",
   "metadata": {},
   "source": [
    "## Prompt Design - In Context"
   ]
  },
  {
   "cell_type": "code",
   "execution_count": 18,
   "metadata": {},
   "outputs": [],
   "source": [
    "prompt = PromptTemplate(\n",
    "    input_variables=[\n",
    "      \"history\",\n",
    "      \"context\", \n",
    "      \"question\",\n",
    "\n",
    "    ],\n",
    "    # template=(\n",
    "    #     \"\"\"Answer the question as precise as possible using the provided context. If the answer is\n",
    "    #        not contained in the context also refreter summary of past Conversation, say \"answer not available in context\":\\n\n",
    "\n",
    "    #     History:{history}\\n\n",
    "    #     Context:{context}\\n\n",
    "    #     Question:{question}\\n\n",
    "    #     \"\"\"\n",
    "    # )\n",
    "    template=(\n",
    "            \"\"\"Act a a guide who answers queries regarding homelessness use the history and context to provide well informed answers, if dont know the\n",
    "            answer as well as te context and history dont know it reply \"I am nor aware of it yet\", if the data is not in context just tell\"contact your \n",
    "            support team for more answers\" dont't mention any thing reading context or historoy in your reply saying that\"result not context or history\".\n",
    "\n",
    "        History:{history}\\n\n",
    "        Context:{context}\\n\n",
    "        Question:{question}\\n\n",
    "        \"\"\"\n",
    "    )\n",
    ")"
   ]
  },
  {
   "cell_type": "code",
   "execution_count": 67,
   "metadata": {},
   "outputs": [],
   "source": [
    "checkTypePrompt = PromptTemplate(\n",
    "    input_variables=[ \n",
    "      \"question\",\n",
    "    ],\n",
    "    template=(\n",
    "        \"\"\"\n",
    "        Analyse the question and check if the user wants to know about current homelessness stats and of which region answer in valid json schema as mebntioned in ### below.\n",
    "        !!! dont use \\n in jdson formating:\n",
    "        ###\n",
    "            \"is_current_stats\": true|false,\n",
    "            \"is_homelessness_stats\": true|false,\n",
    "            \"need_stats_of\": world|country|state|current_location,\n",
    "            \"state_name\": none|name,\n",
    "            \"country_name\": none|name,\n",
    "        ###\n",
    "        \n",
    "        Question:{question}\\n\n",
    "        \"\"\"\n",
    "    )\n",
    ")"
   ]
  },
  {
   "cell_type": "code",
   "execution_count": 68,
   "metadata": {},
   "outputs": [],
   "source": [
    "summary_memory=ConversationSummaryMemory(\n",
    "    llm=model,\n",
    "    memory_key=\"history\",\n",
    "    input_key=\"question\",\n",
    "    chat_memory=message_history\n",
    ")"
   ]
  },
  {
   "cell_type": "code",
   "execution_count": 69,
   "metadata": {},
   "outputs": [],
   "source": [
    "conversation = LLMChain(\n",
    "    llm=model, \n",
    "    verbose=False,\n",
    "    memory=summary_memory,\n",
    "    prompt=prompt\n",
    ")"
   ]
  },
  {
   "cell_type": "code",
   "execution_count": 70,
   "metadata": {},
   "outputs": [],
   "source": [
    "checker = LLMChain(\n",
    "    llm=model, \n",
    "    verbose=False,\n",
    "    prompt=checkTypePrompt\n",
    ")"
   ]
  },
  {
   "cell_type": "code",
   "execution_count": 71,
   "metadata": {},
   "outputs": [],
   "source": [
    "question =\"tell me about homelessness stats in assam?\"\n",
    "\n",
    "stuff_answer = checker(\n",
    "    {\"question\": question}\n",
    ")"
   ]
  },
  {
   "cell_type": "code",
   "execution_count": 72,
   "metadata": {},
   "outputs": [],
   "source": [
    "string_data=stuff_answer['text']"
   ]
  },
  {
   "cell_type": "code",
   "execution_count": 73,
   "metadata": {},
   "outputs": [],
   "source": [
    "import ast\n",
    "import json\n",
    "\n",
    "# Extract the JSON string from the provided string\n",
    "json_string = string_data.replace(\"('```json\\n'\", \"\").replace(\"`\", \"\").replace(\"'\", \"\").replace(\"\\n\", \"\").strip()\n",
    "\n",
    "# Replace escaped characters\n",
    "json_string = json_string.replace(\"\\\\n\", \"\\n\").replace(\"\\\\t\", \"\\t\")\n",
    "\n",
    "json_string = json_string.split('json{')[-1].strip()\n",
    "\n",
    "json_string = '{' + json_string"
   ]
  },
  {
   "cell_type": "code",
   "execution_count": 74,
   "metadata": {},
   "outputs": [
    {
     "data": {
      "text/plain": [
       "'{\"is_current_stats\": false,  \"is_homelessness_stats\": true,  \"need_stats_of\": \"state\",  \"state_name\": \"assam\",  \"country_name\": \"none\"}'"
      ]
     },
     "execution_count": 74,
     "metadata": {},
     "output_type": "execute_result"
    }
   ],
   "source": [
    "json_string"
   ]
  },
  {
   "cell_type": "code",
   "execution_count": 76,
   "metadata": {},
   "outputs": [
    {
     "name": "stdout",
     "output_type": "stream",
     "text": [
      "{'country_name': 'none',\n",
      " 'is_current_stats': False,\n",
      " 'is_homelessness_stats': True,\n",
      " 'need_stats_of': 'state',\n",
      " 'state_name': 'assam'}\n"
     ]
    }
   ],
   "source": [
    "import json\n",
    "\n",
    "json_object = json.loads(json_string)\n",
    "\n",
    "pprint(json_object)"
   ]
  },
  {
   "cell_type": "markdown",
   "metadata": {},
   "source": [
    "## RAG pipeline"
   ]
  },
  {
   "cell_type": "code",
   "execution_count": 13,
   "metadata": {},
   "outputs": [
    {
     "ename": "NameError",
     "evalue": "name 'pages' is not defined",
     "output_type": "error",
     "traceback": [
      "\u001b[0;31m---------------------------------------------------------------------------\u001b[0m",
      "\u001b[0;31mNameError\u001b[0m                                 Traceback (most recent call last)",
      "Cell \u001b[0;32mIn[13], line 2\u001b[0m\n\u001b[1;32m      1\u001b[0m text_splitter \u001b[38;5;241m=\u001b[39m RecursiveCharacterTextSplitter(chunk_size\u001b[38;5;241m=\u001b[39m\u001b[38;5;241m5000\u001b[39m, chunk_overlap\u001b[38;5;241m=\u001b[39m\u001b[38;5;241m0\u001b[39m)\n\u001b[0;32m----> 2\u001b[0m context \u001b[38;5;241m=\u001b[39m \u001b[38;5;124m\"\u001b[39m\u001b[38;5;130;01m\\n\u001b[39;00m\u001b[38;5;130;01m\\n\u001b[39;00m\u001b[38;5;124m\"\u001b[39m\u001b[38;5;241m.\u001b[39mjoin(\u001b[38;5;28mstr\u001b[39m(p\u001b[38;5;241m.\u001b[39mpage_content) \u001b[38;5;28;01mfor\u001b[39;00m p \u001b[38;5;129;01min\u001b[39;00m \u001b[43mpages\u001b[49m)\n\u001b[1;32m      3\u001b[0m texts \u001b[38;5;241m=\u001b[39m text_splitter\u001b[38;5;241m.\u001b[39msplit_text(context)\n",
      "\u001b[0;31mNameError\u001b[0m: name 'pages' is not defined"
     ]
    }
   ],
   "source": [
    "text_splitter = RecursiveCharacterTextSplitter(chunk_size=5000, chunk_overlap=0)\n",
    "context = \"\\n\\n\".join(str(p.page_content) for p in pages)\n",
    "texts = text_splitter.split_text(context)"
   ]
  },
  {
   "cell_type": "code",
   "execution_count": null,
   "metadata": {},
   "outputs": [],
   "source": [
    "text = [Document(page_content=x) for x in texts]"
   ]
  },
  {
   "cell_type": "code",
   "execution_count": null,
   "metadata": {},
   "outputs": [],
   "source": [
    "# vector_index = Chroma.from_texts(texts, embeddings).as_retriever()"
   ]
  },
  {
   "cell_type": "code",
   "execution_count": 44,
   "metadata": {},
   "outputs": [],
   "source": [
    "vector_store = AstraDB(\n",
    "    embedding=embeddings,\n",
    "    collection_name=COLLECTION_NAME,\n",
    "    api_endpoint=ASTRA_DB_API_ENDPOINT,\n",
    "    token=ASTRA_DB_APPLICATION_TOKEN,\n",
    "    namespace='hestia'\n",
    ")"
   ]
  },
  {
   "cell_type": "code",
   "execution_count": null,
   "metadata": {},
   "outputs": [],
   "source": [
    "for t in text:\n",
    "    inserted_ids = vector_store.add_documents([t])"
   ]
  },
  {
   "cell_type": "code",
   "execution_count": null,
   "metadata": {},
   "outputs": [],
   "source": [
    "# vector_index = MatchingEngine.from_components(\n",
    "#     texts=texts,\n",
    "#     project_id=\"<my_project_id>\",\n",
    "#     region=\"<my_region>\",\n",
    "#     gcs_bucket_uri=\"<my_gcs_bucket>\",\n",
    "#     index_id=\"<my_matching_engine_index_id>\",\n",
    "#     endpoint_id=\"<my_matching_engine_endpoint_id>\",\n",
    "#     embedding=embeddings\n",
    "# )\n",
    "# question = 'tell me about homelessness in india?'\n",
    "# docs = vector_index.get_relevant_documents(question)"
   ]
  },
  {
   "cell_type": "code",
   "execution_count": 54,
   "metadata": {},
   "outputs": [],
   "source": [
    "question = 'Homelessness in India'\n",
    "docs = vector_store.similarity_search(question, k=4)"
   ]
  },
  {
   "cell_type": "code",
   "execution_count": 55,
   "metadata": {},
   "outputs": [
    {
     "data": {
      "text/plain": [
       "[Document(page_content='Test Mode\\n\\nNotifications'),\n",
       " Document(page_content='www.outlookindia.com\\n\\nChecking if the site connection is secure\\n\\nwww.outlookindia.com needs to review the security of your connection before proceeding.\\n\\nConnection is secure\\n\\nProceeding...\\n\\nEnable JavaScript and cookies to continue\\n\\nRay ID: \\n\\nPerformance & security by \\n\\nCloudflare'),\n",
       " Document(page_content=\"Why do People Become Homeless?\\n\\nWhy is Homelessness a Problem?\\n\\nTiny Homes for the Homeless\\n\\nWhat is it Like to Be Homeless?\\n\\nRECENT\\n\\nWhere Can A Homeless Woman Go For Help?\\n\\nWho Funds Homeless Shelters?\\n\\nWhat To Do If You Will Soon Become Homeless\\n\\nWhat to Do When Homeless\\n\\nWhat To Do With Belongings When Homeless\\n\\nWho Has The Largest Homeless Population?\\n\\nCATEGORIES\\n\\nBeing Homeless\\n\\nFeatured\\n\\nHelping the Homeless\\n\\nHomelessness by Country and Continent\\n\\nHomelessness in the United States\\n\\nResources for the Homeless\\n\\nSOCIETY\\n\\nAbout\\n\\nContact\\n\\nPrivacy Policy\\n\\nDonate to Ending Homelessness\\n\\nTerms of Service\\n\\nImage Credits\\n\\nToggle the table of contents\\n\\nContents\\n\\n(Top)\\n\\n1Causes\\n\\n2Street children\\n\\n3Challenges faced by the homeless\\n\\n4Efforts to assist\\n\\t\\t\\n\\t\\t\\n\\t\\t\\t\\n\\t\\t\\t\\t\\n\\t\\t\\t\\tToggle Efforts to assist subsection\\n\\t\\t\\t\\n\\t\\t\\n\\t\\t\\n\\t\\t\\t\\n\\t\\t\\t\\n\\t\\t\\t\\t\\n\\t\\t\\t\\t4.1Non-governmental services\\n\\t\\t\\t\\n\\t\\t\\t\\n\\t\\t\\t\\n\\t\\t\\t\\n\\t\\t\\n\\t\\t\\n\\t\\t\\t\\n\\t\\t\\t\\t\\n\\t\\t\\t\\t4.2Governmental services\\n\\n5Homelessness and informal housing: the case of Mumbai\\n\\n6A growing concern\\n\\n7References\\n\\nHomelessness in India\\n\\n1 language\\n\\nالعربية\\n\\nEdit links\\n\\nArticle\\n\\nTalk\\n\\nEnglish\\n\\nRead\\n\\nEdit\\n\\nView history\\n\\nTools\\n\\nTools\\n\\nActions\\n\\nRead\\n\\nEdit\\n\\nView history\\n\\nGeneral\\n\\nWhat links here\\n\\nRelated changes\\n\\nUpload file\\n\\nSpecial pages\\n\\nPermanent link\\n\\nPage information\\n\\nCite this page\\n\\nGet shortened URL\\n\\nWikidata item\\n\\nEdit interlanguage links\\n\\nExpand all\\n\\nPrint/export\\n\\nDownload as PDF\\n\\nPrintable version\\n\\nIn other projects\\n\\nWikimedia Commons\\n\\nFrom Wikipedia, the free encyclopedia\\n\\nMajor social issue in India\\n\\nSee also: \\n\\nIndian states ranking by families owning house\\n\\nHomelessness\\n\\nIndia.\\n\\nUniversal Declaration of Human Rights defines '\\n\\nhomeless' as those who do not live in a regular residence. The United Nations Economic and Social Council Statement has a broader definition for homelessness; it defines homelessness as follows: ‘When we are talking about housing, we are not just talking about four walls and a roof. The right to adequate housing is about security of tenure, affordability, access to services and cultural adequacy. It is about protection from forced eviction and displacement, fighting homelessness, poverty and exclusion.\\n\\n[1]\\n\\nCensus houses, but rather stay on pavements, roadsides, railway platforms, staircases, temples, streets, in pipes, or other open spaces.\\n\\n[2]\\n\\n[2]\\n\\n[3]\\n\\n[1]\\n\\n[4]\\n\\n[5]\\n\\n[6]\\n\\nNew Delhi; the same population in\\n\\nCanada would make up approximately 30\\n\\nelectoral districts.\\n\\n[7]\\n\\n[2]\\n\\n[8]\\n\\npoverty threshold.\\n\\n[8]\\n\\nGovernment of India to tackle urban homelessness and\\n\\npoverty may be affected in the future by both external and internal factors.\\n\\n[8]\\n\\n[9]\\n\\nslums and tenements.\\n\\n[10]\\n\\n[8]\\n\\nSlumdog Millionaire\\n\\nMumbai was a slum tourist destination for slumming where homeless people and slum dwellers alike could be openly viewed by tourists.\\n\\n[11]\\n\\nCauses[edit]\\n\\nurbanization.\\n\\n[12]\\n\\n[13]\\n\\n[2]\\n\\nSlums can provide an escape, yet individuals often cannot afford them.\\n\\n[2]\\n\\nabuse, maltreatment, and lack of access to schools and healthcare.\\n\\n[6]\\n\\ndisability (either mental, physical, or both), lack of affordable\\n\\nhousing (a basic apartment in India costs approximately US$70 per month\\n\\n[14]\\n\\nunemployment (either seasonal or through economic hardships), and changes in industry.\\n\\n[8]\\n\\n[1]\\n\\nheavy industry and\\n\\nmanufacturing (that require only a high school level of education) are being replaced by\\n\\nservice industry jobs (which may or may not require a higher level of education). Since university is less affordable for the average Indian than it is for the average North American or European citizen due to their lower\\n\\nper capita income level, more people in India are becoming unemployable for the jobs of the 21st century. The average per capita income for a citizen of India is barely more than US$1,200; compared to US$54,510 in Canada and more than US$64,800 in Switzerland.\\n\\n[15]\\n\\n[16]\\n\\n[17]\\n\\nPolicymakers attribute the following factors as the main causes of homelessness: substance use, mental illness, relationship failures, and domestic abuse. These place responsibility and blame directly on the homeless. Policies related to ‘deinstitutionalization of care for mentally ill people and subsequent abandonment of a family member with mental illness by the family’ have also increased the number of people living without a roof over their heads.[1]\\n\\nStreet children[edit]\\n\\nMain article: \\n\\nStreet children in India\"),\n",
       " Document(page_content='\"Understanding Homelessness Articles.\" This page is an excellent next stop because it offers dozens of other interesting articles related to understanding homelessness.\\n\\n\"List of Tent Cities in America.\" Why are tent cities allowed in the U.S.? Where are they in the country? This article explores 27 tent cities in America.\\n\\n\"Why is Being Homeless Illegal?\" You may be concerned that homeless people are treated unfairly. This article explores why being homeless is illegal.\\n\\n\"Why is Homelessness Important?\" Homelessness is significant because it is bad and remains unsolved. This article explores why those two reasons make homelessness important.\\n\\n\"Mental Illness and Homelessness.\" Mental illness and homelessness directly cause the other. This article explores the relationship between the two.\\n\\n\"Why Is Homelessness Not a Problem?\" Is homelessness really as big of a deal as everyone seems to make it? This article explores why homelessness is not a problem.\\n\\n\"Veterans and Homelessness.\" Why are so many veterans homeless? How do they become homeless? This article answers both these questions and more!\\n\\n\"Why Are Most Homeless People White?\" Ever notice that almost anywhere you go in the United States most homeless people are white? This article explores why.\\n\\n\"Homeless with a Job.\" When you work full time and cant even afford to pay the rent, something is terribly wrong. This article explores being homeless with a job.\\n\\n\"Why Do Homeless People Live in Cities?\" Homeless people sleep in crowded cities on concrete blocks. Why not go to wildernesses? This article explains why homeless people live in cities.\\n\\nkey takeaways\\n\\nHomelessness in India exists mainly because of migration, wealth inequality, and discrimination.\\n\\nMega-cities in India face the brunt of the homelessness crisis because people migrate in droves from rural areas to these urban centers in search of a better life.\\n\\nIndian NGOs help homeless people by providing them with temporary shelters and basic amenities, and by spreading awareness.\\n\\nThe Government of India is working to improve shelters and distribute food at cheap rates among the homeless. Its mission is to avert the crisis entirely by 2022 under the PMAY Scheme.\\n\\nTo help the problem, you can play your part by educating yourself and others, volunteering at homeless shelters, and advocating for their rights.\\n\\nfurther readingThis article focused exclusively on homelessness in india. What it focused little to none on, however, is poverty and homelessness.\\n\\nother helpful articles\\n\\n\"Understanding Homelessness Articles.\" This page is an excellent next stop because it offers dozens of other interesting articles related to understanding homelessness.\\n\\n\"List of Tent Cities in America.\" Why are tent cities allowed in the U.S.? Where are they in the country? This article explores 27 tent cities in America.\\n\\n\"Why is Being Homeless Illegal?\" You may be concerned that homeless people are treated unfairly. This article explores why being homeless is illegal.\\n\\n\"Why is Homelessness Important?\" Homelessness is significant because it is bad and remains unsolved. This article explores why those two reasons make homelessness important.\\n\\n\"Mental Illness and Homelessness.\" Mental illness and homelessness directly cause the other. This article explores the relationship between the two.\\n\\n\"Why Is Homelessness Not a Problem?\" Is homelessness really as big of a deal as everyone seems to make it? This article explores why homelessness is not a problem.\\n\\n\"Veterans and Homelessness.\" Why are so many veterans homeless? How do they become homeless? This article answers both these questions and more!\\n\\n\"Why Are Most Homeless People White?\" Ever notice that almost anywhere you go in the United States most homeless people are white? This article explores why.\\n\\n\"Homeless with a Job.\" When you work full time and cant even afford to pay the rent, something is terribly wrong. This article explores being homeless with a job.\\n\\n\"Why Do Homeless People Live in Cities?\" Homeless people sleep in crowded cities on concrete blocks. Why not go to wildernesses? This article explains why homeless people live in cities.\\n\\nkey takeaways\\n\\nHomelessness in India exists mainly because of migration, wealth inequality, and discrimination.\\n\\nMega-cities in India face the brunt of the homelessness crisis because people migrate in droves from rural areas to these urban centers in search of a better life.\\n\\nIndian NGOs help homeless people by providing them with temporary shelters and basic amenities, and by spreading awareness.\\n\\nThe Government of India is working to improve shelters and distribute food at cheap rates among the homeless. Its mission is to avert the crisis entirely by 2022 under the PMAY Scheme.\\n\\nTo help the problem, you can play your part by educating yourself and others, volunteering at homeless shelters, and advocating for their rights.\\n\\nthank you for reading\\n\\nFEATURED ARTICLES\\n\\nWhy Don\\'t Homeless People Just Get a Job?')]"
      ]
     },
     "execution_count": 55,
     "metadata": {},
     "output_type": "execute_result"
    }
   ],
   "source": [
    "docs"
   ]
  },
  {
   "cell_type": "code",
   "execution_count": 56,
   "metadata": {},
   "outputs": [],
   "source": [
    "docs_str = [str(x.page_content) for x in docs]"
   ]
  },
  {
   "cell_type": "code",
   "execution_count": 57,
   "metadata": {},
   "outputs": [
    {
     "data": {
      "text/plain": [
       "['Test Mode\\n\\nNotifications',\n",
       " 'www.outlookindia.com\\n\\nChecking if the site connection is secure\\n\\nwww.outlookindia.com needs to review the security of your connection before proceeding.\\n\\nConnection is secure\\n\\nProceeding...\\n\\nEnable JavaScript and cookies to continue\\n\\nRay ID: \\n\\nPerformance & security by \\n\\nCloudflare',\n",
       " \"Why do People Become Homeless?\\n\\nWhy is Homelessness a Problem?\\n\\nTiny Homes for the Homeless\\n\\nWhat is it Like to Be Homeless?\\n\\nRECENT\\n\\nWhere Can A Homeless Woman Go For Help?\\n\\nWho Funds Homeless Shelters?\\n\\nWhat To Do If You Will Soon Become Homeless\\n\\nWhat to Do When Homeless\\n\\nWhat To Do With Belongings When Homeless\\n\\nWho Has The Largest Homeless Population?\\n\\nCATEGORIES\\n\\nBeing Homeless\\n\\nFeatured\\n\\nHelping the Homeless\\n\\nHomelessness by Country and Continent\\n\\nHomelessness in the United States\\n\\nResources for the Homeless\\n\\nSOCIETY\\n\\nAbout\\n\\nContact\\n\\nPrivacy Policy\\n\\nDonate to Ending Homelessness\\n\\nTerms of Service\\n\\nImage Credits\\n\\nToggle the table of contents\\n\\nContents\\n\\n(Top)\\n\\n1Causes\\n\\n2Street children\\n\\n3Challenges faced by the homeless\\n\\n4Efforts to assist\\n\\t\\t\\n\\t\\t\\n\\t\\t\\t\\n\\t\\t\\t\\t\\n\\t\\t\\t\\tToggle Efforts to assist subsection\\n\\t\\t\\t\\n\\t\\t\\n\\t\\t\\n\\t\\t\\t\\n\\t\\t\\t\\n\\t\\t\\t\\t\\n\\t\\t\\t\\t4.1Non-governmental services\\n\\t\\t\\t\\n\\t\\t\\t\\n\\t\\t\\t\\n\\t\\t\\t\\n\\t\\t\\n\\t\\t\\n\\t\\t\\t\\n\\t\\t\\t\\t\\n\\t\\t\\t\\t4.2Governmental services\\n\\n5Homelessness and informal housing: the case of Mumbai\\n\\n6A growing concern\\n\\n7References\\n\\nHomelessness in India\\n\\n1 language\\n\\nالعربية\\n\\nEdit links\\n\\nArticle\\n\\nTalk\\n\\nEnglish\\n\\nRead\\n\\nEdit\\n\\nView history\\n\\nTools\\n\\nTools\\n\\nActions\\n\\nRead\\n\\nEdit\\n\\nView history\\n\\nGeneral\\n\\nWhat links here\\n\\nRelated changes\\n\\nUpload file\\n\\nSpecial pages\\n\\nPermanent link\\n\\nPage information\\n\\nCite this page\\n\\nGet shortened URL\\n\\nWikidata item\\n\\nEdit interlanguage links\\n\\nExpand all\\n\\nPrint/export\\n\\nDownload as PDF\\n\\nPrintable version\\n\\nIn other projects\\n\\nWikimedia Commons\\n\\nFrom Wikipedia, the free encyclopedia\\n\\nMajor social issue in India\\n\\nSee also: \\n\\nIndian states ranking by families owning house\\n\\nHomelessness\\n\\nIndia.\\n\\nUniversal Declaration of Human Rights defines '\\n\\nhomeless' as those who do not live in a regular residence. The United Nations Economic and Social Council Statement has a broader definition for homelessness; it defines homelessness as follows: ‘When we are talking about housing, we are not just talking about four walls and a roof. The right to adequate housing is about security of tenure, affordability, access to services and cultural adequacy. It is about protection from forced eviction and displacement, fighting homelessness, poverty and exclusion.\\n\\n[1]\\n\\nCensus houses, but rather stay on pavements, roadsides, railway platforms, staircases, temples, streets, in pipes, or other open spaces.\\n\\n[2]\\n\\n[2]\\n\\n[3]\\n\\n[1]\\n\\n[4]\\n\\n[5]\\n\\n[6]\\n\\nNew Delhi; the same population in\\n\\nCanada would make up approximately 30\\n\\nelectoral districts.\\n\\n[7]\\n\\n[2]\\n\\n[8]\\n\\npoverty threshold.\\n\\n[8]\\n\\nGovernment of India to tackle urban homelessness and\\n\\npoverty may be affected in the future by both external and internal factors.\\n\\n[8]\\n\\n[9]\\n\\nslums and tenements.\\n\\n[10]\\n\\n[8]\\n\\nSlumdog Millionaire\\n\\nMumbai was a slum tourist destination for slumming where homeless people and slum dwellers alike could be openly viewed by tourists.\\n\\n[11]\\n\\nCauses[edit]\\n\\nurbanization.\\n\\n[12]\\n\\n[13]\\n\\n[2]\\n\\nSlums can provide an escape, yet individuals often cannot afford them.\\n\\n[2]\\n\\nabuse, maltreatment, and lack of access to schools and healthcare.\\n\\n[6]\\n\\ndisability (either mental, physical, or both), lack of affordable\\n\\nhousing (a basic apartment in India costs approximately US$70 per month\\n\\n[14]\\n\\nunemployment (either seasonal or through economic hardships), and changes in industry.\\n\\n[8]\\n\\n[1]\\n\\nheavy industry and\\n\\nmanufacturing (that require only a high school level of education) are being replaced by\\n\\nservice industry jobs (which may or may not require a higher level of education). Since university is less affordable for the average Indian than it is for the average North American or European citizen due to their lower\\n\\nper capita income level, more people in India are becoming unemployable for the jobs of the 21st century. The average per capita income for a citizen of India is barely more than US$1,200; compared to US$54,510 in Canada and more than US$64,800 in Switzerland.\\n\\n[15]\\n\\n[16]\\n\\n[17]\\n\\nPolicymakers attribute the following factors as the main causes of homelessness: substance use, mental illness, relationship failures, and domestic abuse. These place responsibility and blame directly on the homeless. Policies related to ‘deinstitutionalization of care for mentally ill people and subsequent abandonment of a family member with mental illness by the family’ have also increased the number of people living without a roof over their heads.[1]\\n\\nStreet children[edit]\\n\\nMain article: \\n\\nStreet children in India\",\n",
       " '\"Understanding Homelessness Articles.\" This page is an excellent next stop because it offers dozens of other interesting articles related to understanding homelessness.\\n\\n\"List of Tent Cities in America.\" Why are tent cities allowed in the U.S.? Where are they in the country? This article explores 27 tent cities in America.\\n\\n\"Why is Being Homeless Illegal?\" You may be concerned that homeless people are treated unfairly. This article explores why being homeless is illegal.\\n\\n\"Why is Homelessness Important?\" Homelessness is significant because it is bad and remains unsolved. This article explores why those two reasons make homelessness important.\\n\\n\"Mental Illness and Homelessness.\" Mental illness and homelessness directly cause the other. This article explores the relationship between the two.\\n\\n\"Why Is Homelessness Not a Problem?\" Is homelessness really as big of a deal as everyone seems to make it? This article explores why homelessness is not a problem.\\n\\n\"Veterans and Homelessness.\" Why are so many veterans homeless? How do they become homeless? This article answers both these questions and more!\\n\\n\"Why Are Most Homeless People White?\" Ever notice that almost anywhere you go in the United States most homeless people are white? This article explores why.\\n\\n\"Homeless with a Job.\" When you work full time and cant even afford to pay the rent, something is terribly wrong. This article explores being homeless with a job.\\n\\n\"Why Do Homeless People Live in Cities?\" Homeless people sleep in crowded cities on concrete blocks. Why not go to wildernesses? This article explains why homeless people live in cities.\\n\\nkey takeaways\\n\\nHomelessness in India exists mainly because of migration, wealth inequality, and discrimination.\\n\\nMega-cities in India face the brunt of the homelessness crisis because people migrate in droves from rural areas to these urban centers in search of a better life.\\n\\nIndian NGOs help homeless people by providing them with temporary shelters and basic amenities, and by spreading awareness.\\n\\nThe Government of India is working to improve shelters and distribute food at cheap rates among the homeless. Its mission is to avert the crisis entirely by 2022 under the PMAY Scheme.\\n\\nTo help the problem, you can play your part by educating yourself and others, volunteering at homeless shelters, and advocating for their rights.\\n\\nfurther readingThis article focused exclusively on homelessness in india. What it focused little to none on, however, is poverty and homelessness.\\n\\nother helpful articles\\n\\n\"Understanding Homelessness Articles.\" This page is an excellent next stop because it offers dozens of other interesting articles related to understanding homelessness.\\n\\n\"List of Tent Cities in America.\" Why are tent cities allowed in the U.S.? Where are they in the country? This article explores 27 tent cities in America.\\n\\n\"Why is Being Homeless Illegal?\" You may be concerned that homeless people are treated unfairly. This article explores why being homeless is illegal.\\n\\n\"Why is Homelessness Important?\" Homelessness is significant because it is bad and remains unsolved. This article explores why those two reasons make homelessness important.\\n\\n\"Mental Illness and Homelessness.\" Mental illness and homelessness directly cause the other. This article explores the relationship between the two.\\n\\n\"Why Is Homelessness Not a Problem?\" Is homelessness really as big of a deal as everyone seems to make it? This article explores why homelessness is not a problem.\\n\\n\"Veterans and Homelessness.\" Why are so many veterans homeless? How do they become homeless? This article answers both these questions and more!\\n\\n\"Why Are Most Homeless People White?\" Ever notice that almost anywhere you go in the United States most homeless people are white? This article explores why.\\n\\n\"Homeless with a Job.\" When you work full time and cant even afford to pay the rent, something is terribly wrong. This article explores being homeless with a job.\\n\\n\"Why Do Homeless People Live in Cities?\" Homeless people sleep in crowded cities on concrete blocks. Why not go to wildernesses? This article explains why homeless people live in cities.\\n\\nkey takeaways\\n\\nHomelessness in India exists mainly because of migration, wealth inequality, and discrimination.\\n\\nMega-cities in India face the brunt of the homelessness crisis because people migrate in droves from rural areas to these urban centers in search of a better life.\\n\\nIndian NGOs help homeless people by providing them with temporary shelters and basic amenities, and by spreading awareness.\\n\\nThe Government of India is working to improve shelters and distribute food at cheap rates among the homeless. Its mission is to avert the crisis entirely by 2022 under the PMAY Scheme.\\n\\nTo help the problem, you can play your part by educating yourself and others, volunteering at homeless shelters, and advocating for their rights.\\n\\nthank you for reading\\n\\nFEATURED ARTICLES\\n\\nWhy Don\\'t Homeless People Just Get a Job?']"
      ]
     },
     "execution_count": 57,
     "metadata": {},
     "output_type": "execute_result"
    }
   ],
   "source": [
    "docs_str"
   ]
  },
  {
   "cell_type": "code",
   "execution_count": 49,
   "metadata": {},
   "outputs": [],
   "source": [
    "# stuff_answer = conversation.predict(\n",
    "#     context=docs_str,\n",
    "#     question=question,\n",
    "# )"
   ]
  },
  {
   "cell_type": "code",
   "execution_count": 50,
   "metadata": {},
   "outputs": [],
   "source": [
    "stuff_answer = conversation(\n",
    "    {\"context\": docs_str, \"question\": question}\n",
    ")"
   ]
  },
  {
   "cell_type": "code",
   "execution_count": 51,
   "metadata": {},
   "outputs": [
    {
     "name": "stdout",
     "output_type": "stream",
     "text": [
      "('Homelessness in India is a major social issue, with a significant population '\n",
      " 'living in census houses rather than regular residences. The United Nations '\n",
      " 'Economic and Social Council defines homelessness as the lack of security of '\n",
      " 'tenure, affordability, access to services, and cultural adequacy, as well as '\n",
      " 'protection from forced eviction and displacement. Causes of homelessness in '\n",
      " 'India include urbanization, lack of affordable housing, unemployment, and '\n",
      " 'changes in industry. Policymakers attribute substance use, mental illness, '\n",
      " 'relationship failures, and domestic abuse as the main causes of '\n",
      " 'homelessness, placing responsibility and blame directly on the homeless. '\n",
      " 'Street children in India face abuse, maltreatment, and lack of access to '\n",
      " 'schools and healthcare. Efforts to assist the homeless include '\n",
      " 'non-governmental and governmental services, such as shelters, food banks, '\n",
      " 'and counseling.')\n"
     ]
    }
   ],
   "source": [
    "pprint(stuff_answer['text'])"
   ]
  },
  {
   "cell_type": "code",
   "execution_count": null,
   "metadata": {},
   "outputs": [],
   "source": []
  }
 ],
 "metadata": {
  "kernelspec": {
   "display_name": "HESTIA",
   "language": "python",
   "name": "python3"
  },
  "language_info": {
   "codemirror_mode": {
    "name": "ipython",
    "version": 3
   },
   "file_extension": ".py",
   "mimetype": "text/x-python",
   "name": "python",
   "nbconvert_exporter": "python",
   "pygments_lexer": "ipython3",
   "version": "3.11.7"
  }
 },
 "nbformat": 4,
 "nbformat_minor": 2
}
