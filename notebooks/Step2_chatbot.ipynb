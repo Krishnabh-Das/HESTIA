{
 "cells": [
  {
   "cell_type": "markdown",
   "metadata": {},
   "source": [
    "## Requirements"
   ]
  },
  {
   "cell_type": "code",
   "execution_count": 1,
   "metadata": {},
   "outputs": [],
   "source": [
    "# %pip install pypdf\n",
    "# %pip install pandas\n",
    "# %pip install chromadb\n",
    "# %pip install langchain\n",
    "# %pip install \"unstructured[all-docs]\"\n",
    "# %pip install python-dotenv\n",
    "# %pip install google-generativeai\n",
    "# %pip install langchain-google-genai \n",
    "# %pip install selenium\n",
    "# %pip install \"astrapy>=0.5.3\""
   ]
  },
  {
   "cell_type": "markdown",
   "metadata": {},
   "source": [
    "## Imports"
   ]
  },
  {
   "cell_type": "code",
   "execution_count": 1,
   "metadata": {},
   "outputs": [],
   "source": [
    "import os\n",
    "from dotenv import load_dotenv\n",
    "\n",
    "import warnings\n",
    "from pprint import pprint\n",
    "\n",
    "import textwrap\n",
    "import pandas as pd\n",
    "\n",
    "import firebase_admin\n",
    "import google.generativeai as genai\n",
    "from firebase_admin import credentials\n",
    "\n",
    "from langchain import PromptTemplate\n",
    "from langchain.schema import Document\n",
    "from langchain.chains import LLMChain\n",
    "# from langchain.vectorstores import Chroma\n",
    "from langchain.document_loaders import SeleniumURLLoader\n",
    "from langchain_google_genai import ChatGoogleGenerativeAI\n",
    "from langchain_google_genai import GoogleGenerativeAIEmbeddings\n",
    "from langchain.text_splitter import RecursiveCharacterTextSplitter\n",
    "from langchain.chains.conversation.memory import ConversationSummaryMemory\n",
    "\n",
    "from langchain_community.vectorstores import AstraDB\n",
    "# from langchain_community.vectorstores import MatchingEngine\n",
    "from langchain_community.chat_message_histories.firestore import FirestoreChatMessageHistory\n",
    "\n",
    "# warnings.filterwarnings(\"ignore\")"
   ]
  },
  {
   "cell_type": "markdown",
   "metadata": {},
   "source": [
    "## Parameters"
   ]
  },
  {
   "cell_type": "code",
   "execution_count": 2,
   "metadata": {},
   "outputs": [],
   "source": [
    "load_dotenv(\"./keys/.env\")\n",
    "\n",
    "creds_path = \"./keys/serviceAccountKey.json\"\n",
    "\n",
    "data_list = [\n",
    "    # \"https://borgenproject.org/tag/homelessness-in-india/\",\n",
    "    # \"https://www.noblenonprofit.org/homelessness-in-india-an-unsolved-problem/\",\n",
    "    # \"https://caufsociety.com/homelessness-in-india/\",\n",
    "    # \"https://en.wikipedia.org/wiki/Homelessness_in_India\",\n",
    "    # \"https://www.hlrn.org.in/homelessness\",\n",
    "    # \"https://blog.ipleaders.in/prevention-homelessness-problem-treated-legally/\",\n",
    "    # \"https://borgenproject.org/homelessness-in-india/\",\n",
    "    # \"https://www.aljazeera.com/gallery/2023/1/3/photos-new-delhis-homeless-shiver-in-biting-cold\",\n",
    "#     \"https://www.quora.com/In-India-if-a-person-suddenly-becomes-homeless-what-are-some-tips-you-will-give-him\",\n",
    "#     \"https://leaglesamiksha.com/2022/06/19/homelessness-in-india-causes-and-remedies/\",\n",
    "#     \"https://www.orfonline.org/expert-speak/sheltering-the-urban-homeless\"\n",
    "]"
   ]
  },
  {
   "cell_type": "markdown",
   "metadata": {},
   "source": [
    "## Auth"
   ]
  },
  {
   "cell_type": "code",
   "execution_count": 3,
   "metadata": {},
   "outputs": [],
   "source": [
    "genai.configure(api_key=os.environ.get(\"GOOGLE_API_KEY\"))"
   ]
  },
  {
   "cell_type": "code",
   "execution_count": 4,
   "metadata": {},
   "outputs": [
    {
     "data": {
      "text/plain": [
       "<firebase_admin.App at 0x7f74bb367f10>"
      ]
     },
     "execution_count": 4,
     "metadata": {},
     "output_type": "execute_result"
    }
   ],
   "source": [
    "cred = credentials.Certificate(creds_path)\n",
    "firebase_admin.initialize_app(cred)"
   ]
  },
  {
   "cell_type": "code",
   "execution_count": 5,
   "metadata": {},
   "outputs": [],
   "source": [
    "ASTRA_DB_API_ENDPOINT = f\"https://{os.environ.get('ASTRA_DB_ID')}-{os.environ.get('ASTRA_DB_REGION')}.apps.astra.datastax.com\"\n",
    "ASTRA_DB_APPLICATION_TOKEN=os.environ.get('ASTRA_DB_APPLICATION_TOKEN')\n",
    "ASTRA_DB_ID = os.environ.get('ASTRA_DB_ID')\n",
    "ASTRA_DB_REGION = os.environ.get('ASTRA_DB_REGION')\n",
    "ASTRA_DB_APPLICATION_TOKEN = os.environ.get('ASTRA_DB_APPLICATION_TOKEN')\n",
    "ASTRA_DB_KEYSPACE = os.environ.get('ASTRA_DB_KEYSPACE')\n",
    "\n",
    "COLLECTION_NAME = \"HESTIA_chatbot_dev\""
   ]
  },
  {
   "cell_type": "markdown",
   "metadata": {},
   "source": [
    "## Configure LLM"
   ]
  },
  {
   "cell_type": "code",
   "execution_count": 6,
   "metadata": {},
   "outputs": [],
   "source": [
    "model = ChatGoogleGenerativeAI(\n",
    "    model=\"gemini-pro\",\n",
    "    temperature=0.3\n",
    ") # type: ignore"
   ]
  },
  {
   "cell_type": "code",
   "execution_count": 7,
   "metadata": {},
   "outputs": [],
   "source": [
    "embeddings = GoogleGenerativeAIEmbeddings(model=\"models/embedding-001\")# type: ignore"
   ]
  },
  {
   "cell_type": "code",
   "execution_count": 40,
   "metadata": {},
   "outputs": [],
   "source": [
    "message_history = FirestoreChatMessageHistory(\n",
    "    collection_name='Chat_message',\n",
    "    session_id     ='string',\n",
    "    user_id        ='string'\n",
    ")"
   ]
  },
  {
   "cell_type": "markdown",
   "metadata": {},
   "source": [
    "## Loading Data"
   ]
  },
  {
   "cell_type": "code",
   "execution_count": 9,
   "metadata": {},
   "outputs": [
    {
     "ename": "KeyboardInterrupt",
     "evalue": "",
     "output_type": "error",
     "traceback": [
      "\u001b[0;31m---------------------------------------------------------------------------\u001b[0m",
      "\u001b[0;31mKeyboardInterrupt\u001b[0m                         Traceback (most recent call last)",
      "Cell \u001b[0;32mIn[9], line 2\u001b[0m\n\u001b[1;32m      1\u001b[0m data_loader \u001b[38;5;241m=\u001b[39m SeleniumURLLoader(urls\u001b[38;5;241m=\u001b[39mdata_list)\n\u001b[0;32m----> 2\u001b[0m pages \u001b[38;5;241m=\u001b[39m \u001b[43mdata_loader\u001b[49m\u001b[38;5;241;43m.\u001b[39;49m\u001b[43mload\u001b[49m\u001b[43m(\u001b[49m\u001b[43m)\u001b[49m\n",
      "File \u001b[0;32m~/.conda/envs/HESTIA/lib/python3.11/site-packages/langchain_community/document_loaders/url_selenium.py:156\u001b[0m, in \u001b[0;36mSeleniumURLLoader.load\u001b[0;34m(self)\u001b[0m\n\u001b[1;32m    150\u001b[0m \u001b[38;5;28;01mdef\u001b[39;00m \u001b[38;5;21mload\u001b[39m(\u001b[38;5;28mself\u001b[39m) \u001b[38;5;241m-\u001b[39m\u001b[38;5;241m>\u001b[39m List[Document]:\n\u001b[1;32m    151\u001b[0m \u001b[38;5;250m    \u001b[39m\u001b[38;5;124;03m\"\"\"Load the specified URLs using Selenium and create Document instances.\u001b[39;00m\n\u001b[1;32m    152\u001b[0m \n\u001b[1;32m    153\u001b[0m \u001b[38;5;124;03m    Returns:\u001b[39;00m\n\u001b[1;32m    154\u001b[0m \u001b[38;5;124;03m        List[Document]: A list of Document instances with loaded content.\u001b[39;00m\n\u001b[1;32m    155\u001b[0m \u001b[38;5;124;03m    \"\"\"\u001b[39;00m\n\u001b[0;32m--> 156\u001b[0m     \u001b[38;5;28;01mfrom\u001b[39;00m \u001b[38;5;21;01munstructured\u001b[39;00m\u001b[38;5;21;01m.\u001b[39;00m\u001b[38;5;21;01mpartition\u001b[39;00m\u001b[38;5;21;01m.\u001b[39;00m\u001b[38;5;21;01mhtml\u001b[39;00m \u001b[38;5;28;01mimport\u001b[39;00m partition_html\n\u001b[1;32m    158\u001b[0m     docs: List[Document] \u001b[38;5;241m=\u001b[39m \u001b[38;5;28mlist\u001b[39m()\n\u001b[1;32m    159\u001b[0m     driver \u001b[38;5;241m=\u001b[39m \u001b[38;5;28mself\u001b[39m\u001b[38;5;241m.\u001b[39m_get_driver()\n",
      "File \u001b[0;32m~/.conda/envs/HESTIA/lib/python3.11/site-packages/unstructured/partition/html.py:7\u001b[0m\n\u001b[1;32m      5\u001b[0m \u001b[38;5;28;01mfrom\u001b[39;00m \u001b[38;5;21;01munstructured\u001b[39;00m\u001b[38;5;21;01m.\u001b[39;00m\u001b[38;5;21;01mchunking\u001b[39;00m \u001b[38;5;28;01mimport\u001b[39;00m add_chunking_strategy\n\u001b[1;32m      6\u001b[0m \u001b[38;5;28;01mfrom\u001b[39;00m \u001b[38;5;21;01munstructured\u001b[39;00m\u001b[38;5;21;01m.\u001b[39;00m\u001b[38;5;21;01mdocuments\u001b[39;00m\u001b[38;5;21;01m.\u001b[39;00m\u001b[38;5;21;01melements\u001b[39;00m \u001b[38;5;28;01mimport\u001b[39;00m Element, process_metadata\n\u001b[0;32m----> 7\u001b[0m \u001b[38;5;28;01mfrom\u001b[39;00m \u001b[38;5;21;01munstructured\u001b[39;00m\u001b[38;5;21;01m.\u001b[39;00m\u001b[38;5;21;01mdocuments\u001b[39;00m\u001b[38;5;21;01m.\u001b[39;00m\u001b[38;5;21;01mhtml\u001b[39;00m \u001b[38;5;28;01mimport\u001b[39;00m HTMLDocument\n\u001b[1;32m      8\u001b[0m \u001b[38;5;28;01mfrom\u001b[39;00m \u001b[38;5;21;01munstructured\u001b[39;00m\u001b[38;5;21;01m.\u001b[39;00m\u001b[38;5;21;01mdocuments\u001b[39;00m\u001b[38;5;21;01m.\u001b[39;00m\u001b[38;5;21;01mxml\u001b[39;00m \u001b[38;5;28;01mimport\u001b[39;00m VALID_PARSERS\n\u001b[1;32m      9\u001b[0m \u001b[38;5;28;01mfrom\u001b[39;00m \u001b[38;5;21;01munstructured\u001b[39;00m\u001b[38;5;21;01m.\u001b[39;00m\u001b[38;5;21;01mfile_utils\u001b[39;00m\u001b[38;5;21;01m.\u001b[39;00m\u001b[38;5;21;01mencoding\u001b[39;00m \u001b[38;5;28;01mimport\u001b[39;00m read_txt_file\n",
      "File \u001b[0;32m~/.conda/envs/HESTIA/lib/python3.11/site-packages/unstructured/documents/html.py:31\u001b[0m\n\u001b[1;32m     29\u001b[0m \u001b[38;5;28;01mfrom\u001b[39;00m \u001b[38;5;21;01munstructured\u001b[39;00m\u001b[38;5;21;01m.\u001b[39;00m\u001b[38;5;21;01mdocuments\u001b[39;00m\u001b[38;5;21;01m.\u001b[39;00m\u001b[38;5;21;01mxml\u001b[39;00m \u001b[38;5;28;01mimport\u001b[39;00m VALID_PARSERS, XMLDocument\n\u001b[1;32m     30\u001b[0m \u001b[38;5;28;01mfrom\u001b[39;00m \u001b[38;5;21;01munstructured\u001b[39;00m\u001b[38;5;21;01m.\u001b[39;00m\u001b[38;5;21;01mlogger\u001b[39;00m \u001b[38;5;28;01mimport\u001b[39;00m logger\n\u001b[0;32m---> 31\u001b[0m \u001b[38;5;28;01mfrom\u001b[39;00m \u001b[38;5;21;01munstructured\u001b[39;00m\u001b[38;5;21;01m.\u001b[39;00m\u001b[38;5;21;01mpartition\u001b[39;00m\u001b[38;5;21;01m.\u001b[39;00m\u001b[38;5;21;01mtext_type\u001b[39;00m \u001b[38;5;28;01mimport\u001b[39;00m (\n\u001b[1;32m     32\u001b[0m     is_bulleted_text,\n\u001b[1;32m     33\u001b[0m     is_email_address,\n\u001b[1;32m     34\u001b[0m     is_possible_narrative_text,\n\u001b[1;32m     35\u001b[0m     is_possible_title,\n\u001b[1;32m     36\u001b[0m     is_us_city_state_zip,\n\u001b[1;32m     37\u001b[0m )\n\u001b[1;32m     38\u001b[0m \u001b[38;5;28;01mfrom\u001b[39;00m \u001b[38;5;21;01munstructured\u001b[39;00m\u001b[38;5;21;01m.\u001b[39;00m\u001b[38;5;21;01mutils\u001b[39;00m \u001b[38;5;28;01mimport\u001b[39;00m htmlify_matrix_of_cell_texts\n\u001b[1;32m     40\u001b[0m TEXT_TAGS: Final[List[\u001b[38;5;28mstr\u001b[39m]] \u001b[38;5;241m=\u001b[39m [\u001b[38;5;124m\"\u001b[39m\u001b[38;5;124mp\u001b[39m\u001b[38;5;124m\"\u001b[39m, \u001b[38;5;124m\"\u001b[39m\u001b[38;5;124ma\u001b[39m\u001b[38;5;124m\"\u001b[39m, \u001b[38;5;124m\"\u001b[39m\u001b[38;5;124mtd\u001b[39m\u001b[38;5;124m\"\u001b[39m, \u001b[38;5;124m\"\u001b[39m\u001b[38;5;124mspan\u001b[39m\u001b[38;5;124m\"\u001b[39m, \u001b[38;5;124m\"\u001b[39m\u001b[38;5;124mfont\u001b[39m\u001b[38;5;124m\"\u001b[39m]\n",
      "File \u001b[0;32m~/.conda/envs/HESTIA/lib/python3.11/site-packages/unstructured/partition/text_type.py:23\u001b[0m\n\u001b[1;32m     14\u001b[0m \u001b[38;5;28;01mfrom\u001b[39;00m \u001b[38;5;21;01munstructured\u001b[39;00m\u001b[38;5;21;01m.\u001b[39;00m\u001b[38;5;21;01mnlp\u001b[39;00m\u001b[38;5;21;01m.\u001b[39;00m\u001b[38;5;21;01menglish_words\u001b[39;00m \u001b[38;5;28;01mimport\u001b[39;00m ENGLISH_WORDS\n\u001b[1;32m     15\u001b[0m \u001b[38;5;28;01mfrom\u001b[39;00m \u001b[38;5;21;01munstructured\u001b[39;00m\u001b[38;5;21;01m.\u001b[39;00m\u001b[38;5;21;01mnlp\u001b[39;00m\u001b[38;5;21;01m.\u001b[39;00m\u001b[38;5;21;01mpatterns\u001b[39;00m \u001b[38;5;28;01mimport\u001b[39;00m (\n\u001b[1;32m     16\u001b[0m     EMAIL_ADDRESS_PATTERN_RE,\n\u001b[1;32m     17\u001b[0m     ENDS_IN_PUNCT_RE,\n\u001b[0;32m   (...)\u001b[0m\n\u001b[1;32m     21\u001b[0m     US_PHONE_NUMBERS_RE,\n\u001b[1;32m     22\u001b[0m )\n\u001b[0;32m---> 23\u001b[0m \u001b[38;5;28;01mfrom\u001b[39;00m \u001b[38;5;21;01munstructured\u001b[39;00m\u001b[38;5;21;01m.\u001b[39;00m\u001b[38;5;21;01mnlp\u001b[39;00m\u001b[38;5;21;01m.\u001b[39;00m\u001b[38;5;21;01mtokenize\u001b[39;00m \u001b[38;5;28;01mimport\u001b[39;00m pos_tag, sent_tokenize, word_tokenize\n\u001b[1;32m     25\u001b[0m POS_VERB_TAGS: Final[List[\u001b[38;5;28mstr\u001b[39m]] \u001b[38;5;241m=\u001b[39m [\u001b[38;5;124m\"\u001b[39m\u001b[38;5;124mVB\u001b[39m\u001b[38;5;124m\"\u001b[39m, \u001b[38;5;124m\"\u001b[39m\u001b[38;5;124mVBG\u001b[39m\u001b[38;5;124m\"\u001b[39m, \u001b[38;5;124m\"\u001b[39m\u001b[38;5;124mVBD\u001b[39m\u001b[38;5;124m\"\u001b[39m, \u001b[38;5;124m\"\u001b[39m\u001b[38;5;124mVBN\u001b[39m\u001b[38;5;124m\"\u001b[39m, \u001b[38;5;124m\"\u001b[39m\u001b[38;5;124mVBP\u001b[39m\u001b[38;5;124m\"\u001b[39m, \u001b[38;5;124m\"\u001b[39m\u001b[38;5;124mVBZ\u001b[39m\u001b[38;5;124m\"\u001b[39m]\n\u001b[1;32m     26\u001b[0m ENGLISH_WORD_SPLIT_RE \u001b[38;5;241m=\u001b[39m re\u001b[38;5;241m.\u001b[39mcompile(\u001b[38;5;124mr\u001b[39m\u001b[38;5;124m\"\u001b[39m\u001b[38;5;124m[\u001b[39m\u001b[38;5;124m\\\u001b[39m\u001b[38;5;124ms\u001b[39m\u001b[38;5;124m\\\u001b[39m\u001b[38;5;124m-,.!?_\u001b[39m\u001b[38;5;124m\\\u001b[39m\u001b[38;5;124m/]+\u001b[39m\u001b[38;5;124m\"\u001b[39m)\n",
      "File \u001b[0;32m~/.conda/envs/HESTIA/lib/python3.11/site-packages/unstructured/nlp/tokenize.py:10\u001b[0m\n\u001b[1;32m      7\u001b[0m \u001b[38;5;28;01melse\u001b[39;00m:\n\u001b[1;32m      8\u001b[0m     \u001b[38;5;28;01mfrom\u001b[39;00m \u001b[38;5;21;01mtyping\u001b[39;00m \u001b[38;5;28;01mimport\u001b[39;00m Final\n\u001b[0;32m---> 10\u001b[0m \u001b[38;5;28;01mimport\u001b[39;00m \u001b[38;5;21;01mnltk\u001b[39;00m\n\u001b[1;32m     11\u001b[0m \u001b[38;5;28;01mfrom\u001b[39;00m \u001b[38;5;21;01mnltk\u001b[39;00m \u001b[38;5;28;01mimport\u001b[39;00m pos_tag \u001b[38;5;28;01mas\u001b[39;00m _pos_tag\n\u001b[1;32m     12\u001b[0m \u001b[38;5;28;01mfrom\u001b[39;00m \u001b[38;5;21;01mnltk\u001b[39;00m \u001b[38;5;28;01mimport\u001b[39;00m sent_tokenize \u001b[38;5;28;01mas\u001b[39;00m _sent_tokenize\n",
      "File \u001b[0;32m~/.conda/envs/HESTIA/lib/python3.11/site-packages/nltk/__init__.py:133\u001b[0m\n\u001b[1;32m    125\u001b[0m     subprocess\u001b[38;5;241m.\u001b[39mPopen \u001b[38;5;241m=\u001b[39m _fake_Popen\n\u001b[1;32m    127\u001b[0m \u001b[38;5;66;03m###########################################################\u001b[39;00m\n\u001b[1;32m    128\u001b[0m \u001b[38;5;66;03m# TOP-LEVEL MODULES\u001b[39;00m\n\u001b[1;32m    129\u001b[0m \u001b[38;5;66;03m###########################################################\u001b[39;00m\n\u001b[1;32m    130\u001b[0m \n\u001b[1;32m    131\u001b[0m \u001b[38;5;66;03m# Import top-level functionality into top-level namespace\u001b[39;00m\n\u001b[0;32m--> 133\u001b[0m \u001b[38;5;28;01mfrom\u001b[39;00m \u001b[38;5;21;01mnltk\u001b[39;00m\u001b[38;5;21;01m.\u001b[39;00m\u001b[38;5;21;01mcollocations\u001b[39;00m \u001b[38;5;28;01mimport\u001b[39;00m \u001b[38;5;241m*\u001b[39m\n\u001b[1;32m    134\u001b[0m \u001b[38;5;28;01mfrom\u001b[39;00m \u001b[38;5;21;01mnltk\u001b[39;00m\u001b[38;5;21;01m.\u001b[39;00m\u001b[38;5;21;01mdecorators\u001b[39;00m \u001b[38;5;28;01mimport\u001b[39;00m decorator, memoize\n\u001b[1;32m    135\u001b[0m \u001b[38;5;28;01mfrom\u001b[39;00m \u001b[38;5;21;01mnltk\u001b[39;00m\u001b[38;5;21;01m.\u001b[39;00m\u001b[38;5;21;01mfeatstruct\u001b[39;00m \u001b[38;5;28;01mimport\u001b[39;00m \u001b[38;5;241m*\u001b[39m\n",
      "File \u001b[0;32m~/.conda/envs/HESTIA/lib/python3.11/site-packages/nltk/collocations.py:36\u001b[0m\n\u001b[1;32m     33\u001b[0m \u001b[38;5;28;01mimport\u001b[39;00m \u001b[38;5;21;01mitertools\u001b[39;00m \u001b[38;5;28;01mas\u001b[39;00m \u001b[38;5;21;01m_itertools\u001b[39;00m\n\u001b[1;32m     35\u001b[0m \u001b[38;5;66;03m# these two unused imports are referenced in collocations.doctest\u001b[39;00m\n\u001b[0;32m---> 36\u001b[0m \u001b[38;5;28;01mfrom\u001b[39;00m \u001b[38;5;21;01mnltk\u001b[39;00m\u001b[38;5;21;01m.\u001b[39;00m\u001b[38;5;21;01mmetrics\u001b[39;00m \u001b[38;5;28;01mimport\u001b[39;00m (\n\u001b[1;32m     37\u001b[0m     BigramAssocMeasures,\n\u001b[1;32m     38\u001b[0m     ContingencyMeasures,\n\u001b[1;32m     39\u001b[0m     QuadgramAssocMeasures,\n\u001b[1;32m     40\u001b[0m     TrigramAssocMeasures,\n\u001b[1;32m     41\u001b[0m )\n\u001b[1;32m     42\u001b[0m \u001b[38;5;28;01mfrom\u001b[39;00m \u001b[38;5;21;01mnltk\u001b[39;00m\u001b[38;5;21;01m.\u001b[39;00m\u001b[38;5;21;01mmetrics\u001b[39;00m\u001b[38;5;21;01m.\u001b[39;00m\u001b[38;5;21;01mspearman\u001b[39;00m \u001b[38;5;28;01mimport\u001b[39;00m ranks_from_scores, spearman_correlation\n\u001b[1;32m     43\u001b[0m \u001b[38;5;28;01mfrom\u001b[39;00m \u001b[38;5;21;01mnltk\u001b[39;00m\u001b[38;5;21;01m.\u001b[39;00m\u001b[38;5;21;01mprobability\u001b[39;00m \u001b[38;5;28;01mimport\u001b[39;00m FreqDist\n",
      "File \u001b[0;32m~/.conda/envs/HESTIA/lib/python3.11/site-packages/nltk/metrics/__init__.py:18\u001b[0m\n\u001b[1;32m     16\u001b[0m \u001b[38;5;28;01mfrom\u001b[39;00m \u001b[38;5;21;01mnltk\u001b[39;00m\u001b[38;5;21;01m.\u001b[39;00m\u001b[38;5;21;01mmetrics\u001b[39;00m\u001b[38;5;21;01m.\u001b[39;00m\u001b[38;5;21;01magreement\u001b[39;00m \u001b[38;5;28;01mimport\u001b[39;00m AnnotationTask\n\u001b[1;32m     17\u001b[0m \u001b[38;5;28;01mfrom\u001b[39;00m \u001b[38;5;21;01mnltk\u001b[39;00m\u001b[38;5;21;01m.\u001b[39;00m\u001b[38;5;21;01mmetrics\u001b[39;00m\u001b[38;5;21;01m.\u001b[39;00m\u001b[38;5;21;01maline\u001b[39;00m \u001b[38;5;28;01mimport\u001b[39;00m align\n\u001b[0;32m---> 18\u001b[0m \u001b[38;5;28;01mfrom\u001b[39;00m \u001b[38;5;21;01mnltk\u001b[39;00m\u001b[38;5;21;01m.\u001b[39;00m\u001b[38;5;21;01mmetrics\u001b[39;00m\u001b[38;5;21;01m.\u001b[39;00m\u001b[38;5;21;01massociation\u001b[39;00m \u001b[38;5;28;01mimport\u001b[39;00m (\n\u001b[1;32m     19\u001b[0m     BigramAssocMeasures,\n\u001b[1;32m     20\u001b[0m     ContingencyMeasures,\n\u001b[1;32m     21\u001b[0m     NgramAssocMeasures,\n\u001b[1;32m     22\u001b[0m     QuadgramAssocMeasures,\n\u001b[1;32m     23\u001b[0m     TrigramAssocMeasures,\n\u001b[1;32m     24\u001b[0m )\n\u001b[1;32m     25\u001b[0m \u001b[38;5;28;01mfrom\u001b[39;00m \u001b[38;5;21;01mnltk\u001b[39;00m\u001b[38;5;21;01m.\u001b[39;00m\u001b[38;5;21;01mmetrics\u001b[39;00m\u001b[38;5;21;01m.\u001b[39;00m\u001b[38;5;21;01mconfusionmatrix\u001b[39;00m \u001b[38;5;28;01mimport\u001b[39;00m ConfusionMatrix\n\u001b[1;32m     26\u001b[0m \u001b[38;5;28;01mfrom\u001b[39;00m \u001b[38;5;21;01mnltk\u001b[39;00m\u001b[38;5;21;01m.\u001b[39;00m\u001b[38;5;21;01mmetrics\u001b[39;00m\u001b[38;5;21;01m.\u001b[39;00m\u001b[38;5;21;01mdistance\u001b[39;00m \u001b[38;5;28;01mimport\u001b[39;00m (\n\u001b[1;32m     27\u001b[0m     binary_distance,\n\u001b[1;32m     28\u001b[0m     custom_distance,\n\u001b[0;32m   (...)\u001b[0m\n\u001b[1;32m     35\u001b[0m     presence,\n\u001b[1;32m     36\u001b[0m )\n",
      "File \u001b[0;32m~/.conda/envs/HESTIA/lib/python3.11/site-packages/nltk/metrics/association.py:26\u001b[0m\n\u001b[1;32m     23\u001b[0m _SMALL \u001b[38;5;241m=\u001b[39m \u001b[38;5;241m1e-20\u001b[39m\n\u001b[1;32m     25\u001b[0m \u001b[38;5;28;01mtry\u001b[39;00m:\n\u001b[0;32m---> 26\u001b[0m     \u001b[38;5;28;01mfrom\u001b[39;00m \u001b[38;5;21;01mscipy\u001b[39;00m\u001b[38;5;21;01m.\u001b[39;00m\u001b[38;5;21;01mstats\u001b[39;00m \u001b[38;5;28;01mimport\u001b[39;00m fisher_exact\n\u001b[1;32m     27\u001b[0m \u001b[38;5;28;01mexcept\u001b[39;00m \u001b[38;5;167;01mImportError\u001b[39;00m:\n\u001b[1;32m     29\u001b[0m     \u001b[38;5;28;01mdef\u001b[39;00m \u001b[38;5;21mfisher_exact\u001b[39m(\u001b[38;5;241m*\u001b[39m_args, \u001b[38;5;241m*\u001b[39m\u001b[38;5;241m*\u001b[39m_kwargs):\n",
      "File \u001b[0;32m~/.conda/envs/HESTIA/lib/python3.11/site-packages/scipy/stats/__init__.py:608\u001b[0m\n\u001b[1;32m      1\u001b[0m \u001b[38;5;124;03m\"\"\"\u001b[39;00m\n\u001b[1;32m      2\u001b[0m \u001b[38;5;124;03m.. _statsrefmanual:\u001b[39;00m\n\u001b[1;32m      3\u001b[0m \n\u001b[0;32m   (...)\u001b[0m\n\u001b[1;32m    603\u001b[0m \n\u001b[1;32m    604\u001b[0m \u001b[38;5;124;03m\"\"\"\u001b[39;00m\n\u001b[1;32m    606\u001b[0m \u001b[38;5;28;01mfrom\u001b[39;00m \u001b[38;5;21;01m.\u001b[39;00m\u001b[38;5;21;01m_warnings_errors\u001b[39;00m \u001b[38;5;28;01mimport\u001b[39;00m (ConstantInputWarning, NearConstantInputWarning,\n\u001b[1;32m    607\u001b[0m                                DegenerateDataWarning, FitError)\n\u001b[0;32m--> 608\u001b[0m \u001b[38;5;28;01mfrom\u001b[39;00m \u001b[38;5;21;01m.\u001b[39;00m\u001b[38;5;21;01m_stats_py\u001b[39;00m \u001b[38;5;28;01mimport\u001b[39;00m \u001b[38;5;241m*\u001b[39m\n\u001b[1;32m    609\u001b[0m \u001b[38;5;28;01mfrom\u001b[39;00m \u001b[38;5;21;01m.\u001b[39;00m\u001b[38;5;21;01m_variation\u001b[39;00m \u001b[38;5;28;01mimport\u001b[39;00m variation\n\u001b[1;32m    610\u001b[0m \u001b[38;5;28;01mfrom\u001b[39;00m \u001b[38;5;21;01m.\u001b[39;00m\u001b[38;5;21;01mdistributions\u001b[39;00m \u001b[38;5;28;01mimport\u001b[39;00m \u001b[38;5;241m*\u001b[39m\n",
      "File \u001b[0;32m~/.conda/envs/HESTIA/lib/python3.11/site-packages/scipy/stats/_stats_py.py:39\u001b[0m\n\u001b[1;32m     36\u001b[0m \u001b[38;5;28;01mfrom\u001b[39;00m \u001b[38;5;21;01mnumpy\u001b[39;00m\u001b[38;5;21;01m.\u001b[39;00m\u001b[38;5;21;01mlib\u001b[39;00m \u001b[38;5;28;01mimport\u001b[39;00m NumpyVersion\n\u001b[1;32m     37\u001b[0m \u001b[38;5;28;01mfrom\u001b[39;00m \u001b[38;5;21;01mnumpy\u001b[39;00m\u001b[38;5;21;01m.\u001b[39;00m\u001b[38;5;21;01mtesting\u001b[39;00m \u001b[38;5;28;01mimport\u001b[39;00m suppress_warnings\n\u001b[0;32m---> 39\u001b[0m \u001b[38;5;28;01mfrom\u001b[39;00m \u001b[38;5;21;01mscipy\u001b[39;00m\u001b[38;5;21;01m.\u001b[39;00m\u001b[38;5;21;01mspatial\u001b[39;00m\u001b[38;5;21;01m.\u001b[39;00m\u001b[38;5;21;01mdistance\u001b[39;00m \u001b[38;5;28;01mimport\u001b[39;00m cdist\n\u001b[1;32m     40\u001b[0m \u001b[38;5;28;01mfrom\u001b[39;00m \u001b[38;5;21;01mscipy\u001b[39;00m\u001b[38;5;21;01m.\u001b[39;00m\u001b[38;5;21;01mndimage\u001b[39;00m \u001b[38;5;28;01mimport\u001b[39;00m _measurements\n\u001b[1;32m     41\u001b[0m \u001b[38;5;28;01mfrom\u001b[39;00m \u001b[38;5;21;01mscipy\u001b[39;00m\u001b[38;5;21;01m.\u001b[39;00m\u001b[38;5;21;01m_lib\u001b[39;00m\u001b[38;5;21;01m.\u001b[39;00m\u001b[38;5;21;01m_util\u001b[39;00m \u001b[38;5;28;01mimport\u001b[39;00m (check_random_state, MapWrapper, _get_nan,\n\u001b[1;32m     42\u001b[0m                               rng_integers, _rename_parameter, _contains_nan)\n",
      "File \u001b[0;32m~/.conda/envs/HESTIA/lib/python3.11/site-packages/scipy/spatial/__init__.py:110\u001b[0m\n\u001b[1;32m      1\u001b[0m \u001b[38;5;124;03m\"\"\"\u001b[39;00m\n\u001b[1;32m      2\u001b[0m \u001b[38;5;124;03m=============================================================\u001b[39;00m\n\u001b[1;32m      3\u001b[0m \u001b[38;5;124;03mSpatial algorithms and data structures (:mod:`scipy.spatial`)\u001b[39;00m\n\u001b[0;32m   (...)\u001b[0m\n\u001b[1;32m    107\u001b[0m \u001b[38;5;124;03m   QhullError\u001b[39;00m\n\u001b[1;32m    108\u001b[0m \u001b[38;5;124;03m\"\"\"\u001b[39;00m\n\u001b[0;32m--> 110\u001b[0m \u001b[38;5;28;01mfrom\u001b[39;00m \u001b[38;5;21;01m.\u001b[39;00m\u001b[38;5;21;01m_kdtree\u001b[39;00m \u001b[38;5;28;01mimport\u001b[39;00m \u001b[38;5;241m*\u001b[39m\n\u001b[1;32m    111\u001b[0m \u001b[38;5;28;01mfrom\u001b[39;00m \u001b[38;5;21;01m.\u001b[39;00m\u001b[38;5;21;01m_ckdtree\u001b[39;00m \u001b[38;5;28;01mimport\u001b[39;00m \u001b[38;5;241m*\u001b[39m\n\u001b[1;32m    112\u001b[0m \u001b[38;5;28;01mfrom\u001b[39;00m \u001b[38;5;21;01m.\u001b[39;00m\u001b[38;5;21;01m_qhull\u001b[39;00m \u001b[38;5;28;01mimport\u001b[39;00m \u001b[38;5;241m*\u001b[39m\n",
      "File \u001b[0;32m~/.conda/envs/HESTIA/lib/python3.11/site-packages/scipy/spatial/_kdtree.py:4\u001b[0m\n\u001b[1;32m      1\u001b[0m \u001b[38;5;66;03m# Copyright Anne M. Archibald 2008\u001b[39;00m\n\u001b[1;32m      2\u001b[0m \u001b[38;5;66;03m# Released under the scipy license\u001b[39;00m\n\u001b[1;32m      3\u001b[0m \u001b[38;5;28;01mimport\u001b[39;00m \u001b[38;5;21;01mnumpy\u001b[39;00m \u001b[38;5;28;01mas\u001b[39;00m \u001b[38;5;21;01mnp\u001b[39;00m\n\u001b[0;32m----> 4\u001b[0m \u001b[38;5;28;01mfrom\u001b[39;00m \u001b[38;5;21;01m.\u001b[39;00m\u001b[38;5;21;01m_ckdtree\u001b[39;00m \u001b[38;5;28;01mimport\u001b[39;00m cKDTree, cKDTreeNode\n\u001b[1;32m      6\u001b[0m __all__ \u001b[38;5;241m=\u001b[39m [\u001b[38;5;124m'\u001b[39m\u001b[38;5;124mminkowski_distance_p\u001b[39m\u001b[38;5;124m'\u001b[39m, \u001b[38;5;124m'\u001b[39m\u001b[38;5;124mminkowski_distance\u001b[39m\u001b[38;5;124m'\u001b[39m,\n\u001b[1;32m      7\u001b[0m            \u001b[38;5;124m'\u001b[39m\u001b[38;5;124mdistance_matrix\u001b[39m\u001b[38;5;124m'\u001b[39m,\n\u001b[1;32m      8\u001b[0m            \u001b[38;5;124m'\u001b[39m\u001b[38;5;124mRectangle\u001b[39m\u001b[38;5;124m'\u001b[39m, \u001b[38;5;124m'\u001b[39m\u001b[38;5;124mKDTree\u001b[39m\u001b[38;5;124m'\u001b[39m]\n\u001b[1;32m     11\u001b[0m \u001b[38;5;28;01mdef\u001b[39;00m \u001b[38;5;21mminkowski_distance_p\u001b[39m(x, y, p\u001b[38;5;241m=\u001b[39m\u001b[38;5;241m2\u001b[39m):\n",
      "File \u001b[0;32m_ckdtree.pyx:12\u001b[0m, in \u001b[0;36minit scipy.spatial._ckdtree\u001b[0;34m()\u001b[0m\n",
      "File \u001b[0;32m~/.conda/envs/HESTIA/lib/python3.11/site-packages/scipy/sparse/__init__.py:287\u001b[0m\n\u001b[1;32m    284\u001b[0m \u001b[38;5;28;01mfrom\u001b[39;00m \u001b[38;5;21;01m.\u001b[39;00m\u001b[38;5;21;01m_matrix_io\u001b[39;00m \u001b[38;5;28;01mimport\u001b[39;00m \u001b[38;5;241m*\u001b[39m\n\u001b[1;32m    286\u001b[0m \u001b[38;5;66;03m# For backward compatibility with v0.19.\u001b[39;00m\n\u001b[0;32m--> 287\u001b[0m \u001b[38;5;28;01mfrom\u001b[39;00m \u001b[38;5;21;01m.\u001b[39;00m \u001b[38;5;28;01mimport\u001b[39;00m csgraph\n\u001b[1;32m    289\u001b[0m \u001b[38;5;66;03m# Deprecated namespaces, to be removed in v2.0.0\u001b[39;00m\n\u001b[1;32m    290\u001b[0m \u001b[38;5;28;01mfrom\u001b[39;00m \u001b[38;5;21;01m.\u001b[39;00m \u001b[38;5;28;01mimport\u001b[39;00m (\n\u001b[1;32m    291\u001b[0m     base, bsr, compressed, construct, coo, csc, csr, data, dia, dok, extract,\n\u001b[1;32m    292\u001b[0m     lil, sparsetools, sputils\n\u001b[1;32m    293\u001b[0m )\n",
      "File \u001b[0;32m~/.conda/envs/HESTIA/lib/python3.11/site-packages/scipy/sparse/csgraph/__init__.py:186\u001b[0m\n\u001b[1;32m    159\u001b[0m __all__ \u001b[38;5;241m=\u001b[39m [\u001b[38;5;124m'\u001b[39m\u001b[38;5;124mconnected_components\u001b[39m\u001b[38;5;124m'\u001b[39m,\n\u001b[1;32m    160\u001b[0m            \u001b[38;5;124m'\u001b[39m\u001b[38;5;124mlaplacian\u001b[39m\u001b[38;5;124m'\u001b[39m,\n\u001b[1;32m    161\u001b[0m            \u001b[38;5;124m'\u001b[39m\u001b[38;5;124mshortest_path\u001b[39m\u001b[38;5;124m'\u001b[39m,\n\u001b[0;32m   (...)\u001b[0m\n\u001b[1;32m    182\u001b[0m            \u001b[38;5;124m'\u001b[39m\u001b[38;5;124mcsgraph_to_masked\u001b[39m\u001b[38;5;124m'\u001b[39m,\n\u001b[1;32m    183\u001b[0m            \u001b[38;5;124m'\u001b[39m\u001b[38;5;124mNegativeCycleError\u001b[39m\u001b[38;5;124m'\u001b[39m]\n\u001b[1;32m    185\u001b[0m \u001b[38;5;28;01mfrom\u001b[39;00m \u001b[38;5;21;01m.\u001b[39;00m\u001b[38;5;21;01m_laplacian\u001b[39;00m \u001b[38;5;28;01mimport\u001b[39;00m laplacian\n\u001b[0;32m--> 186\u001b[0m \u001b[38;5;28;01mfrom\u001b[39;00m \u001b[38;5;21;01m.\u001b[39;00m\u001b[38;5;21;01m_shortest_path\u001b[39;00m \u001b[38;5;28;01mimport\u001b[39;00m (\n\u001b[1;32m    187\u001b[0m     shortest_path, floyd_warshall, dijkstra, bellman_ford, johnson,\n\u001b[1;32m    188\u001b[0m     NegativeCycleError\n\u001b[1;32m    189\u001b[0m )\n\u001b[1;32m    190\u001b[0m \u001b[38;5;28;01mfrom\u001b[39;00m \u001b[38;5;21;01m.\u001b[39;00m\u001b[38;5;21;01m_traversal\u001b[39;00m \u001b[38;5;28;01mimport\u001b[39;00m (\n\u001b[1;32m    191\u001b[0m     breadth_first_order, depth_first_order, breadth_first_tree,\n\u001b[1;32m    192\u001b[0m     depth_first_tree, connected_components\n\u001b[1;32m    193\u001b[0m )\n\u001b[1;32m    194\u001b[0m \u001b[38;5;28;01mfrom\u001b[39;00m \u001b[38;5;21;01m.\u001b[39;00m\u001b[38;5;21;01m_min_spanning_tree\u001b[39;00m \u001b[38;5;28;01mimport\u001b[39;00m minimum_spanning_tree\n",
      "File \u001b[0;32m_shortest_path.pyx:18\u001b[0m, in \u001b[0;36minit scipy.sparse.csgraph._shortest_path\u001b[0;34m()\u001b[0m\n",
      "File \u001b[0;32m~/.conda/envs/HESTIA/lib/python3.11/site-packages/scipy/sparse/csgraph/_validation.py:3\u001b[0m\n\u001b[1;32m      1\u001b[0m \u001b[38;5;28;01mimport\u001b[39;00m \u001b[38;5;21;01mnumpy\u001b[39;00m \u001b[38;5;28;01mas\u001b[39;00m \u001b[38;5;21;01mnp\u001b[39;00m\n\u001b[1;32m      2\u001b[0m \u001b[38;5;28;01mfrom\u001b[39;00m \u001b[38;5;21;01mscipy\u001b[39;00m\u001b[38;5;21;01m.\u001b[39;00m\u001b[38;5;21;01msparse\u001b[39;00m \u001b[38;5;28;01mimport\u001b[39;00m csr_matrix, issparse\n\u001b[0;32m----> 3\u001b[0m \u001b[38;5;28;01mfrom\u001b[39;00m \u001b[38;5;21;01m.\u001b[39;00m\u001b[38;5;21;01m_tools\u001b[39;00m \u001b[38;5;28;01mimport\u001b[39;00m csgraph_to_dense, csgraph_from_dense,\\\n\u001b[1;32m      4\u001b[0m     csgraph_masked_from_dense, csgraph_from_masked\n\u001b[1;32m      6\u001b[0m DTYPE \u001b[38;5;241m=\u001b[39m np\u001b[38;5;241m.\u001b[39mfloat64\n\u001b[1;32m      9\u001b[0m \u001b[38;5;28;01mdef\u001b[39;00m \u001b[38;5;21mvalidate_graph\u001b[39m(csgraph, directed, dtype\u001b[38;5;241m=\u001b[39mDTYPE,\n\u001b[1;32m     10\u001b[0m                    csr_output\u001b[38;5;241m=\u001b[39m\u001b[38;5;28;01mTrue\u001b[39;00m, dense_output\u001b[38;5;241m=\u001b[39m\u001b[38;5;28;01mTrue\u001b[39;00m,\n\u001b[1;32m     11\u001b[0m                    copy_if_dense\u001b[38;5;241m=\u001b[39m\u001b[38;5;28;01mFalse\u001b[39;00m, copy_if_sparse\u001b[38;5;241m=\u001b[39m\u001b[38;5;28;01mFalse\u001b[39;00m,\n\u001b[1;32m     12\u001b[0m                    null_value_in\u001b[38;5;241m=\u001b[39m\u001b[38;5;241m0\u001b[39m, null_value_out\u001b[38;5;241m=\u001b[39mnp\u001b[38;5;241m.\u001b[39minf,\n\u001b[1;32m     13\u001b[0m                    infinity_null\u001b[38;5;241m=\u001b[39m\u001b[38;5;28;01mTrue\u001b[39;00m, nan_null\u001b[38;5;241m=\u001b[39m\u001b[38;5;28;01mTrue\u001b[39;00m):\n",
      "File \u001b[0;32m<frozen importlib._bootstrap>:405\u001b[0m, in \u001b[0;36mparent\u001b[0;34m(self)\u001b[0m\n",
      "\u001b[0;31mKeyboardInterrupt\u001b[0m: "
     ]
    }
   ],
   "source": [
    "data_loader = SeleniumURLLoader(urls=data_list)\n",
    "pages = data_loader.load()"
   ]
  },
  {
   "cell_type": "markdown",
   "metadata": {},
   "source": [
    "## Prompt Design - In Context"
   ]
  },
  {
   "cell_type": "code",
   "execution_count": 41,
   "metadata": {},
   "outputs": [],
   "source": [
    "prompt = PromptTemplate(\n",
    "    input_variables=[\n",
    "      \"history\",\n",
    "      \"context\", \n",
    "      \"question\",\n",
    "\n",
    "    ],\n",
    "    # template=(\n",
    "    #     \"\"\"Answer the question as precise as possible using the provided context. If the answer is\n",
    "    #        not contained in the context also refreter summary of past Conversation, say \"answer not available in context\":\\n\n",
    "\n",
    "    #     History:{history}\\n\n",
    "    #     Context:{context}\\n\n",
    "    #     Question:{question}\\n\n",
    "    #     \"\"\"\n",
    "    # )\n",
    "    template=(\n",
    "            \"\"\"Act a a guide who answers queries regarding homelessness use the history and context to provide well informed answers, if dont know the\n",
    "            answer as well as te context and history dont know it reply \"I am nor aware of it yet\", if the data is not in context just tell\"contact your \n",
    "            support team for more answers\" dont't mention any thing reading context or historoy in your reply saying that\"result not context or history\".\n",
    "\n",
    "        History:{history}\\n\n",
    "        Context:{context}\\n\n",
    "        Question:{question}\\n\n",
    "        \"\"\"\n",
    "    )\n",
    ")"
   ]
  },
  {
   "cell_type": "code",
   "execution_count": 42,
   "metadata": {},
   "outputs": [],
   "source": [
    "summary_memory=ConversationSummaryMemory(\n",
    "    llm=model,\n",
    "    memory_key=\"history\",\n",
    "    input_key=\"question\",\n",
    "    chat_memory=message_history\n",
    ")"
   ]
  },
  {
   "cell_type": "code",
   "execution_count": 43,
   "metadata": {},
   "outputs": [],
   "source": [
    "conversation = LLMChain(\n",
    "    llm=model, \n",
    "    verbose=False,\n",
    "    memory=summary_memory,\n",
    "    prompt=prompt\n",
    ")"
   ]
  },
  {
   "cell_type": "markdown",
   "metadata": {},
   "source": [
    "## RAG pipeline"
   ]
  },
  {
   "cell_type": "code",
   "execution_count": 13,
   "metadata": {},
   "outputs": [
    {
     "ename": "NameError",
     "evalue": "name 'pages' is not defined",
     "output_type": "error",
     "traceback": [
      "\u001b[0;31m---------------------------------------------------------------------------\u001b[0m",
      "\u001b[0;31mNameError\u001b[0m                                 Traceback (most recent call last)",
      "Cell \u001b[0;32mIn[13], line 2\u001b[0m\n\u001b[1;32m      1\u001b[0m text_splitter \u001b[38;5;241m=\u001b[39m RecursiveCharacterTextSplitter(chunk_size\u001b[38;5;241m=\u001b[39m\u001b[38;5;241m5000\u001b[39m, chunk_overlap\u001b[38;5;241m=\u001b[39m\u001b[38;5;241m0\u001b[39m)\n\u001b[0;32m----> 2\u001b[0m context \u001b[38;5;241m=\u001b[39m \u001b[38;5;124m\"\u001b[39m\u001b[38;5;130;01m\\n\u001b[39;00m\u001b[38;5;130;01m\\n\u001b[39;00m\u001b[38;5;124m\"\u001b[39m\u001b[38;5;241m.\u001b[39mjoin(\u001b[38;5;28mstr\u001b[39m(p\u001b[38;5;241m.\u001b[39mpage_content) \u001b[38;5;28;01mfor\u001b[39;00m p \u001b[38;5;129;01min\u001b[39;00m \u001b[43mpages\u001b[49m)\n\u001b[1;32m      3\u001b[0m texts \u001b[38;5;241m=\u001b[39m text_splitter\u001b[38;5;241m.\u001b[39msplit_text(context)\n",
      "\u001b[0;31mNameError\u001b[0m: name 'pages' is not defined"
     ]
    }
   ],
   "source": [
    "text_splitter = RecursiveCharacterTextSplitter(chunk_size=5000, chunk_overlap=0)\n",
    "context = \"\\n\\n\".join(str(p.page_content) for p in pages)\n",
    "texts = text_splitter.split_text(context)"
   ]
  },
  {
   "cell_type": "code",
   "execution_count": null,
   "metadata": {},
   "outputs": [],
   "source": [
    "text = [Document(page_content=x) for x in texts]"
   ]
  },
  {
   "cell_type": "code",
   "execution_count": null,
   "metadata": {},
   "outputs": [],
   "source": [
    "# vector_index = Chroma.from_texts(texts, embeddings).as_retriever()"
   ]
  },
  {
   "cell_type": "code",
   "execution_count": 44,
   "metadata": {},
   "outputs": [],
   "source": [
    "vector_store = AstraDB(\n",
    "    embedding=embeddings,\n",
    "    collection_name=COLLECTION_NAME,\n",
    "    api_endpoint=ASTRA_DB_API_ENDPOINT,\n",
    "    token=ASTRA_DB_APPLICATION_TOKEN,\n",
    "    namespace='hestia'\n",
    ")"
   ]
  },
  {
   "cell_type": "code",
   "execution_count": null,
   "metadata": {},
   "outputs": [],
   "source": [
    "for t in text:\n",
    "    inserted_ids = vector_store.add_documents([t])"
   ]
  },
  {
   "cell_type": "code",
   "execution_count": null,
   "metadata": {},
   "outputs": [],
   "source": [
    "# vector_index = MatchingEngine.from_components(\n",
    "#     texts=texts,\n",
    "#     project_id=\"<my_project_id>\",\n",
    "#     region=\"<my_region>\",\n",
    "#     gcs_bucket_uri=\"<my_gcs_bucket>\",\n",
    "#     index_id=\"<my_matching_engine_index_id>\",\n",
    "#     endpoint_id=\"<my_matching_engine_endpoint_id>\",\n",
    "#     embedding=embeddings\n",
    "# )\n",
    "# question = 'tell me about homelessness in india?'\n",
    "# docs = vector_index.get_relevant_documents(question)"
   ]
  },
  {
   "cell_type": "code",
   "execution_count": 54,
   "metadata": {},
   "outputs": [],
   "source": [
    "question = 'Homelessness in India'\n",
    "docs = vector_store.similarity_search(question, k=4)"
   ]
  },
  {
   "cell_type": "code",
   "execution_count": 55,
   "metadata": {},
   "outputs": [
    {
     "data": {
      "text/plain": [
       "[Document(page_content='Test Mode\\n\\nNotifications'),\n",
       " Document(page_content='www.outlookindia.com\\n\\nChecking if the site connection is secure\\n\\nwww.outlookindia.com needs to review the security of your connection before proceeding.\\n\\nConnection is secure\\n\\nProceeding...\\n\\nEnable JavaScript and cookies to continue\\n\\nRay ID: \\n\\nPerformance & security by \\n\\nCloudflare'),\n",
       " Document(page_content=\"Why do People Become Homeless?\\n\\nWhy is Homelessness a Problem?\\n\\nTiny Homes for the Homeless\\n\\nWhat is it Like to Be Homeless?\\n\\nRECENT\\n\\nWhere Can A Homeless Woman Go For Help?\\n\\nWho Funds Homeless Shelters?\\n\\nWhat To Do If You Will Soon Become Homeless\\n\\nWhat to Do When Homeless\\n\\nWhat To Do With Belongings When Homeless\\n\\nWho Has The Largest Homeless Population?\\n\\nCATEGORIES\\n\\nBeing Homeless\\n\\nFeatured\\n\\nHelping the Homeless\\n\\nHomelessness by Country and Continent\\n\\nHomelessness in the United States\\n\\nResources for the Homeless\\n\\nSOCIETY\\n\\nAbout\\n\\nContact\\n\\nPrivacy Policy\\n\\nDonate to Ending Homelessness\\n\\nTerms of Service\\n\\nImage Credits\\n\\nToggle the table of contents\\n\\nContents\\n\\n(Top)\\n\\n1Causes\\n\\n2Street children\\n\\n3Challenges faced by the homeless\\n\\n4Efforts to assist\\n\\t\\t\\n\\t\\t\\n\\t\\t\\t\\n\\t\\t\\t\\t\\n\\t\\t\\t\\tToggle Efforts to assist subsection\\n\\t\\t\\t\\n\\t\\t\\n\\t\\t\\n\\t\\t\\t\\n\\t\\t\\t\\n\\t\\t\\t\\t\\n\\t\\t\\t\\t4.1Non-governmental services\\n\\t\\t\\t\\n\\t\\t\\t\\n\\t\\t\\t\\n\\t\\t\\t\\n\\t\\t\\n\\t\\t\\n\\t\\t\\t\\n\\t\\t\\t\\t\\n\\t\\t\\t\\t4.2Governmental services\\n\\n5Homelessness and informal housing: the case of Mumbai\\n\\n6A growing concern\\n\\n7References\\n\\nHomelessness in India\\n\\n1 language\\n\\nالعربية\\n\\nEdit links\\n\\nArticle\\n\\nTalk\\n\\nEnglish\\n\\nRead\\n\\nEdit\\n\\nView history\\n\\nTools\\n\\nTools\\n\\nActions\\n\\nRead\\n\\nEdit\\n\\nView history\\n\\nGeneral\\n\\nWhat links here\\n\\nRelated changes\\n\\nUpload file\\n\\nSpecial pages\\n\\nPermanent link\\n\\nPage information\\n\\nCite this page\\n\\nGet shortened URL\\n\\nWikidata item\\n\\nEdit interlanguage links\\n\\nExpand all\\n\\nPrint/export\\n\\nDownload as PDF\\n\\nPrintable version\\n\\nIn other projects\\n\\nWikimedia Commons\\n\\nFrom Wikipedia, the free encyclopedia\\n\\nMajor social issue in India\\n\\nSee also: \\n\\nIndian states ranking by families owning house\\n\\nHomelessness\\n\\nIndia.\\n\\nUniversal Declaration of Human Rights defines '\\n\\nhomeless' as those who do not live in a regular residence. The United Nations Economic and Social Council Statement has a broader definition for homelessness; it defines homelessness as follows: ‘When we are talking about housing, we are not just talking about four walls and a roof. The right to adequate housing is about security of tenure, affordability, access to services and cultural adequacy. It is about protection from forced eviction and displacement, fighting homelessness, poverty and exclusion.\\n\\n[1]\\n\\nCensus houses, but rather stay on pavements, roadsides, railway platforms, staircases, temples, streets, in pipes, or other open spaces.\\n\\n[2]\\n\\n[2]\\n\\n[3]\\n\\n[1]\\n\\n[4]\\n\\n[5]\\n\\n[6]\\n\\nNew Delhi; the same population in\\n\\nCanada would make up approximately 30\\n\\nelectoral districts.\\n\\n[7]\\n\\n[2]\\n\\n[8]\\n\\npoverty threshold.\\n\\n[8]\\n\\nGovernment of India to tackle urban homelessness and\\n\\npoverty may be affected in the future by both external and internal factors.\\n\\n[8]\\n\\n[9]\\n\\nslums and tenements.\\n\\n[10]\\n\\n[8]\\n\\nSlumdog Millionaire\\n\\nMumbai was a slum tourist destination for slumming where homeless people and slum dwellers alike could be openly viewed by tourists.\\n\\n[11]\\n\\nCauses[edit]\\n\\nurbanization.\\n\\n[12]\\n\\n[13]\\n\\n[2]\\n\\nSlums can provide an escape, yet individuals often cannot afford them.\\n\\n[2]\\n\\nabuse, maltreatment, and lack of access to schools and healthcare.\\n\\n[6]\\n\\ndisability (either mental, physical, or both), lack of affordable\\n\\nhousing (a basic apartment in India costs approximately US$70 per month\\n\\n[14]\\n\\nunemployment (either seasonal or through economic hardships), and changes in industry.\\n\\n[8]\\n\\n[1]\\n\\nheavy industry and\\n\\nmanufacturing (that require only a high school level of education) are being replaced by\\n\\nservice industry jobs (which may or may not require a higher level of education). Since university is less affordable for the average Indian than it is for the average North American or European citizen due to their lower\\n\\nper capita income level, more people in India are becoming unemployable for the jobs of the 21st century. The average per capita income for a citizen of India is barely more than US$1,200; compared to US$54,510 in Canada and more than US$64,800 in Switzerland.\\n\\n[15]\\n\\n[16]\\n\\n[17]\\n\\nPolicymakers attribute the following factors as the main causes of homelessness: substance use, mental illness, relationship failures, and domestic abuse. These place responsibility and blame directly on the homeless. Policies related to ‘deinstitutionalization of care for mentally ill people and subsequent abandonment of a family member with mental illness by the family’ have also increased the number of people living without a roof over their heads.[1]\\n\\nStreet children[edit]\\n\\nMain article: \\n\\nStreet children in India\"),\n",
       " Document(page_content='\"Understanding Homelessness Articles.\" This page is an excellent next stop because it offers dozens of other interesting articles related to understanding homelessness.\\n\\n\"List of Tent Cities in America.\" Why are tent cities allowed in the U.S.? Where are they in the country? This article explores 27 tent cities in America.\\n\\n\"Why is Being Homeless Illegal?\" You may be concerned that homeless people are treated unfairly. This article explores why being homeless is illegal.\\n\\n\"Why is Homelessness Important?\" Homelessness is significant because it is bad and remains unsolved. This article explores why those two reasons make homelessness important.\\n\\n\"Mental Illness and Homelessness.\" Mental illness and homelessness directly cause the other. This article explores the relationship between the two.\\n\\n\"Why Is Homelessness Not a Problem?\" Is homelessness really as big of a deal as everyone seems to make it? This article explores why homelessness is not a problem.\\n\\n\"Veterans and Homelessness.\" Why are so many veterans homeless? How do they become homeless? This article answers both these questions and more!\\n\\n\"Why Are Most Homeless People White?\" Ever notice that almost anywhere you go in the United States most homeless people are white? This article explores why.\\n\\n\"Homeless with a Job.\" When you work full time and cant even afford to pay the rent, something is terribly wrong. This article explores being homeless with a job.\\n\\n\"Why Do Homeless People Live in Cities?\" Homeless people sleep in crowded cities on concrete blocks. Why not go to wildernesses? This article explains why homeless people live in cities.\\n\\nkey takeaways\\n\\nHomelessness in India exists mainly because of migration, wealth inequality, and discrimination.\\n\\nMega-cities in India face the brunt of the homelessness crisis because people migrate in droves from rural areas to these urban centers in search of a better life.\\n\\nIndian NGOs help homeless people by providing them with temporary shelters and basic amenities, and by spreading awareness.\\n\\nThe Government of India is working to improve shelters and distribute food at cheap rates among the homeless. Its mission is to avert the crisis entirely by 2022 under the PMAY Scheme.\\n\\nTo help the problem, you can play your part by educating yourself and others, volunteering at homeless shelters, and advocating for their rights.\\n\\nfurther readingThis article focused exclusively on homelessness in india. What it focused little to none on, however, is poverty and homelessness.\\n\\nother helpful articles\\n\\n\"Understanding Homelessness Articles.\" This page is an excellent next stop because it offers dozens of other interesting articles related to understanding homelessness.\\n\\n\"List of Tent Cities in America.\" Why are tent cities allowed in the U.S.? Where are they in the country? This article explores 27 tent cities in America.\\n\\n\"Why is Being Homeless Illegal?\" You may be concerned that homeless people are treated unfairly. This article explores why being homeless is illegal.\\n\\n\"Why is Homelessness Important?\" Homelessness is significant because it is bad and remains unsolved. This article explores why those two reasons make homelessness important.\\n\\n\"Mental Illness and Homelessness.\" Mental illness and homelessness directly cause the other. This article explores the relationship between the two.\\n\\n\"Why Is Homelessness Not a Problem?\" Is homelessness really as big of a deal as everyone seems to make it? This article explores why homelessness is not a problem.\\n\\n\"Veterans and Homelessness.\" Why are so many veterans homeless? How do they become homeless? This article answers both these questions and more!\\n\\n\"Why Are Most Homeless People White?\" Ever notice that almost anywhere you go in the United States most homeless people are white? This article explores why.\\n\\n\"Homeless with a Job.\" When you work full time and cant even afford to pay the rent, something is terribly wrong. This article explores being homeless with a job.\\n\\n\"Why Do Homeless People Live in Cities?\" Homeless people sleep in crowded cities on concrete blocks. Why not go to wildernesses? This article explains why homeless people live in cities.\\n\\nkey takeaways\\n\\nHomelessness in India exists mainly because of migration, wealth inequality, and discrimination.\\n\\nMega-cities in India face the brunt of the homelessness crisis because people migrate in droves from rural areas to these urban centers in search of a better life.\\n\\nIndian NGOs help homeless people by providing them with temporary shelters and basic amenities, and by spreading awareness.\\n\\nThe Government of India is working to improve shelters and distribute food at cheap rates among the homeless. Its mission is to avert the crisis entirely by 2022 under the PMAY Scheme.\\n\\nTo help the problem, you can play your part by educating yourself and others, volunteering at homeless shelters, and advocating for their rights.\\n\\nthank you for reading\\n\\nFEATURED ARTICLES\\n\\nWhy Don\\'t Homeless People Just Get a Job?')]"
      ]
     },
     "execution_count": 55,
     "metadata": {},
     "output_type": "execute_result"
    }
   ],
   "source": [
    "docs"
   ]
  },
  {
   "cell_type": "code",
   "execution_count": 56,
   "metadata": {},
   "outputs": [],
   "source": [
    "docs_str = [str(x.page_content) for x in docs]"
   ]
  },
  {
   "cell_type": "code",
   "execution_count": 57,
   "metadata": {},
   "outputs": [
    {
     "data": {
      "text/plain": [
       "['Test Mode\\n\\nNotifications',\n",
       " 'www.outlookindia.com\\n\\nChecking if the site connection is secure\\n\\nwww.outlookindia.com needs to review the security of your connection before proceeding.\\n\\nConnection is secure\\n\\nProceeding...\\n\\nEnable JavaScript and cookies to continue\\n\\nRay ID: \\n\\nPerformance & security by \\n\\nCloudflare',\n",
       " \"Why do People Become Homeless?\\n\\nWhy is Homelessness a Problem?\\n\\nTiny Homes for the Homeless\\n\\nWhat is it Like to Be Homeless?\\n\\nRECENT\\n\\nWhere Can A Homeless Woman Go For Help?\\n\\nWho Funds Homeless Shelters?\\n\\nWhat To Do If You Will Soon Become Homeless\\n\\nWhat to Do When Homeless\\n\\nWhat To Do With Belongings When Homeless\\n\\nWho Has The Largest Homeless Population?\\n\\nCATEGORIES\\n\\nBeing Homeless\\n\\nFeatured\\n\\nHelping the Homeless\\n\\nHomelessness by Country and Continent\\n\\nHomelessness in the United States\\n\\nResources for the Homeless\\n\\nSOCIETY\\n\\nAbout\\n\\nContact\\n\\nPrivacy Policy\\n\\nDonate to Ending Homelessness\\n\\nTerms of Service\\n\\nImage Credits\\n\\nToggle the table of contents\\n\\nContents\\n\\n(Top)\\n\\n1Causes\\n\\n2Street children\\n\\n3Challenges faced by the homeless\\n\\n4Efforts to assist\\n\\t\\t\\n\\t\\t\\n\\t\\t\\t\\n\\t\\t\\t\\t\\n\\t\\t\\t\\tToggle Efforts to assist subsection\\n\\t\\t\\t\\n\\t\\t\\n\\t\\t\\n\\t\\t\\t\\n\\t\\t\\t\\n\\t\\t\\t\\t\\n\\t\\t\\t\\t4.1Non-governmental services\\n\\t\\t\\t\\n\\t\\t\\t\\n\\t\\t\\t\\n\\t\\t\\t\\n\\t\\t\\n\\t\\t\\n\\t\\t\\t\\n\\t\\t\\t\\t\\n\\t\\t\\t\\t4.2Governmental services\\n\\n5Homelessness and informal housing: the case of Mumbai\\n\\n6A growing concern\\n\\n7References\\n\\nHomelessness in India\\n\\n1 language\\n\\nالعربية\\n\\nEdit links\\n\\nArticle\\n\\nTalk\\n\\nEnglish\\n\\nRead\\n\\nEdit\\n\\nView history\\n\\nTools\\n\\nTools\\n\\nActions\\n\\nRead\\n\\nEdit\\n\\nView history\\n\\nGeneral\\n\\nWhat links here\\n\\nRelated changes\\n\\nUpload file\\n\\nSpecial pages\\n\\nPermanent link\\n\\nPage information\\n\\nCite this page\\n\\nGet shortened URL\\n\\nWikidata item\\n\\nEdit interlanguage links\\n\\nExpand all\\n\\nPrint/export\\n\\nDownload as PDF\\n\\nPrintable version\\n\\nIn other projects\\n\\nWikimedia Commons\\n\\nFrom Wikipedia, the free encyclopedia\\n\\nMajor social issue in India\\n\\nSee also: \\n\\nIndian states ranking by families owning house\\n\\nHomelessness\\n\\nIndia.\\n\\nUniversal Declaration of Human Rights defines '\\n\\nhomeless' as those who do not live in a regular residence. The United Nations Economic and Social Council Statement has a broader definition for homelessness; it defines homelessness as follows: ‘When we are talking about housing, we are not just talking about four walls and a roof. The right to adequate housing is about security of tenure, affordability, access to services and cultural adequacy. It is about protection from forced eviction and displacement, fighting homelessness, poverty and exclusion.\\n\\n[1]\\n\\nCensus houses, but rather stay on pavements, roadsides, railway platforms, staircases, temples, streets, in pipes, or other open spaces.\\n\\n[2]\\n\\n[2]\\n\\n[3]\\n\\n[1]\\n\\n[4]\\n\\n[5]\\n\\n[6]\\n\\nNew Delhi; the same population in\\n\\nCanada would make up approximately 30\\n\\nelectoral districts.\\n\\n[7]\\n\\n[2]\\n\\n[8]\\n\\npoverty threshold.\\n\\n[8]\\n\\nGovernment of India to tackle urban homelessness and\\n\\npoverty may be affected in the future by both external and internal factors.\\n\\n[8]\\n\\n[9]\\n\\nslums and tenements.\\n\\n[10]\\n\\n[8]\\n\\nSlumdog Millionaire\\n\\nMumbai was a slum tourist destination for slumming where homeless people and slum dwellers alike could be openly viewed by tourists.\\n\\n[11]\\n\\nCauses[edit]\\n\\nurbanization.\\n\\n[12]\\n\\n[13]\\n\\n[2]\\n\\nSlums can provide an escape, yet individuals often cannot afford them.\\n\\n[2]\\n\\nabuse, maltreatment, and lack of access to schools and healthcare.\\n\\n[6]\\n\\ndisability (either mental, physical, or both), lack of affordable\\n\\nhousing (a basic apartment in India costs approximately US$70 per month\\n\\n[14]\\n\\nunemployment (either seasonal or through economic hardships), and changes in industry.\\n\\n[8]\\n\\n[1]\\n\\nheavy industry and\\n\\nmanufacturing (that require only a high school level of education) are being replaced by\\n\\nservice industry jobs (which may or may not require a higher level of education). Since university is less affordable for the average Indian than it is for the average North American or European citizen due to their lower\\n\\nper capita income level, more people in India are becoming unemployable for the jobs of the 21st century. The average per capita income for a citizen of India is barely more than US$1,200; compared to US$54,510 in Canada and more than US$64,800 in Switzerland.\\n\\n[15]\\n\\n[16]\\n\\n[17]\\n\\nPolicymakers attribute the following factors as the main causes of homelessness: substance use, mental illness, relationship failures, and domestic abuse. These place responsibility and blame directly on the homeless. Policies related to ‘deinstitutionalization of care for mentally ill people and subsequent abandonment of a family member with mental illness by the family’ have also increased the number of people living without a roof over their heads.[1]\\n\\nStreet children[edit]\\n\\nMain article: \\n\\nStreet children in India\",\n",
       " '\"Understanding Homelessness Articles.\" This page is an excellent next stop because it offers dozens of other interesting articles related to understanding homelessness.\\n\\n\"List of Tent Cities in America.\" Why are tent cities allowed in the U.S.? Where are they in the country? This article explores 27 tent cities in America.\\n\\n\"Why is Being Homeless Illegal?\" You may be concerned that homeless people are treated unfairly. This article explores why being homeless is illegal.\\n\\n\"Why is Homelessness Important?\" Homelessness is significant because it is bad and remains unsolved. This article explores why those two reasons make homelessness important.\\n\\n\"Mental Illness and Homelessness.\" Mental illness and homelessness directly cause the other. This article explores the relationship between the two.\\n\\n\"Why Is Homelessness Not a Problem?\" Is homelessness really as big of a deal as everyone seems to make it? This article explores why homelessness is not a problem.\\n\\n\"Veterans and Homelessness.\" Why are so many veterans homeless? How do they become homeless? This article answers both these questions and more!\\n\\n\"Why Are Most Homeless People White?\" Ever notice that almost anywhere you go in the United States most homeless people are white? This article explores why.\\n\\n\"Homeless with a Job.\" When you work full time and cant even afford to pay the rent, something is terribly wrong. This article explores being homeless with a job.\\n\\n\"Why Do Homeless People Live in Cities?\" Homeless people sleep in crowded cities on concrete blocks. Why not go to wildernesses? This article explains why homeless people live in cities.\\n\\nkey takeaways\\n\\nHomelessness in India exists mainly because of migration, wealth inequality, and discrimination.\\n\\nMega-cities in India face the brunt of the homelessness crisis because people migrate in droves from rural areas to these urban centers in search of a better life.\\n\\nIndian NGOs help homeless people by providing them with temporary shelters and basic amenities, and by spreading awareness.\\n\\nThe Government of India is working to improve shelters and distribute food at cheap rates among the homeless. Its mission is to avert the crisis entirely by 2022 under the PMAY Scheme.\\n\\nTo help the problem, you can play your part by educating yourself and others, volunteering at homeless shelters, and advocating for their rights.\\n\\nfurther readingThis article focused exclusively on homelessness in india. What it focused little to none on, however, is poverty and homelessness.\\n\\nother helpful articles\\n\\n\"Understanding Homelessness Articles.\" This page is an excellent next stop because it offers dozens of other interesting articles related to understanding homelessness.\\n\\n\"List of Tent Cities in America.\" Why are tent cities allowed in the U.S.? Where are they in the country? This article explores 27 tent cities in America.\\n\\n\"Why is Being Homeless Illegal?\" You may be concerned that homeless people are treated unfairly. This article explores why being homeless is illegal.\\n\\n\"Why is Homelessness Important?\" Homelessness is significant because it is bad and remains unsolved. This article explores why those two reasons make homelessness important.\\n\\n\"Mental Illness and Homelessness.\" Mental illness and homelessness directly cause the other. This article explores the relationship between the two.\\n\\n\"Why Is Homelessness Not a Problem?\" Is homelessness really as big of a deal as everyone seems to make it? This article explores why homelessness is not a problem.\\n\\n\"Veterans and Homelessness.\" Why are so many veterans homeless? How do they become homeless? This article answers both these questions and more!\\n\\n\"Why Are Most Homeless People White?\" Ever notice that almost anywhere you go in the United States most homeless people are white? This article explores why.\\n\\n\"Homeless with a Job.\" When you work full time and cant even afford to pay the rent, something is terribly wrong. This article explores being homeless with a job.\\n\\n\"Why Do Homeless People Live in Cities?\" Homeless people sleep in crowded cities on concrete blocks. Why not go to wildernesses? This article explains why homeless people live in cities.\\n\\nkey takeaways\\n\\nHomelessness in India exists mainly because of migration, wealth inequality, and discrimination.\\n\\nMega-cities in India face the brunt of the homelessness crisis because people migrate in droves from rural areas to these urban centers in search of a better life.\\n\\nIndian NGOs help homeless people by providing them with temporary shelters and basic amenities, and by spreading awareness.\\n\\nThe Government of India is working to improve shelters and distribute food at cheap rates among the homeless. Its mission is to avert the crisis entirely by 2022 under the PMAY Scheme.\\n\\nTo help the problem, you can play your part by educating yourself and others, volunteering at homeless shelters, and advocating for their rights.\\n\\nthank you for reading\\n\\nFEATURED ARTICLES\\n\\nWhy Don\\'t Homeless People Just Get a Job?']"
      ]
     },
     "execution_count": 57,
     "metadata": {},
     "output_type": "execute_result"
    }
   ],
   "source": [
    "docs_str"
   ]
  },
  {
   "cell_type": "code",
   "execution_count": 49,
   "metadata": {},
   "outputs": [],
   "source": [
    "# stuff_answer = conversation.predict(\n",
    "#     context=docs_str,\n",
    "#     question=question,\n",
    "# )"
   ]
  },
  {
   "cell_type": "code",
   "execution_count": 50,
   "metadata": {},
   "outputs": [],
   "source": [
    "stuff_answer = conversation(\n",
    "    {\"context\": docs_str, \"question\": question}\n",
    ")"
   ]
  },
  {
   "cell_type": "code",
   "execution_count": 51,
   "metadata": {},
   "outputs": [
    {
     "name": "stdout",
     "output_type": "stream",
     "text": [
      "('Homelessness in India is a major social issue, with a significant population '\n",
      " 'living in census houses rather than regular residences. The United Nations '\n",
      " 'Economic and Social Council defines homelessness as the lack of security of '\n",
      " 'tenure, affordability, access to services, and cultural adequacy, as well as '\n",
      " 'protection from forced eviction and displacement. Causes of homelessness in '\n",
      " 'India include urbanization, lack of affordable housing, unemployment, and '\n",
      " 'changes in industry. Policymakers attribute substance use, mental illness, '\n",
      " 'relationship failures, and domestic abuse as the main causes of '\n",
      " 'homelessness, placing responsibility and blame directly on the homeless. '\n",
      " 'Street children in India face abuse, maltreatment, and lack of access to '\n",
      " 'schools and healthcare. Efforts to assist the homeless include '\n",
      " 'non-governmental and governmental services, such as shelters, food banks, '\n",
      " 'and counseling.')\n"
     ]
    }
   ],
   "source": [
    "pprint(stuff_answer['text'])"
   ]
  },
  {
   "cell_type": "code",
   "execution_count": null,
   "metadata": {},
   "outputs": [],
   "source": []
  }
 ],
 "metadata": {
  "kernelspec": {
   "display_name": "HESTIA",
   "language": "python",
   "name": "python3"
  },
  "language_info": {
   "codemirror_mode": {
    "name": "ipython",
    "version": 3
   },
   "file_extension": ".py",
   "mimetype": "text/x-python",
   "name": "python",
   "nbconvert_exporter": "python",
   "pygments_lexer": "ipython3",
   "version": "3.11.7"
  }
 },
 "nbformat": 4,
 "nbformat_minor": 2
}
