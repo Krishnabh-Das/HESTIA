{
 "cells": [
  {
   "cell_type": "markdown",
   "metadata": {},
   "source": [
    "## Requirements"
   ]
  },
  {
   "cell_type": "code",
   "execution_count": 4,
   "metadata": {},
   "outputs": [],
   "source": [
    "# %pip install firebase_admin geopy"
   ]
  },
  {
   "cell_type": "markdown",
   "metadata": {},
   "source": [
    "## Imports"
   ]
  },
  {
   "cell_type": "code",
   "execution_count": 41,
   "metadata": {},
   "outputs": [],
   "source": [
    "import firebase_admin\n",
    "from firebase_admin import firestore\n",
    "from firebase_admin import credentials\n",
    "from google.cloud.firestore import GeoPoint\n",
    "from google.cloud.firestore_v1.base_query import FieldFilter\n",
    "\n",
    "from geopy.geocoders import Nominatim\n",
    "\n",
    "import pytz\n",
    "import numpy as np\n",
    "from pprint import pprint \n",
    "from itertools import combinations\n",
    "from geopy.distance import geodesic\n",
    "from scipy.spatial import ConvexHull\n",
    "from datetime import datetime, timedelta\n"
   ]
  },
  {
   "cell_type": "markdown",
   "metadata": {},
   "source": [
    "## Params"
   ]
  },
  {
   "cell_type": "code",
   "execution_count": 42,
   "metadata": {},
   "outputs": [],
   "source": [
    "thres_distance = 1000\n",
    "creds_path = \"./keys/serviceAccountKey.json\"\n",
    "indian_timezone = pytz.timezone('Asia/Kolkata')\n",
    "DEBUG = True"
   ]
  },
  {
   "cell_type": "markdown",
   "metadata": {},
   "source": [
    "## utils"
   ]
  },
  {
   "cell_type": "code",
   "execution_count": 43,
   "metadata": {},
   "outputs": [],
   "source": [
    "def calculate_convex_hull_area(coords):\n",
    "    hull = ConvexHull(coords)\n",
    "    return hull.volume  # For 2D convex hull, use hull.area"
   ]
  },
  {
   "cell_type": "code",
   "execution_count": 44,
   "metadata": {},
   "outputs": [],
   "source": [
    "def select_bounding_coords(coordinates:list)->list:\n",
    "    max_area = 0\n",
    "    max_area_coords = None\n",
    "\n",
    "    # Iterate through all combinations of coordinates\n",
    "    for i in range(len(coordinates), -1,-1):\n",
    "        for comb in combinations(coordinates, i):        # Assuming you want to form a triangle (change to 4 for quadrilateral, etc.)\n",
    "            if not all(c in comb for c in coordinates):  # Skip combinations where not all coordinates are included\n",
    "                continue\n",
    "            area = calculate_convex_hull_area(np.array(comb))\n",
    "            if area > max_area:\n",
    "                max_area = area\n",
    "                max_area_coords = comb\n",
    "\n",
    "    coordList = [GeoPoint(x[0], x[1]) for x in max_area_coords]\n",
    "    \n",
    "    return coordList"
   ]
  },
  {
   "cell_type": "code",
   "execution_count": 45,
   "metadata": {},
   "outputs": [],
   "source": [
    "def get_dict_by_regionMapId(regionMap_id):\n",
    "    for region_map in regionMaps:\n",
    "        if region_map['regionMap_id'] == regionMap_id:\n",
    "            return region_map\n",
    "    return None"
   ]
  },
  {
   "cell_type": "code",
   "execution_count": 46,
   "metadata": {},
   "outputs": [],
   "source": [
    "def get_marker_cord_by_id(marker_id):\n",
    "    for marker in markers_:\n",
    "        if marker['marker-id'] == marker_id:\n",
    "            return GeoPoint(marker['marker_cord'][0],marker['marker_cord'][1])\n",
    "    return None"
   ]
  },
  {
   "cell_type": "code",
   "execution_count": 47,
   "metadata": {},
   "outputs": [],
   "source": [
    "def get_marker_cord_by_id_tuple(marker_id):\n",
    "    for marker in markers_:\n",
    "        if marker['marker-id'] == marker_id:\n",
    "            return marker['marker_cord']\n",
    "    return None"
   ]
  },
  {
   "cell_type": "code",
   "execution_count": 48,
   "metadata": {},
   "outputs": [],
   "source": [
    "# if DEBUG:\n",
    "#     import matplotlib.pyplot as plt\n",
    "#     x, y = zip(*coordinates)\n",
    "#     plt.scatter(x, y, color='blue', label='Original Coordinates')\n",
    "    \n",
    "#     # Plot the convex hull with maximum area\n",
    "#     hull = ConvexHull(np.array(max_area_coords))\n",
    "#     for simplex in hull.simplices:\n",
    "#         plt.plot(hull.points[simplex, 0], hull.points[simplex, 1], 'k-')\n",
    "    \n",
    "#     plt.scatter(hull.points[hull.vertices, 0], hull.points[hull.vertices, 1], color='red', label='Convex Hull Vertices')\n",
    "    \n",
    "#     plt.title('Convex Hull with Maximum Area')\n",
    "#     plt.xlabel('Latitude')\n",
    "#     plt.ylabel('Longitude')\n",
    "#     plt.legend()\n",
    "#     plt.show()"
   ]
  },
  {
   "cell_type": "markdown",
   "metadata": {},
   "source": [
    "## Connect"
   ]
  },
  {
   "cell_type": "code",
   "execution_count": 49,
   "metadata": {},
   "outputs": [
    {
     "ename": "ValueError",
     "evalue": "The default Firebase app already exists. This means you called initialize_app() more than once without providing an app name as the second argument. In most cases you only need to call initialize_app() once. But if you do want to initialize multiple apps, pass a second argument to initialize_app() to give each app a unique name.",
     "output_type": "error",
     "traceback": [
      "\u001b[0;31m---------------------------------------------------------------------------\u001b[0m",
      "\u001b[0;31mValueError\u001b[0m                                Traceback (most recent call last)",
      "Cell \u001b[0;32mIn[49], line 2\u001b[0m\n\u001b[1;32m      1\u001b[0m cred \u001b[38;5;241m=\u001b[39m credentials\u001b[38;5;241m.\u001b[39mCertificate(creds_path)\n\u001b[0;32m----> 2\u001b[0m \u001b[43mfirebase_admin\u001b[49m\u001b[38;5;241;43m.\u001b[39;49m\u001b[43minitialize_app\u001b[49m\u001b[43m(\u001b[49m\u001b[43mcred\u001b[49m\u001b[43m)\u001b[49m\n\u001b[1;32m      3\u001b[0m db \u001b[38;5;241m=\u001b[39m firestore\u001b[38;5;241m.\u001b[39mclient()\n",
      "File \u001b[0;32m~/.conda/envs/HESTIA/lib/python3.11/site-packages/firebase_admin/__init__.py:73\u001b[0m, in \u001b[0;36minitialize_app\u001b[0;34m(credential, options, name)\u001b[0m\n\u001b[1;32m     70\u001b[0m         \u001b[38;5;28;01mreturn\u001b[39;00m app\n\u001b[1;32m     72\u001b[0m \u001b[38;5;28;01mif\u001b[39;00m name \u001b[38;5;241m==\u001b[39m _DEFAULT_APP_NAME:\n\u001b[0;32m---> 73\u001b[0m     \u001b[38;5;28;01mraise\u001b[39;00m \u001b[38;5;167;01mValueError\u001b[39;00m((\n\u001b[1;32m     74\u001b[0m         \u001b[38;5;124m'\u001b[39m\u001b[38;5;124mThe default Firebase app already exists. This means you called \u001b[39m\u001b[38;5;124m'\u001b[39m\n\u001b[1;32m     75\u001b[0m         \u001b[38;5;124m'\u001b[39m\u001b[38;5;124minitialize_app() more than once without providing an app name as \u001b[39m\u001b[38;5;124m'\u001b[39m\n\u001b[1;32m     76\u001b[0m         \u001b[38;5;124m'\u001b[39m\u001b[38;5;124mthe second argument. In most cases you only need to call \u001b[39m\u001b[38;5;124m'\u001b[39m\n\u001b[1;32m     77\u001b[0m         \u001b[38;5;124m'\u001b[39m\u001b[38;5;124minitialize_app() once. But if you do want to initialize multiple \u001b[39m\u001b[38;5;124m'\u001b[39m\n\u001b[1;32m     78\u001b[0m         \u001b[38;5;124m'\u001b[39m\u001b[38;5;124mapps, pass a second argument to initialize_app() to give each app \u001b[39m\u001b[38;5;124m'\u001b[39m\n\u001b[1;32m     79\u001b[0m         \u001b[38;5;124m'\u001b[39m\u001b[38;5;124ma unique name.\u001b[39m\u001b[38;5;124m'\u001b[39m))\n\u001b[1;32m     81\u001b[0m \u001b[38;5;28;01mraise\u001b[39;00m \u001b[38;5;167;01mValueError\u001b[39;00m((\n\u001b[1;32m     82\u001b[0m     \u001b[38;5;124m'\u001b[39m\u001b[38;5;124mFirebase app named \u001b[39m\u001b[38;5;124m\"\u001b[39m\u001b[38;5;132;01m{0}\u001b[39;00m\u001b[38;5;124m\"\u001b[39m\u001b[38;5;124m already exists. This means you called \u001b[39m\u001b[38;5;124m'\u001b[39m\n\u001b[1;32m     83\u001b[0m     \u001b[38;5;124m'\u001b[39m\u001b[38;5;124minitialize_app() more than once with the same app name as the \u001b[39m\u001b[38;5;124m'\u001b[39m\n\u001b[1;32m     84\u001b[0m     \u001b[38;5;124m'\u001b[39m\u001b[38;5;124msecond argument. Make sure you provide a unique name every time \u001b[39m\u001b[38;5;124m'\u001b[39m\n\u001b[1;32m     85\u001b[0m     \u001b[38;5;124m'\u001b[39m\u001b[38;5;124myou call initialize_app().\u001b[39m\u001b[38;5;124m'\u001b[39m)\u001b[38;5;241m.\u001b[39mformat(name))\n",
      "\u001b[0;31mValueError\u001b[0m: The default Firebase app already exists. This means you called initialize_app() more than once without providing an app name as the second argument. In most cases you only need to call initialize_app() once. But if you do want to initialize multiple apps, pass a second argument to initialize_app() to give each app a unique name."
     ]
    }
   ],
   "source": [
    "cred = credentials.Certificate(creds_path)\n",
    "firebase_admin.initialize_app(cred)\n",
    "db = firestore.client()"
   ]
  },
  {
   "cell_type": "code",
   "execution_count": 50,
   "metadata": {},
   "outputs": [
    {
     "data": {
      "text/plain": [
       "<google.cloud.firestore_v1.client.Client at 0x7f1894adae50>"
      ]
     },
     "execution_count": 50,
     "metadata": {},
     "output_type": "execute_result"
    }
   ],
   "source": [
    "db"
   ]
  },
  {
   "cell_type": "code",
   "execution_count": 51,
   "metadata": {},
   "outputs": [],
   "source": [
    "\n",
    "geoLoc = Nominatim(user_agent=\"GetLoc\")"
   ]
  },
  {
   "cell_type": "markdown",
   "metadata": {},
   "source": [
    "## Markers"
   ]
  },
  {
   "cell_type": "code",
   "execution_count": 52,
   "metadata": {},
   "outputs": [],
   "source": [
    "current_datetime = datetime.now()\n",
    "midnight_datetime = current_datetime.replace(hour=0, minute=0, second=0, microsecond=0)\n",
    "\n",
    "one_day = timedelta(days=1)\n",
    "yesterday_midnight_datetime = current_datetime - one_day\n",
    "yesterday_midnight_datetime = yesterday_midnight_datetime.replace(hour=0, minute=0, second=0, microsecond=0)\n",
    "\n",
    "start_date = indian_timezone.localize(yesterday_midnight_datetime)\n",
    "end_date = indian_timezone.localize(midnight_datetime)\n"
   ]
  },
  {
   "cell_type": "code",
   "execution_count": 53,
   "metadata": {},
   "outputs": [],
   "source": [
    "# Set the start date to midnight of January 1, 2023\n",
    "start_date = datetime(2023, 1, 1, tzinfo=indian_timezone)\n",
    "start_date = start_date.replace(hour=0, minute=0, second=0, microsecond=0)\n",
    "\n",
    "# Set the end date to the current midnight\n",
    "midnight_datetime = current_datetime.replace(hour=0, minute=0, second=0, microsecond=0)\n",
    "end_date = indian_timezone.localize(midnight_datetime)"
   ]
  },
  {
   "cell_type": "code",
   "execution_count": 54,
   "metadata": {},
   "outputs": [],
   "source": [
    "markers_ = []\n",
    "markers_get = db.collection('Markers').where(filter=FieldFilter('time', \">=\", start_date)).where(filter=FieldFilter('time', \"<\", end_date)).get()\n",
    "# markers_get = db.collection('Markers').get()\n",
    "for m in markers_get:\n",
    "    marker = {\n",
    "        \"marker-id\":m.to_dict()[\"id\"],\n",
    "        \"marker_cord\":(m.to_dict()[\"lat\"],m.to_dict()[\"long\"]),\n",
    "        }\n",
    "    markers_.append(marker)"
   ]
  },
  {
   "cell_type": "code",
   "execution_count": 55,
   "metadata": {},
   "outputs": [
    {
     "name": "stdout",
     "output_type": "stream",
     "text": [
      "[{'marker-id': 1702831179224, 'marker_cord': (26.5276161, 93.885418)},\n",
      " {'marker-id': 1702831353978,\n",
      "  'marker_cord': (26.523327432461524, 93.88401668518782)},\n",
      " {'marker-id': 1702831370550,\n",
      "  'marker_cord': (26.525289944991446, 93.88164695352316)},\n",
      " {'marker-id': 1702837908940,\n",
      "  'marker_cord': (26.528784706149324, 93.8829005509615)},\n",
      " {'marker-id': 1702840841383,\n",
      "  'marker_cord': (26.300955599413115, 93.96943598985672)},\n",
      " {'marker-id': 1702856129469,\n",
      "  'marker_cord': (24.83848107736667, 92.83123590052128)},\n",
      " {'marker-id': 1702966788552,\n",
      "  'marker_cord': (26.1060139519425, 91.59353524446487)},\n",
      " {'marker-id': 1703030904099,\n",
      "  'marker_cord': (24.81946022402917, 92.81988814473152)},\n",
      " {'marker-id': 1703059580160,\n",
      "  'marker_cord': (24.830493344236597, 92.83261924982071)},\n",
      " {'marker-id': 1703486380661,\n",
      "  'marker_cord': (26.140288349728852, 91.76433496177197)},\n",
      " {'marker-id': 1703667027697, 'marker_cord': (26.1988244, 91.6964265)},\n",
      " {'marker-id': 1703693608553, 'marker_cord': (19.0920725, 72.8566487)},\n",
      " {'marker-id': 1703706346466, 'marker_cord': (19.1373052, 72.9126045)},\n",
      " {'marker-id': 1703711347601, 'marker_cord': (19.1364145, 72.912371)},\n",
      " {'marker-id': 1703749145245, 'marker_cord': (19.1300361, 72.9150783)},\n",
      " {'marker-id': 1703847203407, 'marker_cord': (19.1370177, 72.9137383)},\n",
      " {'marker-id': 1703882912473, 'marker_cord': (19.111409, 72.8714556)},\n",
      " {'marker-id': 1703935816635, 'marker_cord': (19.0998116, 72.9169777)},\n",
      " {'marker-id': 1703946167111, 'marker_cord': (19.0854317, 72.9086664)},\n",
      " {'marker-id': 1704701781090, 'marker_cord': (26.1422046, 91.6618141)},\n",
      " {'marker-id': 1704911964155,\n",
      "  'marker_cord': (26.14041355876255, 91.65828008204699)},\n",
      " {'marker-id': 1705075157599,\n",
      "  'marker_cord': (26.15511686065222, 91.67470794171095)},\n",
      " {'marker-id': 1705075176799,\n",
      "  'marker_cord': (26.154326876889748, 91.67576909065247)},\n",
      " {'marker-id': 1705075193598,\n",
      "  'marker_cord': (26.15543616304744, 91.67694289237261)},\n",
      " {'marker-id': 1705075213364,\n",
      "  'marker_cord': (26.156115693417036, 91.67581502348185)},\n",
      " {'marker-id': 1705075228678,\n",
      "  'marker_cord': (26.156201462026498, 91.67474180459976)},\n",
      " {'marker-id': 1705263475803,\n",
      "  'marker_cord': (26.149783990258967, 91.67037181556225)},\n",
      " {'marker-id': 1705263539822,\n",
      "  'marker_cord': (26.147598707001983, 91.6728488355875)},\n",
      " {'marker-id': 1705343494803,\n",
      "  'marker_cord': (24.868697866018394, 92.35004793852568)},\n",
      " {'marker-id': 1705343566607,\n",
      "  'marker_cord': (26.1362523933542, 91.72798164188862)},\n",
      " {'marker-id': 1705344721585,\n",
      "  'marker_cord': (26.088155422482505, 91.53074339032173)},\n",
      " {'marker-id': 1705499593272,\n",
      "  'marker_cord': (26.137724845836214, 91.76206078380346)}]\n"
     ]
    }
   ],
   "source": [
    "if DEBUG:\n",
    "    pprint(markers_)"
   ]
  },
  {
   "cell_type": "markdown",
   "metadata": {},
   "source": [
    "## Region Maps"
   ]
  },
  {
   "cell_type": "code",
   "execution_count": 56,
   "metadata": {},
   "outputs": [],
   "source": [
    "regionMaps = []"
   ]
  },
  {
   "cell_type": "code",
   "execution_count": 57,
   "metadata": {},
   "outputs": [],
   "source": [
    "regionMaps_get = db.collection('RegionMap').get()\n",
    "for m in regionMaps_get:\n",
    "    data = m.to_dict()\n",
    "    data[\"regionMap_id\"]= m.id\n",
    "    regionMaps.append(data)"
   ]
  },
  {
   "cell_type": "code",
   "execution_count": 58,
   "metadata": {},
   "outputs": [
    {
     "name": "stdout",
     "output_type": "stream",
     "text": [
      "[{'central_coord': <google.cloud.firestore_v1._helpers.GeoPoint object at 0x7f18334d9850>,\n",
      "  'coords': [<google.cloud.firestore_v1._helpers.GeoPoint object at 0x7f18505b7150>],\n",
      "  'location': 'North Guwahati (Pt), Kamrup Metropolitan District, Assam, '\n",
      "              '781031, India',\n",
      "  'markers': [1703667027697],\n",
      "  'regionMap_id': '10cEHxteZlf4h1NgUUY2'},\n",
      " {'central_coord': <google.cloud.firestore_v1._helpers.GeoPoint object at 0x7f183332fe50>,\n",
      "  'coords': [<google.cloud.firestore_v1._helpers.GeoPoint object at 0x7f18aa7d8350>,\n",
      "             <google.cloud.firestore_v1._helpers.GeoPoint object at 0x7f18905d8810>,\n",
      "             <google.cloud.firestore_v1._helpers.GeoPoint object at 0x7f185018ba90>,\n",
      "             <google.cloud.firestore_v1._helpers.GeoPoint object at 0x7f18505b4390>],\n",
      "  'location': 'NH129, Morangi, Golaghat District, Assam, 785621, India',\n",
      "  'markers': [1702831179224, 1702831353978, 1702831370550, 1702837908940],\n",
      "  'regionMap_id': '1MsrHolWToFmsMdj2Neb'},\n",
      " {'central_coord': <google.cloud.firestore_v1._helpers.GeoPoint object at 0x7f18703bc110>,\n",
      "  'coords': [<google.cloud.firestore_v1._helpers.GeoPoint object at 0x7f18901d8390>],\n",
      "  'location': 'Adagudam, Dispur, Kamrup Metropolitan District, Assam, 781025, '\n",
      "              'India',\n",
      "  'markers': [1705343566607],\n",
      "  'regionMap_id': '7lpfkXhKjQTpZVHLO0EA'},\n",
      " {'central_coord': <google.cloud.firestore_v1._helpers.GeoPoint object at 0x7f18901d9d90>,\n",
      "  'coords': [<google.cloud.firestore_v1._helpers.GeoPoint object at 0x7f18901d8510>],\n",
      "  'location': 'Mathuradas Vasanji Road (Andheri Kurla Road), Navpada, K/E '\n",
      "              'Ward, Zone 3, Mumbai, Mumbai Suburban, Maharashtra, 400099, '\n",
      "              'India',\n",
      "  'markers': [1703882912473],\n",
      "  'regionMap_id': '8eT9OcVJQLAFfj90nOeA'},\n",
      " {'central_coord': <google.cloud.firestore_v1._helpers.GeoPoint object at 0x7f18901dbcd0>,\n",
      "  'coords': [<google.cloud.firestore_v1._helpers.GeoPoint object at 0x7f18901da250>,\n",
      "             <google.cloud.firestore_v1._helpers.GeoPoint object at 0x7f18947fbf90>,\n",
      "             <google.cloud.firestore_v1._helpers.GeoPoint object at 0x7f18334012d0>,\n",
      "             <google.cloud.firestore_v1._helpers.GeoPoint object at 0x7f18901d8890>],\n",
      "  'location': 'SAC, Swimming pool road, Jyotiba Phule Nagar, Zone 6, Mumbai, '\n",
      "              'Mumbai Suburban, Maharashtra, 400076, India',\n",
      "  'markers': [1703706346466, 1703711347601, 1703749145245, 1703847203407],\n",
      "  'regionMap_id': 'KFx5KNP5i6xONahxC0Hx'},\n",
      " {'central_coord': <google.cloud.firestore_v1._helpers.GeoPoint object at 0x7f1833403450>,\n",
      "  'coords': [<google.cloud.firestore_v1._helpers.GeoPoint object at 0x7f18334024d0>],\n",
      "  'location': 'Terminal 1, Western Express Highway, Shastri Nagar, K/E Ward, '\n",
      "              'Zone 3, Mumbai, Mumbai Suburban, Maharashtra, 400057, India',\n",
      "  'markers': [1703693608553],\n",
      "  'regionMap_id': 'NUVQA8aI1do5GXgAGhUt'},\n",
      " {'central_coord': <google.cloud.firestore_v1._helpers.GeoPoint object at 0x7f1833401750>,\n",
      "  'coords': [<google.cloud.firestore_v1._helpers.GeoPoint object at 0x7f1833400cd0>,\n",
      "             <google.cloud.firestore_v1._helpers.GeoPoint object at 0x7f1833400bd0>,\n",
      "             <google.cloud.firestore_v1._helpers.GeoPoint object at 0x7f1833402710>,\n",
      "             <google.cloud.firestore_v1._helpers.GeoPoint object at 0x7f1833401950>,\n",
      "             <google.cloud.firestore_v1._helpers.GeoPoint object at 0x7f1833402590>,\n",
      "             <google.cloud.firestore_v1._helpers.GeoPoint object at 0x7f1833402bd0>,\n",
      "             <google.cloud.firestore_v1._helpers.GeoPoint object at 0x7f1833402a90>],\n",
      "  'location': 'Assam Engineering College Road, Jalukbari, Maligaon, Guwahati, '\n",
      "              'Kamrup Metropolitan District, Assam, 781014, India',\n",
      "  'markers': [1705075157599,\n",
      "              1705075176799,\n",
      "              1705075193598,\n",
      "              1705075213364,\n",
      "              1705075228678,\n",
      "              1705263475803,\n",
      "              1705263539822],\n",
      "  'regionMap_id': 'PwdhqAnqzYYbQXvAh77y'},\n",
      " {'central_coord': <google.cloud.firestore_v1._helpers.GeoPoint object at 0x7f1833400f90>,\n",
      "  'coords': [<google.cloud.firestore_v1._helpers.GeoPoint object at 0x7f18334039d0>],\n",
      "  'location': 'Azara, Kamrup Metropolitan District, Assam, 781013, India',\n",
      "  'markers': [1702966788552],\n",
      "  'regionMap_id': 'Py96YQXDzZ09Uu85ViX0'},\n",
      " {'central_coord': <google.cloud.firestore_v1._helpers.GeoPoint object at 0x7f1833402ad0>,\n",
      "  'coords': [<google.cloud.firestore_v1._helpers.GeoPoint object at 0x7f1870702f90>],\n",
      "  'location': 'Karimganj, Karimganj District, Assam, 788710, India',\n",
      "  'markers': [1705343494803],\n",
      "  'regionMap_id': 'QgTLF6HPz9zt12Ordwzk'},\n",
      " {'central_coord': <google.cloud.firestore_v1._helpers.GeoPoint object at 0x7f18334021d0>,\n",
      "  'coords': [<google.cloud.firestore_v1._helpers.GeoPoint object at 0x7f1870701c90>],\n",
      "  'location': 'Silchar, Cachar District, Assam, 788014, India',\n",
      "  'markers': [1703030904099],\n",
      "  'regionMap_id': 'S7xCTZuX4QVBq8XMjj6O'},\n",
      " {'central_coord': <google.cloud.firestore_v1._helpers.GeoPoint object at 0x7f1870700b50>,\n",
      "  'coords': [<google.cloud.firestore_v1._helpers.GeoPoint object at 0x7f18707015d0>],\n",
      "  'location': 'Ratilal Mehta Marg, Saibaba Nagar, N Ward, Zone 6, Mumbai, '\n",
      "              'Mumbai Suburban, Maharashtra, 400075, India',\n",
      "  'markers': [1703946167111],\n",
      "  'regionMap_id': 'TzYXf4UGkSaSTrtaLzDW'},\n",
      " {'central_coord': <google.cloud.firestore_v1._helpers.GeoPoint object at 0x7f1870702550>,\n",
      "  'coords': [<google.cloud.firestore_v1._helpers.GeoPoint object at 0x7f1870700790>],\n",
      "  'location': 'Palasbari, Kamrup District, Assam, 781128, India',\n",
      "  'markers': [1705344721585],\n",
      "  'regionMap_id': 'X5E6N1HrhhRqVIzAjTuD'},\n",
      " {'central_coord': <google.cloud.firestore_v1._helpers.GeoPoint object at 0x7f1870703450>,\n",
      "  'coords': [<google.cloud.firestore_v1._helpers.GeoPoint object at 0x7f18707000d0>,\n",
      "             <google.cloud.firestore_v1._helpers.GeoPoint object at 0x7f1870702750>],\n",
      "  'location': 'Silchar, Cachar District, Assam, 788014, India',\n",
      "  'markers': [1702856129469, 1703059580160],\n",
      "  'regionMap_id': 'czuhcgc6Gxf5PsM3Zw21'},\n",
      " {'central_coord': <google.cloud.firestore_v1._helpers.GeoPoint object at 0x7f18707009d0>,\n",
      "  'coords': [<google.cloud.firestore_v1._helpers.GeoPoint object at 0x7f18707019d0>,\n",
      "             <google.cloud.firestore_v1._helpers.GeoPoint object at 0x7f18707014d0>],\n",
      "  'location': 'Assam Engineering College, Assam Engineering College Road, '\n",
      "              'Jalukbari, Maligaon, Guwahati, Kamrup Metropolitan District, '\n",
      "              'Assam, 781014, India',\n",
      "  'markers': [1704701781090, 1704911964155],\n",
      "  'regionMap_id': 'dCsnhWnXxHD7mqdPeMVp'},\n",
      " {'central_coord': <google.cloud.firestore_v1._helpers.GeoPoint object at 0x7f1870701710>,\n",
      "  'coords': [<google.cloud.firestore_v1._helpers.GeoPoint object at 0x7f1870701450>],\n",
      "  'location': 'Road Number 6, Park Site Colony, N Ward, Zone 6, Mumbai, Mumbai '\n",
      "              'Suburban, Maharashtra, 400079, India',\n",
      "  'markers': [1703935816635],\n",
      "  'regionMap_id': 'dkupVWopLBQcmEcC5I2r'},\n",
      " {'central_coord': <google.cloud.firestore_v1._helpers.GeoPoint object at 0x7f1870703dd0>,\n",
      "  'coords': [<google.cloud.firestore_v1._helpers.GeoPoint object at 0x7f1870700a50>],\n",
      "  'location': 'Barpathar, Sarupathar, Golaghat District, Assam, 785602, India',\n",
      "  'markers': [1702840841383],\n",
      "  'regionMap_id': 'kdeiP9ed2ACFBvYY6D4X'},\n",
      " {'central_coord': <google.cloud.firestore_v1._helpers.GeoPoint object at 0x7f1870703e90>,\n",
      "  'coords': [<google.cloud.firestore_v1._helpers.GeoPoint object at 0x7f18707005d0>,\n",
      "             <google.cloud.firestore_v1._helpers.GeoPoint object at 0x7f1870700150>],\n",
      "  'location': 'Bhagaduttapur, Kahilipara, Dispur, Kamrup Metropolitan '\n",
      "              'District, Assam, 781005, India',\n",
      "  'markers': [1703486380661, 1705499593272],\n",
      "  'regionMap_id': 'paXvDj1DU6aEo8Jp1txh'}]\n"
     ]
    }
   ],
   "source": [
    "if DEBUG:\n",
    "    pprint(regionMaps)"
   ]
  },
  {
   "cell_type": "code",
   "execution_count": 59,
   "metadata": {},
   "outputs": [],
   "source": [
    "for r in regionMaps:\n",
    "    r['central_coord'] = (r['central_coord'].to_protobuf().latitude, r['central_coord'].to_protobuf().longitude)\n",
    "    r['coords'] = [(x.to_protobuf().latitude, x.to_protobuf().longitude)for x in r['coords']]"
   ]
  },
  {
   "cell_type": "code",
   "execution_count": 60,
   "metadata": {},
   "outputs": [
    {
     "name": "stdout",
     "output_type": "stream",
     "text": [
      "[{'central_coord': (26.1988244, 91.6964265),\n",
      "  'coords': [(26.1988244, 91.6964265)],\n",
      "  'location': 'North Guwahati (Pt), Kamrup Metropolitan District, Assam, '\n",
      "              '781031, India',\n",
      "  'markers': [1703667027697],\n",
      "  'regionMap_id': '10cEHxteZlf4h1NgUUY2'},\n",
      " {'central_coord': (26.526254545900574, 93.88349554741812),\n",
      "  'coords': [(26.5276161, 93.885418),\n",
      "             (26.523327432461524, 93.88401668518782),\n",
      "             (26.525289944991446, 93.88164695352316),\n",
      "             (26.528784706149324, 93.8829005509615)],\n",
      "  'location': 'NH129, Morangi, Golaghat District, Assam, 785621, India',\n",
      "  'markers': [1702831179224, 1702831353978, 1702831370550, 1702837908940],\n",
      "  'regionMap_id': '1MsrHolWToFmsMdj2Neb'},\n",
      " {'central_coord': (26.1362523933542, 91.72798164188862),\n",
      "  'coords': [(26.1362523933542, 91.72798164188862)],\n",
      "  'location': 'Adagudam, Dispur, Kamrup Metropolitan District, Assam, 781025, '\n",
      "              'India',\n",
      "  'markers': [1705343566607],\n",
      "  'regionMap_id': '7lpfkXhKjQTpZVHLO0EA'},\n",
      " {'central_coord': (19.111409, 72.8714556),\n",
      "  'coords': [(19.111409, 72.8714556)],\n",
      "  'location': 'Mathuradas Vasanji Road (Andheri Kurla Road), Navpada, K/E '\n",
      "              'Ward, Zone 3, Mumbai, Mumbai Suburban, Maharashtra, 400099, '\n",
      "              'India',\n",
      "  'markers': [1703882912473],\n",
      "  'regionMap_id': '8eT9OcVJQLAFfj90nOeA'},\n",
      " {'central_coord': (19.135193375, 72.91344802500001),\n",
      "  'coords': [(19.1373052, 72.9126045),\n",
      "             (19.1364145, 72.912371),\n",
      "             (19.1300361, 72.9150783),\n",
      "             (19.1370177, 72.9137383)],\n",
      "  'location': 'SAC, Swimming pool road, Jyotiba Phule Nagar, Zone 6, Mumbai, '\n",
      "              'Mumbai Suburban, Maharashtra, 400076, India',\n",
      "  'markers': [1703706346466, 1703711347601, 1703749145245, 1703847203407],\n",
      "  'regionMap_id': 'KFx5KNP5i6xONahxC0Hx'},\n",
      " {'central_coord': (19.0920725, 72.8566487),\n",
      "  'coords': [(19.0920725, 72.8566487)],\n",
      "  'location': 'Terminal 1, Western Express Highway, Shastri Nagar, K/E Ward, '\n",
      "              'Zone 3, Mumbai, Mumbai Suburban, Maharashtra, 400057, India',\n",
      "  'markers': [1703693608553],\n",
      "  'regionMap_id': 'NUVQA8aI1do5GXgAGhUt'},\n",
      " {'central_coord': (26.1535113933277, 91.67445677199534),\n",
      "  'coords': [(26.15511686065222, 91.67470794171095),\n",
      "             (26.154326876889748, 91.67576909065247),\n",
      "             (26.15543616304744, 91.67694289237261),\n",
      "             (26.156115693417036, 91.67581502348185),\n",
      "             (26.156201462026498, 91.67474180459976),\n",
      "             (26.149783990258967, 91.67037181556225),\n",
      "             (26.147598707001983, 91.6728488355875)],\n",
      "  'location': 'Assam Engineering College Road, Jalukbari, Maligaon, Guwahati, '\n",
      "              'Kamrup Metropolitan District, Assam, 781014, India',\n",
      "  'markers': [1705075157599,\n",
      "              1705075176799,\n",
      "              1705075193598,\n",
      "              1705075213364,\n",
      "              1705075228678,\n",
      "              1705263475803,\n",
      "              1705263539822],\n",
      "  'regionMap_id': 'PwdhqAnqzYYbQXvAh77y'},\n",
      " {'central_coord': (26.1060139519425, 91.59353524446487),\n",
      "  'coords': [(26.1060139519425, 91.59353524446487)],\n",
      "  'location': 'Azara, Kamrup Metropolitan District, Assam, 781013, India',\n",
      "  'markers': [1702966788552],\n",
      "  'regionMap_id': 'Py96YQXDzZ09Uu85ViX0'},\n",
      " {'central_coord': (24.868697866018394, 92.35004793852568),\n",
      "  'coords': [(24.868697866018394, 92.35004793852568)],\n",
      "  'location': 'Karimganj, Karimganj District, Assam, 788710, India',\n",
      "  'markers': [1705343494803],\n",
      "  'regionMap_id': 'QgTLF6HPz9zt12Ordwzk'},\n",
      " {'central_coord': (24.81946022402917, 92.81988814473152),\n",
      "  'coords': [(24.81946022402917, 92.81988814473152)],\n",
      "  'location': 'Silchar, Cachar District, Assam, 788014, India',\n",
      "  'markers': [1703030904099],\n",
      "  'regionMap_id': 'S7xCTZuX4QVBq8XMjj6O'},\n",
      " {'central_coord': (19.0854317, 72.9086664),\n",
      "  'coords': [(19.0854317, 72.9086664)],\n",
      "  'location': 'Ratilal Mehta Marg, Saibaba Nagar, N Ward, Zone 6, Mumbai, '\n",
      "              'Mumbai Suburban, Maharashtra, 400075, India',\n",
      "  'markers': [1703946167111],\n",
      "  'regionMap_id': 'TzYXf4UGkSaSTrtaLzDW'},\n",
      " {'central_coord': (26.088155422482505, 91.53074339032173),\n",
      "  'coords': [(26.088155422482505, 91.53074339032173)],\n",
      "  'location': 'Palasbari, Kamrup District, Assam, 781128, India',\n",
      "  'markers': [1705344721585],\n",
      "  'regionMap_id': 'X5E6N1HrhhRqVIzAjTuD'},\n",
      " {'central_coord': (24.834487210801633, 92.831927575171),\n",
      "  'coords': [(24.83848107736667, 92.83123590052128),\n",
      "             (24.830493344236597, 92.83261924982071)],\n",
      "  'location': 'Silchar, Cachar District, Assam, 788014, India',\n",
      "  'markers': [1702856129469, 1703059580160],\n",
      "  'regionMap_id': 'czuhcgc6Gxf5PsM3Zw21'},\n",
      " {'central_coord': (26.141309079381273, 91.6600470910235),\n",
      "  'coords': [(26.1422046, 91.6618141), (26.14041355876255, 91.65828008204699)],\n",
      "  'location': 'Assam Engineering College, Assam Engineering College Road, '\n",
      "              'Jalukbari, Maligaon, Guwahati, Kamrup Metropolitan District, '\n",
      "              'Assam, 781014, India',\n",
      "  'markers': [1704701781090, 1704911964155],\n",
      "  'regionMap_id': 'dCsnhWnXxHD7mqdPeMVp'},\n",
      " {'central_coord': (19.0998116, 72.9169777),\n",
      "  'coords': [(19.0998116, 72.9169777)],\n",
      "  'location': 'Road Number 6, Park Site Colony, N Ward, Zone 6, Mumbai, Mumbai '\n",
      "              'Suburban, Maharashtra, 400079, India',\n",
      "  'markers': [1703935816635],\n",
      "  'regionMap_id': 'dkupVWopLBQcmEcC5I2r'},\n",
      " {'central_coord': (26.300955599413115, 93.96943598985672),\n",
      "  'coords': [(26.300955599413115, 93.96943598985672)],\n",
      "  'location': 'Barpathar, Sarupathar, Golaghat District, Assam, 785602, India',\n",
      "  'markers': [1702840841383],\n",
      "  'regionMap_id': 'kdeiP9ed2ACFBvYY6D4X'},\n",
      " {'central_coord': (26.139006597782533, 91.76319787278771),\n",
      "  'coords': [(26.140288349728852, 91.76433496177197),\n",
      "             (26.137724845836214, 91.76206078380346)],\n",
      "  'location': 'Bhagaduttapur, Kahilipara, Dispur, Kamrup Metropolitan '\n",
      "              'District, Assam, 781005, India',\n",
      "  'markers': [1703486380661, 1705499593272],\n",
      "  'regionMap_id': 'paXvDj1DU6aEo8Jp1txh'}]\n"
     ]
    }
   ],
   "source": [
    "if DEBUG:\n",
    "    pprint(regionMaps)"
   ]
  },
  {
   "cell_type": "markdown",
   "metadata": {},
   "source": [
    "## check for which region map is the marker"
   ]
  },
  {
   "cell_type": "code",
   "execution_count": 61,
   "metadata": {},
   "outputs": [],
   "source": [
    "def is_within_distance(coord1, coord2, max_distance=thres_distance):\n",
    "    # Calculate distance in meters using geopy\n",
    "    distance = geodesic(coord1, coord2).meters\n",
    "    return distance <= max_distance"
   ]
  },
  {
   "cell_type": "code",
   "execution_count": 62,
   "metadata": {},
   "outputs": [],
   "source": [
    "parings = {}"
   ]
  },
  {
   "cell_type": "code",
   "execution_count": 63,
   "metadata": {},
   "outputs": [],
   "source": [
    "for marker in markers_:\n",
    "    marker_coord = marker['marker_cord']\n",
    "    for region_map in regionMaps:\n",
    "        for coord in region_map['coords']:\n",
    "            if is_within_distance(marker_coord, coord):\n",
    "                parings[marker['marker-id']]=region_map['regionMap_id']\n",
    "                "
   ]
  },
  {
   "cell_type": "code",
   "execution_count": 64,
   "metadata": {},
   "outputs": [
    {
     "name": "stdout",
     "output_type": "stream",
     "text": [
      "{1702831179224: '1MsrHolWToFmsMdj2Neb',\n",
      " 1702831353978: '1MsrHolWToFmsMdj2Neb',\n",
      " 1702831370550: '1MsrHolWToFmsMdj2Neb',\n",
      " 1702837908940: '1MsrHolWToFmsMdj2Neb',\n",
      " 1702840841383: 'kdeiP9ed2ACFBvYY6D4X',\n",
      " 1702856129469: 'czuhcgc6Gxf5PsM3Zw21',\n",
      " 1702966788552: 'Py96YQXDzZ09Uu85ViX0',\n",
      " 1703030904099: 'S7xCTZuX4QVBq8XMjj6O',\n",
      " 1703059580160: 'czuhcgc6Gxf5PsM3Zw21',\n",
      " 1703486380661: 'paXvDj1DU6aEo8Jp1txh',\n",
      " 1703667027697: '10cEHxteZlf4h1NgUUY2',\n",
      " 1703693608553: 'NUVQA8aI1do5GXgAGhUt',\n",
      " 1703706346466: 'KFx5KNP5i6xONahxC0Hx',\n",
      " 1703711347601: 'KFx5KNP5i6xONahxC0Hx',\n",
      " 1703749145245: 'KFx5KNP5i6xONahxC0Hx',\n",
      " 1703847203407: 'KFx5KNP5i6xONahxC0Hx',\n",
      " 1703882912473: '8eT9OcVJQLAFfj90nOeA',\n",
      " 1703935816635: 'dkupVWopLBQcmEcC5I2r',\n",
      " 1703946167111: 'TzYXf4UGkSaSTrtaLzDW',\n",
      " 1704701781090: 'dCsnhWnXxHD7mqdPeMVp',\n",
      " 1704911964155: 'dCsnhWnXxHD7mqdPeMVp',\n",
      " 1705075157599: 'PwdhqAnqzYYbQXvAh77y',\n",
      " 1705075176799: 'PwdhqAnqzYYbQXvAh77y',\n",
      " 1705075193598: 'PwdhqAnqzYYbQXvAh77y',\n",
      " 1705075213364: 'PwdhqAnqzYYbQXvAh77y',\n",
      " 1705075228678: 'PwdhqAnqzYYbQXvAh77y',\n",
      " 1705263475803: 'PwdhqAnqzYYbQXvAh77y',\n",
      " 1705263539822: 'PwdhqAnqzYYbQXvAh77y',\n",
      " 1705343494803: 'QgTLF6HPz9zt12Ordwzk',\n",
      " 1705343566607: '7lpfkXhKjQTpZVHLO0EA',\n",
      " 1705344721585: 'X5E6N1HrhhRqVIzAjTuD',\n",
      " 1705499593272: 'paXvDj1DU6aEo8Jp1txh'}\n"
     ]
    }
   ],
   "source": [
    "if DEBUG:\n",
    "    pprint(parings)"
   ]
  },
  {
   "cell_type": "code",
   "execution_count": 35,
   "metadata": {},
   "outputs": [],
   "source": [
    "for key in parings.keys():\n",
    "    result_dict = get_dict_by_regionMapId(parings[key])\n",
    "    ref = db.collection(\"RegionMap\").document(parings[key])\n",
    "    if DEBUG:\n",
    "        print(ref.get().to_dict())\n",
    "    result_dict[\"coords\"].append(get_marker_cord_by_id_tuple(key))\n",
    "    \n",
    "    try:\n",
    "        list_bbox = select_bounding_coords(result_dict[\"coords\"])\n",
    "\n",
    "        not_list_box = [GeoPoint(x[0],x[1])  for x in result_dict[\"coords\"] if GeoPoint(x[0],x[1]) not in list_bbox]\n",
    "    except Exception as e:\n",
    "        if DEBUG:\n",
    "            print(e)\n",
    "        not_list_box= []\n",
    "        \n",
    "    if DEBUG:\n",
    "        pprint(not_list_box)\n",
    "    \n",
    "    average_latitude = sum(lat for lat, lon in result_dict[\"coords\"]) / len(result_dict[\"coords\"])\n",
    "    average_longitude = sum(lon for lat, lon in result_dict[\"coords\"]) / len(result_dict[\"coords\"])\n",
    "    \n",
    "    locname = geoLoc.reverse(f\"{average_latitude}, {average_longitude}\")\n",
    "\n",
    "    central_coord = GeoPoint(average_latitude, average_longitude)\n",
    "    ref.update({\n",
    "        \"central_coord\": central_coord,\n",
    "        \"location\": locname.address,\n",
    "        \"coords\": firestore.ArrayUnion([get_marker_cord_by_id(key)]),\n",
    "        \"markers\": firestore.ArrayUnion([key])\n",
    "        })\n",
    "    if len(not_list_box)>0:\n",
    "        ref.update({\n",
    "            \"coords\": firestore.ArrayRemove(not_list_box),\n",
    "            })"
   ]
  },
  {
   "cell_type": "markdown",
   "metadata": {},
   "source": [
    "## remove updated markers"
   ]
  },
  {
   "cell_type": "code",
   "execution_count": 36,
   "metadata": {},
   "outputs": [],
   "source": [
    "filtered_markers = [marker for marker in markers_ if marker['marker-id'] not in parings.keys()]"
   ]
  },
  {
   "cell_type": "code",
   "execution_count": 37,
   "metadata": {},
   "outputs": [
    {
     "name": "stdout",
     "output_type": "stream",
     "text": [
      "[{'marker-id': 1702831179224, 'marker_cord': (26.5276161, 93.885418)},\n",
      " {'marker-id': 1702831353978,\n",
      "  'marker_cord': (26.523327432461524, 93.88401668518782)},\n",
      " {'marker-id': 1702831370550,\n",
      "  'marker_cord': (26.525289944991446, 93.88164695352316)},\n",
      " {'marker-id': 1702837908940,\n",
      "  'marker_cord': (26.528784706149324, 93.8829005509615)},\n",
      " {'marker-id': 1702840841383,\n",
      "  'marker_cord': (26.300955599413115, 93.96943598985672)},\n",
      " {'marker-id': 1702856129469,\n",
      "  'marker_cord': (24.83848107736667, 92.83123590052128)},\n",
      " {'marker-id': 1702966788552,\n",
      "  'marker_cord': (26.1060139519425, 91.59353524446487)},\n",
      " {'marker-id': 1703030904099,\n",
      "  'marker_cord': (24.81946022402917, 92.81988814473152)},\n",
      " {'marker-id': 1703059580160,\n",
      "  'marker_cord': (24.830493344236597, 92.83261924982071)},\n",
      " {'marker-id': 1703486380661,\n",
      "  'marker_cord': (26.140288349728852, 91.76433496177197)},\n",
      " {'marker-id': 1703667027697, 'marker_cord': (26.1988244, 91.6964265)},\n",
      " {'marker-id': 1703693608553, 'marker_cord': (19.0920725, 72.8566487)},\n",
      " {'marker-id': 1703706346466, 'marker_cord': (19.1373052, 72.9126045)},\n",
      " {'marker-id': 1703711347601, 'marker_cord': (19.1364145, 72.912371)},\n",
      " {'marker-id': 1703749145245, 'marker_cord': (19.1300361, 72.9150783)},\n",
      " {'marker-id': 1703847203407, 'marker_cord': (19.1370177, 72.9137383)},\n",
      " {'marker-id': 1703882912473, 'marker_cord': (19.111409, 72.8714556)},\n",
      " {'marker-id': 1703935816635, 'marker_cord': (19.0998116, 72.9169777)},\n",
      " {'marker-id': 1703946167111, 'marker_cord': (19.0854317, 72.9086664)},\n",
      " {'marker-id': 1704701781090, 'marker_cord': (26.1422046, 91.6618141)},\n",
      " {'marker-id': 1704911964155,\n",
      "  'marker_cord': (26.14041355876255, 91.65828008204699)},\n",
      " {'marker-id': 1705075157599,\n",
      "  'marker_cord': (26.15511686065222, 91.67470794171095)},\n",
      " {'marker-id': 1705075176799,\n",
      "  'marker_cord': (26.154326876889748, 91.67576909065247)},\n",
      " {'marker-id': 1705075193598,\n",
      "  'marker_cord': (26.15543616304744, 91.67694289237261)},\n",
      " {'marker-id': 1705075213364,\n",
      "  'marker_cord': (26.156115693417036, 91.67581502348185)},\n",
      " {'marker-id': 1705075228678,\n",
      "  'marker_cord': (26.156201462026498, 91.67474180459976)},\n",
      " {'marker-id': 1705263475803,\n",
      "  'marker_cord': (26.149783990258967, 91.67037181556225)},\n",
      " {'marker-id': 1705263539822,\n",
      "  'marker_cord': (26.147598707001983, 91.6728488355875)},\n",
      " {'marker-id': 1705343494803,\n",
      "  'marker_cord': (24.868697866018394, 92.35004793852568)},\n",
      " {'marker-id': 1705343566607,\n",
      "  'marker_cord': (26.1362523933542, 91.72798164188862)},\n",
      " {'marker-id': 1705344721585,\n",
      "  'marker_cord': (26.088155422482505, 91.53074339032173)},\n",
      " {'marker-id': 1705499593272,\n",
      "  'marker_cord': (26.137724845836214, 91.76206078380346)}]\n"
     ]
    }
   ],
   "source": [
    "if DEBUG:\n",
    "    pprint(filtered_markers)"
   ]
  },
  {
   "cell_type": "markdown",
   "metadata": {},
   "source": [
    "## create region map"
   ]
  },
  {
   "cell_type": "code",
   "execution_count": 38,
   "metadata": {},
   "outputs": [],
   "source": [
    "coordinates = [entry['marker_cord'] for entry in filtered_markers]\n",
    "\n",
    "# Create a list to store the clusters of coordinates\n",
    "coordinate_clusters = []\n",
    "\n",
    "# Iterate through each coordinate\n",
    "for coord in coordinates:\n",
    "    # Check if the coordinate is within 500 meters of any existing cluster\n",
    "    found_cluster = False\n",
    "    for cluster in coordinate_clusters:\n",
    "        if any(is_within_distance(coord, c) for c in cluster):\n",
    "            cluster.append(coord)\n",
    "            found_cluster = True\n",
    "            break\n",
    "\n",
    "    # If not within 500 meters of any existing cluster, create a new cluster\n",
    "    if not found_cluster:\n",
    "        coordinate_clusters.append([coord])"
   ]
  },
  {
   "cell_type": "markdown",
   "metadata": {},
   "source": [
    "## Add new region maps"
   ]
  },
  {
   "cell_type": "code",
   "execution_count": 39,
   "metadata": {},
   "outputs": [],
   "source": [
    "region_data = []\n",
    "for coords_lst in coordinate_clusters:\n",
    "    marker_ids = [entry['marker-id'] for entry in markers_ if entry['marker_cord'] in coords_lst]\n",
    "    \n",
    "    average_latitude = sum(lat for lat, lon in coords_lst) / len(coords_lst)\n",
    "    average_longitude = sum(lon for lat, lon in coords_lst) / len(coords_lst)\n",
    "\n",
    "    locname = geoLoc.reverse(f\"{average_latitude}, {average_longitude}\")\n",
    "    \n",
    "    central_coord = GeoPoint(average_latitude, average_longitude)\n",
    "\n",
    "    data = {\n",
    "        \"central_coord\": central_coord,\n",
    "        \"location\": locname.address,\n",
    "        \"coords\": [GeoPoint(x[0],x[1]) for x in coords_lst],\n",
    "        \"markers\":marker_ids\n",
    "    }\n",
    "    region_data.append(data)"
   ]
  },
  {
   "cell_type": "code",
   "execution_count": 40,
   "metadata": {},
   "outputs": [
    {
     "name": "stdout",
     "output_type": "stream",
     "text": [
      "Added document with id 1MsrHolWToFmsMdj2Neb\n",
      "Added document with id kdeiP9ed2ACFBvYY6D4X\n",
      "Added document with id czuhcgc6Gxf5PsM3Zw21\n",
      "Added document with id Py96YQXDzZ09Uu85ViX0\n",
      "Added document with id S7xCTZuX4QVBq8XMjj6O\n",
      "Added document with id paXvDj1DU6aEo8Jp1txh\n",
      "Added document with id 10cEHxteZlf4h1NgUUY2\n",
      "Added document with id NUVQA8aI1do5GXgAGhUt\n",
      "Added document with id KFx5KNP5i6xONahxC0Hx\n",
      "Added document with id 8eT9OcVJQLAFfj90nOeA\n",
      "Added document with id dkupVWopLBQcmEcC5I2r\n",
      "Added document with id TzYXf4UGkSaSTrtaLzDW\n",
      "Added document with id dCsnhWnXxHD7mqdPeMVp\n",
      "Added document with id PwdhqAnqzYYbQXvAh77y\n",
      "Added document with id QgTLF6HPz9zt12Ordwzk\n",
      "Added document with id 7lpfkXhKjQTpZVHLO0EA\n",
      "Added document with id X5E6N1HrhhRqVIzAjTuD\n"
     ]
    }
   ],
   "source": [
    "# create new region_maps\n",
    "for data in  region_data:\n",
    "    update_time, rm_ref = db.collection('RegionMap').add(data)\n",
    "    if DEBUG:\n",
    "        print(f\"Added document with id {rm_ref.id}\")"
   ]
  },
  {
   "cell_type": "code",
   "execution_count": null,
   "metadata": {},
   "outputs": [],
   "source": []
  }
 ],
 "metadata": {
  "kernelspec": {
   "display_name": "my_env_name",
   "language": "python",
   "name": "python3"
  },
  "language_info": {
   "codemirror_mode": {
    "name": "ipython",
    "version": 3
   },
   "file_extension": ".py",
   "mimetype": "text/x-python",
   "name": "python",
   "nbconvert_exporter": "python",
   "pygments_lexer": "ipython3",
   "version": "3.11.7"
  }
 },
 "nbformat": 4,
 "nbformat_minor": 2
}
