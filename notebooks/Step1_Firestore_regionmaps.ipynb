{
 "cells": [
  {
   "cell_type": "markdown",
   "metadata": {},
   "source": [
    "## Requirements"
   ]
  },
  {
   "cell_type": "code",
   "execution_count": 4,
   "metadata": {},
   "outputs": [],
   "source": [
    "# %pip install firebase_admin geopy"
   ]
  },
  {
   "cell_type": "markdown",
   "metadata": {},
   "source": [
    "## Imports"
   ]
  },
  {
   "cell_type": "code",
   "execution_count": 1,
   "metadata": {},
   "outputs": [],
   "source": [
    "import firebase_admin\n",
    "from firebase_admin import firestore\n",
    "from firebase_admin import credentials\n",
    "from google.cloud.firestore import GeoPoint\n",
    "from google.cloud.firestore_v1.base_query import FieldFilter\n",
    "\n",
    "from geopy.geocoders import Nominatim\n",
    "\n",
    "import pytz\n",
    "import numpy as np\n",
    "from pprint import pprint \n",
    "from itertools import combinations\n",
    "from geopy.distance import geodesic\n",
    "from scipy.spatial import ConvexHull\n",
    "from datetime import datetime, timedelta\n"
   ]
  },
  {
   "cell_type": "markdown",
   "metadata": {},
   "source": [
    "## Params"
   ]
  },
  {
   "cell_type": "code",
   "execution_count": 3,
   "metadata": {},
   "outputs": [],
   "source": [
    "thres_distance = 3000\n",
    "creds_path = \"./keys/serviceAccountKey.json\"\n",
    "indian_timezone = pytz.timezone('Asia/Kolkata')\n",
    "DEBUG = True"
   ]
  },
  {
   "cell_type": "markdown",
   "metadata": {},
   "source": [
    "## utils"
   ]
  },
  {
   "cell_type": "code",
   "execution_count": 4,
   "metadata": {},
   "outputs": [],
   "source": [
    "def calculate_convex_hull_area(coords):\n",
    "    hull = ConvexHull(coords)\n",
    "    return hull.volume  # For 2D convex hull, use hull.area"
   ]
  },
  {
   "cell_type": "code",
   "execution_count": 5,
   "metadata": {},
   "outputs": [],
   "source": [
    "def select_bounding_coords(coordinates:list)->list:\n",
    "    max_area = 0\n",
    "    max_area_coords = None\n",
    "\n",
    "    # Iterate through all combinations of coordinates\n",
    "    for i in range(len(coordinates), -1,-1):\n",
    "        for comb in combinations(coordinates, i):        # Assuming you want to form a triangle (change to 4 for quadrilateral, etc.)\n",
    "            if not all(c in comb for c in coordinates):  # Skip combinations where not all coordinates are included\n",
    "                continue\n",
    "            area = calculate_convex_hull_area(np.array(comb))\n",
    "            if area > max_area:\n",
    "                max_area = area\n",
    "                max_area_coords = comb\n",
    "\n",
    "    coordList = [GeoPoint(x[0], x[1]) for x in max_area_coords]\n",
    "    \n",
    "    return coordList"
   ]
  },
  {
   "cell_type": "code",
   "execution_count": 6,
   "metadata": {},
   "outputs": [],
   "source": [
    "def get_dict_by_regionMapId(regionMap_id):\n",
    "    for region_map in regionMaps:\n",
    "        if region_map['regionMap_id'] == regionMap_id:\n",
    "            return region_map\n",
    "    return None"
   ]
  },
  {
   "cell_type": "code",
   "execution_count": 7,
   "metadata": {},
   "outputs": [],
   "source": [
    "def get_marker_cord_by_id(marker_id):\n",
    "    for marker in markers_:\n",
    "        if marker['marker-id'] == marker_id:\n",
    "            return GeoPoint(marker['marker_cord'][0],marker['marker_cord'][1])\n",
    "    return None"
   ]
  },
  {
   "cell_type": "code",
   "execution_count": 8,
   "metadata": {},
   "outputs": [],
   "source": [
    "def get_marker_cord_by_id_tuple(marker_id):\n",
    "    for marker in markers_:\n",
    "        if marker['marker-id'] == marker_id:\n",
    "            return marker['marker_cord']\n",
    "    return None"
   ]
  },
  {
   "cell_type": "code",
   "execution_count": 9,
   "metadata": {},
   "outputs": [],
   "source": [
    "# if DEBUG:\n",
    "#     import matplotlib.pyplot as plt\n",
    "#     x, y = zip(*coordinates)\n",
    "#     plt.scatter(x, y, color='blue', label='Original Coordinates')\n",
    "    \n",
    "#     # Plot the convex hull with maximum area\n",
    "#     hull = ConvexHull(np.array(max_area_coords))\n",
    "#     for simplex in hull.simplices:\n",
    "#         plt.plot(hull.points[simplex, 0], hull.points[simplex, 1], 'k-')\n",
    "    \n",
    "#     plt.scatter(hull.points[hull.vertices, 0], hull.points[hull.vertices, 1], color='red', label='Convex Hull Vertices')\n",
    "    \n",
    "#     plt.title('Convex Hull with Maximum Area')\n",
    "#     plt.xlabel('Latitude')\n",
    "#     plt.ylabel('Longitude')\n",
    "#     plt.legend()\n",
    "#     plt.show()"
   ]
  },
  {
   "cell_type": "markdown",
   "metadata": {},
   "source": [
    "## Connect"
   ]
  },
  {
   "cell_type": "code",
   "execution_count": 10,
   "metadata": {},
   "outputs": [],
   "source": [
    "cred = credentials.Certificate(creds_path)\n",
    "firebase_admin.initialize_app(cred)\n",
    "db = firestore.client()"
   ]
  },
  {
   "cell_type": "code",
   "execution_count": 11,
   "metadata": {},
   "outputs": [
    {
     "data": {
      "text/plain": [
       "<google.cloud.firestore_v1.client.Client at 0x7f20a9333a50>"
      ]
     },
     "execution_count": 11,
     "metadata": {},
     "output_type": "execute_result"
    }
   ],
   "source": [
    "db"
   ]
  },
  {
   "cell_type": "code",
   "execution_count": 12,
   "metadata": {},
   "outputs": [],
   "source": [
    "\n",
    "geoLoc = Nominatim(user_agent=\"GetLoc\")"
   ]
  },
  {
   "cell_type": "markdown",
   "metadata": {},
   "source": [
    "## Markers"
   ]
  },
  {
   "cell_type": "code",
   "execution_count": 13,
   "metadata": {},
   "outputs": [],
   "source": [
    "current_datetime = datetime.now()\n",
    "midnight_datetime = current_datetime.replace(hour=0, minute=0, second=0, microsecond=0)\n",
    "\n",
    "one_day = timedelta(days=1)\n",
    "yesterday_midnight_datetime = current_datetime - one_day\n",
    "yesterday_midnight_datetime = yesterday_midnight_datetime.replace(hour=0, minute=0, second=0, microsecond=0)\n",
    "\n",
    "start_date = indian_timezone.localize(yesterday_midnight_datetime)\n",
    "end_date = indian_timezone.localize(midnight_datetime)\n"
   ]
  },
  {
   "cell_type": "code",
   "execution_count": 14,
   "metadata": {},
   "outputs": [],
   "source": [
    "# Set the start date to midnight of January 1, 2023\n",
    "start_date = datetime(2023, 1, 1, tzinfo=indian_timezone)\n",
    "start_date = start_date.replace(hour=0, minute=0, second=0, microsecond=0)\n",
    "\n",
    "# Set the end date to the current midnight\n",
    "midnight_datetime = current_datetime.replace(hour=0, minute=0, second=0, microsecond=0)\n",
    "end_date = indian_timezone.localize(midnight_datetime)"
   ]
  },
  {
   "cell_type": "code",
   "execution_count": 15,
   "metadata": {},
   "outputs": [],
   "source": [
    "markers_ = []\n",
    "markers_get = db.collection('Markers').where(filter=FieldFilter('time', \">=\", start_date)).where(filter=FieldFilter('time', \"<\", end_date)).get()\n",
    "# markers_get = db.collection('Markers').get()\n",
    "for m in markers_get:\n",
    "    marker = {\n",
    "        \"marker-id\":m.to_dict()[\"id\"],\n",
    "        \"marker_cord\":(m.to_dict()[\"lat\"],m.to_dict()[\"long\"]),\n",
    "        }\n",
    "    markers_.append(marker)"
   ]
  },
  {
   "cell_type": "code",
   "execution_count": 16,
   "metadata": {},
   "outputs": [
    {
     "name": "stdout",
     "output_type": "stream",
     "text": [
      "[{'marker-id': 1708073292508, 'marker_cord': (26.1424004, 91.6620579)},\n",
      " {'marker-id': 1708452071221, 'marker_cord': (26.1405359, 91.6583848)},\n",
      " {'marker-id': 1708873467031,\n",
      "  'marker_cord': (26.15775250873549, 91.69925920665264)},\n",
      " {'marker-id': 1708873503397,\n",
      "  'marker_cord': (26.140031309609082, 91.68913085013628)},\n",
      " {'marker-id': 1708873551469,\n",
      "  'marker_cord': (26.156571319623612, 91.67612884193659)},\n",
      " {'marker-id': 1708873618143,\n",
      "  'marker_cord': (26.152377625502016, 91.64855606853962)},\n",
      " {'marker-id': 1708885439721,\n",
      "  'marker_cord': (26.151969834501905, 91.8286057189107)},\n",
      " {'marker-id': 1708885452075,\n",
      "  'marker_cord': (26.170547104882253, 91.83449417352676)},\n",
      " {'marker-id': 1708885469893,\n",
      "  'marker_cord': (26.173719807871855, 91.82116392999887)},\n",
      " {'marker-id': 1708885485004,\n",
      "  'marker_cord': (26.17149104118853, 91.80979236960411)},\n",
      " {'marker-id': 1708885500298,\n",
      "  'marker_cord': (26.183751288013777, 91.80362295359373)}]\n"
     ]
    }
   ],
   "source": [
    "if DEBUG:\n",
    "    pprint(markers_)"
   ]
  },
  {
   "cell_type": "markdown",
   "metadata": {},
   "source": [
    "## Region Maps"
   ]
  },
  {
   "cell_type": "code",
   "execution_count": 17,
   "metadata": {},
   "outputs": [],
   "source": [
    "regionMaps = []"
   ]
  },
  {
   "cell_type": "code",
   "execution_count": 18,
   "metadata": {},
   "outputs": [],
   "source": [
    "regionMaps_get = db.collection('RegionMap').get()\n",
    "for m in regionMaps_get:\n",
    "    data = m.to_dict()\n",
    "    data[\"regionMap_id\"]= m.id\n",
    "    regionMaps.append(data)"
   ]
  },
  {
   "cell_type": "code",
   "execution_count": 19,
   "metadata": {},
   "outputs": [
    {
     "name": "stdout",
     "output_type": "stream",
     "text": [
      "[]\n"
     ]
    }
   ],
   "source": [
    "if DEBUG:\n",
    "    pprint(regionMaps)"
   ]
  },
  {
   "cell_type": "code",
   "execution_count": 20,
   "metadata": {},
   "outputs": [],
   "source": [
    "for r in regionMaps:\n",
    "    r['central_coord'] = (r['central_coord'].to_protobuf().latitude, r['central_coord'].to_protobuf().longitude)\n",
    "    r['coords'] = [(x.to_protobuf().latitude, x.to_protobuf().longitude)for x in r['coords']]"
   ]
  },
  {
   "cell_type": "code",
   "execution_count": 21,
   "metadata": {},
   "outputs": [
    {
     "name": "stdout",
     "output_type": "stream",
     "text": [
      "[]\n"
     ]
    }
   ],
   "source": [
    "if DEBUG:\n",
    "    pprint(regionMaps)"
   ]
  },
  {
   "cell_type": "markdown",
   "metadata": {},
   "source": [
    "## check for which region map is the marker"
   ]
  },
  {
   "cell_type": "code",
   "execution_count": 22,
   "metadata": {},
   "outputs": [],
   "source": [
    "def is_within_distance(coord1, coord2, max_distance=thres_distance):\n",
    "    # Calculate distance in meters using geopy\n",
    "    distance = geodesic(coord1, coord2).meters\n",
    "    return distance <= max_distance"
   ]
  },
  {
   "cell_type": "code",
   "execution_count": 23,
   "metadata": {},
   "outputs": [],
   "source": [
    "parings = {}"
   ]
  },
  {
   "cell_type": "code",
   "execution_count": 24,
   "metadata": {},
   "outputs": [],
   "source": [
    "for marker in markers_:\n",
    "    marker_coord = marker['marker_cord']\n",
    "    for region_map in regionMaps:\n",
    "        for coord in region_map['coords']:\n",
    "            if is_within_distance(marker_coord, coord):\n",
    "                parings[marker['marker-id']]=region_map['regionMap_id']\n",
    "                "
   ]
  },
  {
   "cell_type": "code",
   "execution_count": 25,
   "metadata": {},
   "outputs": [
    {
     "name": "stdout",
     "output_type": "stream",
     "text": [
      "{}\n"
     ]
    }
   ],
   "source": [
    "if DEBUG:\n",
    "    pprint(parings)"
   ]
  },
  {
   "cell_type": "code",
   "execution_count": 26,
   "metadata": {},
   "outputs": [],
   "source": [
    "for key in parings.keys():\n",
    "    result_dict = get_dict_by_regionMapId(parings[key])\n",
    "    ref = db.collection(\"RegionMap\").document(parings[key])\n",
    "    if DEBUG:\n",
    "        print(ref.get().to_dict())\n",
    "    result_dict[\"coords\"].append(get_marker_cord_by_id_tuple(key))\n",
    "    \n",
    "    try:\n",
    "        list_bbox = select_bounding_coords(result_dict[\"coords\"])\n",
    "\n",
    "        not_list_box = [GeoPoint(x[0],x[1])  for x in result_dict[\"coords\"] if GeoPoint(x[0],x[1]) not in list_bbox]\n",
    "    except Exception as e:\n",
    "        if DEBUG:\n",
    "            print(e)\n",
    "        not_list_box= []\n",
    "        \n",
    "    if DEBUG:\n",
    "        pprint(not_list_box)\n",
    "    \n",
    "    average_latitude = sum(lat for lat, lon in result_dict[\"coords\"]) / len(result_dict[\"coords\"])\n",
    "    average_longitude = sum(lon for lat, lon in result_dict[\"coords\"]) / len(result_dict[\"coords\"])\n",
    "    \n",
    "    locname = geoLoc.reverse(f\"{average_latitude}, {average_longitude}\")\n",
    "\n",
    "    central_coord = GeoPoint(average_latitude, average_longitude)\n",
    "    ref.update({\n",
    "        \"central_coord\": central_coord,\n",
    "        \"location\": locname.address,\n",
    "        \"coords\": firestore.ArrayUnion([get_marker_cord_by_id(key)]),\n",
    "        \"markers\": firestore.ArrayUnion([key])\n",
    "        })\n",
    "    if len(not_list_box)>0:\n",
    "        ref.update({\n",
    "            \"coords\": firestore.ArrayRemove(not_list_box),\n",
    "            })"
   ]
  },
  {
   "cell_type": "markdown",
   "metadata": {},
   "source": [
    "## remove updated markers"
   ]
  },
  {
   "cell_type": "code",
   "execution_count": 27,
   "metadata": {},
   "outputs": [],
   "source": [
    "filtered_markers = [marker for marker in markers_ if marker['marker-id'] not in parings.keys()]"
   ]
  },
  {
   "cell_type": "code",
   "execution_count": 28,
   "metadata": {},
   "outputs": [
    {
     "name": "stdout",
     "output_type": "stream",
     "text": [
      "[{'marker-id': 1708073292508, 'marker_cord': (26.1424004, 91.6620579)},\n",
      " {'marker-id': 1708452071221, 'marker_cord': (26.1405359, 91.6583848)},\n",
      " {'marker-id': 1708873467031,\n",
      "  'marker_cord': (26.15775250873549, 91.69925920665264)},\n",
      " {'marker-id': 1708873503397,\n",
      "  'marker_cord': (26.140031309609082, 91.68913085013628)},\n",
      " {'marker-id': 1708873551469,\n",
      "  'marker_cord': (26.156571319623612, 91.67612884193659)},\n",
      " {'marker-id': 1708873618143,\n",
      "  'marker_cord': (26.152377625502016, 91.64855606853962)},\n",
      " {'marker-id': 1708885439721,\n",
      "  'marker_cord': (26.151969834501905, 91.8286057189107)},\n",
      " {'marker-id': 1708885452075,\n",
      "  'marker_cord': (26.170547104882253, 91.83449417352676)},\n",
      " {'marker-id': 1708885469893,\n",
      "  'marker_cord': (26.173719807871855, 91.82116392999887)},\n",
      " {'marker-id': 1708885485004,\n",
      "  'marker_cord': (26.17149104118853, 91.80979236960411)},\n",
      " {'marker-id': 1708885500298,\n",
      "  'marker_cord': (26.183751288013777, 91.80362295359373)}]\n"
     ]
    }
   ],
   "source": [
    "if DEBUG:\n",
    "    pprint(filtered_markers)"
   ]
  },
  {
   "cell_type": "markdown",
   "metadata": {},
   "source": [
    "## create region map"
   ]
  },
  {
   "cell_type": "code",
   "execution_count": 29,
   "metadata": {},
   "outputs": [],
   "source": [
    "coordinates = [entry['marker_cord'] for entry in filtered_markers]\n",
    "\n",
    "# Create a list to store the clusters of coordinates\n",
    "coordinate_clusters = []\n",
    "\n",
    "# Iterate through each coordinate\n",
    "for coord in coordinates:\n",
    "    # Check if the coordinate is within 500 meters of any existing cluster\n",
    "    found_cluster = False\n",
    "    for cluster in coordinate_clusters:\n",
    "        if any(is_within_distance(coord, c) for c in cluster):\n",
    "            cluster.append(coord)\n",
    "            found_cluster = True\n",
    "            break\n",
    "\n",
    "    # If not within 500 meters of any existing cluster, create a new cluster\n",
    "    if not found_cluster:\n",
    "        coordinate_clusters.append([coord])"
   ]
  },
  {
   "cell_type": "markdown",
   "metadata": {},
   "source": [
    "## Add new region maps"
   ]
  },
  {
   "cell_type": "code",
   "execution_count": 30,
   "metadata": {},
   "outputs": [],
   "source": [
    "region_data = []\n",
    "for coords_lst in coordinate_clusters:\n",
    "    marker_ids = [entry['marker-id'] for entry in markers_ if entry['marker_cord'] in coords_lst]\n",
    "    \n",
    "    average_latitude = sum(lat for lat, lon in coords_lst) / len(coords_lst)\n",
    "    average_longitude = sum(lon for lat, lon in coords_lst) / len(coords_lst)\n",
    "\n",
    "    locname = geoLoc.reverse(f\"{average_latitude}, {average_longitude}\")\n",
    "    \n",
    "    central_coord = GeoPoint(average_latitude, average_longitude)\n",
    "\n",
    "    data = {\n",
    "        \"central_coord\": central_coord,\n",
    "        \"location\": locname.address,\n",
    "        \"coords\": [GeoPoint(x[0],x[1]) for x in coords_lst],\n",
    "        \"markers\":marker_ids\n",
    "    }\n",
    "    region_data.append(data)"
   ]
  },
  {
   "cell_type": "code",
   "execution_count": 31,
   "metadata": {},
   "outputs": [
    {
     "name": "stdout",
     "output_type": "stream",
     "text": [
      "Added document with id N1Ey5hfO19z8gcbzP20c\n",
      "Added document with id t4QcOhTw1ASxnb6wyUPJ\n",
      "Added document with id JuB2WrxD3DyGIaNbmH5V\n"
     ]
    }
   ],
   "source": [
    "# create new region_maps\n",
    "for data in  region_data:\n",
    "    update_time, rm_ref = db.collection('RegionMap').add(data)\n",
    "    if DEBUG:\n",
    "        print(f\"Added document with id {rm_ref.id}\")"
   ]
  },
  {
   "cell_type": "code",
   "execution_count": null,
   "metadata": {},
   "outputs": [],
   "source": []
  }
 ],
 "metadata": {
  "kernelspec": {
   "display_name": "my_env_name",
   "language": "python",
   "name": "python3"
  },
  "language_info": {
   "codemirror_mode": {
    "name": "ipython",
    "version": 3
   },
   "file_extension": ".py",
   "mimetype": "text/x-python",
   "name": "python",
   "nbconvert_exporter": "python",
   "pygments_lexer": "ipython3",
   "version": "3.11.7"
  }
 },
 "nbformat": 4,
 "nbformat_minor": 2
}
