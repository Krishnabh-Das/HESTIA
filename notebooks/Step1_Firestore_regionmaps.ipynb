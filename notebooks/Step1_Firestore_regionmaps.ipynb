{
 "cells": [
  {
   "cell_type": "markdown",
   "metadata": {},
   "source": [
    "## Imports"
   ]
  },
  {
   "cell_type": "code",
   "execution_count": 44,
   "metadata": {},
   "outputs": [],
   "source": [
    "import firebase_admin\n",
    "from firebase_admin import firestore\n",
    "from firebase_admin import credentials\n",
    "from google.cloud.firestore import GeoPoint\n",
    "from google.cloud.firestore_v1.base_query import FieldFilter\n",
    "\n",
    "import pytz\n",
    "import numpy as np\n",
    "from pprint import pprint \n",
    "from itertools import combinations\n",
    "from geopy.distance import geodesic\n",
    "from scipy.spatial import ConvexHull\n",
    "from datetime import datetime, timedelta\n"
   ]
  },
  {
   "cell_type": "markdown",
   "metadata": {},
   "source": [
    "## Params"
   ]
  },
  {
   "cell_type": "code",
   "execution_count": 47,
   "metadata": {},
   "outputs": [],
   "source": [
    "thres_distance = 1000\n",
    "creds_path = \"./keys/serviceAccountKey.json\"\n",
    "indian_timezone = pytz.timezone('Asia/Kolkata')\n",
    "DEBUG = True"
   ]
  },
  {
   "cell_type": "markdown",
   "metadata": {},
   "source": [
    "## utils"
   ]
  },
  {
   "cell_type": "code",
   "execution_count": null,
   "metadata": {},
   "outputs": [],
   "source": [
    "def calculate_convex_hull_area(coords):\n",
    "    hull = ConvexHull(coords)\n",
    "    return hull.volume  # For 2D convex hull, use hull.area"
   ]
  },
  {
   "cell_type": "code",
   "execution_count": 54,
   "metadata": {},
   "outputs": [],
   "source": [
    "def select_bounding_coords(coordinates:list)->list:\n",
    "    max_area = 0\n",
    "    max_area_coords = None\n",
    "\n",
    "    # Iterate through all combinations of coordinates\n",
    "    for i in range(len(coordinates), -1,-1):\n",
    "        for comb in combinations(coordinates, i):  # Assuming you want to form a triangle (change to 4 for quadrilateral, etc.)\n",
    "            if not all(c in comb for c in coordinates):  # Skip combinations where not all coordinates are included\n",
    "                continue\n",
    "            area = calculate_convex_hull_area(np.array(comb))\n",
    "            if area > max_area:\n",
    "                max_area = area\n",
    "                max_area_coords = comb\n",
    "\n",
    "    coordList = [GeoPoint(x[0], x[1]) for x in max_area_coords]\n",
    "    \n",
    "    return coordList"
   ]
  },
  {
   "cell_type": "code",
   "execution_count": 55,
   "metadata": {},
   "outputs": [],
   "source": [
    "def get_dict_by_regionMapId(regionMap_id):\n",
    "    for region_map in regionMaps:\n",
    "        if region_map['regionMap_id'] == regionMap_id:\n",
    "            return region_map\n",
    "    return None"
   ]
  },
  {
   "cell_type": "code",
   "execution_count": 56,
   "metadata": {},
   "outputs": [],
   "source": [
    "def get_marker_cord_by_id(marker_id):\n",
    "    for marker in markers_:\n",
    "        if marker['marker-id'] == marker_id:\n",
    "            return GeoPoint(marker['marker_cord'][0],marker['marker_cord'][1])\n",
    "    return None"
   ]
  },
  {
   "cell_type": "code",
   "execution_count": 57,
   "metadata": {},
   "outputs": [],
   "source": [
    "def get_marker_cord_by_id_tuple(marker_id):\n",
    "    for marker in markers_:\n",
    "        if marker['marker-id'] == marker_id:\n",
    "            return marker['marker_cord']\n",
    "    return None"
   ]
  },
  {
   "cell_type": "code",
   "execution_count": 46,
   "metadata": {},
   "outputs": [],
   "source": [
    "# if DEBUG:\n",
    "#     import matplotlib.pyplot as plt\n",
    "#     x, y = zip(*coordinates)\n",
    "#     plt.scatter(x, y, color='blue', label='Original Coordinates')\n",
    "    \n",
    "#     # Plot the convex hull with maximum area\n",
    "#     hull = ConvexHull(np.array(max_area_coords))\n",
    "#     for simplex in hull.simplices:\n",
    "#         plt.plot(hull.points[simplex, 0], hull.points[simplex, 1], 'k-')\n",
    "    \n",
    "#     plt.scatter(hull.points[hull.vertices, 0], hull.points[hull.vertices, 1], color='red', label='Convex Hull Vertices')\n",
    "    \n",
    "#     plt.title('Convex Hull with Maximum Area')\n",
    "#     plt.xlabel('Latitude')\n",
    "#     plt.ylabel('Longitude')\n",
    "#     plt.legend()\n",
    "#     plt.show()"
   ]
  },
  {
   "cell_type": "markdown",
   "metadata": {},
   "source": [
    "## Connect"
   ]
  },
  {
   "cell_type": "code",
   "execution_count": 5,
   "metadata": {},
   "outputs": [],
   "source": [
    "cred = credentials.Certificate(creds_path)\n",
    "firebase_admin.initialize_app(cred)\n",
    "db = firestore.client()"
   ]
  },
  {
   "cell_type": "markdown",
   "metadata": {},
   "source": [
    "## Markers"
   ]
  },
  {
   "cell_type": "code",
   "execution_count": 48,
   "metadata": {},
   "outputs": [],
   "source": [
    "current_datetime = datetime.now()\n",
    "midnight_datetime = current_datetime.replace(hour=0, minute=0, second=0, microsecond=0)\n",
    "\n",
    "one_day = timedelta(days=1)\n",
    "yesterday_midnight_datetime = current_datetime - one_day\n",
    "yesterday_midnight_datetime = yesterday_midnight_datetime.replace(hour=0, minute=0, second=0, microsecond=0)\n",
    "\n",
    "start_date = indian_timezone.localize(yesterday_midnight_datetime)\n",
    "end_date = indian_timezone.localize(midnight_datetime)\n"
   ]
  },
  {
   "cell_type": "code",
   "execution_count": 51,
   "metadata": {},
   "outputs": [],
   "source": [
    "markers_ = []\n",
    "markers_get = db.collection('Markers').where(filter=FieldFilter('time', \">=\", start_date)).where(filter=FieldFilter('time', \"<\", end_date)).get()\n",
    "# markers_get = db.collection('Markers').get()\n",
    "for m in markers_get:\n",
    "    marker = {\n",
    "        \"marker-id\":m.to_dict()[\"id\"],\n",
    "        \"marker_cord\":(m.to_dict()[\"lat\"],m.to_dict()[\"long\"]),\n",
    "        }\n",
    "    markers_.append(marker)"
   ]
  },
  {
   "cell_type": "code",
   "execution_count": 52,
   "metadata": {},
   "outputs": [
    {
     "name": "stdout",
     "output_type": "stream",
     "text": [
      "[{'marker-id': 1702827474781,\n",
      "  'marker_cord': (26.143074218982125, 91.76195416599512)},\n",
      " {'marker-id': 1702831179224, 'marker_cord': (26.5276161, 93.885418)},\n",
      " {'marker-id': 1702831353978,\n",
      "  'marker_cord': (26.523327432461524, 93.88401668518782)},\n",
      " {'marker-id': 1702831370550,\n",
      "  'marker_cord': (26.525289944991446, 93.88164695352316)}]\n"
     ]
    }
   ],
   "source": [
    "if DEBUG:\n",
    "    pprint(markers_)"
   ]
  },
  {
   "cell_type": "markdown",
   "metadata": {},
   "source": [
    "## Region Maps"
   ]
  },
  {
   "cell_type": "code",
   "execution_count": 53,
   "metadata": {},
   "outputs": [],
   "source": [
    "regionMaps = []"
   ]
  },
  {
   "cell_type": "code",
   "execution_count": 10,
   "metadata": {},
   "outputs": [],
   "source": [
    "regionMaps_get = db.collection('RegionMap').get()\n",
    "for m in regionMaps_get:\n",
    "    data = m.to_dict()\n",
    "    data[\"regionMap_id\"]= m.id\n",
    "    regionMaps.append(data)"
   ]
  },
  {
   "cell_type": "code",
   "execution_count": 11,
   "metadata": {},
   "outputs": [
    {
     "name": "stdout",
     "output_type": "stream",
     "text": [
      "[{'central_coord': <google.cloud.firestore_v1._helpers.GeoPoint object at 0x7fa6c652fc70>,\n",
      "  'coords': [<google.cloud.firestore_v1._helpers.GeoPoint object at 0x7fa6c652f910>,\n",
      "             <google.cloud.firestore_v1._helpers.GeoPoint object at 0x7fa6c8205270>],\n",
      "  'markers': [1702827474781, 1702772289395],\n",
      "  'regionMap_id': 'NzlIV6KigFRGTrCgZ8Gx'},\n",
      " {'central_coord': <google.cloud.firestore_v1._helpers.GeoPoint object at 0x7fa6b13c7340>,\n",
      "  'coords': [<google.cloud.firestore_v1._helpers.GeoPoint object at 0x7fa6b13c5ba0>],\n",
      "  'markers': [1702840841383],\n",
      "  'regionMap_id': 'Ud5VSkLhIDnXDSsxFydX'},\n",
      " {'central_coord': <google.cloud.firestore_v1._helpers.GeoPoint object at 0x7fa6b13c5e40>,\n",
      "  'coords': [<google.cloud.firestore_v1._helpers.GeoPoint object at 0x7fa6b13c5fc0>,\n",
      "             <google.cloud.firestore_v1._helpers.GeoPoint object at 0x7fa6b13c7c10>,\n",
      "             <google.cloud.firestore_v1._helpers.GeoPoint object at 0x7fa6b13c7760>,\n",
      "             <google.cloud.firestore_v1._helpers.GeoPoint object at 0x7fa6b13c5c00>],\n",
      "  'markers': [1702831353978, 1702831179224, 1702831370550, 1702837908940],\n",
      "  'regionMap_id': 'qV2bxi5cFie31VszE8Zk'}]\n"
     ]
    }
   ],
   "source": [
    "if DEBUG:\n",
    "    pprint(regionMaps)"
   ]
  },
  {
   "cell_type": "code",
   "execution_count": 12,
   "metadata": {},
   "outputs": [],
   "source": [
    "for r in regionMaps:\n",
    "    r['central_coord'] = (r['central_coord'].to_protobuf().latitude, r['central_coord'].to_protobuf().longitude)\n",
    "    r['coords'] = [(x.to_protobuf().latitude, x.to_protobuf().longitude)for x in r['coords']]"
   ]
  },
  {
   "cell_type": "code",
   "execution_count": 13,
   "metadata": {},
   "outputs": [
    {
     "name": "stdout",
     "output_type": "stream",
     "text": [
      "[{'central_coord': (26.14139595138026, 91.76107054576278),\n",
      "  'coords': [(26.143074218982125, 91.76195416599512),\n",
      "             (26.139717683778397, 91.76018692553043)],\n",
      "  'markers': [1702827474781, 1702772289395],\n",
      "  'regionMap_id': 'NzlIV6KigFRGTrCgZ8Gx'},\n",
      " {'central_coord': (26.300955599413115, 93.96943598985672),\n",
      "  'coords': [(26.300955599413115, 93.96943598985672)],\n",
      "  'markers': [1702840841383],\n",
      "  'regionMap_id': 'Ud5VSkLhIDnXDSsxFydX'},\n",
      " {'central_coord': (26.526254545900574, 93.88349554741812),\n",
      "  'coords': [(26.523327432461524, 93.88401668518782),\n",
      "             (26.5276161, 93.885418),\n",
      "             (26.525289944991446, 93.88164695352316),\n",
      "             (26.528784706149324, 93.8829005509615)],\n",
      "  'markers': [1702831353978, 1702831179224, 1702831370550, 1702837908940],\n",
      "  'regionMap_id': 'qV2bxi5cFie31VszE8Zk'}]\n"
     ]
    }
   ],
   "source": [
    "if DEBUG:\n",
    "    pprint(regionMaps)"
   ]
  },
  {
   "cell_type": "markdown",
   "metadata": {},
   "source": [
    "## check for which region map is the marker"
   ]
  },
  {
   "cell_type": "code",
   "execution_count": 34,
   "metadata": {},
   "outputs": [],
   "source": [
    "def is_within_distance(coord1, coord2, max_distance=thres_distance):\n",
    "    # Calculate distance in meters using geopy\n",
    "    distance = geodesic(coord1, coord2).meters\n",
    "    return distance <= max_distance"
   ]
  },
  {
   "cell_type": "code",
   "execution_count": 35,
   "metadata": {},
   "outputs": [],
   "source": [
    "parings = {}"
   ]
  },
  {
   "cell_type": "code",
   "execution_count": 36,
   "metadata": {},
   "outputs": [],
   "source": [
    "for marker in markers_:\n",
    "    marker_coord = marker['marker_cord']\n",
    "    for region_map in regionMaps:\n",
    "        for coord in region_map['coords']:\n",
    "            if is_within_distance(marker_coord, coord):\n",
    "                parings[marker['marker-id']]=region_map['regionMap_id']\n",
    "                "
   ]
  },
  {
   "cell_type": "code",
   "execution_count": 37,
   "metadata": {},
   "outputs": [
    {
     "name": "stdout",
     "output_type": "stream",
     "text": [
      "{1702772289395: 'NzlIV6KigFRGTrCgZ8Gx',\n",
      " 1702827474781: 'NzlIV6KigFRGTrCgZ8Gx',\n",
      " 1702831179224: 'qV2bxi5cFie31VszE8Zk',\n",
      " 1702831353978: 'qV2bxi5cFie31VszE8Zk',\n",
      " 1702831370550: 'qV2bxi5cFie31VszE8Zk',\n",
      " 1702837908940: 'qV2bxi5cFie31VszE8Zk',\n",
      " 1702840841383: 'Ud5VSkLhIDnXDSsxFydX'}\n"
     ]
    }
   ],
   "source": [
    "if DEBUG:\n",
    "    pprint(parings)"
   ]
  },
  {
   "cell_type": "code",
   "execution_count": 33,
   "metadata": {},
   "outputs": [
    {
     "name": "stdout",
     "output_type": "stream",
     "text": [
      "{'central_coord': <google.cloud.firestore_v1._helpers.GeoPoint object at 0x7fa64bfc21a0>, 'markers': [1702831353978, 1702831179224, 1702831370550, 1702837908940], 'coords': [<google.cloud.firestore_v1._helpers.GeoPoint object at 0x7fa64bfc2cb0>, <google.cloud.firestore_v1._helpers.GeoPoint object at 0x7fa64bfc10c0>, <google.cloud.firestore_v1._helpers.GeoPoint object at 0x7fa64bfc26b0>, <google.cloud.firestore_v1._helpers.GeoPoint object at 0x7fa64bfc1150>]}\n",
      "[]\n",
      "{'central_coord': <google.cloud.firestore_v1._helpers.GeoPoint object at 0x7fa64bfc1780>, 'markers': [1702827474781, 1702772289395], 'coords': [<google.cloud.firestore_v1._helpers.GeoPoint object at 0x7fa64bfc3220>, <google.cloud.firestore_v1._helpers.GeoPoint object at 0x7fa64bfc1600>]}\n",
      "QH6154 Qhull precision error: Initial simplex is flat (facet 1 is coplanar with the interior point)\n",
      "\n",
      "While executing:  | qhull i Qt\n",
      "Options selected for Qhull 2019.1.r 2019/06/21:\n",
      "  run-id 169350903  incidence  Qtriangulate  _pre-merge  _zero-centrum\n",
      "  _max-width 0.0034  Error-roundoff 7.3e-14  _one-merge 3.7e-13\n",
      "  _near-inside 1.8e-12  Visible-distance 1.5e-13  U-max-coplanar 1.5e-13\n",
      "  Width-outside 2.9e-13  _wide-facet 8.8e-13  _maxoutside 4.4e-13\n",
      "\n",
      "The input to qhull appears to be less than 2 dimensional, or a\n",
      "computation has overflowed.\n",
      "\n",
      "Qhull could not construct a clearly convex simplex from points:\n",
      "- p2(v3):    26    92\n",
      "- p0(v2):    26    92\n",
      "- p1(v1):    26    92\n",
      "\n",
      "The center point is coplanar with a facet, or a vertex is coplanar\n",
      "with a neighboring facet.  The maximum round off error for\n",
      "computing distances is 7.3e-14.  The center point, facets and distances\n",
      "to the center point are as follows:\n",
      "\n",
      "center point    26.14    91.76\n",
      "\n",
      "facet p0 p1 distance=    0\n",
      "facet p2 p1 distance=    0\n",
      "facet p2 p0 distance= -0.0012\n",
      "\n",
      "These points either have a maximum or minimum x-coordinate, or\n",
      "they maximize the determinant for k coordinates.  Trial points\n",
      "are first selected from points that maximize a coordinate.\n",
      "\n",
      "The min and max coordinates for each dimension are:\n",
      "  0:     26.14     26.14  difference= 0.003357\n",
      "  1:     91.76     91.76  difference= 0.001767\n",
      "\n",
      "If the input should be full dimensional, you have several options that\n",
      "may determine an initial simplex:\n",
      "  - use 'QJ'  to joggle the input and make it full dimensional\n",
      "  - use 'QbB' to scale the points to the unit cube\n",
      "  - use 'QR0' to randomly rotate the input for different maximum points\n",
      "  - use 'Qs'  to search all points for the initial simplex\n",
      "  - use 'En'  to specify a maximum roundoff error less than 7.3e-14.\n",
      "  - trace execution with 'T3' to see the determinant for each point.\n",
      "\n",
      "If the input is lower dimensional:\n",
      "  - use 'QJ' to joggle the input and make it full dimensional\n",
      "  - use 'Qbk:0Bk:0' to delete coordinate k from the input.  You should\n",
      "    pick the coordinate with the least range.  The hull will have the\n",
      "    correct topology.\n",
      "  - determine the flat containing the points, rotate the points\n",
      "    into a coordinate plane, and delete the other coordinates.\n",
      "  - add one or more points to make the input full dimensional.\n",
      "\n",
      "[]\n",
      "{'central_coord': <google.cloud.firestore_v1._helpers.GeoPoint object at 0x7fa64bfc1690>, 'markers': [1702831353978, 1702831179224, 1702831370550, 1702837908940], 'coords': [<google.cloud.firestore_v1._helpers.GeoPoint object at 0x7fa64be94d60>, <google.cloud.firestore_v1._helpers.GeoPoint object at 0x7fa64be95750>, <google.cloud.firestore_v1._helpers.GeoPoint object at 0x7fa64be96290>, <google.cloud.firestore_v1._helpers.GeoPoint object at 0x7fa64be97490>]}\n",
      "[]\n",
      "{'central_coord': <google.cloud.firestore_v1._helpers.GeoPoint object at 0x7fa64bfc0b80>, 'markers': [1702831353978, 1702831179224, 1702831370550, 1702837908940], 'coords': [<google.cloud.firestore_v1._helpers.GeoPoint object at 0x7fa64bfc3c10>, <google.cloud.firestore_v1._helpers.GeoPoint object at 0x7fa64bfc3e80>, <google.cloud.firestore_v1._helpers.GeoPoint object at 0x7fa64be97880>, <google.cloud.firestore_v1._helpers.GeoPoint object at 0x7fa64be96a10>]}\n",
      "[]\n",
      "{'central_coord': <google.cloud.firestore_v1._helpers.GeoPoint object at 0x7fa64bfc0b80>, 'markers': [1702831353978, 1702831179224, 1702831370550, 1702837908940], 'coords': [<google.cloud.firestore_v1._helpers.GeoPoint object at 0x7fa64be95e40>, <google.cloud.firestore_v1._helpers.GeoPoint object at 0x7fa64be94fa0>, <google.cloud.firestore_v1._helpers.GeoPoint object at 0x7fa64be966e0>, <google.cloud.firestore_v1._helpers.GeoPoint object at 0x7fa64be94b80>]}\n",
      "[]\n",
      "{'central_coord': <google.cloud.firestore_v1._helpers.GeoPoint object at 0x7fa64bfc1000>, 'markers': [1702827474781, 1702772289395], 'coords': [<google.cloud.firestore_v1._helpers.GeoPoint object at 0x7fa64bfc0b20>, <google.cloud.firestore_v1._helpers.GeoPoint object at 0x7fa64bfc20e0>]}\n",
      "QH6154 Qhull precision error: Initial simplex is flat (facet 1 is coplanar with the interior point)\n",
      "\n",
      "While executing:  | qhull i Qt\n",
      "Options selected for Qhull 2019.1.r 2019/06/21:\n",
      "  run-id 170006376  incidence  Qtriangulate  _pre-merge  _zero-centrum\n",
      "  _max-width 0.0034  Error-roundoff 7.3e-14  _one-merge 3.7e-13\n",
      "  _near-inside 1.8e-12  Visible-distance 1.5e-13  U-max-coplanar 1.5e-13\n",
      "  Width-outside 2.9e-13  _wide-facet 8.8e-13  _maxoutside 4.4e-13\n",
      "\n",
      "The input to qhull appears to be less than 2 dimensional, or a\n",
      "computation has overflowed.\n",
      "\n",
      "Qhull could not construct a clearly convex simplex from points:\n",
      "- p2(v3):    26    92\n",
      "- p0(v2):    26    92\n",
      "- p1(v1):    26    92\n",
      "\n",
      "The center point is coplanar with a facet, or a vertex is coplanar\n",
      "with a neighboring facet.  The maximum round off error for\n",
      "computing distances is 7.3e-14.  The center point, facets and distances\n",
      "to the center point are as follows:\n",
      "\n",
      "center point    26.14    91.76\n",
      "\n",
      "facet p0 p1 distance=    0\n",
      "facet p2 p1 distance=    0\n",
      "facet p2 p0 distance= -0.0012\n",
      "\n",
      "These points either have a maximum or minimum x-coordinate, or\n",
      "they maximize the determinant for k coordinates.  Trial points\n",
      "are first selected from points that maximize a coordinate.\n",
      "\n",
      "The min and max coordinates for each dimension are:\n",
      "  0:     26.14     26.14  difference= 0.003357\n",
      "  1:     91.76     91.76  difference= 0.001767\n",
      "\n",
      "If the input should be full dimensional, you have several options that\n",
      "may determine an initial simplex:\n",
      "  - use 'QJ'  to joggle the input and make it full dimensional\n",
      "  - use 'QbB' to scale the points to the unit cube\n",
      "  - use 'QR0' to randomly rotate the input for different maximum points\n",
      "  - use 'Qs'  to search all points for the initial simplex\n",
      "  - use 'En'  to specify a maximum roundoff error less than 7.3e-14.\n",
      "  - trace execution with 'T3' to see the determinant for each point.\n",
      "\n",
      "If the input is lower dimensional:\n",
      "  - use 'QJ' to joggle the input and make it full dimensional\n",
      "  - use 'Qbk:0Bk:0' to delete coordinate k from the input.  You should\n",
      "    pick the coordinate with the least range.  The hull will have the\n",
      "    correct topology.\n",
      "  - determine the flat containing the points, rotate the points\n",
      "    into a coordinate plane, and delete the other coordinates.\n",
      "  - add one or more points to make the input full dimensional.\n",
      "\n",
      "[]\n",
      "{'central_coord': <google.cloud.firestore_v1._helpers.GeoPoint object at 0x7fa64bfc1690>, 'markers': [1702840841383], 'coords': [<google.cloud.firestore_v1._helpers.GeoPoint object at 0x7fa64bfc1000>]}\n",
      "QH6214 qhull input error: not enough points(2) to construct initial simplex (need 3)\n",
      "\n",
      "While executing:  | qhull i Qt\n",
      "Options selected for Qhull 2019.1.r 2019/06/21:\n",
      "  run-id 170006376  incidence  Qtriangulate  _pre-merge  _zero-centrum\n",
      "  _maxoutside  0\n",
      "\n",
      "[]\n"
     ]
    }
   ],
   "source": [
    "for key in parings.keys():\n",
    "    result_dict = get_dict_by_regionMapId(parings[key])\n",
    "    ref = db.collection(\"RegionMap\").document(parings[key])\n",
    "    if DEBUG:\n",
    "        print(ref.get().to_dict())\n",
    "    result_dict[\"coords\"].append(get_marker_cord_by_id_tuple(key))\n",
    "    \n",
    "    try:\n",
    "        list_bbox = select_bounding_coords(result_dict[\"coords\"])\n",
    "\n",
    "        not_list_box = [GeoPoint(x[0],x[1])  for x in result_dict[\"coords\"] if GeoPoint(x[0],x[1]) not in list_bbox]\n",
    "    except Exception as e:\n",
    "        if DEBUG:\n",
    "            print(e)\n",
    "        not_list_box= []\n",
    "        \n",
    "    if DEBUG:\n",
    "        pprint(not_list_box)\n",
    "    \n",
    "    average_latitude = sum(lat for lat, lon in result_dict[\"coords\"]) / len(result_dict[\"coords\"])\n",
    "    average_longitude = sum(lon for lat, lon in result_dict[\"coords\"]) / len(result_dict[\"coords\"])\n",
    "\n",
    "    central_coord = GeoPoint(average_latitude, average_longitude)\n",
    "    ref.update({\n",
    "        \"central_coord\": central_coord,\n",
    "        \"coords\": firestore.ArrayUnion([get_marker_cord_by_id(key)]),\n",
    "        \"markers\": firestore.ArrayUnion([key])\n",
    "        })\n",
    "    if len(not_list_box)>0:\n",
    "        ref.update({\n",
    "            \"coords\": firestore.ArrayRemove(not_list_box),\n",
    "            })"
   ]
  },
  {
   "cell_type": "markdown",
   "metadata": {},
   "source": [
    "## remove updated markers"
   ]
  },
  {
   "cell_type": "code",
   "execution_count": 38,
   "metadata": {},
   "outputs": [],
   "source": [
    "filtered_markers = [marker for marker in markers_ if marker['marker-id'] not in parings.keys()]"
   ]
  },
  {
   "cell_type": "code",
   "execution_count": 39,
   "metadata": {},
   "outputs": [
    {
     "name": "stdout",
     "output_type": "stream",
     "text": [
      "[]\n"
     ]
    }
   ],
   "source": [
    "if DEBUG:\n",
    "    pprint(filtered_markers)"
   ]
  },
  {
   "cell_type": "markdown",
   "metadata": {},
   "source": [
    "## create region map"
   ]
  },
  {
   "cell_type": "code",
   "execution_count": 40,
   "metadata": {},
   "outputs": [],
   "source": [
    "coordinates = [entry['marker_cord'] for entry in filtered_markers]\n",
    "\n",
    "# Create a list to store the clusters of coordinates\n",
    "coordinate_clusters = []\n",
    "\n",
    "# Iterate through each coordinate\n",
    "for coord in coordinates:\n",
    "    # Check if the coordinate is within 500 meters of any existing cluster\n",
    "    found_cluster = False\n",
    "    for cluster in coordinate_clusters:\n",
    "        if any(is_within_distance(coord, c) for c in cluster):\n",
    "            cluster.append(coord)\n",
    "            found_cluster = True\n",
    "            break\n",
    "\n",
    "    # If not within 500 meters of any existing cluster, create a new cluster\n",
    "    if not found_cluster:\n",
    "        coordinate_clusters.append([coord])"
   ]
  },
  {
   "cell_type": "markdown",
   "metadata": {},
   "source": [
    "## Add new region maps"
   ]
  },
  {
   "cell_type": "code",
   "execution_count": 41,
   "metadata": {},
   "outputs": [],
   "source": [
    "region_data = []\n",
    "for coords_lst in coordinate_clusters:\n",
    "    marker_ids = [entry['marker-id'] for entry in markers_ if entry['marker_cord'] in coords_lst]\n",
    "    \n",
    "    average_latitude = sum(lat for lat, lon in coords_lst) / len(coords_lst)\n",
    "    average_longitude = sum(lon for lat, lon in coords_lst) / len(coords_lst)\n",
    "\n",
    "    central_coord = GeoPoint(average_latitude, average_longitude)\n",
    "\n",
    "    data = {\n",
    "        \"central_coord\": central_coord,\n",
    "        \"coords\": [GeoPoint(x[0],x[1]) for x in coords_lst],\n",
    "        \"markers\":marker_ids\n",
    "    }\n",
    "    region_data.append(data)"
   ]
  },
  {
   "cell_type": "code",
   "execution_count": 42,
   "metadata": {},
   "outputs": [],
   "source": [
    "# create new region_maps\n",
    "for data in  region_data:\n",
    "    update_time, rm_ref = db.collection('RegionMap').add(data)\n",
    "    if DEBUG:\n",
    "        print(f\"Added document with id {rm_ref.id}\")"
   ]
  }
 ],
 "metadata": {
  "kernelspec": {
   "display_name": "my_env_name",
   "language": "python",
   "name": "python3"
  },
  "language_info": {
   "codemirror_mode": {
    "name": "ipython",
    "version": 3
   },
   "file_extension": ".py",
   "mimetype": "text/x-python",
   "name": "python",
   "nbconvert_exporter": "python",
   "pygments_lexer": "ipython3",
   "version": "3.10.13"
  }
 },
 "nbformat": 4,
 "nbformat_minor": 2
}
